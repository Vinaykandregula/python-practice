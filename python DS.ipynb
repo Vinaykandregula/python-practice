{
 "cells": [
  {
   "cell_type": "markdown",
   "id": "c5184f45",
   "metadata": {},
   "source": [
    "## PYTHON"
   ]
  },
  {
   "cell_type": "markdown",
   "id": "233b1fc0",
   "metadata": {},
   "source": [
    "## Introduction and basics"
   ]
  },
  {
   "cell_type": "markdown",
   "id": "3a1e33a1",
   "metadata": {},
   "source": [
    "### 1.variables"
   ]
  },
  {
   "cell_type": "code",
   "execution_count": 3,
   "id": "46933b7e",
   "metadata": {},
   "outputs": [],
   "source": [
    "var=2\n",
    "i='vinay'"
   ]
  },
  {
   "cell_type": "markdown",
   "id": "0f87202a",
   "metadata": {},
   "source": [
    "### 2.print function"
   ]
  },
  {
   "cell_type": "code",
   "execution_count": 5,
   "id": "e3490eb8",
   "metadata": {},
   "outputs": [
    {
     "name": "stdout",
     "output_type": "stream",
     "text": [
      "2\n"
     ]
    }
   ],
   "source": [
    "var=2\n",
    "print(var)"
   ]
  },
  {
   "cell_type": "markdown",
   "id": "09ea017b",
   "metadata": {},
   "source": [
    "### 3.input from user"
   ]
  },
  {
   "cell_type": "code",
   "execution_count": 6,
   "id": "5af72e40",
   "metadata": {},
   "outputs": [
    {
     "name": "stdout",
     "output_type": "stream",
     "text": [
      "enter your name: vinay\n"
     ]
    }
   ],
   "source": [
    "user_input=input('enter your name: ')"
   ]
  },
  {
   "cell_type": "markdown",
   "id": "e710f2c9",
   "metadata": {},
   "source": [
    "### 4.Data types\n",
    "| Data Types   |   Classes\t  |       Description   |\n",
    "| --- | --- | --- |\n",
    "|1. Numeric\t       |       int, float, complex\t      |           holds numeric values |\n",
    "|2. String\t           |           str\t                 |         holds sequence of characters|\n",
    "|3. Sequence\t       |         list, tuple, range\t           |       holds collection of items|\n",
    "|4. Mapping\t       |               dict\t               |           holds data in key-value pair form |\n",
    "|5. Boolean\t        |              bool\t                |          holds either True or False|\n",
    "|6. Set\t             |       set, frozeenset\t         |             hold collection of unique items |"
   ]
  },
  {
   "cell_type": "markdown",
   "id": "1e70c27d",
   "metadata": {},
   "source": [
    "#### Numeric"
   ]
  },
  {
   "cell_type": "code",
   "execution_count": 65,
   "id": "eeb53c35",
   "metadata": {},
   "outputs": [
    {
     "name": "stdout",
     "output_type": "stream",
     "text": [
      "<class 'int'>\n",
      "<class 'float'>\n",
      "<class 'complex'>\n"
     ]
    }
   ],
   "source": [
    "a=5\n",
    "print(type(a))\n",
    "b=2.3\n",
    "print(type(b))\n",
    "c=4j\n",
    "print(type(c))"
   ]
  },
  {
   "cell_type": "markdown",
   "id": "00c40b08",
   "metadata": {},
   "source": [
    "#### String"
   ]
  },
  {
   "cell_type": "code",
   "execution_count": 67,
   "id": "958a151f",
   "metadata": {},
   "outputs": [
    {
     "data": {
      "text/plain": [
       "str"
      ]
     },
     "execution_count": 67,
     "metadata": {},
     "output_type": "execute_result"
    }
   ],
   "source": [
    "name='Goutam'\n",
    "type(name)"
   ]
  },
  {
   "cell_type": "markdown",
   "id": "7dbb8761",
   "metadata": {},
   "source": [
    "#### Sequence"
   ]
  },
  {
   "cell_type": "code",
   "execution_count": 68,
   "id": "b3001bd0",
   "metadata": {},
   "outputs": [
    {
     "data": {
      "text/plain": [
       "list"
      ]
     },
     "execution_count": 68,
     "metadata": {},
     "output_type": "execute_result"
    }
   ],
   "source": [
    "list_1=[1,4,5,6]\n",
    "type(list_1)"
   ]
  },
  {
   "cell_type": "code",
   "execution_count": 69,
   "id": "578d2374",
   "metadata": {},
   "outputs": [
    {
     "data": {
      "text/plain": [
       "tuple"
      ]
     },
     "execution_count": 69,
     "metadata": {},
     "output_type": "execute_result"
    }
   ],
   "source": [
    "tuple_1=(1,3,4,5,6)\n",
    "type(tuple_1)"
   ]
  },
  {
   "cell_type": "code",
   "execution_count": null,
   "id": "47726e73",
   "metadata": {},
   "outputs": [],
   "source": []
  },
  {
   "cell_type": "code",
   "execution_count": null,
   "id": "a9a8070b",
   "metadata": {},
   "outputs": [],
   "source": []
  },
  {
   "cell_type": "markdown",
   "id": "b9113284",
   "metadata": {},
   "source": [
    "### 5.Type conversion\n",
    "#### Implict conversion-automatic type conversion: python converts smaller datatype to larger datatype to avoid data loss.\n",
    "#### Explict conversion(Type casting) -manual type conversion: user converts data type to their required data type. it may causes data loss."
   ]
  },
  {
   "cell_type": "code",
   "execution_count": 17,
   "id": "e94a5ec2",
   "metadata": {},
   "outputs": [
    {
     "name": "stdout",
     "output_type": "stream",
     "text": [
      "22.5\n"
     ]
    },
    {
     "data": {
      "text/plain": [
       "float"
      ]
     },
     "execution_count": 17,
     "metadata": {},
     "output_type": "execute_result"
    }
   ],
   "source": [
    "z=a+c\n",
    "print(z)\n",
    "type(z)"
   ]
  },
  {
   "cell_type": "code",
   "execution_count": 21,
   "id": "fd3d7a77",
   "metadata": {},
   "outputs": [],
   "source": [
    "d='23'  #converting string to int through explict type conversion"
   ]
  },
  {
   "cell_type": "code",
   "execution_count": 22,
   "id": "141071d2",
   "metadata": {},
   "outputs": [],
   "source": [
    "e=int(d)"
   ]
  },
  {
   "cell_type": "code",
   "execution_count": 26,
   "id": "9bb96f22",
   "metadata": {},
   "outputs": [
    {
     "name": "stdout",
     "output_type": "stream",
     "text": [
      "23\n"
     ]
    },
    {
     "data": {
      "text/plain": [
       "int"
      ]
     },
     "execution_count": 26,
     "metadata": {},
     "output_type": "execute_result"
    }
   ],
   "source": [
    "print(e)\n",
    "type(e)"
   ]
  },
  {
   "cell_type": "markdown",
   "id": "e7726ac9",
   "metadata": {},
   "source": [
    "### First program"
   ]
  },
  {
   "cell_type": "code",
   "execution_count": 29,
   "id": "a2e4556e",
   "metadata": {},
   "outputs": [
    {
     "name": "stdout",
     "output_type": "stream",
     "text": [
      "enter your name: 23\n",
      "23\n"
     ]
    },
    {
     "data": {
      "text/plain": [
       "23"
      ]
     },
     "execution_count": 29,
     "metadata": {},
     "output_type": "execute_result"
    }
   ],
   "source": [
    "name=int(input('enter your name: '))\n",
    "name2=str(name)\n",
    "print(name2)\n",
    "name"
   ]
  },
  {
   "cell_type": "markdown",
   "id": "d83dc854",
   "metadata": {},
   "source": [
    "## Operators"
   ]
  },
  {
   "cell_type": "markdown",
   "id": "4d425d79",
   "metadata": {},
   "source": [
    "1.Arithmetic Operators  ---   + , - , / , * , // , % , **"
   ]
  },
  {
   "cell_type": "code",
   "execution_count": 55,
   "id": "019b6bf3",
   "metadata": {},
   "outputs": [
    {
     "name": "stdout",
     "output_type": "stream",
     "text": [
      "Sum:  9\n",
      "Subtraction:  5\n",
      "Multiplication:  14\n",
      "Division:  3.5\n",
      "Floor Division:  3\n",
      "Modulo:  1\n",
      "Power:  49\n"
     ]
    }
   ],
   "source": [
    "a = 7\n",
    "b = 2\n",
    "\n",
    "# addition\n",
    "print ('Sum: ', a + b)  \n",
    "\n",
    "# subtraction\n",
    "print ('Subtraction: ', a - b)   \n",
    "\n",
    "# multiplication\n",
    "print ('Multiplication: ', a * b)  \n",
    "\n",
    "# division\n",
    "print ('Division: ', a / b) \n",
    "\n",
    "# floor division\n",
    "print ('Floor Division: ', a // b)\n",
    "\n",
    "# modulo\n",
    "print ('Modulo: ', a % b)  \n",
    "\n",
    "# a to the power b\n",
    "print ('Power: ', a ** b)   "
   ]
  },
  {
   "cell_type": "markdown",
   "id": "4584b970",
   "metadata": {},
   "source": [
    "2.Relational Operators   -----  == , != , > , < , >= , <= "
   ]
  },
  {
   "cell_type": "code",
   "execution_count": 58,
   "id": "b275db3a",
   "metadata": {},
   "outputs": [
    {
     "name": "stdout",
     "output_type": "stream",
     "text": [
      "a == b = False\n",
      "a != b = True\n",
      "a > b = True\n",
      "a < b = False\n",
      "a >= b = True\n",
      "a <= b = False\n"
     ]
    }
   ],
   "source": [
    "a = 5\n",
    "\n",
    "b = 2\n",
    "\n",
    "# equal to operator\n",
    "print('a == b =', a == b)\n",
    "\n",
    "# not equal to operator\n",
    "print('a != b =', a != b)\n",
    "\n",
    "# greater than operator\n",
    "print('a > b =', a > b)\n",
    "\n",
    "# less than operator\n",
    "print('a < b =', a < b)\n",
    "\n",
    "# greater than or equal to operator\n",
    "print('a >= b =', a >= b)\n",
    "\n",
    "# less than or equal to operator\n",
    "print('a <= b =', a <= b)"
   ]
  },
  {
   "cell_type": "markdown",
   "id": "4e9524be",
   "metadata": {},
   "source": [
    "3.Bitwise Operators"
   ]
  },
  {
   "cell_type": "markdown",
   "id": "15e08beb",
   "metadata": {},
   "source": [
    "1. & -  and \n",
    "2. | -  or\n",
    "3. ^ -  xor\n",
    "4. <<   left shift\n",
    "5. .>>  right shift"
   ]
  },
  {
   "cell_type": "markdown",
   "id": "7246c35d",
   "metadata": {},
   "source": [
    "True ---> 1\n",
    "False ---> 0"
   ]
  },
  {
   "cell_type": "markdown",
   "id": "ed628b87",
   "metadata": {},
   "source": [
    "XOR operator will return 1, if both bits are different.\n",
    "\n",
    "If bits are same, it will return 0."
   ]
  },
  {
   "cell_type": "markdown",
   "id": "edcb916d",
   "metadata": {},
   "source": [
    "#### Right shift '>>' --> 4>>2 ---> 4/2**2   ## a>>b= a/2 **b\n",
    "#### Left shift '<<' --> 3<<4 ---> 3*2**4   ## a<<b = a *2**b"
   ]
  },
  {
   "cell_type": "markdown",
   "id": "c076ffeb",
   "metadata": {},
   "source": [
    "4.Logical Operators  ---- AND , OR , NOT"
   ]
  },
  {
   "cell_type": "code",
   "execution_count": 64,
   "id": "80e67132",
   "metadata": {},
   "outputs": [
    {
     "name": "stdout",
     "output_type": "stream",
     "text": [
      "True\n",
      "False\n",
      "True\n",
      "False\n"
     ]
    }
   ],
   "source": [
    "# logical AND\n",
    "print(True and True)     # True - When both operands are true\n",
    "print(True and False)    # False\n",
    "\n",
    "# logical OR\n",
    "print(True or False)     # True  - When atleast one operand is true\n",
    "\n",
    "# logical NOT\n",
    "print(not True)          # False"
   ]
  },
  {
   "cell_type": "markdown",
   "id": "b38173c0",
   "metadata": {},
   "source": [
    "5.Assignment Operators"
   ]
  },
  {
   "cell_type": "markdown",
   "id": "3c492bf1",
   "metadata": {},
   "source": [
    "1. =\tAssignment Operator\ta = 7\n",
    "2. +=\tAddition Assignment\ta += 1          ## a = a + 1\n",
    "3. -=\tSubtraction Assignment\ta -= 3      ## a = a - 3\n",
    "4. *=\tMultiplication Assignment\ta *= 4  ## a = a * 4\n",
    "5. /=\tDivision Assignment\ta /= 3          ## a = a / 3\n",
    "6. %=\tRemainder Assignment\ta %= 10     ## a = a % 10\n",
    "7. **=\tExponent Assignment\ta **= 10        ## a = a ** 10"
   ]
  },
  {
   "cell_type": "code",
   "execution_count": 63,
   "id": "741cd9db",
   "metadata": {},
   "outputs": [
    {
     "name": "stdout",
     "output_type": "stream",
     "text": [
      "15\n"
     ]
    }
   ],
   "source": [
    "# assign 10 to a\n",
    "a = 10\n",
    "\n",
    "# assign 5 to b\n",
    "b = 5 \n",
    "\n",
    "# assign the sum of a and b to a\n",
    "a += b      # a = a + b\n",
    "\n",
    "print(a)"
   ]
  },
  {
   "cell_type": "markdown",
   "id": "0bc31781",
   "metadata": {},
   "source": [
    "7.Membership Operators  ---- in , not in"
   ]
  },
  {
   "cell_type": "code",
   "execution_count": 56,
   "id": "3c462e47",
   "metadata": {},
   "outputs": [
    {
     "name": "stdout",
     "output_type": "stream",
     "text": [
      "True\n",
      "True\n",
      "True\n",
      "False\n"
     ]
    }
   ],
   "source": [
    "x = 'Hello world'\n",
    "y = {1:'a', 2:'b'}\n",
    "\n",
    "# check if 'H' is present in x string\n",
    "print('H' in x)  # prints True\n",
    "\n",
    "# check if 'hello' is present in x string\n",
    "print('hello' not in x)  # prints True\n",
    "\n",
    "# check if '1' key is present in y\n",
    "print(1 in y)  # prints True\n",
    "\n",
    "# check if 'a' key is present in y\n",
    "print('a' in y)  # prints False"
   ]
  },
  {
   "cell_type": "markdown",
   "id": "d86a64e0",
   "metadata": {},
   "source": [
    "8.Identity Operators ---- is , is not"
   ]
  },
  {
   "cell_type": "code",
   "execution_count": 59,
   "id": "7e2b49f4",
   "metadata": {},
   "outputs": [
    {
     "name": "stdout",
     "output_type": "stream",
     "text": [
      "False\n",
      "True\n",
      "False\n"
     ]
    }
   ],
   "source": [
    "x1 = 5\n",
    "y1 = 5\n",
    "x2 = 'Hello'\n",
    "y2 = 'Hello'\n",
    "x3 = [1,2,3]\n",
    "y3 = [1,2,3]\n",
    "\n",
    "print(x1 is not y1)  # prints False\n",
    "\n",
    "print(x2 is y2)  # prints True\n",
    "\n",
    "print(x3 is y3)  # prints False"
   ]
  },
  {
   "cell_type": "markdown",
   "id": "ae7c1a86",
   "metadata": {},
   "source": [
    "### Conditional Statements"
   ]
  },
  {
   "cell_type": "markdown",
   "id": "bde78e07",
   "metadata": {},
   "source": [
    "1. If\n",
    "2. If Else\n",
    "3. Else\n",
    "4. Elif (else if)\n",
    "5. Nested if\n",
    "6. If Else Ternary Expression"
   ]
  },
  {
   "cell_type": "code",
   "execution_count": 90,
   "id": "8a19dbc0",
   "metadata": {},
   "outputs": [
    {
     "name": "stdout",
     "output_type": "stream",
     "text": [
      "doesn't obey\n"
     ]
    }
   ],
   "source": [
    "a=10\n",
    "b=12\n",
    "if a>b:\n",
    "    print('obeys')\n",
    "else:\n",
    "    print(\"doesn't obey\")"
   ]
  },
  {
   "cell_type": "code",
   "execution_count": 16,
   "id": "329bbce2",
   "metadata": {},
   "outputs": [
    {
     "name": "stdout",
     "output_type": "stream",
     "text": [
      "not obey\n"
     ]
    }
   ],
   "source": [
    "a=10\n",
    "b=12\n",
    "print('obeys') if a>b else print('not obey')"
   ]
  },
  {
   "cell_type": "code",
   "execution_count": 92,
   "id": "3a925586",
   "metadata": {},
   "outputs": [
    {
     "name": "stdout",
     "output_type": "stream",
     "text": [
      "enter the number: 5\n",
      "is a odd number.\n"
     ]
    }
   ],
   "source": [
    "num=int(input('enter the number: '))\n",
    "if num%2==0:\n",
    "    print('is a even number..')\n",
    "elif num%2 !=0:\n",
    "    print('is a odd number.')\n",
    "else:\n",
    "    print('yegiri tanta nee yakka')"
   ]
  },
  {
   "cell_type": "code",
   "execution_count": 3,
   "id": "7b2bf552",
   "metadata": {},
   "outputs": [
    {
     "name": "stdout",
     "output_type": "stream",
     "text": [
      "equal to\n"
     ]
    }
   ],
   "source": [
    "a=10\n",
    "b=10\n",
    "if a>=b:\n",
    "    if a>b:\n",
    "        print('a is greater than b')\n",
    "    else:\n",
    "        print('equal to')\n",
    "else:\n",
    "    print(\"doesn't obey\")"
   ]
  },
  {
   "cell_type": "markdown",
   "id": "1d6dbbd5",
   "metadata": {},
   "source": [
    "1. To print absolute value\n",
    "\n",
    "-1 = 1\n",
    "-2 = 2"
   ]
  },
  {
   "cell_type": "code",
   "execution_count": 11,
   "id": "c5f5ca78",
   "metadata": {},
   "outputs": [
    {
     "name": "stdout",
     "output_type": "stream",
     "text": [
      "enter the number: -4\n",
      "4\n"
     ]
    }
   ],
   "source": [
    "n=int(input('enter the number: '))\n",
    "if n<0:\n",
    "    print(n*(-1))"
   ]
  },
  {
   "cell_type": "markdown",
   "id": "f506a6c1",
   "metadata": {},
   "source": [
    "#### Ternary operator"
   ]
  },
  {
   "cell_type": "markdown",
   "id": "a7dbc058",
   "metadata": {},
   "source": [
    "[option1] if [condition] else [option2]\n",
    "\n",
    " option1 is executed if condition is True else it prints option2"
   ]
  },
  {
   "cell_type": "code",
   "execution_count": 15,
   "id": "5247a790",
   "metadata": {},
   "outputs": [
    {
     "name": "stdout",
     "output_type": "stream",
     "text": [
      "enter the number: 5\n",
      "is a odd number\n"
     ]
    }
   ],
   "source": [
    "num=int(input('enter the number: '))\n",
    "print('is even number') if num%2==0 else print('is a odd number')"
   ]
  },
  {
   "cell_type": "markdown",
   "id": "8702098c",
   "metadata": {},
   "source": [
    "### While Loop"
   ]
  },
  {
   "cell_type": "markdown",
   "id": "fccff631",
   "metadata": {},
   "source": [
    "1. While loop logic building\n",
    "2. Series based Questions\n",
    "3. Break\n",
    "4. Continue\n",
    "5. Nested While Loops\n",
    "6. Pattern-Based Questions\n",
    "7. pass\n",
    "8. Loop else"
   ]
  },
  {
   "cell_type": "raw",
   "id": "91a1c308",
   "metadata": {},
   "source": [
    "initialize=\n",
    "while condition:\n",
    "    statement\n",
    "    increment/decrement"
   ]
  },
  {
   "cell_type": "code",
   "execution_count": 311,
   "id": "9a568319",
   "metadata": {},
   "outputs": [
    {
     "name": "stdout",
     "output_type": "stream",
     "text": [
      "2\n",
      "4\n",
      "6\n",
      "8\n",
      "10\n",
      "12\n",
      "14\n",
      "16\n",
      "18\n",
      "20\n"
     ]
    }
   ],
   "source": [
    "i=1\n",
    "while i<=20:\n",
    "    if i%2==0:\n",
    "        print(i)\n",
    "    i+=1"
   ]
  },
  {
   "cell_type": "markdown",
   "id": "6cc879f2",
   "metadata": {},
   "source": [
    "wap to print following series\n",
    "1  4  9  16  25  36  49  64  81  100"
   ]
  },
  {
   "cell_type": "code",
   "execution_count": 28,
   "id": "b4d4c3a6",
   "metadata": {},
   "outputs": [
    {
     "name": "stdout",
     "output_type": "stream",
     "text": [
      "1\n",
      "4\n",
      "9\n",
      "16\n",
      "25\n",
      "36\n",
      "49\n",
      "64\n",
      "81\n",
      "100\n"
     ]
    }
   ],
   "source": [
    "i=1\n",
    "while i<=10:\n",
    "    print(i**2)\n",
    "    i+=1"
   ]
  },
  {
   "cell_type": "code",
   "execution_count": 30,
   "id": "9d9ddc87",
   "metadata": {},
   "outputs": [
    {
     "name": "stdout",
     "output_type": "stream",
     "text": [
      "1 4 9 16 25 36 49 64 81 100 "
     ]
    }
   ],
   "source": [
    "i=1\n",
    "while i<=10:\n",
    "    print(i**2, end=' ')\n",
    "    i+=1"
   ]
  },
  {
   "cell_type": "markdown",
   "id": "e3aba1ee",
   "metadata": {},
   "source": [
    "wap to print 1/1  2/4  3/9  4/16  5/25  6/36  7/49  8/64  9/81  10/100"
   ]
  },
  {
   "cell_type": "code",
   "execution_count": 34,
   "id": "924804a2",
   "metadata": {},
   "outputs": [
    {
     "name": "stdout",
     "output_type": "stream",
     "text": [
      "1 / 1\n",
      "2 / 4\n",
      "3 / 9\n",
      "4 / 16\n",
      "5 / 25\n",
      "6 / 36\n",
      "7 / 49\n",
      "8 / 64\n",
      "9 / 81\n",
      "10 / 100\n"
     ]
    }
   ],
   "source": [
    "i=1\n",
    "while i<=10:\n",
    "    print(i,'/',i*i)\n",
    "    i+=1"
   ]
  },
  {
   "cell_type": "code",
   "execution_count": 36,
   "id": "c4e7c31e",
   "metadata": {},
   "outputs": [
    {
     "name": "stdout",
     "output_type": "stream",
     "text": [
      "1/1 2/4 3/9 4/16 5/25 6/36 7/49 8/64 9/81 10/100 "
     ]
    }
   ],
   "source": [
    "i=1\n",
    "while i<=10:\n",
    "    print(i,end='/')\n",
    "    print(i*i, end= ' ')\n",
    "    i+=1"
   ]
  },
  {
   "cell_type": "code",
   "execution_count": 44,
   "id": "7d0d54e8",
   "metadata": {},
   "outputs": [
    {
     "name": "stdout",
     "output_type": "stream",
     "text": [
      "1.0 2.0 3.0 4.0 5.0 6.0 7.0 8.0 9.0 10.0 "
     ]
    }
   ],
   "source": [
    "i=1\n",
    "while i<=10:\n",
    "    print(i/i*i,end=' ')\n",
    "    i+=1"
   ]
  },
  {
   "cell_type": "markdown",
   "id": "9396930e",
   "metadata": {},
   "source": [
    "wap to print 1 + 2 + 3 + 4 + 5 + 6 + 7 + 8 + 9 + 10"
   ]
  },
  {
   "cell_type": "code",
   "execution_count": 46,
   "id": "1c58f57b",
   "metadata": {},
   "outputs": [
    {
     "name": "stdout",
     "output_type": "stream",
     "text": [
      "1+2+3+4+5+6+7+8+9+10+"
     ]
    }
   ],
   "source": [
    "i=1\n",
    "while i<=10:\n",
    "    print(i,end='+')\n",
    "    i+=1"
   ]
  },
  {
   "cell_type": "code",
   "execution_count": 49,
   "id": "ef74e308",
   "metadata": {},
   "outputs": [
    {
     "name": "stdout",
     "output_type": "stream",
     "text": [
      "1+2+3+4+5+6+7+8+9+10\n"
     ]
    }
   ],
   "source": [
    "i=1\n",
    "while i<=10:\n",
    "    if i==10:\n",
    "        print(i)\n",
    "    else:\n",
    "        print(i,end='+')\n",
    "    i+=1"
   ]
  },
  {
   "cell_type": "markdown",
   "id": "06ce5b01",
   "metadata": {},
   "source": [
    "WAP to enter a number from user and print reverse of it"
   ]
  },
  {
   "cell_type": "code",
   "execution_count": 11,
   "id": "d585e1cb",
   "metadata": {},
   "outputs": [
    {
     "name": "stdout",
     "output_type": "stream",
     "text": [
      "Enter a number: 234\n",
      "4\n",
      "3\n",
      "2\n"
     ]
    }
   ],
   "source": [
    "n = int(input(\"Enter a number: \"))\n",
    "while n>0:\n",
    "    remainder=n%10\n",
    "    print(remainder)\n",
    "    n//=10"
   ]
  },
  {
   "cell_type": "code",
   "execution_count": 64,
   "id": "37ccbfe3",
   "metadata": {},
   "outputs": [
    {
     "data": {
      "text/plain": [
       "23"
      ]
     },
     "execution_count": 64,
     "metadata": {},
     "output_type": "execute_result"
    }
   ],
   "source": [
    "234//10"
   ]
  },
  {
   "cell_type": "code",
   "execution_count": 57,
   "id": "b0371caa",
   "metadata": {},
   "outputs": [
    {
     "name": "stdout",
     "output_type": "stream",
     "text": [
      "Enter a number: 234\n",
      "432"
     ]
    }
   ],
   "source": [
    "n = int(input(\"Enter a number: \"))\n",
    "\n",
    "while n > 0:            # n = 153, 15, 1\n",
    "    r = n % 10          # r = 3, 5, 1\n",
    "    print(r,end='')    # 351\n",
    "    n = n // 10         # n = 15, 1, 0"
   ]
  },
  {
   "cell_type": "markdown",
   "id": "b153c0e3",
   "metadata": {},
   "source": [
    "WAP to enter a number from user and print sum of its individual digits"
   ]
  },
  {
   "cell_type": "code",
   "execution_count": 33,
   "id": "7ed90197",
   "metadata": {},
   "outputs": [
    {
     "name": "stdout",
     "output_type": "stream",
     "text": [
      "Enter a number: 124\n",
      "7\n"
     ]
    }
   ],
   "source": [
    "n = int(input(\"Enter a number: \"))\n",
    "sum_s=0\n",
    "while n>0:                        #n = 124.. 12.. 1\n",
    "    remainder=n%10                #remainder = 4.. 2.. 1\n",
    "    sum_s=sum_s+remainder         #sum_S= 0+4.. 4+2.. 6+1\n",
    "    n//=10                        #n= 124.. 12.. 0..\n",
    "print(sum_s)"
   ]
  },
  {
   "cell_type": "markdown",
   "id": "22121177",
   "metadata": {},
   "source": [
    "reverse of a number"
   ]
  },
  {
   "cell_type": "code",
   "execution_count": 36,
   "id": "95fcb719",
   "metadata": {},
   "outputs": [
    {
     "name": "stdout",
     "output_type": "stream",
     "text": [
      "enter the number: 124\n",
      "reverse:  421\n"
     ]
    }
   ],
   "source": [
    "n=int(input('enter the number: '))\n",
    "s=0\n",
    "while n>0:\n",
    "    r=n%10\n",
    "    s=s*10+r\n",
    "    n//=10\n",
    "print('reverse: ',s)"
   ]
  },
  {
   "cell_type": "code",
   "execution_count": 46,
   "id": "60263a51",
   "metadata": {},
   "outputs": [
    {
     "name": "stdout",
     "output_type": "stream",
     "text": [
      "enter the number: 124\n",
      "421"
     ]
    }
   ],
   "source": [
    "n=int(input('enter the number: '))\n",
    "while n>0:\n",
    "    r=n%10\n",
    "    print(r,end='')\n",
    "    n//=10"
   ]
  },
  {
   "cell_type": "code",
   "execution_count": 49,
   "id": "2f098d66",
   "metadata": {},
   "outputs": [
    {
     "name": "stdout",
     "output_type": "stream",
     "text": [
      "enter the number: 123\n",
      "321\n",
      "642\n"
     ]
    }
   ],
   "source": [
    "n=int(input('enter the number: '))\n",
    "s=0\n",
    "while n>0:\n",
    "    r=n%10\n",
    "    s=s*10+r\n",
    "    n//=10\n",
    "print(s)\n",
    "print(s*2)"
   ]
  },
  {
   "cell_type": "markdown",
   "id": "eaacf5fe",
   "metadata": {},
   "source": [
    "WAP to enter a number from user and check if it is pallindrome or not"
   ]
  },
  {
   "cell_type": "code",
   "execution_count": 86,
   "id": "85834058",
   "metadata": {},
   "outputs": [
    {
     "name": "stdout",
     "output_type": "stream",
     "text": [
      "enter the number: 12321\n",
      "12321\n",
      "'its a pallindrome'\n"
     ]
    }
   ],
   "source": [
    "n=int(input('enter the number: '))\n",
    "n2=n\n",
    "s=0\n",
    "while n>0:\n",
    "    r=n%10\n",
    "    s=s*10+r\n",
    "    n//=10\n",
    "print(s)\n",
    "print(\"'its a pallindrome'\") if s==n2 else print('its not pallindrome')"
   ]
  },
  {
   "cell_type": "markdown",
   "id": "493b0ca2",
   "metadata": {},
   "source": [
    "WAP to enter a number from user and check if it is armstrong or not"
   ]
  },
  {
   "cell_type": "code",
   "execution_count": 121,
   "id": "2c1f52aa",
   "metadata": {},
   "outputs": [
    {
     "name": "stdout",
     "output_type": "stream",
     "text": [
      "enter the number: 371\n",
      "371\n",
      "'its a Amstrong'\n"
     ]
    }
   ],
   "source": [
    "n=int(input('enter the number: '))\n",
    "n2=n\n",
    "s=0\n",
    "while n>0:\n",
    "    r=n%10     #r= 4.. 2.. 1\n",
    "    r=r**3\n",
    "    s=s+r\n",
    "    n//=10\n",
    "print(s)\n",
    "print(\"'its a Amstrong'\") if s==n2 else print('its not Amstrong')"
   ]
  },
  {
   "cell_type": "code",
   "execution_count": null,
   "id": "5c177360",
   "metadata": {},
   "outputs": [],
   "source": [
    "124"
   ]
  },
  {
   "cell_type": "code",
   "execution_count": null,
   "id": "cd4274eb",
   "metadata": {},
   "outputs": [],
   "source": [
    "1**3 + 2**3 + 4**3"
   ]
  },
  {
   "cell_type": "code",
   "execution_count": 87,
   "id": "87c0b21a",
   "metadata": {},
   "outputs": [
    {
     "data": {
      "text/plain": [
       "4"
      ]
     },
     "execution_count": 87,
     "metadata": {},
     "output_type": "execute_result"
    }
   ],
   "source": [
    "124%10"
   ]
  },
  {
   "cell_type": "code",
   "execution_count": 88,
   "id": "15fcbbac",
   "metadata": {},
   "outputs": [
    {
     "data": {
      "text/plain": [
       "2"
      ]
     },
     "execution_count": 88,
     "metadata": {},
     "output_type": "execute_result"
    }
   ],
   "source": [
    "12%10"
   ]
  },
  {
   "cell_type": "code",
   "execution_count": 89,
   "id": "b325fe77",
   "metadata": {},
   "outputs": [
    {
     "data": {
      "text/plain": [
       "1"
      ]
     },
     "execution_count": 89,
     "metadata": {},
     "output_type": "execute_result"
    }
   ],
   "source": [
    "1%10"
   ]
  },
  {
   "cell_type": "code",
   "execution_count": 123,
   "id": "d1dc0171",
   "metadata": {},
   "outputs": [
    {
     "name": "stdout",
     "output_type": "stream",
     "text": [
      "enter the number: 123\n",
      "321"
     ]
    }
   ],
   "source": [
    "#reverse a number\n",
    "n=int(input('enter the number: '))\n",
    "while n>0:\n",
    "    remainder=n%10\n",
    "    print(remainder,end='')\n",
    "    n//=10"
   ]
  },
  {
   "cell_type": "code",
   "execution_count": 128,
   "id": "40955e90",
   "metadata": {},
   "outputs": [
    {
     "name": "stdout",
     "output_type": "stream",
     "text": [
      "enter the number: 124\n",
      "421\n"
     ]
    }
   ],
   "source": [
    "#reverse a number #method2\n",
    "n=int(input('enter the number: '))\n",
    "sum_s=0\n",
    "while n>0:\n",
    "    remainder=n%10\n",
    "    sum_s=sum_s*10+remainder\n",
    "    n//=10\n",
    "print(sum_s)"
   ]
  },
  {
   "cell_type": "code",
   "execution_count": 129,
   "id": "265467b3",
   "metadata": {},
   "outputs": [
    {
     "name": "stdout",
     "output_type": "stream",
     "text": [
      "enter the number: 234\n",
      "9\n"
     ]
    }
   ],
   "source": [
    "#sum of individual digits\n",
    "n=int(input('enter the number: '))\n",
    "sum_s=0\n",
    "while n>0:\n",
    "    remainder=n%10\n",
    "    sum_s=sum_s+remainder\n",
    "    n//=10\n",
    "print(sum_s)"
   ]
  },
  {
   "cell_type": "code",
   "execution_count": 131,
   "id": "76d46250",
   "metadata": {},
   "outputs": [
    {
     "name": "stdout",
     "output_type": "stream",
     "text": [
      "enter the number: 12321\n",
      "12321\n",
      "pallindrome\n"
     ]
    }
   ],
   "source": [
    "#pallindrome-- input is same as output-- 12321-12321\n",
    "n=int(input('enter the number: '))\n",
    "n2=n\n",
    "sum_s=0\n",
    "while n>0:\n",
    "    remainder=n%10\n",
    "    sum_s=sum_s*10+remainder\n",
    "    n//=10\n",
    "print(sum_s)\n",
    "print('pallindrome') if sum_s==n2 else print('not a pallindrome')"
   ]
  },
  {
   "cell_type": "code",
   "execution_count": 89,
   "id": "301cbee2",
   "metadata": {},
   "outputs": [
    {
     "name": "stdout",
     "output_type": "stream",
     "text": [
      "enter the number: 153\n",
      "153\n",
      "is a Amstrong number\n"
     ]
    }
   ],
   "source": [
    "#amstrong number-- input is same as cube of input-- 153~153\n",
    "n=int(input('enter the number: '))\n",
    "n2=n\n",
    "sum_s=0\n",
    "while n>0:\n",
    "    remainder=n%10\n",
    "    sum_s=sum_s+(remainder**3)\n",
    "    n//=10\n",
    "print(sum_s)\n",
    "print('is a Amstrong number') if sum_s==n2 else print('not a Amstrong')"
   ]
  },
  {
   "cell_type": "code",
   "execution_count": null,
   "id": "0797392d",
   "metadata": {},
   "outputs": [],
   "source": []
  },
  {
   "cell_type": "markdown",
   "id": "0fb18316",
   "metadata": {},
   "source": [
    "WAP to enter a number from user and print its individual digits on seperate line"
   ]
  },
  {
   "cell_type": "code",
   "execution_count": 28,
   "id": "18658d40",
   "metadata": {},
   "outputs": [
    {
     "name": "stdout",
     "output_type": "stream",
     "text": [
      "enter the number: 254\n",
      "2\n",
      "5\n",
      "4\n"
     ]
    }
   ],
   "source": [
    "n=int(input('enter the number: '))\n",
    "s=0\n",
    "while n>0:\n",
    "    remainder=n%10\n",
    "    s=s*10+remainder\n",
    "    n//=10\n",
    "while s>0:\n",
    "    remainder=s%10\n",
    "    print(remainder)\n",
    "    s//=10"
   ]
  },
  {
   "cell_type": "markdown",
   "id": "b53f87c0",
   "metadata": {},
   "source": [
    "WAP to enter a number from user and print its individual digits in character format"
   ]
  },
  {
   "cell_type": "code",
   "execution_count": 44,
   "id": "bfe9adae",
   "metadata": {},
   "outputs": [
    {
     "name": "stdout",
     "output_type": "stream",
     "text": [
      "enter the number: 21\n"
     ]
    }
   ],
   "source": [
    "n=int(input('enter the number: '))\n",
    "if n==1:\n",
    "    print('One')\n",
    "elif n==2:\n",
    "    print('Two')\n",
    "elif n==3:\n",
    "    print('Three')\n",
    "elif n==4:\n",
    "    print('Four')\n",
    "elif n==5:\n",
    "    print('Five')"
   ]
  },
  {
   "cell_type": "code",
   "execution_count": 66,
   "id": "93d48eb7",
   "metadata": {},
   "outputs": [
    {
     "name": "stdout",
     "output_type": "stream",
     "text": [
      "enter the number: 21\n",
      "Two 2\n",
      "One 1\n"
     ]
    }
   ],
   "source": [
    "n=int(input('enter the number: '))\n",
    "s=0\n",
    "while n>0:\n",
    "    r=n%10\n",
    "    s=s*10+r\n",
    "    n//=10\n",
    "while s>0:\n",
    "    r=s%10\n",
    "    if r==1:\n",
    "        print('One',r)\n",
    "    elif r==2:\n",
    "        print('Two',r)\n",
    "    elif r==3:\n",
    "        print('Three',r)\n",
    "    elif r==4:\n",
    "        print('Four',r)\n",
    "    elif r==5:\n",
    "        print('Five',r)\n",
    "    s//=10"
   ]
  },
  {
   "cell_type": "markdown",
   "id": "e1023753",
   "metadata": {},
   "source": [
    "WAP to enter a number from user and print factorial of it"
   ]
  },
  {
   "cell_type": "code",
   "execution_count": 5,
   "id": "ed50547c",
   "metadata": {},
   "outputs": [
    {
     "name": "stdout",
     "output_type": "stream",
     "text": [
      "enter the number: 5\n",
      "factorial:  120\n"
     ]
    }
   ],
   "source": [
    "n=int(input('enter the number: '))\n",
    "i=1\n",
    "while n>1:\n",
    "    i=i*n\n",
    "    n-=1   #n= 5.. 4.. 3.. 2.. 1..\n",
    "print('factorial: ',i)"
   ]
  },
  {
   "cell_type": "code",
   "execution_count": 6,
   "id": "e8c05fc4",
   "metadata": {},
   "outputs": [
    {
     "name": "stdout",
     "output_type": "stream",
     "text": [
      "enter the number: 5\n",
      "120\n"
     ]
    }
   ],
   "source": [
    "n=int(input('enter the number: '))\n",
    "i=1\n",
    "while n>1:\n",
    "    i=i*n\n",
    "    n-=1\n",
    "print(f)"
   ]
  },
  {
   "cell_type": "markdown",
   "id": "80b60083",
   "metadata": {},
   "source": [
    "#### Break"
   ]
  },
  {
   "cell_type": "code",
   "execution_count": 35,
   "id": "e91fcf9b",
   "metadata": {},
   "outputs": [
    {
     "name": "stdout",
     "output_type": "stream",
     "text": [
      "enter the number: 1\n",
      "1\n",
      "2\n",
      "3\n",
      "4\n",
      "5\n"
     ]
    }
   ],
   "source": [
    "n=int(input('enter the number: '))\n",
    "while n<=20:\n",
    "    if n==5:\n",
    "        print(n)\n",
    "        break\n",
    "    else:\n",
    "        print(n)\n",
    "    n+=1"
   ]
  },
  {
   "cell_type": "markdown",
   "id": "76d82689",
   "metadata": {},
   "source": [
    "#### Continue"
   ]
  },
  {
   "cell_type": "code",
   "execution_count": 43,
   "id": "2a22da24",
   "metadata": {},
   "outputs": [
    {
     "name": "stdout",
     "output_type": "stream",
     "text": [
      "3\n",
      "5\n",
      "7\n",
      "9\n",
      "11\n",
      "13\n",
      "15\n",
      "17\n",
      "19\n",
      "21\n"
     ]
    }
   ],
   "source": [
    "n=1\n",
    "while n<=20:\n",
    "    n+=1\n",
    "    if n%2==0:\n",
    "        continue\n",
    "    else:\n",
    "        print(n)"
   ]
  },
  {
   "cell_type": "markdown",
   "id": "e454b872",
   "metadata": {},
   "source": [
    "WAP to enter a limit from user and print fibonacii series"
   ]
  },
  {
   "cell_type": "raw",
   "id": "94184891",
   "metadata": {},
   "source": [
    "0 1 1 2 3 5 8 13 21 34 55\n",
    "a b c\n",
    "  a b c\n",
    "    a b c"
   ]
  },
  {
   "cell_type": "code",
   "execution_count": 59,
   "id": "cafbeb48",
   "metadata": {},
   "outputs": [
    {
     "name": "stdout",
     "output_type": "stream",
     "text": [
      "enter limit: 5\n",
      "0 1 1 2 3 "
     ]
    }
   ],
   "source": [
    "n=int(input('enter limit: '))\n",
    "a=0\n",
    "b=1\n",
    "i=1\n",
    "while i<=n:\n",
    "    print(a,end=' ')\n",
    "    c=a+b\n",
    "    a=b\n",
    "    b=c\n",
    "    i+=1"
   ]
  },
  {
   "cell_type": "code",
   "execution_count": 61,
   "id": "4602a923",
   "metadata": {},
   "outputs": [
    {
     "name": "stdout",
     "output_type": "stream",
     "text": [
      "enter limit: 6\n",
      "0 1 1 2 3 5 "
     ]
    }
   ],
   "source": [
    "n=int(input('enter limit: '))\n",
    "a=0\n",
    "b=1\n",
    "i=1\n",
    "while n>=i:\n",
    "    print(a,end=' ')\n",
    "    c=a+b\n",
    "    a=b\n",
    "    b=c\n",
    "    i+=1"
   ]
  },
  {
   "cell_type": "markdown",
   "id": "a047954d",
   "metadata": {},
   "source": [
    "#### Nested Loop"
   ]
  },
  {
   "cell_type": "code",
   "execution_count": 99,
   "id": "2c0783cf",
   "metadata": {},
   "outputs": [
    {
     "name": "stdout",
     "output_type": "stream",
     "text": [
      "11 12 13 14 15 \n",
      "21 22 23 24 25 \n",
      "31 32 33 34 35 \n",
      "41 42 43 44 45 \n"
     ]
    }
   ],
   "source": [
    "i=1\n",
    "while i<=4:\n",
    "    j=1\n",
    "    while j<=5:\n",
    "        print(i,end='')\n",
    "        print(j,end=' ')\n",
    "        j+=1\n",
    "    print()\n",
    "    i+=1"
   ]
  },
  {
   "cell_type": "code",
   "execution_count": 125,
   "id": "f89cf51f",
   "metadata": {},
   "outputs": [
    {
     "name": "stdout",
     "output_type": "stream",
     "text": [
      "*\n",
      "**\n",
      "***\n",
      "****\n",
      "*****\n"
     ]
    }
   ],
   "source": [
    "i=1\n",
    "while i<=5:\n",
    "    j=1\n",
    "    while j<=i:\n",
    "        print('*',end='')\n",
    "        j+=1\n",
    "    print()\n",
    "    i+=1"
   ]
  },
  {
   "cell_type": "code",
   "execution_count": null,
   "id": "7039d0dc",
   "metadata": {},
   "outputs": [],
   "source": [
    "i=1\n",
    "while i<=5:\n",
    "    j=1\n",
    "    while j<=i:\n",
    "        "
   ]
  },
  {
   "cell_type": "markdown",
   "id": "b88330df",
   "metadata": {},
   "source": [
    "### For Loop"
   ]
  },
  {
   "cell_type": "markdown",
   "id": "9feb1643",
   "metadata": {},
   "source": [
    "#### Left half pyramid"
   ]
  },
  {
   "cell_type": "code",
   "execution_count": 22,
   "id": "ef268f46",
   "metadata": {},
   "outputs": [
    {
     "name": "stdout",
     "output_type": "stream",
     "text": [
      "0\n",
      "1\n",
      "2\n",
      "3\n",
      "4\n"
     ]
    }
   ],
   "source": [
    "for i in range(5):\n",
    "    print(i)"
   ]
  },
  {
   "cell_type": "code",
   "execution_count": 8,
   "id": "a746c609",
   "metadata": {},
   "outputs": [
    {
     "name": "stdout",
     "output_type": "stream",
     "text": [
      "* * * * * \n",
      "* * * * * \n",
      "* * * * * \n",
      "* * * * * \n",
      "* * * * * \n"
     ]
    }
   ],
   "source": [
    "for i in range(5):\n",
    "    for j in range(5):\n",
    "        print('*',end=' ')\n",
    "    print()"
   ]
  },
  {
   "cell_type": "code",
   "execution_count": 63,
   "id": "c80c1853",
   "metadata": {},
   "outputs": [
    {
     "name": "stdout",
     "output_type": "stream",
     "text": [
      "* \n",
      "* * \n",
      "* * * \n",
      "* * * * \n",
      "* * * * * \n"
     ]
    }
   ],
   "source": [
    "for i in range(5):\n",
    "    for j in range(i+1):\n",
    "        print('*',end=' ')\n",
    "    print()"
   ]
  },
  {
   "cell_type": "markdown",
   "id": "d6d20dd2",
   "metadata": {},
   "source": [
    "#### Downward Left half pyramid"
   ]
  },
  {
   "cell_type": "code",
   "execution_count": 41,
   "id": "91526722",
   "metadata": {},
   "outputs": [
    {
     "name": "stdout",
     "output_type": "stream",
     "text": [
      "* * * * * \n",
      "* * * * \n",
      "* * * \n",
      "* * \n",
      "* \n"
     ]
    }
   ],
   "source": [
    "for i in range(5):\n",
    "    for j in range(i,5):\n",
    "        print('*',end=' ')\n",
    "    print()"
   ]
  },
  {
   "cell_type": "markdown",
   "id": "51d3ec33",
   "metadata": {},
   "source": [
    "#### Right half pyramid"
   ]
  },
  {
   "cell_type": "code",
   "execution_count": 88,
   "id": "ccadb00a",
   "metadata": {},
   "outputs": [
    {
     "name": "stdout",
     "output_type": "stream",
     "text": [
      "     *\n",
      "    **\n",
      "   ***\n",
      "  ****\n",
      " *****\n"
     ]
    }
   ],
   "source": [
    "for i in range(5):\n",
    "    for j in range(i,5):\n",
    "        print(' ',end='')\n",
    "    for j in range(i+1):\n",
    "        print('*',end='')\n",
    "    print()"
   ]
  },
  {
   "cell_type": "markdown",
   "id": "486b4fd7",
   "metadata": {},
   "source": [
    "#### Downward right half pyramid"
   ]
  },
  {
   "cell_type": "code",
   "execution_count": 75,
   "id": "51c836d1",
   "metadata": {},
   "outputs": [
    {
     "name": "stdout",
     "output_type": "stream",
     "text": [
      " *****\n",
      "  ****\n",
      "   ***\n",
      "    **\n",
      "     *\n"
     ]
    }
   ],
   "source": [
    "for i in range(5):\n",
    "    for j in range(i+1):\n",
    "        print('',end=' ')\n",
    "    for j in range(i,5):\n",
    "        print('*',end='')\n",
    "    print()"
   ]
  },
  {
   "cell_type": "markdown",
   "id": "bb1773e2",
   "metadata": {},
   "source": [
    "#### Whole pyramid"
   ]
  },
  {
   "cell_type": "code",
   "execution_count": 149,
   "id": "3af68687",
   "metadata": {},
   "outputs": [
    {
     "name": "stdout",
     "output_type": "stream",
     "text": [
      "          * \n",
      "        * * * \n",
      "      * * * * * \n",
      "    * * * * * * * \n",
      "  * * * * * * * * * \n"
     ]
    }
   ],
   "source": [
    "for i in range(5):\n",
    "    for j in range(i,5):\n",
    "        print(' ',end=' ')\n",
    "    for j in range(i+1):\n",
    "        print('*',end=' ')\n",
    "    for j in range(i):\n",
    "        print('*',end=' ')\n",
    "    print()"
   ]
  },
  {
   "cell_type": "code",
   "execution_count": 237,
   "id": "11c2af27",
   "metadata": {},
   "outputs": [
    {
     "name": "stdout",
     "output_type": "stream",
     "text": [
      "          * \n",
      "        * * \n",
      "      * * * \n",
      "    * * * * \n",
      "  * * * * * \n"
     ]
    }
   ],
   "source": [
    "for i in range(5):\n",
    "    for j in range(i,5):\n",
    "        print(' ',end=' ')\n",
    "    for j in range(i+1):\n",
    "        print('*',end=' ')\n",
    "    print()"
   ]
  },
  {
   "cell_type": "code",
   "execution_count": 151,
   "id": "534cb8b3",
   "metadata": {},
   "outputs": [
    {
     "name": "stdout",
     "output_type": "stream",
     "text": [
      "* \n",
      "* * \n",
      "* * * \n",
      "* * * * \n",
      "* * * * * \n"
     ]
    }
   ],
   "source": [
    "for i in range(5):\n",
    "    for j in range(i+1):\n",
    "        print('*',end=' ')\n",
    "    print()"
   ]
  },
  {
   "cell_type": "code",
   "execution_count": 244,
   "id": "7b449be7",
   "metadata": {},
   "outputs": [
    {
     "name": "stdout",
     "output_type": "stream",
     "text": [
      "          * * \n",
      "        * * * * \n",
      "      * * * * * * \n",
      "    * * * * * * * * \n",
      "  * * * * * * * * * * \n"
     ]
    }
   ],
   "source": [
    "for i in range(5):\n",
    "    for j in range(i,5):\n",
    "        print(' ',end=' ')\n",
    "    for j in range(i+1):\n",
    "        print('*',end=' ')\n",
    "    for j in range(i+1):\n",
    "        print('*',end=' ')\n",
    "    print()"
   ]
  },
  {
   "cell_type": "markdown",
   "id": "a090752b",
   "metadata": {},
   "source": [
    "#### Downward pyrmaid"
   ]
  },
  {
   "cell_type": "code",
   "execution_count": 171,
   "id": "b3faa1e2",
   "metadata": {},
   "outputs": [
    {
     "name": "stdout",
     "output_type": "stream",
     "text": [
      "*****\n",
      "****\n",
      "***\n",
      "**\n",
      "*\n"
     ]
    }
   ],
   "source": [
    "for i in range(5):\n",
    "    for j in range(i,5):\n",
    "        print('*',end='')\n",
    "    print()"
   ]
  },
  {
   "cell_type": "code",
   "execution_count": 262,
   "id": "52ede26e",
   "metadata": {},
   "outputs": [
    {
     "name": "stdout",
     "output_type": "stream",
     "text": [
      "*****\n",
      " ****\n",
      "  ***\n",
      "   **\n",
      "    *\n"
     ]
    }
   ],
   "source": [
    "for i in range(5):\n",
    "    for j in range(1,i+1):\n",
    "        print(' ',end='')\n",
    "    for j in range(i,5):\n",
    "        print('*',end='')\n",
    "    print()"
   ]
  },
  {
   "cell_type": "code",
   "execution_count": 245,
   "id": "801a804e",
   "metadata": {},
   "outputs": [
    {
     "name": "stdout",
     "output_type": "stream",
     "text": [
      "  * * * * * * * * * * \n",
      "    * * * * * * * * \n",
      "      * * * * * * \n",
      "        * * * * \n",
      "          * * \n"
     ]
    }
   ],
   "source": [
    "for i in range(5):\n",
    "    for j in range(i+1):\n",
    "        print(' ',end=' ')\n",
    "    for j in range(i,5):\n",
    "        print('*',end=' ')\n",
    "    for j in range(i,5):\n",
    "        print('*',end=' ')\n",
    "    print()"
   ]
  },
  {
   "cell_type": "markdown",
   "id": "5e1ec291",
   "metadata": {},
   "source": [
    "### Diamond pyramid"
   ]
  },
  {
   "cell_type": "code",
   "execution_count": 281,
   "id": "791165f0",
   "metadata": {},
   "outputs": [
    {
     "name": "stdout",
     "output_type": "stream",
     "text": [
      "        * \n",
      "      * * * \n",
      "    * * * * * \n",
      "  * * * * * * * \n",
      "* * * * * * * * * \n",
      "  * * * * * * * \n",
      "    * * * * * \n",
      "      * * * \n",
      "        * \n"
     ]
    }
   ],
   "source": [
    "for i in range(5):\n",
    "    for j in range(i+1,5):\n",
    "        print(' ',end=' ')\n",
    "    for j in range(i+1):\n",
    "        print('*',end=' ')\n",
    "    for j in range(i):\n",
    "        print('*',end=' ')\n",
    "    print()\n",
    "for i in range(4):\n",
    "    for j in range(i+1):\n",
    "        print(' ',end=' ')\n",
    "    for j in range(i,4):\n",
    "        print('*',end=' ')\n",
    "    for j in range(i+1,4):\n",
    "        print('*',end=' ')\n",
    "    print()"
   ]
  },
  {
   "cell_type": "code",
   "execution_count": 296,
   "id": "833c2c24",
   "metadata": {},
   "outputs": [
    {
     "name": "stdout",
     "output_type": "stream",
     "text": [
      "* * * * * * * * * \n",
      "  * * * * * * * \n",
      "    * * * * * \n",
      "      * * * \n",
      "        * \n",
      "        * \n",
      "      * * * \n",
      "    * * * * * \n",
      "  * * * * * * * \n",
      "* * * * * * * * * \n"
     ]
    }
   ],
   "source": [
    "for i in range(5):\n",
    "    for j in range(i):\n",
    "        print(' ',end=' ')\n",
    "    for j in range(i,5):\n",
    "        print('*',end=' ')\n",
    "    for j in range(i+1,5):\n",
    "        print('*',end=' ')\n",
    "    print()\n",
    "for i in range(5):\n",
    "    for j in range(i+1,5):\n",
    "        print(' ',end=' ')\n",
    "    for j in range(i+1):\n",
    "        print('*',end=' ')\n",
    "    for j in range(i):\n",
    "        print('*',end=' ')\n",
    "    print()"
   ]
  },
  {
   "cell_type": "code",
   "execution_count": 24,
   "id": "b1e7ed67",
   "metadata": {},
   "outputs": [
    {
     "name": "stdout",
     "output_type": "stream",
     "text": [
      "* \n",
      "* * \n",
      "* * * \n",
      "* * * * \n",
      "* * * * * \n"
     ]
    }
   ],
   "source": [
    "i=1\n",
    "while i<=5:\n",
    "    j=1\n",
    "    while j<=i:\n",
    "        print(\"*\",end=' ')\n",
    "        j+=1\n",
    "    print()\n",
    "    i+=1"
   ]
  },
  {
   "cell_type": "code",
   "execution_count": 216,
   "id": "1aaec119",
   "metadata": {
    "scrolled": true
   },
   "outputs": [
    {
     "name": "stdout",
     "output_type": "stream",
     "text": [
      "* \n",
      "* * \n",
      "* * * \n",
      "* * * * \n",
      "* * * * * \n"
     ]
    }
   ],
   "source": [
    "i=1\n",
    "while i<=5:\n",
    "    j=1\n",
    "    while j<=i:\n",
    "        print('*',end=' ')\n",
    "        j+=1\n",
    "    print()\n",
    "    i+=1"
   ]
  },
  {
   "cell_type": "code",
   "execution_count": null,
   "id": "34ca38e1",
   "metadata": {},
   "outputs": [],
   "source": [
    "  1 2 3 4 5 6\n",
    "1\n",
    "2\n",
    "3\n",
    "4\n",
    "5\n",
    "6"
   ]
  },
  {
   "cell_type": "code",
   "execution_count": 180,
   "id": "c5b30a3e",
   "metadata": {},
   "outputs": [
    {
     "name": "stdout",
     "output_type": "stream",
     "text": [
      "1\n",
      "2\n",
      "3\n",
      "4\n",
      "5\n"
     ]
    }
   ],
   "source": [
    "j=1\n",
    "while j<=5:\n",
    "    print(j)\n",
    "    j+=1"
   ]
  },
  {
   "cell_type": "code",
   "execution_count": 223,
   "id": "f275b980",
   "metadata": {},
   "outputs": [
    {
     "name": "stdout",
     "output_type": "stream",
     "text": [
      "1\n",
      "2\n",
      "3\n",
      "4\n",
      "5\n"
     ]
    }
   ],
   "source": [
    "i=1\n",
    "while i<=5:\n",
    "    print(i)\n",
    "    i+=1"
   ]
  },
  {
   "cell_type": "code",
   "execution_count": 291,
   "id": "01e5431b",
   "metadata": {},
   "outputs": [
    {
     "name": "stdout",
     "output_type": "stream",
     "text": [
      "* * * * * \n",
      "* * * * * \n",
      "* * * * * \n",
      "* * * * * \n",
      "* * * * * \n"
     ]
    }
   ],
   "source": [
    "for i in range(0,5):\n",
    "    for j in range(1,6):\n",
    "        print('*',end=' ')\n",
    "    print()"
   ]
  },
  {
   "cell_type": "code",
   "execution_count": 320,
   "id": "bd8fd4f9",
   "metadata": {},
   "outputs": [
    {
     "name": "stdout",
     "output_type": "stream",
     "text": [
      "1\n",
      "2 2\n",
      "2 3 3\n",
      "2 3 4 4\n",
      "2 3 4 5 5\n"
     ]
    }
   ],
   "source": [
    "num=6\n",
    "rows=1\n",
    "while rows<num:\n",
    "    col=2\n",
    "    while col<=rows:\n",
    "        print(col,end=' ')\n",
    "        col+=1\n",
    "    print(rows)\n",
    "    rows+=1"
   ]
  },
  {
   "cell_type": "code",
   "execution_count": 84,
   "id": "babdad7d",
   "metadata": {},
   "outputs": [
    {
     "name": "stdout",
     "output_type": "stream",
     "text": [
      "* \n",
      "* * \n",
      "* * * \n",
      "* * * * \n",
      "* * * * * \n"
     ]
    }
   ],
   "source": [
    "n=6\n",
    "i=1\n",
    "while n>i:\n",
    "    spaces=''*(n-i)\n",
    "    stars='* '*i\n",
    "    print(spaces+stars)\n",
    "    i+=1"
   ]
  },
  {
   "cell_type": "code",
   "execution_count": 8,
   "id": "d93fb8b4",
   "metadata": {},
   "outputs": [
    {
     "name": "stdout",
     "output_type": "stream",
     "text": [
      "******\n",
      " *****\n",
      "  ****\n",
      "   ***\n",
      "    **\n",
      "     *\n"
     ]
    }
   ],
   "source": [
    "n=6\n",
    "i=0\n",
    "while n>i:\n",
    "    spaces=' '*i\n",
    "    stars='*'*(n-i)\n",
    "    print(spaces+stars)\n",
    "    i+=1"
   ]
  },
  {
   "cell_type": "code",
   "execution_count": 118,
   "id": "7733abfe",
   "metadata": {},
   "outputs": [
    {
     "name": "stdout",
     "output_type": "stream",
     "text": [
      "**********\n",
      "*        *\n",
      "*        *\n",
      "*        *\n",
      "*        *\n",
      "*        *\n",
      "*        *\n",
      "*        *\n",
      "*        *\n",
      "**********\n"
     ]
    }
   ],
   "source": [
    "n=10\n",
    "i=1\n",
    "while n>=i:\n",
    "    if (i==1) or (i==n):\n",
    "        print('*'*n)\n",
    "    else:\n",
    "        print('*'+(' '* (n-2))+'*')\n",
    "    i+=1"
   ]
  },
  {
   "cell_type": "code",
   "execution_count": 94,
   "id": "2dc0ce6d",
   "metadata": {},
   "outputs": [
    {
     "name": "stdout",
     "output_type": "stream",
     "text": [
      " * * * * * \n",
      "  * * * * \n",
      "   * * * \n",
      "    * * \n",
      "     * \n"
     ]
    }
   ],
   "source": [
    "n=6\n",
    "i=1\n",
    "while n>i:\n",
    "    spaces=' '*i\n",
    "    stars='* '*(n-i)\n",
    "    print(spaces+stars)\n",
    "    i+=1"
   ]
  },
  {
   "cell_type": "code",
   "execution_count": 95,
   "id": "395594a2",
   "metadata": {},
   "outputs": [
    {
     "name": "stdout",
     "output_type": "stream",
     "text": [
      "     * \n",
      "    * * \n",
      "   * * * \n",
      "  * * * * \n",
      " * * * * * \n"
     ]
    }
   ],
   "source": [
    "n=6\n",
    "i=1\n",
    "while n>i:\n",
    "    stars='* '*i\n",
    "    spaces=' '*(n-i)\n",
    "    print(spaces+stars)\n",
    "    i+=1"
   ]
  },
  {
   "cell_type": "code",
   "execution_count": 209,
   "id": "bb372bf6",
   "metadata": {},
   "outputs": [
    {
     "name": "stdout",
     "output_type": "stream",
     "text": [
      "*               \n",
      "* *             \n",
      "*   *           \n",
      "*     *         \n",
      "*       *       \n",
      "*         *     \n",
      "*           *   \n",
      "* * * * * * * * \n"
     ]
    }
   ],
   "source": [
    "n=8\n",
    "i=1\n",
    "while n>=i:\n",
    "    j=1\n",
    "    while n>=j:\n",
    "        if i==n or j==1 or (i==j):\n",
    "            print('*',end=' ')\n",
    "        else:\n",
    "            print('  ',end='')\n",
    "        j+=1\n",
    "    print()\n",
    "    i+=1"
   ]
  },
  {
   "cell_type": "code",
   "execution_count": null,
   "id": "79df6813",
   "metadata": {},
   "outputs": [],
   "source": [
    "5*4*3*2*1"
   ]
  },
  {
   "cell_type": "code",
   "execution_count": 226,
   "id": "e58d1485",
   "metadata": {},
   "outputs": [
    {
     "name": "stdout",
     "output_type": "stream",
     "text": [
      "5\n",
      "120\n"
     ]
    }
   ],
   "source": [
    "n=int(input())\n",
    "i=1\n",
    "while n>1:\n",
    "    i=i*n\n",
    "    n-=1\n",
    "print(i)"
   ]
  },
  {
   "cell_type": "raw",
   "id": "4bcfa852",
   "metadata": {},
   "source": [
    "    *\n",
    "   ***\n",
    "  *****\n",
    " *******\n",
    "*********\n",
    " *******\n",
    "  *****\n",
    "   ***\n",
    "    *"
   ]
  },
  {
   "cell_type": "code",
   "execution_count": 12,
   "id": "74a1ba63",
   "metadata": {},
   "outputs": [
    {
     "name": "stdout",
     "output_type": "stream",
     "text": [
      "*\n",
      "**\n",
      "***\n",
      "****\n",
      "*****\n"
     ]
    }
   ],
   "source": [
    "n=5\n",
    "for i in range(n):\n",
    "    for j in range(i+1):\n",
    "        print('*',end='')\n",
    "    print()"
   ]
  },
  {
   "cell_type": "code",
   "execution_count": 14,
   "id": "f4c7d3a2",
   "metadata": {},
   "outputs": [
    {
     "name": "stdout",
     "output_type": "stream",
     "text": [
      "*****\n",
      "****\n",
      "***\n",
      "**\n",
      "*\n"
     ]
    }
   ],
   "source": [
    "n=5\n",
    "for i in range(n):\n",
    "    for j in range(n-i):\n",
    "        print('*',end='')\n",
    "    print()"
   ]
  },
  {
   "cell_type": "code",
   "execution_count": 46,
   "id": "50d57c6c",
   "metadata": {},
   "outputs": [
    {
     "name": "stdout",
     "output_type": "stream",
     "text": [
      "*             \n",
      "* *           \n",
      "*   *         \n",
      "*     *       \n",
      "*       *     \n",
      "*         *   \n",
      "* * * * * * * \n"
     ]
    }
   ],
   "source": [
    "n=7\n",
    "i=1\n",
    "while n>=i:\n",
    "    j=1\n",
    "    while j<=n:\n",
    "        if i==n or j==1 or i==j:\n",
    "            print('*',end=' ')\n",
    "        else:\n",
    "            print('  ',end='')\n",
    "        j+=1\n",
    "    print()\n",
    "    i+=1"
   ]
  },
  {
   "cell_type": "code",
   "execution_count": 65,
   "id": "8f4e6184",
   "metadata": {},
   "outputs": [
    {
     "name": "stdout",
     "output_type": "stream",
     "text": [
      "enter the number: 1232\n",
      "2\n",
      "3\n",
      "2\n",
      "1\n"
     ]
    }
   ],
   "source": [
    "n=int(input('enter the number: '))\n",
    "while n>0:\n",
    "    r=n%10\n",
    "    print(r)\n",
    "    n//=10"
   ]
  },
  {
   "cell_type": "code",
   "execution_count": 68,
   "id": "3db4bfb9",
   "metadata": {},
   "outputs": [
    {
     "name": "stdout",
     "output_type": "stream",
     "text": [
      "enter the number: 143\n",
      "8\n"
     ]
    }
   ],
   "source": [
    "n=int(input('enter the number: '))\n",
    "s=0\n",
    "while n>0:\n",
    "    r=n%10\n",
    "    s=s+r\n",
    "    n//=10\n",
    "print(s)"
   ]
  },
  {
   "cell_type": "code",
   "execution_count": 70,
   "id": "5e939dd1",
   "metadata": {},
   "outputs": [
    {
     "name": "stdout",
     "output_type": "stream",
     "text": [
      "enter the number: 12421\n",
      "12421\n",
      "its a pallindrome\n"
     ]
    }
   ],
   "source": [
    "n=int(input('enter the number: '))\n",
    "n2=n\n",
    "s=0\n",
    "while n>0:\n",
    "    r=n%10\n",
    "    s=s*10+r\n",
    "    n//=10\n",
    "print(s)\n",
    "print('its a pallindrome') if s==n2 else print('its not a pallindrome')"
   ]
  },
  {
   "cell_type": "code",
   "execution_count": 81,
   "id": "acb0a1a2",
   "metadata": {},
   "outputs": [
    {
     "name": "stdout",
     "output_type": "stream",
     "text": [
      "enter the number: 8208\n",
      "1032\n",
      "its not a Amstrong\n"
     ]
    }
   ],
   "source": [
    "n=int(input('enter the number: '))\n",
    "n2=n\n",
    "s=0\n",
    "while n>0:\n",
    "    r=n%10\n",
    "    s=s+r**3\n",
    "    n//=10\n",
    "print(s)\n",
    "print('its a amstrong') if s==n2 else print('its not a Amstrong')"
   ]
  },
  {
   "cell_type": "code",
   "execution_count": 74,
   "id": "898861bc",
   "metadata": {},
   "outputs": [
    {
     "data": {
      "text/plain": [
       "4"
      ]
     },
     "execution_count": 74,
     "metadata": {},
     "output_type": "execute_result"
    }
   ],
   "source": [
    "1634%10"
   ]
  },
  {
   "cell_type": "code",
   "execution_count": 75,
   "id": "1407df2e",
   "metadata": {},
   "outputs": [
    {
     "data": {
      "text/plain": [
       "163"
      ]
     },
     "execution_count": 75,
     "metadata": {},
     "output_type": "execute_result"
    }
   ],
   "source": [
    "1634//10"
   ]
  },
  {
   "cell_type": "code",
   "execution_count": 76,
   "id": "5a2b0413",
   "metadata": {},
   "outputs": [
    {
     "data": {
      "text/plain": [
       "3"
      ]
     },
     "execution_count": 76,
     "metadata": {},
     "output_type": "execute_result"
    }
   ],
   "source": [
    "163%10"
   ]
  },
  {
   "cell_type": "code",
   "execution_count": 77,
   "id": "8c984294",
   "metadata": {},
   "outputs": [
    {
     "data": {
      "text/plain": [
       "6"
      ]
     },
     "execution_count": 77,
     "metadata": {},
     "output_type": "execute_result"
    }
   ],
   "source": [
    "16%10"
   ]
  },
  {
   "cell_type": "code",
   "execution_count": 78,
   "id": "8a1d0992",
   "metadata": {},
   "outputs": [
    {
     "data": {
      "text/plain": [
       "1"
      ]
     },
     "execution_count": 78,
     "metadata": {},
     "output_type": "execute_result"
    }
   ],
   "source": [
    "1%10"
   ]
  },
  {
   "cell_type": "code",
   "execution_count": 79,
   "id": "b63f13f2",
   "metadata": {},
   "outputs": [
    {
     "data": {
      "text/plain": [
       "308"
      ]
     },
     "execution_count": 79,
     "metadata": {},
     "output_type": "execute_result"
    }
   ],
   "source": [
    "4**3+3**3+6**3+1**3"
   ]
  },
  {
   "cell_type": "markdown",
   "id": "5bb1c3e1",
   "metadata": {},
   "source": [
    "### Lists"
   ]
  },
  {
   "cell_type": "code",
   "execution_count": 1,
   "id": "b6d21a24",
   "metadata": {},
   "outputs": [],
   "source": [
    "lst=[1,2,3,4,5]"
   ]
  },
  {
   "cell_type": "code",
   "execution_count": 2,
   "id": "57c7c3a0",
   "metadata": {},
   "outputs": [
    {
     "data": {
      "text/plain": [
       "list"
      ]
     },
     "execution_count": 2,
     "metadata": {},
     "output_type": "execute_result"
    }
   ],
   "source": [
    "type(lst)"
   ]
  },
  {
   "cell_type": "code",
   "execution_count": 3,
   "id": "95e05af3",
   "metadata": {},
   "outputs": [
    {
     "data": {
      "text/plain": [
       "15"
      ]
     },
     "execution_count": 3,
     "metadata": {},
     "output_type": "execute_result"
    }
   ],
   "source": [
    "sum(lst)"
   ]
  },
  {
   "cell_type": "code",
   "execution_count": 4,
   "id": "ff175e8e",
   "metadata": {},
   "outputs": [
    {
     "data": {
      "text/plain": [
       "[1, 2, 3, 4, 5, 1, 2, 3, 4, 5]"
      ]
     },
     "execution_count": 4,
     "metadata": {},
     "output_type": "execute_result"
    }
   ],
   "source": [
    "lst*2"
   ]
  },
  {
   "cell_type": "code",
   "execution_count": 5,
   "id": "509ceb27",
   "metadata": {},
   "outputs": [],
   "source": [
    "lst.append(6)"
   ]
  },
  {
   "cell_type": "code",
   "execution_count": 6,
   "id": "97f0c69c",
   "metadata": {},
   "outputs": [
    {
     "data": {
      "text/plain": [
       "[1, 2, 3, 4, 5, 6]"
      ]
     },
     "execution_count": 6,
     "metadata": {},
     "output_type": "execute_result"
    }
   ],
   "source": [
    "lst"
   ]
  },
  {
   "cell_type": "code",
   "execution_count": 7,
   "id": "96d701ad",
   "metadata": {},
   "outputs": [],
   "source": [
    "lst.append([7,8])"
   ]
  },
  {
   "cell_type": "code",
   "execution_count": 8,
   "id": "cd2de8e9",
   "metadata": {},
   "outputs": [
    {
     "data": {
      "text/plain": [
       "[1, 2, 3, 4, 5, 6, [7, 8]]"
      ]
     },
     "execution_count": 8,
     "metadata": {},
     "output_type": "execute_result"
    }
   ],
   "source": [
    "lst"
   ]
  },
  {
   "cell_type": "code",
   "execution_count": 10,
   "id": "18e97b2e",
   "metadata": {},
   "outputs": [],
   "source": [
    "lst.extend([8,9])"
   ]
  },
  {
   "cell_type": "code",
   "execution_count": 11,
   "id": "8750a65f",
   "metadata": {},
   "outputs": [
    {
     "data": {
      "text/plain": [
       "[1, 2, 3, 4, 5, 6, [7, 8], 8, 9]"
      ]
     },
     "execution_count": 11,
     "metadata": {},
     "output_type": "execute_result"
    }
   ],
   "source": [
    "lst"
   ]
  },
  {
   "cell_type": "code",
   "execution_count": 13,
   "id": "758fe257",
   "metadata": {},
   "outputs": [
    {
     "data": {
      "text/plain": [
       "4"
      ]
     },
     "execution_count": 13,
     "metadata": {},
     "output_type": "execute_result"
    }
   ],
   "source": [
    "lst.index(5)"
   ]
  },
  {
   "cell_type": "code",
   "execution_count": 14,
   "id": "e1cd34f7",
   "metadata": {},
   "outputs": [],
   "source": [
    "lst.insert(4,4)"
   ]
  },
  {
   "cell_type": "code",
   "execution_count": 15,
   "id": "94246068",
   "metadata": {},
   "outputs": [
    {
     "data": {
      "text/plain": [
       "[1, 2, 3, 4, 4, 5, 6, [7, 8], 8, 9]"
      ]
     },
     "execution_count": 15,
     "metadata": {},
     "output_type": "execute_result"
    }
   ],
   "source": [
    "lst"
   ]
  },
  {
   "cell_type": "code",
   "execution_count": 16,
   "id": "2256b3aa",
   "metadata": {},
   "outputs": [
    {
     "data": {
      "text/plain": [
       "4"
      ]
     },
     "execution_count": 16,
     "metadata": {},
     "output_type": "execute_result"
    }
   ],
   "source": [
    "lst.pop(4)"
   ]
  },
  {
   "cell_type": "code",
   "execution_count": 17,
   "id": "2b0e344f",
   "metadata": {},
   "outputs": [
    {
     "data": {
      "text/plain": [
       "[1, 2, 3, 4, 5, 6, [7, 8], 8, 9]"
      ]
     },
     "execution_count": 17,
     "metadata": {},
     "output_type": "execute_result"
    }
   ],
   "source": [
    "lst"
   ]
  },
  {
   "cell_type": "code",
   "execution_count": 18,
   "id": "d1e98ecd",
   "metadata": {},
   "outputs": [],
   "source": [
    "lst.reverse()"
   ]
  },
  {
   "cell_type": "code",
   "execution_count": 19,
   "id": "5b73c99a",
   "metadata": {},
   "outputs": [
    {
     "data": {
      "text/plain": [
       "[9, 8, [7, 8], 6, 5, 4, 3, 2, 1]"
      ]
     },
     "execution_count": 19,
     "metadata": {},
     "output_type": "execute_result"
    }
   ],
   "source": [
    "lst"
   ]
  },
  {
   "cell_type": "code",
   "execution_count": 20,
   "id": "bd0f81c6",
   "metadata": {},
   "outputs": [
    {
     "data": {
      "text/plain": [
       "[1, 2, 3, 4, 5, 6, [7, 8], 8, 9]"
      ]
     },
     "execution_count": 20,
     "metadata": {},
     "output_type": "execute_result"
    }
   ],
   "source": [
    "lst[::-1]"
   ]
  },
  {
   "cell_type": "code",
   "execution_count": 21,
   "id": "a658faaf",
   "metadata": {},
   "outputs": [
    {
     "data": {
      "text/plain": [
       "[[7, 8], 6, 5]"
      ]
     },
     "execution_count": 21,
     "metadata": {},
     "output_type": "execute_result"
    }
   ],
   "source": [
    "lst[2:5]"
   ]
  },
  {
   "cell_type": "code",
   "execution_count": 23,
   "id": "9be22f97",
   "metadata": {},
   "outputs": [],
   "source": [
    "lst.remove([7,8])"
   ]
  },
  {
   "cell_type": "code",
   "execution_count": 24,
   "id": "9a3bb429",
   "metadata": {},
   "outputs": [
    {
     "data": {
      "text/plain": [
       "[9, 8, 6, 5, 4, 3, 2, 1]"
      ]
     },
     "execution_count": 24,
     "metadata": {},
     "output_type": "execute_result"
    }
   ],
   "source": [
    "lst"
   ]
  },
  {
   "cell_type": "code",
   "execution_count": 25,
   "id": "ad7f4dcd",
   "metadata": {},
   "outputs": [],
   "source": [
    "lst.sort()"
   ]
  },
  {
   "cell_type": "code",
   "execution_count": 26,
   "id": "3518af76",
   "metadata": {},
   "outputs": [
    {
     "data": {
      "text/plain": [
       "[1, 2, 3, 4, 5, 6, 8, 9]"
      ]
     },
     "execution_count": 26,
     "metadata": {},
     "output_type": "execute_result"
    }
   ],
   "source": [
    "lst"
   ]
  },
  {
   "cell_type": "code",
   "execution_count": 27,
   "id": "ca521bfd",
   "metadata": {},
   "outputs": [
    {
     "data": {
      "text/plain": [
       "1"
      ]
     },
     "execution_count": 27,
     "metadata": {},
     "output_type": "execute_result"
    }
   ],
   "source": [
    "lst.count(5)"
   ]
  },
  {
   "cell_type": "markdown",
   "id": "0b0418b3",
   "metadata": {},
   "source": [
    "### Sets"
   ]
  },
  {
   "cell_type": "markdown",
   "id": "fab67047",
   "metadata": {},
   "source": [
    "1. Unordered and Unindexed\n",
    "\n",
    "2. sets are mutable"
   ]
  },
  {
   "cell_type": "code",
   "execution_count": 4,
   "id": "9d8fbf4d",
   "metadata": {},
   "outputs": [],
   "source": [
    "sets={12,13,14,15,16}"
   ]
  },
  {
   "cell_type": "code",
   "execution_count": 80,
   "id": "14248b0e",
   "metadata": {},
   "outputs": [
    {
     "data": {
      "text/plain": [
       "set"
      ]
     },
     "execution_count": 80,
     "metadata": {},
     "output_type": "execute_result"
    }
   ],
   "source": [
    "type(sets)"
   ]
  },
  {
   "cell_type": "code",
   "execution_count": 81,
   "id": "23be089c",
   "metadata": {},
   "outputs": [
    {
     "data": {
      "text/plain": [
       "{12, 13, 14, 15, 16}"
      ]
     },
     "execution_count": 81,
     "metadata": {},
     "output_type": "execute_result"
    }
   ],
   "source": [
    "sets"
   ]
  },
  {
   "cell_type": "code",
   "execution_count": 82,
   "id": "6bb86208",
   "metadata": {},
   "outputs": [],
   "source": [
    "sets.add(17)"
   ]
  },
  {
   "cell_type": "code",
   "execution_count": 83,
   "id": "3e108dd9",
   "metadata": {},
   "outputs": [
    {
     "data": {
      "text/plain": [
       "{12, 13, 14, 15, 16, 17}"
      ]
     },
     "execution_count": 83,
     "metadata": {},
     "output_type": "execute_result"
    }
   ],
   "source": [
    "sets"
   ]
  },
  {
   "cell_type": "markdown",
   "id": "0035570c",
   "metadata": {},
   "source": [
    "#### Set operations: \n",
    "mutable,unordered,has no duplicates\n",
    "\n",
    "1. difference\n",
    "2. difference_update\n",
    "3. union\n",
    "4. intersection"
   ]
  },
  {
   "cell_type": "code",
   "execution_count": 72,
   "id": "0d381d82",
   "metadata": {},
   "outputs": [],
   "source": [
    "sets2={12,13,14,15,16,25,26}"
   ]
  },
  {
   "cell_type": "code",
   "execution_count": 58,
   "id": "8ba77378",
   "metadata": {},
   "outputs": [
    {
     "data": {
      "text/plain": [
       "{25, 26}"
      ]
     },
     "execution_count": 58,
     "metadata": {},
     "output_type": "execute_result"
    }
   ],
   "source": [
    "sets2.difference(sets)"
   ]
  },
  {
   "cell_type": "code",
   "execution_count": 59,
   "id": "8eee1e35",
   "metadata": {},
   "outputs": [
    {
     "data": {
      "text/plain": [
       "{12, 13, 14, 15, 16, 25, 26}"
      ]
     },
     "execution_count": 59,
     "metadata": {},
     "output_type": "execute_result"
    }
   ],
   "source": [
    "sets2"
   ]
  },
  {
   "cell_type": "code",
   "execution_count": 60,
   "id": "15ae6d8f",
   "metadata": {},
   "outputs": [],
   "source": [
    "sets2.difference_update(sets)"
   ]
  },
  {
   "cell_type": "code",
   "execution_count": 61,
   "id": "1256acb3",
   "metadata": {},
   "outputs": [
    {
     "data": {
      "text/plain": [
       "{25, 26}"
      ]
     },
     "execution_count": 61,
     "metadata": {},
     "output_type": "execute_result"
    }
   ],
   "source": [
    "sets2"
   ]
  },
  {
   "cell_type": "code",
   "execution_count": 62,
   "id": "7e90f24e",
   "metadata": {},
   "outputs": [
    {
     "data": {
      "text/plain": [
       "{12, 13, 14, 15, 16, 17}"
      ]
     },
     "execution_count": 62,
     "metadata": {},
     "output_type": "execute_result"
    }
   ],
   "source": [
    "sets"
   ]
  },
  {
   "cell_type": "code",
   "execution_count": 64,
   "id": "4a6cce4c",
   "metadata": {},
   "outputs": [
    {
     "data": {
      "text/plain": [
       "{12, 13, 14, 15, 16, 17, 25, 26}"
      ]
     },
     "execution_count": 64,
     "metadata": {},
     "output_type": "execute_result"
    }
   ],
   "source": [
    "sets.union(sets2)"
   ]
  },
  {
   "cell_type": "code",
   "execution_count": 67,
   "id": "528b034d",
   "metadata": {},
   "outputs": [
    {
     "data": {
      "text/plain": [
       "{12, 13, 14, 15, 16}"
      ]
     },
     "execution_count": 67,
     "metadata": {},
     "output_type": "execute_result"
    }
   ],
   "source": [
    "sets.intersection(sets2)"
   ]
  },
  {
   "cell_type": "code",
   "execution_count": 68,
   "id": "c17491db",
   "metadata": {},
   "outputs": [
    {
     "data": {
      "text/plain": [
       "{12, 13, 14, 15, 16, 17}"
      ]
     },
     "execution_count": 68,
     "metadata": {},
     "output_type": "execute_result"
    }
   ],
   "source": [
    "sets"
   ]
  },
  {
   "cell_type": "code",
   "execution_count": 69,
   "id": "f3023914",
   "metadata": {},
   "outputs": [],
   "source": [
    "sets.intersection_update(sets2)"
   ]
  },
  {
   "cell_type": "code",
   "execution_count": 70,
   "id": "29768903",
   "metadata": {},
   "outputs": [
    {
     "data": {
      "text/plain": [
       "{12, 13, 14, 15, 16}"
      ]
     },
     "execution_count": 70,
     "metadata": {},
     "output_type": "execute_result"
    }
   ],
   "source": [
    "sets"
   ]
  },
  {
   "cell_type": "code",
   "execution_count": 73,
   "id": "251b32c7",
   "metadata": {},
   "outputs": [
    {
     "data": {
      "text/plain": [
       "{12, 13, 14, 15, 16, 25, 26}"
      ]
     },
     "execution_count": 73,
     "metadata": {},
     "output_type": "execute_result"
    }
   ],
   "source": [
    "sets | sets2"
   ]
  },
  {
   "cell_type": "code",
   "execution_count": 74,
   "id": "f7079b6c",
   "metadata": {},
   "outputs": [
    {
     "data": {
      "text/plain": [
       "{25, 26}"
      ]
     },
     "execution_count": 74,
     "metadata": {},
     "output_type": "execute_result"
    }
   ],
   "source": [
    "sets^sets2"
   ]
  },
  {
   "cell_type": "code",
   "execution_count": 75,
   "id": "8c84c3c9",
   "metadata": {},
   "outputs": [
    {
     "data": {
      "text/plain": [
       "{12, 13, 14, 15, 16}"
      ]
     },
     "execution_count": 75,
     "metadata": {},
     "output_type": "execute_result"
    }
   ],
   "source": [
    "sets & sets2"
   ]
  },
  {
   "cell_type": "code",
   "execution_count": 76,
   "id": "4205f5ba",
   "metadata": {},
   "outputs": [],
   "source": [
    "sets.clear()"
   ]
  },
  {
   "cell_type": "code",
   "execution_count": 77,
   "id": "c7069fb5",
   "metadata": {},
   "outputs": [
    {
     "data": {
      "text/plain": [
       "set()"
      ]
     },
     "execution_count": 77,
     "metadata": {},
     "output_type": "execute_result"
    }
   ],
   "source": [
    "sets"
   ]
  },
  {
   "cell_type": "code",
   "execution_count": 84,
   "id": "a321fa62",
   "metadata": {},
   "outputs": [
    {
     "data": {
      "text/plain": [
       "{12, 13, 14, 15, 16, 17}"
      ]
     },
     "execution_count": 84,
     "metadata": {},
     "output_type": "execute_result"
    }
   ],
   "source": [
    "sets"
   ]
  },
  {
   "cell_type": "code",
   "execution_count": 85,
   "id": "1be8bad6",
   "metadata": {},
   "outputs": [],
   "source": [
    "sets.remove(14)"
   ]
  },
  {
   "cell_type": "code",
   "execution_count": 86,
   "id": "fd3d4706",
   "metadata": {},
   "outputs": [
    {
     "data": {
      "text/plain": [
       "{12, 13, 15, 16, 17}"
      ]
     },
     "execution_count": 86,
     "metadata": {},
     "output_type": "execute_result"
    }
   ],
   "source": [
    "sets"
   ]
  },
  {
   "cell_type": "code",
   "execution_count": 87,
   "id": "ef54508f",
   "metadata": {},
   "outputs": [],
   "source": [
    "sets3={'strs','vinay',12,19}"
   ]
  },
  {
   "cell_type": "code",
   "execution_count": 89,
   "id": "f2d9f76f",
   "metadata": {},
   "outputs": [
    {
     "data": {
      "text/plain": [
       "{12, 19, 'strs', 'vinay'}"
      ]
     },
     "execution_count": 89,
     "metadata": {},
     "output_type": "execute_result"
    }
   ],
   "source": [
    "sets3"
   ]
  },
  {
   "cell_type": "markdown",
   "id": "7fec8a6c",
   "metadata": {},
   "source": [
    "#### Frozen set\n",
    "1. frozen sets are immutable sets"
   ]
  },
  {
   "cell_type": "code",
   "execution_count": 1,
   "id": "f3212981",
   "metadata": {},
   "outputs": [],
   "source": [
    "f=frozenset([23,25,27])"
   ]
  },
  {
   "cell_type": "code",
   "execution_count": 2,
   "id": "22696d54",
   "metadata": {},
   "outputs": [
    {
     "data": {
      "text/plain": [
       "frozenset({23, 25, 27})"
      ]
     },
     "execution_count": 2,
     "metadata": {},
     "output_type": "execute_result"
    }
   ],
   "source": [
    "f"
   ]
  },
  {
   "cell_type": "code",
   "execution_count": 5,
   "id": "deddaaac",
   "metadata": {},
   "outputs": [
    {
     "data": {
      "text/plain": [
       "frozenset({12, 13, 14, 15, 16, 23, 25, 27})"
      ]
     },
     "execution_count": 5,
     "metadata": {},
     "output_type": "execute_result"
    }
   ],
   "source": [
    "f|sets"
   ]
  },
  {
   "cell_type": "code",
   "execution_count": 6,
   "id": "aeb651ea",
   "metadata": {},
   "outputs": [
    {
     "data": {
      "text/plain": [
       "{12, 13, 14, 15, 16}"
      ]
     },
     "execution_count": 6,
     "metadata": {},
     "output_type": "execute_result"
    }
   ],
   "source": [
    "sets"
   ]
  },
  {
   "cell_type": "markdown",
   "id": "bb225564",
   "metadata": {},
   "source": [
    "### Dictionaries\n",
    "unordered,changable and indexed.. have key value pairs"
   ]
  },
  {
   "cell_type": "code",
   "execution_count": 94,
   "id": "58ff3663",
   "metadata": {},
   "outputs": [],
   "source": [
    "dict={'a':'vinay','b':'teja','c':'sujith'}"
   ]
  },
  {
   "cell_type": "code",
   "execution_count": 95,
   "id": "07552dc4",
   "metadata": {},
   "outputs": [
    {
     "data": {
      "text/plain": [
       "dict"
      ]
     },
     "execution_count": 95,
     "metadata": {},
     "output_type": "execute_result"
    }
   ],
   "source": [
    "type(dict)"
   ]
  },
  {
   "cell_type": "code",
   "execution_count": 99,
   "id": "f23b24a7",
   "metadata": {},
   "outputs": [],
   "source": [
    "dict['a']='kumar'"
   ]
  },
  {
   "cell_type": "code",
   "execution_count": 100,
   "id": "aee0ee9b",
   "metadata": {},
   "outputs": [
    {
     "data": {
      "text/plain": [
       "{'a': 'kumar', 'b': 'teja', 'c': 'sujith'}"
      ]
     },
     "execution_count": 100,
     "metadata": {},
     "output_type": "execute_result"
    }
   ],
   "source": [
    "dict"
   ]
  },
  {
   "cell_type": "code",
   "execution_count": 106,
   "id": "53b56f1f",
   "metadata": {},
   "outputs": [
    {
     "name": "stdout",
     "output_type": "stream",
     "text": [
      "a\n",
      "b\n",
      "c\n"
     ]
    }
   ],
   "source": [
    "for i in dict.keys():\n",
    "    print(i)"
   ]
  },
  {
   "cell_type": "code",
   "execution_count": 107,
   "id": "a5779041",
   "metadata": {},
   "outputs": [
    {
     "name": "stdout",
     "output_type": "stream",
     "text": [
      "kumar\n",
      "teja\n",
      "sujith\n"
     ]
    }
   ],
   "source": [
    "for i in dict.values():\n",
    "    print(i)"
   ]
  },
  {
   "cell_type": "code",
   "execution_count": 108,
   "id": "d96fdb46",
   "metadata": {},
   "outputs": [
    {
     "name": "stdout",
     "output_type": "stream",
     "text": [
      "('a', 'kumar')\n",
      "('b', 'teja')\n",
      "('c', 'sujith')\n"
     ]
    }
   ],
   "source": [
    "for i in dict.items():\n",
    "    print(i)"
   ]
  },
  {
   "cell_type": "markdown",
   "id": "693e7022",
   "metadata": {},
   "source": [
    "#### Nested dictionary"
   ]
  },
  {
   "cell_type": "code",
   "execution_count": 110,
   "id": "bf225917",
   "metadata": {},
   "outputs": [],
   "source": [
    "car1={'bmw':1920}\n",
    "car2={'audi':1922}\n",
    "car3={'benz':1890}"
   ]
  },
  {
   "cell_type": "code",
   "execution_count": 113,
   "id": "e47ebff3",
   "metadata": {},
   "outputs": [],
   "source": [
    "cars={'car_model':car1,'car_model2':car2,'car_model3':car3}"
   ]
  },
  {
   "cell_type": "code",
   "execution_count": 114,
   "id": "5b85468a",
   "metadata": {},
   "outputs": [
    {
     "data": {
      "text/plain": [
       "{'car_model': {'bmw': 1920},\n",
       " 'car_model2': {'audi': 1922},\n",
       " 'car_model3': {'benz': 1890}}"
      ]
     },
     "execution_count": 114,
     "metadata": {},
     "output_type": "execute_result"
    }
   ],
   "source": [
    "cars"
   ]
  },
  {
   "cell_type": "code",
   "execution_count": 118,
   "id": "2c2e057e",
   "metadata": {},
   "outputs": [
    {
     "data": {
      "text/plain": [
       "{'audi': 1922}"
      ]
     },
     "execution_count": 118,
     "metadata": {},
     "output_type": "execute_result"
    }
   ],
   "source": [
    "cars['car_model2']"
   ]
  },
  {
   "cell_type": "code",
   "execution_count": 119,
   "id": "4eda7c02",
   "metadata": {},
   "outputs": [
    {
     "data": {
      "text/plain": [
       "1890"
      ]
     },
     "execution_count": 119,
     "metadata": {},
     "output_type": "execute_result"
    }
   ],
   "source": [
    "cars['car_model3']['benz']"
   ]
  },
  {
   "cell_type": "markdown",
   "id": "f43185e1",
   "metadata": {},
   "source": [
    "### Tuples\n",
    "mutable and ordered, allows duplicates"
   ]
  },
  {
   "cell_type": "code",
   "execution_count": 121,
   "id": "a96caa56",
   "metadata": {},
   "outputs": [],
   "source": [
    "tup=(30,31,32,33,34)"
   ]
  },
  {
   "cell_type": "code",
   "execution_count": 122,
   "id": "c79e5dee",
   "metadata": {},
   "outputs": [
    {
     "data": {
      "text/plain": [
       "tuple"
      ]
     },
     "execution_count": 122,
     "metadata": {},
     "output_type": "execute_result"
    }
   ],
   "source": [
    "type(tup)"
   ]
  },
  {
   "cell_type": "code",
   "execution_count": 124,
   "id": "e70feacb",
   "metadata": {},
   "outputs": [
    {
     "data": {
      "text/plain": [
       "30"
      ]
     },
     "execution_count": 124,
     "metadata": {},
     "output_type": "execute_result"
    }
   ],
   "source": [
    "tup[0]"
   ]
  },
  {
   "cell_type": "code",
   "execution_count": 125,
   "id": "40639e8d",
   "metadata": {},
   "outputs": [
    {
     "data": {
      "text/plain": [
       "1"
      ]
     },
     "execution_count": 125,
     "metadata": {},
     "output_type": "execute_result"
    }
   ],
   "source": [
    "tup.count(31)"
   ]
  },
  {
   "cell_type": "code",
   "execution_count": 126,
   "id": "fdd28d13",
   "metadata": {},
   "outputs": [
    {
     "data": {
      "text/plain": [
       "4"
      ]
     },
     "execution_count": 126,
     "metadata": {},
     "output_type": "execute_result"
    }
   ],
   "source": [
    "tup.index(34)"
   ]
  },
  {
   "cell_type": "code",
   "execution_count": 127,
   "id": "331237cb",
   "metadata": {},
   "outputs": [],
   "source": [
    "tup=(30,35,32,33,34)"
   ]
  },
  {
   "cell_type": "code",
   "execution_count": 128,
   "id": "cb169125",
   "metadata": {},
   "outputs": [
    {
     "data": {
      "text/plain": [
       "(30, 35, 32, 33, 34)"
      ]
     },
     "execution_count": 128,
     "metadata": {},
     "output_type": "execute_result"
    }
   ],
   "source": [
    "tup"
   ]
  },
  {
   "cell_type": "markdown",
   "id": "e1d73a32",
   "metadata": {},
   "source": [
    "### Functions"
   ]
  },
  {
   "cell_type": "code",
   "execution_count": 22,
   "id": "3bd6cf9d",
   "metadata": {},
   "outputs": [],
   "source": [
    "def func(num):\n",
    "    print(num**2)"
   ]
  },
  {
   "cell_type": "code",
   "execution_count": 23,
   "id": "7a90c6bf",
   "metadata": {},
   "outputs": [
    {
     "name": "stdout",
     "output_type": "stream",
     "text": [
      "400\n"
     ]
    }
   ],
   "source": [
    "func(20)"
   ]
  },
  {
   "cell_type": "code",
   "execution_count": 29,
   "id": "2e9ade7a",
   "metadata": {},
   "outputs": [],
   "source": [
    "def even_num(n):\n",
    "    if n%2==0:\n",
    "        print('is even number')\n",
    "    else:\n",
    "        print('not a even number')"
   ]
  },
  {
   "cell_type": "code",
   "execution_count": 30,
   "id": "12f87254",
   "metadata": {},
   "outputs": [
    {
     "name": "stdout",
     "output_type": "stream",
     "text": [
      "is even number\n"
     ]
    }
   ],
   "source": [
    "even_num(12)"
   ]
  },
  {
   "cell_type": "markdown",
   "id": "ad9c5fc8",
   "metadata": {},
   "source": [
    "#### assigning output to another variable can be done by using return statement"
   ]
  },
  {
   "cell_type": "code",
   "execution_count": 31,
   "id": "fd5a6091",
   "metadata": {},
   "outputs": [],
   "source": [
    "def func(num):\n",
    "    return num**2"
   ]
  },
  {
   "cell_type": "code",
   "execution_count": 33,
   "id": "0159953e",
   "metadata": {},
   "outputs": [],
   "source": [
    "value=func(24)"
   ]
  },
  {
   "cell_type": "code",
   "execution_count": 34,
   "id": "2f4ff6a2",
   "metadata": {},
   "outputs": [
    {
     "data": {
      "text/plain": [
       "576"
      ]
     },
     "execution_count": 34,
     "metadata": {},
     "output_type": "execute_result"
    }
   ],
   "source": [
    "value"
   ]
  },
  {
   "cell_type": "code",
   "execution_count": 41,
   "id": "a0ea31b0",
   "metadata": {},
   "outputs": [],
   "source": [
    "def sum_num(n1,n2):\n",
    "    return n1+n2"
   ]
  },
  {
   "cell_type": "code",
   "execution_count": 42,
   "id": "bc2d3807",
   "metadata": {},
   "outputs": [],
   "source": [
    "val=sum_num(1,4)"
   ]
  },
  {
   "cell_type": "code",
   "execution_count": 43,
   "id": "134ae6ee",
   "metadata": {},
   "outputs": [
    {
     "data": {
      "text/plain": [
       "5"
      ]
     },
     "execution_count": 43,
     "metadata": {},
     "output_type": "execute_result"
    }
   ],
   "source": [
    "val"
   ]
  },
  {
   "cell_type": "code",
   "execution_count": 55,
   "id": "98e61374",
   "metadata": {},
   "outputs": [],
   "source": [
    "def stu_name(name,age=26):\n",
    "    print('my name is {} of age {}'.format(name,age))"
   ]
  },
  {
   "cell_type": "code",
   "execution_count": 56,
   "id": "0c747c2c",
   "metadata": {},
   "outputs": [
    {
     "name": "stdout",
     "output_type": "stream",
     "text": [
      "my name is vinay of age 26\n"
     ]
    }
   ],
   "source": [
    "stu_name('vinay')"
   ]
  },
  {
   "cell_type": "code",
   "execution_count": 58,
   "id": "6a95b784",
   "metadata": {},
   "outputs": [],
   "source": [
    "def stu_name(name='vinay',age=26):\n",
    "    print('my name is {} of age {}'.format(name,age))"
   ]
  },
  {
   "cell_type": "code",
   "execution_count": 59,
   "id": "0739182e",
   "metadata": {},
   "outputs": [
    {
     "name": "stdout",
     "output_type": "stream",
     "text": [
      "my name is vinay of age 26\n"
     ]
    }
   ],
   "source": [
    "stu_name()"
   ]
  },
  {
   "cell_type": "code",
   "execution_count": 61,
   "id": "b6ffa0a6",
   "metadata": {},
   "outputs": [],
   "source": [
    "def stu_name(name,age=26):\n",
    "    print('my name is {} of age {}'.format(name,age))"
   ]
  },
  {
   "cell_type": "code",
   "execution_count": 62,
   "id": "9344e84f",
   "metadata": {},
   "outputs": [
    {
     "ename": "TypeError",
     "evalue": "stu_name() missing 1 required positional argument: 'name'",
     "output_type": "error",
     "traceback": [
      "\u001b[0;31m---------------------------------------------------------------------------\u001b[0m",
      "\u001b[0;31mTypeError\u001b[0m                                 Traceback (most recent call last)",
      "Cell \u001b[0;32mIn[62], line 1\u001b[0m\n\u001b[0;32m----> 1\u001b[0m \u001b[43mstu_name\u001b[49m\u001b[43m(\u001b[49m\u001b[43m)\u001b[49m\n",
      "\u001b[0;31mTypeError\u001b[0m: stu_name() missing 1 required positional argument: 'name'"
     ]
    }
   ],
   "source": [
    "stu_name()"
   ]
  },
  {
   "cell_type": "markdown",
   "id": "e2d04fbd",
   "metadata": {},
   "source": [
    "parameters in function is positional argument..\n",
    "& parameter which specified by default is keyword argument "
   ]
  },
  {
   "cell_type": "code",
   "execution_count": 67,
   "id": "7c318b5f",
   "metadata": {},
   "outputs": [],
   "source": [
    "def func(*arg,**kwarg):\n",
    "    print(arg)\n",
    "    print(kwarg)"
   ]
  },
  {
   "cell_type": "code",
   "execution_count": 79,
   "id": "31aa313d",
   "metadata": {},
   "outputs": [
    {
     "name": "stdout",
     "output_type": "stream",
     "text": [
      "('vinay', 'kumar')\n",
      "{'age': 25, 'dob': 1998}\n"
     ]
    }
   ],
   "source": [
    "func('vinay','kumar',age=25,dob=1998)"
   ]
  },
  {
   "cell_type": "code",
   "execution_count": 80,
   "id": "1054b7e0",
   "metadata": {},
   "outputs": [],
   "source": [
    "tup=('vinay', 'kumar')\n",
    "dict={'age': 25, 'dob': 1998}"
   ]
  },
  {
   "cell_type": "code",
   "execution_count": 83,
   "id": "be38c80d",
   "metadata": {},
   "outputs": [
    {
     "name": "stdout",
     "output_type": "stream",
     "text": [
      "(('vinay', 'kumar'), {'age': 25, 'dob': 1998})\n",
      "{}\n"
     ]
    }
   ],
   "source": [
    "func(tup,dict)"
   ]
  },
  {
   "cell_type": "code",
   "execution_count": 84,
   "id": "f1736c98",
   "metadata": {},
   "outputs": [
    {
     "name": "stdout",
     "output_type": "stream",
     "text": [
      "('vinay', 'kumar')\n",
      "{'age': 25, 'dob': 1998}\n"
     ]
    }
   ],
   "source": [
    "func(*tup,**dict)"
   ]
  },
  {
   "cell_type": "code",
   "execution_count": 91,
   "id": "d400c036",
   "metadata": {},
   "outputs": [],
   "source": [
    "lst=[1,7,4,5,12,18,8]"
   ]
  },
  {
   "cell_type": "code",
   "execution_count": 92,
   "id": "51609544",
   "metadata": {},
   "outputs": [],
   "source": [
    "def even_odd(lst):\n",
    "    even_num=0\n",
    "    odd_num=0\n",
    "    for i in lst:\n",
    "        if i%2==0:\n",
    "            even_num+=i\n",
    "        else:\n",
    "            odd_num+=i\n",
    "    return even_num,odd_num"
   ]
  },
  {
   "cell_type": "code",
   "execution_count": 93,
   "id": "5a9018eb",
   "metadata": {},
   "outputs": [
    {
     "data": {
      "text/plain": [
       "(42, 13)"
      ]
     },
     "execution_count": 93,
     "metadata": {},
     "output_type": "execute_result"
    }
   ],
   "source": [
    "even_odd(lst)"
   ]
  },
  {
   "cell_type": "markdown",
   "id": "93d57e19",
   "metadata": {},
   "source": [
    "### Recursion- calculates backwards\n",
    "\n",
    "calling a function within a same function\n",
    "- function creation\n",
    "- function calling"
   ]
  },
  {
   "cell_type": "code",
   "execution_count": 1,
   "id": "8fd8afae",
   "metadata": {
    "collapsed": true
   },
   "outputs": [
    {
     "name": "stdout",
     "output_type": "stream",
     "text": [
      "vinay\n",
      "vinay\n",
      "vinay\n",
      "vinay\n",
      "vinay\n",
      "vinay\n",
      "vinay\n",
      "vinay\n",
      "vinay\n",
      "vinay\n",
      "vinay\n",
      "vinay\n",
      "vinay\n",
      "vinay\n",
      "vinay\n",
      "vinay\n",
      "vinay\n",
      "vinay\n",
      "vinay\n",
      "vinay\n",
      "vinay\n",
      "vinay\n",
      "vinay\n",
      "vinay\n",
      "vinay\n",
      "vinay\n",
      "vinay\n",
      "vinay\n",
      "vinay\n",
      "vinay\n",
      "vinay\n",
      "vinay\n",
      "vinay\n",
      "vinay\n",
      "vinay\n",
      "vinay\n",
      "vinay\n",
      "vinay\n",
      "vinay\n",
      "vinay\n",
      "vinay\n",
      "vinay\n",
      "vinay\n",
      "vinay\n",
      "vinay\n",
      "vinay\n",
      "vinay\n",
      "vinay\n",
      "vinay\n",
      "vinay\n",
      "vinay\n",
      "vinay\n",
      "vinay\n",
      "vinay\n",
      "vinay\n",
      "vinay\n",
      "vinay\n",
      "vinay\n",
      "vinay\n",
      "vinay\n",
      "vinay\n",
      "vinay\n",
      "vinay\n",
      "vinay\n",
      "vinay\n",
      "vinay\n",
      "vinay\n",
      "vinay\n",
      "vinay\n",
      "vinay\n",
      "vinay\n",
      "vinay\n",
      "vinay\n",
      "vinay\n",
      "vinay\n",
      "vinay\n",
      "vinay\n",
      "vinay\n",
      "vinay\n",
      "vinay\n",
      "vinay\n",
      "vinay\n",
      "vinay\n",
      "vinay\n",
      "vinay\n",
      "vinay\n",
      "vinay\n",
      "vinay\n",
      "vinay\n",
      "vinay\n",
      "vinay\n",
      "vinay\n",
      "vinay\n",
      "vinay\n",
      "vinay\n",
      "vinay\n",
      "vinay\n",
      "vinay\n",
      "vinay\n",
      "vinay\n",
      "vinay\n",
      "vinay\n",
      "vinay\n",
      "vinay\n",
      "vinay\n",
      "vinay\n",
      "vinay\n",
      "vinay\n",
      "vinay\n",
      "vinay\n",
      "vinay\n",
      "vinay\n",
      "vinay\n",
      "vinay\n",
      "vinay\n",
      "vinay\n",
      "vinay\n",
      "vinay\n",
      "vinay\n",
      "vinay\n",
      "vinay\n",
      "vinay\n",
      "vinay\n",
      "vinay\n",
      "vinay\n",
      "vinay\n",
      "vinay\n",
      "vinay\n",
      "vinay\n",
      "vinay\n",
      "vinay\n",
      "vinay\n",
      "vinay\n",
      "vinay\n",
      "vinay\n",
      "vinay\n",
      "vinay\n",
      "vinay\n",
      "vinay\n",
      "vinay\n",
      "vinay\n",
      "vinay\n",
      "vinay\n",
      "vinay\n",
      "vinay\n",
      "vinay\n",
      "vinay\n",
      "vinay\n",
      "vinay\n",
      "vinay\n",
      "vinay\n",
      "vinay\n",
      "vinay\n",
      "vinay\n",
      "vinay\n",
      "vinay\n",
      "vinay\n",
      "vinay\n",
      "vinay\n",
      "vinay\n",
      "vinay\n",
      "vinay\n",
      "vinay\n",
      "vinay\n",
      "vinay\n",
      "vinay\n",
      "vinay\n",
      "vinay\n",
      "vinay\n",
      "vinay\n",
      "vinay\n",
      "vinay\n",
      "vinay\n",
      "vinay\n",
      "vinay\n",
      "vinay\n",
      "vinay\n",
      "vinay\n",
      "vinay\n",
      "vinay\n",
      "vinay\n",
      "vinay\n",
      "vinay\n",
      "vinay\n",
      "vinay\n",
      "vinay\n",
      "vinay\n",
      "vinay\n",
      "vinay\n",
      "vinay\n",
      "vinay\n",
      "vinay\n",
      "vinay\n",
      "vinay\n",
      "vinay\n",
      "vinay\n",
      "vinay\n",
      "vinay\n",
      "vinay\n",
      "vinay\n",
      "vinay\n",
      "vinay\n",
      "vinay\n",
      "vinay\n",
      "vinay\n",
      "vinay\n",
      "vinay\n",
      "vinay\n",
      "vinay\n",
      "vinay\n",
      "vinay\n",
      "vinay\n",
      "vinay\n",
      "vinay\n",
      "vinay\n",
      "vinay\n",
      "vinay\n",
      "vinay\n",
      "vinay\n",
      "vinay\n",
      "vinay\n",
      "vinay\n",
      "vinay\n",
      "vinay\n",
      "vinay\n",
      "vinay\n",
      "vinay\n",
      "vinay\n",
      "vinay\n",
      "vinay\n",
      "vinay\n",
      "vinay\n",
      "vinay\n",
      "vinay\n",
      "vinay\n",
      "vinay\n",
      "vinay\n",
      "vinay\n",
      "vinay\n",
      "vinay\n",
      "vinay\n",
      "vinay\n",
      "vinay\n",
      "vinay\n",
      "vinay\n",
      "vinay\n",
      "vinay\n",
      "vinay\n",
      "vinay\n",
      "vinay\n",
      "vinay\n",
      "vinay\n",
      "vinay\n",
      "vinay\n",
      "vinay\n",
      "vinay\n",
      "vinay\n",
      "vinay\n",
      "vinay\n",
      "vinay\n",
      "vinay\n",
      "vinay\n",
      "vinay\n",
      "vinay\n",
      "vinay\n",
      "vinay\n",
      "vinay\n",
      "vinay\n",
      "vinay\n",
      "vinay\n",
      "vinay\n",
      "vinay\n",
      "vinay\n",
      "vinay\n",
      "vinay\n",
      "vinay\n",
      "vinay\n",
      "vinay\n",
      "vinay\n",
      "vinay\n",
      "vinay\n",
      "vinay\n",
      "vinay\n",
      "vinay\n",
      "vinay\n",
      "vinay\n",
      "vinay\n",
      "vinay\n",
      "vinay\n",
      "vinay\n",
      "vinay\n",
      "vinay\n",
      "vinay\n",
      "vinay\n",
      "vinay\n",
      "vinay\n",
      "vinay\n",
      "vinay\n",
      "vinay\n",
      "vinay\n",
      "vinay\n",
      "vinay\n",
      "vinay\n",
      "vinay\n",
      "vinay\n",
      "vinay\n",
      "vinay\n",
      "vinay\n",
      "vinay\n",
      "vinay\n",
      "vinay\n",
      "vinay\n",
      "vinay\n",
      "vinay\n",
      "vinay\n",
      "vinay\n",
      "vinay\n",
      "vinay\n",
      "vinay\n",
      "vinay\n",
      "vinay\n",
      "vinay\n",
      "vinay\n",
      "vinay\n",
      "vinay\n",
      "vinay\n",
      "vinay\n",
      "vinay\n",
      "vinay\n",
      "vinay\n",
      "vinay\n",
      "vinay\n",
      "vinay\n",
      "vinay\n",
      "vinay\n",
      "vinay\n",
      "vinay\n",
      "vinay\n",
      "vinay\n",
      "vinay\n",
      "vinay\n",
      "vinay\n",
      "vinay\n",
      "vinay\n",
      "vinay\n",
      "vinay\n",
      "vinay\n",
      "vinay\n",
      "vinay\n",
      "vinay\n",
      "vinay\n",
      "vinay\n",
      "vinay\n",
      "vinay\n",
      "vinay\n",
      "vinay\n",
      "vinay\n",
      "vinay\n",
      "vinay\n",
      "vinay\n",
      "vinay\n",
      "vinay\n",
      "vinay\n",
      "vinay\n",
      "vinay\n",
      "vinay\n",
      "vinay\n",
      "vinay\n",
      "vinay\n",
      "vinay\n",
      "vinay\n",
      "vinay\n",
      "vinay\n",
      "vinay\n",
      "vinay\n",
      "vinay\n",
      "vinay\n",
      "vinay\n",
      "vinay\n",
      "vinay\n",
      "vinay\n",
      "vinay\n",
      "vinay\n",
      "vinay\n",
      "vinay\n",
      "vinay\n",
      "vinay\n",
      "vinay\n",
      "vinay\n",
      "vinay\n",
      "vinay\n",
      "vinay\n",
      "vinay\n",
      "vinay\n",
      "vinay\n",
      "vinay\n",
      "vinay\n",
      "vinay\n",
      "vinay\n",
      "vinay\n",
      "vinay\n",
      "vinay\n",
      "vinay\n",
      "vinay\n",
      "vinay\n",
      "vinay\n",
      "vinay\n",
      "vinay\n",
      "vinay\n",
      "vinay\n",
      "vinay\n",
      "vinay\n",
      "vinay\n",
      "vinay\n",
      "vinay\n",
      "vinay\n",
      "vinay\n",
      "vinay\n",
      "vinay\n",
      "vinay\n",
      "vinay\n",
      "vinay\n",
      "vinay\n",
      "vinay\n",
      "vinay\n",
      "vinay\n",
      "vinay\n",
      "vinay\n",
      "vinay\n",
      "vinay\n",
      "vinay\n",
      "vinay\n",
      "vinay\n",
      "vinay\n",
      "vinay\n",
      "vinay\n",
      "vinay\n",
      "vinay\n",
      "vinay\n",
      "vinay\n",
      "vinay\n",
      "vinay\n",
      "vinay\n",
      "vinay\n",
      "vinay\n",
      "vinay\n",
      "vinay\n",
      "vinay\n",
      "vinay\n",
      "vinay\n",
      "vinay\n",
      "vinay\n",
      "vinay\n",
      "vinay\n",
      "vinay\n",
      "vinay\n",
      "vinay\n",
      "vinay\n",
      "vinay\n",
      "vinay\n",
      "vinay\n",
      "vinay\n",
      "vinay\n",
      "vinay\n",
      "vinay\n",
      "vinay\n",
      "vinay\n",
      "vinay\n",
      "vinay\n",
      "vinay\n",
      "vinay\n",
      "vinay\n",
      "vinay\n",
      "vinay\n",
      "vinay\n",
      "vinay\n",
      "vinay\n",
      "vinay\n",
      "vinay\n",
      "vinay\n",
      "vinay\n",
      "vinay\n",
      "vinay\n",
      "vinay\n",
      "vinay\n",
      "vinay\n",
      "vinay\n",
      "vinay\n",
      "vinay\n",
      "vinay\n",
      "vinay\n",
      "vinay\n",
      "vinay\n",
      "vinay\n",
      "vinay\n",
      "vinay\n",
      "vinay\n",
      "vinay\n",
      "vinay\n",
      "vinay\n",
      "vinay\n",
      "vinay\n",
      "vinay\n",
      "vinay\n",
      "vinay\n",
      "vinay\n",
      "vinay\n",
      "vinay\n",
      "vinay\n",
      "vinay\n",
      "vinay\n",
      "vinay\n",
      "vinay\n",
      "vinay\n",
      "vinay\n",
      "vinay\n",
      "vinay\n",
      "vinay\n",
      "vinay\n",
      "vinay\n",
      "vinay\n",
      "vinay\n",
      "vinay\n",
      "vinay\n",
      "vinay\n",
      "vinay\n",
      "vinay\n",
      "vinay\n",
      "vinay\n",
      "vinay\n",
      "vinay\n",
      "vinay\n",
      "vinay\n",
      "vinay\n",
      "vinay\n",
      "vinay\n",
      "vinay\n",
      "vinay\n",
      "vinay\n",
      "vinay\n",
      "vinay\n",
      "vinay\n",
      "vinay\n",
      "vinay\n",
      "vinay\n",
      "vinay\n",
      "vinay\n",
      "vinay\n",
      "vinay\n",
      "vinay\n",
      "vinay\n",
      "vinay\n",
      "vinay\n",
      "vinay\n",
      "vinay\n",
      "vinay\n",
      "vinay\n",
      "vinay\n",
      "vinay\n",
      "vinay\n",
      "vinay\n",
      "vinay\n",
      "vinay\n",
      "vinay\n",
      "vinay\n",
      "vinay\n",
      "vinay\n",
      "vinay\n",
      "vinay\n",
      "vinay\n",
      "vinay\n",
      "vinay\n",
      "vinay\n",
      "vinay\n",
      "vinay\n",
      "vinay\n",
      "vinay\n",
      "vinay\n",
      "vinay\n",
      "vinay\n",
      "vinay\n",
      "vinay\n",
      "vinay\n",
      "vinay\n",
      "vinay\n",
      "vinay\n",
      "vinay\n",
      "vinay\n",
      "vinay\n",
      "vinay\n",
      "vinay\n",
      "vinay\n",
      "vinay\n",
      "vinay\n",
      "vinay\n",
      "vinay\n",
      "vinay\n",
      "vinay\n",
      "vinay\n",
      "vinay\n",
      "vinay\n",
      "vinay\n",
      "vinay\n",
      "vinay\n",
      "vinay\n",
      "vinay\n",
      "vinay\n",
      "vinay\n",
      "vinay\n",
      "vinay\n",
      "vinay\n",
      "vinay\n",
      "vinay\n",
      "vinay\n",
      "vinay\n",
      "vinay\n",
      "vinay\n",
      "vinay\n",
      "vinay\n",
      "vinay\n",
      "vinay\n",
      "vinay\n",
      "vinay\n",
      "vinay\n",
      "vinay\n",
      "vinay\n",
      "vinay\n",
      "vinay\n",
      "vinay\n",
      "vinay\n",
      "vinay\n",
      "vinay\n",
      "vinay\n",
      "vinay\n",
      "vinay\n",
      "vinay\n",
      "vinay\n",
      "vinay\n",
      "vinay\n",
      "vinay\n",
      "vinay\n",
      "vinay\n",
      "vinay\n",
      "vinay\n",
      "vinay\n",
      "vinay\n",
      "vinay\n",
      "vinay\n",
      "vinay\n",
      "vinay\n",
      "vinay\n",
      "vinay\n",
      "vinay\n",
      "vinay\n",
      "vinay\n",
      "vinay\n",
      "vinay\n",
      "vinay\n",
      "vinay\n",
      "vinay\n",
      "vinay\n",
      "vinay\n",
      "vinay\n",
      "vinay\n",
      "vinay\n",
      "vinay\n",
      "vinay\n",
      "vinay\n",
      "vinay\n",
      "vinay\n",
      "vinay\n",
      "vinay\n",
      "vinay\n",
      "vinay\n",
      "vinay\n",
      "vinay\n",
      "vinay\n",
      "vinay\n",
      "vinay\n",
      "vinay\n",
      "vinay\n",
      "vinay\n",
      "vinay\n",
      "vinay\n",
      "vinay\n",
      "vinay\n",
      "vinay\n",
      "vinay\n",
      "vinay\n",
      "vinay\n",
      "vinay\n",
      "vinay\n",
      "vinay\n",
      "vinay\n",
      "vinay\n",
      "vinay\n",
      "vinay\n",
      "vinay\n",
      "vinay\n",
      "vinay\n",
      "vinay\n",
      "vinay\n",
      "vinay\n",
      "vinay\n",
      "vinay\n",
      "vinay\n",
      "vinay\n",
      "vinay\n",
      "vinay\n",
      "vinay\n",
      "vinay\n",
      "vinay\n",
      "vinay\n",
      "vinay\n",
      "vinay\n",
      "vinay\n",
      "vinay\n",
      "vinay\n",
      "vinay\n",
      "vinay\n",
      "vinay\n",
      "vinay\n",
      "vinay\n",
      "vinay\n",
      "vinay\n",
      "vinay\n",
      "vinay\n",
      "vinay\n",
      "vinay\n",
      "vinay\n",
      "vinay\n",
      "vinay\n",
      "vinay\n",
      "vinay\n",
      "vinay\n",
      "vinay\n",
      "vinay\n",
      "vinay\n",
      "vinay\n",
      "vinay\n",
      "vinay\n",
      "vinay\n",
      "vinay\n",
      "vinay\n",
      "vinay\n",
      "vinay\n",
      "vinay\n",
      "vinay\n",
      "vinay\n",
      "vinay\n",
      "vinay\n",
      "vinay\n",
      "vinay\n",
      "vinay\n",
      "vinay\n",
      "vinay\n",
      "vinay\n",
      "vinay\n",
      "vinay\n",
      "vinay\n",
      "vinay\n",
      "vinay\n",
      "vinay\n",
      "vinay\n",
      "vinay\n",
      "vinay\n",
      "vinay\n",
      "vinay\n",
      "vinay\n",
      "vinay\n",
      "vinay\n",
      "vinay\n",
      "vinay\n",
      "vinay\n",
      "vinay\n",
      "vinay\n",
      "vinay\n",
      "vinay\n",
      "vinay\n",
      "vinay\n",
      "vinay\n",
      "vinay\n",
      "vinay\n",
      "vinay\n",
      "vinay\n",
      "vinay\n",
      "vinay\n",
      "vinay\n",
      "vinay\n",
      "vinay\n",
      "vinay\n",
      "vinay\n",
      "vinay\n",
      "vinay\n",
      "vinay\n",
      "vinay\n",
      "vinay\n",
      "vinay\n",
      "vinay\n",
      "vinay\n",
      "vinay\n",
      "vinay\n",
      "vinay\n",
      "vinay\n",
      "vinay\n",
      "vinay\n",
      "vinay\n",
      "vinay\n",
      "vinay\n",
      "vinay\n",
      "vinay\n",
      "vinay\n",
      "vinay\n",
      "vinay\n",
      "vinay\n",
      "vinay\n",
      "vinay\n",
      "vinay\n",
      "vinay\n",
      "vinay\n",
      "vinay\n",
      "vinay\n",
      "vinay\n",
      "vinay\n",
      "vinay\n",
      "vinay\n",
      "vinay\n",
      "vinay\n",
      "vinay\n",
      "vinay\n",
      "vinay\n",
      "vinay\n",
      "vinay\n",
      "vinay\n",
      "vinay\n",
      "vinay\n",
      "vinay\n",
      "vinay\n",
      "vinay\n",
      "vinay\n",
      "vinay\n",
      "vinay\n",
      "vinay\n",
      "vinay\n",
      "vinay\n",
      "vinay\n",
      "vinay\n",
      "vinay\n",
      "vinay\n",
      "vinay\n",
      "vinay\n",
      "vinay\n",
      "vinay\n",
      "vinay\n",
      "vinay\n",
      "vinay\n",
      "vinay\n",
      "vinay\n",
      "vinay\n",
      "vinay\n",
      "vinay\n",
      "vinay\n",
      "vinay\n",
      "vinay\n",
      "vinay\n",
      "vinay\n",
      "vinay\n",
      "vinay\n",
      "vinay\n",
      "vinay\n",
      "vinay\n",
      "vinay\n",
      "vinay\n",
      "vinay\n",
      "vinay\n",
      "vinay\n",
      "vinay\n",
      "vinay\n",
      "vinay\n",
      "vinay\n",
      "vinay\n",
      "vinay\n",
      "vinay\n",
      "vinay\n",
      "vinay\n",
      "vinay\n",
      "vinay\n",
      "vinay\n",
      "vinay\n",
      "vinay\n",
      "vinay\n",
      "vinay\n",
      "vinay\n",
      "vinay\n",
      "vinay\n",
      "vinay\n",
      "vinay\n",
      "vinay\n",
      "vinay\n",
      "vinay\n",
      "vinay\n",
      "vinay\n",
      "vinay\n",
      "vinay\n",
      "vinay\n",
      "vinay\n",
      "vinay\n",
      "vinay\n",
      "vinay\n",
      "vinay\n",
      "vinay\n",
      "vinay\n",
      "vinay\n",
      "vinay\n",
      "vinay\n",
      "vinay\n",
      "vinay\n",
      "vinay\n",
      "vinay\n",
      "vinay\n",
      "vinay\n",
      "vinay\n",
      "vinay\n",
      "vinay\n",
      "vinay\n",
      "vinay\n",
      "vinay\n",
      "vinay\n",
      "vinay\n",
      "vinay\n",
      "vinay\n",
      "vinay\n",
      "vinay\n",
      "vinay\n",
      "vinay\n",
      "vinay\n",
      "vinay\n",
      "vinay\n",
      "vinay\n",
      "vinay\n",
      "vinay\n",
      "vinay\n",
      "vinay\n",
      "vinay\n",
      "vinay\n",
      "vinay\n",
      "vinay\n",
      "vinay\n",
      "vinay\n",
      "vinay\n",
      "vinay\n",
      "vinay\n",
      "vinay\n",
      "vinay\n",
      "vinay\n",
      "vinay\n",
      "vinay\n",
      "vinay\n",
      "vinay\n",
      "vinay\n",
      "vinay\n",
      "vinay\n",
      "vinay\n",
      "vinay\n",
      "vinay\n",
      "vinay\n",
      "vinay\n",
      "vinay\n",
      "vinay\n",
      "vinay\n",
      "vinay\n",
      "vinay\n",
      "vinay\n",
      "vinay\n",
      "vinay\n",
      "vinay\n",
      "vinay\n",
      "vinay\n",
      "vinay\n",
      "vinay\n",
      "vinay\n",
      "vinay\n",
      "vinay\n",
      "vinay\n",
      "vinay\n",
      "vinay\n",
      "vinay\n",
      "vinay\n",
      "vinay\n",
      "vinay\n",
      "vinay\n",
      "vinay\n",
      "vinay\n",
      "vinay\n",
      "vinay\n",
      "vinay\n",
      "vinay\n",
      "vinay\n",
      "vinay\n",
      "vinay\n",
      "vinay\n",
      "vinay\n",
      "vinay\n",
      "vinay\n",
      "vinay\n",
      "vinay\n",
      "vinay\n",
      "vinay\n",
      "vinay\n",
      "vinay\n",
      "vinay\n",
      "vinay\n",
      "vinay\n",
      "vinay\n",
      "vinay\n",
      "vinay\n",
      "vinay\n",
      "vinay\n",
      "vinay\n",
      "vinay\n",
      "vinay\n",
      "vinay\n",
      "vinay\n",
      "vinay\n",
      "vinay\n",
      "vinay\n",
      "vinay\n",
      "vinay\n",
      "vinay\n",
      "vinay\n",
      "vinay\n",
      "vinay\n",
      "vinay\n",
      "vinay\n",
      "vinay\n",
      "vinay\n",
      "vinay\n",
      "vinay\n",
      "vinay\n",
      "vinay\n",
      "vinay\n",
      "vinay\n",
      "vinay\n",
      "vinay\n",
      "vinay\n",
      "vinay\n",
      "vinay\n",
      "vinay\n",
      "vinay\n",
      "vinay\n",
      "vinay\n",
      "vinay\n",
      "vinay\n",
      "vinay\n",
      "vinay\n",
      "vinay\n",
      "vinay\n",
      "vinay\n",
      "vinay\n",
      "vinay\n",
      "vinay\n",
      "vinay\n",
      "vinay\n",
      "vinay\n",
      "vinay\n",
      "vinay\n",
      "vinay\n",
      "vinay\n",
      "vinay\n",
      "vinay\n",
      "vinay\n",
      "vinay\n",
      "vinay\n",
      "vinay\n",
      "vinay\n",
      "vinay\n",
      "vinay\n",
      "vinay\n",
      "vinay\n",
      "vinay\n",
      "vinay\n",
      "vinay\n",
      "vinay\n",
      "vinay\n",
      "vinay\n",
      "vinay\n",
      "vinay\n",
      "vinay\n",
      "vinay\n",
      "vinay\n",
      "vinay\n",
      "vinay\n",
      "vinay\n",
      "vinay\n",
      "vinay\n",
      "vinay\n",
      "vinay\n",
      "vinay\n",
      "vinay\n",
      "vinay\n",
      "vinay\n",
      "vinay\n",
      "vinay\n",
      "vinay\n",
      "vinay\n",
      "vinay\n",
      "vinay\n",
      "vinay\n",
      "vinay\n",
      "vinay\n",
      "vinay\n",
      "vinay\n",
      "vinay\n",
      "vinay\n",
      "vinay\n",
      "vinay\n",
      "vinay\n",
      "vinay\n",
      "vinay\n",
      "vinay\n",
      "vinay\n",
      "vinay\n",
      "vinay\n",
      "vinay\n",
      "vinay\n",
      "vinay\n",
      "vinay\n",
      "vinay\n",
      "vinay\n",
      "vinay\n",
      "vinay\n",
      "vinay\n",
      "vinay\n",
      "vinay\n",
      "vinay\n",
      "vinay\n",
      "vinay\n",
      "vinay\n",
      "vinay\n",
      "vinay\n",
      "vinay\n",
      "vinay\n",
      "vinay\n",
      "vinay\n",
      "vinay\n",
      "vinay\n",
      "vinay\n",
      "vinay\n",
      "vinay\n",
      "vinay\n",
      "vinay\n",
      "vinay\n",
      "vinay\n",
      "vinay\n",
      "vinay\n",
      "vinay\n",
      "vinay\n",
      "vinay\n",
      "vinay\n",
      "vinay\n",
      "vinay\n",
      "vinay\n",
      "vinay\n",
      "vinay\n",
      "vinay\n",
      "vinay\n",
      "vinay\n",
      "vinay\n",
      "vinay\n",
      "vinay\n",
      "vinay\n",
      "vinay\n",
      "vinay\n",
      "vinay\n",
      "vinay\n",
      "vinay\n",
      "vinay\n",
      "vinay\n",
      "vinay\n",
      "vinay\n",
      "vinay\n",
      "vinay\n",
      "vinay\n",
      "vinay\n",
      "vinay\n",
      "vinay\n",
      "vinay\n",
      "vinay\n",
      "vinay\n",
      "vinay\n",
      "vinay\n",
      "vinay\n",
      "vinay\n",
      "vinay\n",
      "vinay\n",
      "vinay\n",
      "vinay\n",
      "vinay\n",
      "vinay\n",
      "vinay\n",
      "vinay\n",
      "vinay\n",
      "vinay\n",
      "vinay\n",
      "vinay\n",
      "vinay\n",
      "vinay\n",
      "vinay\n",
      "vinay\n",
      "vinay\n",
      "vinay\n",
      "vinay\n",
      "vinay\n",
      "vinay\n",
      "vinay\n",
      "vinay\n",
      "vinay\n",
      "vinay\n",
      "vinay\n",
      "vinay\n",
      "vinay\n",
      "vinay\n",
      "vinay\n",
      "vinay\n",
      "vinay\n",
      "vinay\n",
      "vinay\n",
      "vinay\n",
      "vinay\n",
      "vinay\n",
      "vinay\n",
      "vinay\n",
      "vinay\n",
      "vinay\n",
      "vinay\n",
      "vinay\n",
      "vinay\n",
      "vinay\n",
      "vinay\n",
      "vinay\n",
      "vinay\n",
      "vinay\n",
      "vinay\n",
      "vinay\n",
      "vinay\n",
      "vinay\n",
      "vinay\n",
      "vinay\n",
      "vinay\n",
      "vinay\n",
      "vinay\n",
      "vinay\n",
      "vinay\n",
      "vinay\n",
      "vinay\n",
      "vinay\n",
      "vinay\n",
      "vinay\n",
      "vinay\n",
      "vinay\n",
      "vinay\n",
      "vinay\n",
      "vinay\n",
      "vinay\n",
      "vinay\n",
      "vinay\n",
      "vinay\n",
      "vinay\n",
      "vinay\n",
      "vinay\n",
      "vinay\n",
      "vinay\n",
      "vinay\n",
      "vinay\n",
      "vinay\n",
      "vinay\n",
      "vinay\n",
      "vinay\n",
      "vinay\n",
      "vinay\n",
      "vinay\n",
      "vinay\n",
      "vinay\n",
      "vinay\n",
      "vinay\n",
      "vinay\n",
      "vinay\n",
      "vinay\n",
      "vinay\n",
      "vinay\n",
      "vinay\n",
      "vinay\n",
      "vinay\n",
      "vinay\n",
      "vinay\n",
      "vinay\n",
      "vinay\n",
      "vinay\n",
      "vinay\n",
      "vinay\n",
      "vinay\n",
      "vinay\n",
      "vinay\n",
      "vinay\n",
      "vinay\n",
      "vinay\n",
      "vinay\n",
      "vinay\n",
      "vinay\n",
      "vinay\n",
      "vinay\n",
      "vinay\n",
      "vinay\n",
      "vinay\n",
      "vinay\n",
      "vinay\n",
      "vinay\n",
      "vinay\n",
      "vinay\n",
      "vinay\n",
      "vinay\n",
      "vinay\n",
      "vinay\n",
      "vinay\n",
      "vinay\n",
      "vinay\n",
      "vinay\n",
      "vinay\n",
      "vinay\n",
      "vinay\n",
      "vinay\n",
      "vinay\n",
      "vinay\n",
      "vinay\n",
      "vinay\n",
      "vinay\n",
      "vinay\n",
      "vinay\n",
      "vinay\n",
      "vinay\n",
      "vinay\n",
      "vinay\n",
      "vinay\n",
      "vinay\n",
      "vinay\n",
      "vinay\n",
      "vinay\n",
      "vinay\n",
      "vinay\n",
      "vinay\n",
      "vinay\n",
      "vinay\n",
      "vinay\n",
      "vinay\n",
      "vinay\n",
      "vinay\n",
      "vinay\n",
      "vinay\n",
      "vinay\n",
      "vinay\n",
      "vinay\n",
      "vinay\n",
      "vinay\n",
      "vinay\n",
      "vinay\n",
      "vinay\n",
      "vinay\n",
      "vinay\n",
      "vinay\n",
      "vinay\n",
      "vinay\n",
      "vinay\n",
      "vinay\n",
      "vinay\n",
      "vinay\n",
      "vinay\n",
      "vinay\n",
      "vinay\n",
      "vinay\n",
      "vinay\n",
      "vinay\n",
      "vinay\n",
      "vinay\n",
      "vinay\n",
      "vinay\n",
      "vinay\n",
      "vinay\n",
      "vinay\n",
      "vinay\n",
      "vinay\n",
      "vinay\n",
      "vinay\n",
      "vinay\n",
      "vinay\n",
      "vinay\n",
      "vinay\n",
      "vinay\n",
      "vinay\n",
      "vinay\n",
      "vinay\n",
      "vinay\n",
      "vinay\n",
      "vinay\n",
      "vinay\n",
      "vinay\n",
      "vinay\n",
      "vinay\n",
      "vinay\n",
      "vinay\n",
      "vinay\n",
      "vinay\n",
      "vinay\n",
      "vinay\n",
      "vinay\n",
      "vinay\n",
      "vinay\n",
      "vinay\n",
      "vinay\n",
      "vinay\n",
      "vinay\n",
      "vinay\n",
      "vinay\n",
      "vinay\n",
      "vinay\n",
      "vinay\n",
      "vinay\n",
      "vinay\n",
      "vinay\n",
      "vinay\n",
      "vinay\n",
      "vinay\n",
      "vinay\n",
      "vinay\n",
      "vinay\n",
      "vinay\n",
      "vinay\n",
      "vinay\n",
      "vinay\n",
      "vinay\n",
      "vinay\n",
      "vinay\n",
      "vinay\n",
      "vinay\n",
      "vinay\n",
      "vinay\n",
      "vinay\n",
      "vinay\n",
      "vinay\n",
      "vinay\n",
      "vinay\n",
      "vinay\n",
      "vinay\n",
      "vinay\n",
      "vinay\n",
      "vinay\n",
      "vinay\n",
      "vinay\n",
      "vinay\n",
      "vinay\n",
      "vinay\n",
      "vinay\n",
      "vinay\n",
      "vinay\n",
      "vinay\n",
      "vinay\n",
      "vinay\n",
      "vinay\n",
      "vinay\n",
      "vinay\n",
      "vinay\n",
      "vinay\n",
      "vinay\n",
      "vinay\n",
      "vinay\n",
      "vinay\n",
      "vinay\n",
      "vinay\n",
      "vinay\n",
      "vinay\n",
      "vinay\n",
      "vinay\n",
      "vinay\n",
      "vinay\n",
      "vinay\n",
      "vinay\n",
      "vinay\n",
      "vinay\n",
      "vinay\n",
      "vinay\n",
      "vinay\n",
      "vinay\n",
      "vinay\n",
      "vinay\n",
      "vinay\n",
      "vinay\n",
      "vinay\n",
      "vinay\n",
      "vinay\n",
      "vinay\n",
      "vinay\n",
      "vinay\n",
      "vinay\n",
      "vinay\n",
      "vinay\n",
      "vinay\n",
      "vinay\n",
      "vinay\n",
      "vinay\n",
      "vinay\n",
      "vinay\n",
      "vinay\n",
      "vinay\n",
      "vinay\n",
      "vinay\n",
      "vinay\n",
      "vinay\n",
      "vinay\n",
      "vinay\n",
      "vinay\n",
      "vinay\n",
      "vinay\n",
      "vinay\n",
      "vinay\n",
      "vinay\n",
      "vinay\n",
      "vinay\n",
      "vinay\n",
      "vinay\n",
      "vinay\n",
      "vinay\n",
      "vinay\n",
      "vinay\n",
      "vinay\n",
      "vinay\n",
      "vinay\n",
      "vinay\n",
      "vinay\n",
      "vinay\n",
      "vinay\n",
      "vinay\n",
      "vinay\n",
      "vinay\n",
      "vinay\n",
      "vinay\n",
      "vinay\n",
      "vinay\n",
      "vinay\n",
      "vinay\n",
      "vinay\n",
      "vinay\n",
      "vinay\n",
      "vinay\n",
      "vinay\n",
      "vinay\n",
      "vinay\n",
      "vinay\n",
      "vinay\n",
      "vinay\n",
      "vinay\n",
      "vinay\n",
      "vinay\n",
      "vinay\n",
      "vinay\n",
      "vinay\n",
      "vinay\n",
      "vinay\n",
      "vinay\n",
      "vinay\n",
      "vinay\n",
      "vinay\n",
      "vinay\n",
      "vinay\n",
      "vinay\n",
      "vinay\n",
      "vinay\n",
      "vinay\n",
      "vinay\n",
      "vinay\n",
      "vinay\n",
      "vinay\n",
      "vinay\n",
      "vinay\n",
      "vinay\n",
      "vinay\n",
      "vinay\n",
      "vinay\n",
      "vinay\n",
      "vinay\n",
      "vinay\n",
      "vinay\n",
      "vinay\n",
      "vinay\n",
      "vinay\n",
      "vinay\n",
      "vinay\n",
      "vinay\n",
      "vinay\n",
      "vinay\n",
      "vinay\n",
      "vinay\n",
      "vinay\n",
      "vinay\n",
      "vinay\n",
      "vinay\n",
      "vinay\n",
      "vinay\n",
      "vinay\n",
      "vinay\n",
      "vinay\n",
      "vinay\n",
      "vinay\n",
      "vinay\n",
      "vinay\n",
      "vinay\n",
      "vinay\n",
      "vinay\n",
      "vinay\n",
      "vinay\n",
      "vinay\n",
      "vinay\n",
      "vinay\n",
      "vinay\n",
      "vinay\n",
      "vinay\n",
      "vinay\n",
      "vinay\n",
      "vinay\n",
      "vinay\n",
      "vinay\n",
      "vinay\n",
      "vinay\n",
      "vinay\n",
      "vinay\n",
      "vinay\n",
      "vinay\n",
      "vinay\n",
      "vinay\n",
      "vinay\n",
      "vinay\n",
      "vinay\n",
      "vinay\n",
      "vinay\n",
      "vinay\n",
      "vinay\n",
      "vinay\n",
      "vinay\n",
      "vinay\n",
      "vinay\n",
      "vinay\n",
      "vinay\n",
      "vinay\n",
      "vinay\n",
      "vinay\n",
      "vinay\n",
      "vinay\n",
      "vinay\n",
      "vinay\n",
      "vinay\n",
      "vinay\n",
      "vinay\n",
      "vinay\n",
      "vinay\n",
      "vinay\n",
      "vinay\n",
      "vinay\n",
      "vinay\n",
      "vinay\n",
      "vinay\n",
      "vinay\n",
      "vinay\n",
      "vinay\n",
      "vinay\n",
      "vinay\n",
      "vinay\n",
      "vinay\n",
      "vinay\n",
      "vinay\n",
      "vinay\n",
      "vinay\n",
      "vinay\n",
      "vinay\n",
      "vinay\n",
      "vinay\n",
      "vinay\n",
      "vinay\n",
      "vinay\n",
      "vinay\n",
      "vinay\n",
      "vinay\n",
      "vinay\n",
      "vinay\n",
      "vinay\n",
      "vinay\n",
      "vinay\n",
      "vinay\n",
      "vinay\n",
      "vinay\n",
      "vinay\n",
      "vinay\n",
      "vinay\n",
      "vinay\n",
      "vinay\n",
      "vinay\n",
      "vinay\n",
      "vinay\n",
      "vinay\n",
      "vinay\n",
      "vinay\n",
      "vinay\n",
      "vinay\n",
      "vinay\n",
      "vinay\n",
      "vinay\n",
      "vinay\n",
      "vinay\n",
      "vinay\n",
      "vinay\n",
      "vinay\n",
      "vinay\n",
      "vinay\n",
      "vinay\n",
      "vinay\n",
      "vinay\n",
      "vinay\n",
      "vinay\n",
      "vinay\n",
      "vinay\n",
      "vinay\n",
      "vinay\n",
      "vinay\n",
      "vinay\n",
      "vinay\n",
      "vinay\n",
      "vinay\n",
      "vinay\n",
      "vinay\n",
      "vinay\n",
      "vinay\n",
      "vinay\n",
      "vinay\n",
      "vinay\n",
      "vinay\n",
      "vinay\n",
      "vinay\n",
      "vinay\n",
      "vinay\n",
      "vinay\n",
      "vinay\n",
      "vinay\n",
      "vinay\n",
      "vinay\n",
      "vinay\n",
      "vinay\n",
      "vinay\n",
      "vinay\n",
      "vinay\n",
      "vinay\n",
      "vinay\n",
      "vinay\n",
      "vinay\n",
      "vinay\n",
      "vinay\n",
      "vinay\n",
      "vinay\n",
      "vinay\n",
      "vinay\n",
      "vinay\n",
      "vinay\n",
      "vinay\n",
      "vinay\n",
      "vinay\n",
      "vinay\n",
      "vinay\n",
      "vinay\n",
      "vinay\n",
      "vinay\n",
      "vinay\n",
      "vinay\n",
      "vinay\n",
      "vinay\n",
      "vinay\n",
      "vinay\n",
      "vinay\n",
      "vinay\n",
      "vinay\n",
      "vinay\n",
      "vinay\n",
      "vinay\n",
      "vinay\n",
      "vinay\n",
      "vinay\n",
      "vinay\n",
      "vinay\n",
      "vinay\n",
      "vinay\n",
      "vinay\n",
      "vinay\n",
      "vinay\n",
      "vinay\n",
      "vinay\n",
      "vinay\n",
      "vinay\n",
      "vinay\n",
      "vinay\n",
      "vinay\n",
      "vinay\n",
      "vinay\n",
      "vinay\n",
      "vinay\n",
      "vinay\n",
      "vinay\n",
      "vinay\n",
      "vinay\n",
      "vinay\n",
      "vinay\n",
      "vinay\n",
      "vinay\n",
      "vinay\n",
      "vinay\n",
      "vinay\n",
      "vinay\n",
      "vinay\n",
      "vinay\n",
      "vinay\n",
      "vinay\n",
      "vinay\n",
      "vinay\n",
      "vinay\n",
      "vinay\n",
      "vinay\n",
      "vinay\n",
      "vinay\n",
      "vinay\n",
      "vinay\n",
      "vinay\n",
      "vinay\n",
      "vinay\n",
      "vinay\n",
      "vinay\n",
      "vinay\n",
      "vinay\n",
      "vinay\n",
      "vinay\n",
      "vinay\n",
      "vinay\n",
      "vinay\n",
      "vinay\n",
      "vinay\n",
      "vinay\n",
      "vinay\n",
      "vinay\n",
      "vinay\n",
      "vinay\n",
      "vinay\n",
      "vinay\n",
      "vinay\n",
      "vinay\n",
      "vinay\n",
      "vinay\n",
      "vinay\n",
      "vinay\n",
      "vinay\n",
      "vinay\n",
      "vinay\n",
      "vinay\n",
      "vinay\n",
      "vinay\n",
      "vinay\n",
      "vinay\n",
      "vinay\n",
      "vinay\n",
      "vinay\n",
      "vinay\n",
      "vinay\n",
      "vinay\n",
      "vinay\n",
      "vinay\n",
      "vinay\n",
      "vinay\n",
      "vinay\n",
      "vinay\n",
      "vinay\n",
      "vinay\n",
      "vinay\n",
      "vinay\n",
      "vinay\n",
      "vinay\n",
      "vinay\n",
      "vinay\n",
      "vinay\n",
      "vinay\n",
      "vinay\n",
      "vinay\n",
      "vinay\n",
      "vinay\n",
      "vinay\n",
      "vinay\n",
      "vinay\n",
      "vinay\n",
      "vinay\n",
      "vinay\n",
      "vinay\n",
      "vinay\n",
      "vinay\n",
      "vinay\n",
      "vinay\n",
      "vinay\n",
      "vinay\n",
      "vinay\n",
      "vinay\n",
      "vinay\n",
      "vinay\n",
      "vinay\n",
      "vinay\n",
      "vinay\n",
      "vinay\n",
      "vinay\n",
      "vinay\n",
      "vinay\n",
      "vinay\n",
      "vinay\n",
      "vinay\n",
      "vinay\n",
      "vinay\n",
      "vinay\n",
      "vinay\n",
      "vinay\n",
      "vinay\n",
      "vinay\n",
      "vinay\n",
      "vinay\n",
      "vinay\n",
      "vinay\n",
      "vinay\n",
      "vinay\n",
      "vinay\n",
      "vinay\n",
      "vinay\n",
      "vinay\n",
      "vinay\n",
      "vinay\n",
      "vinay\n",
      "vinay\n",
      "vinay\n",
      "vinay\n",
      "vinay\n",
      "vinay\n",
      "vinay\n",
      "vinay\n",
      "vinay\n",
      "vinay\n",
      "vinay\n",
      "vinay\n",
      "vinay\n",
      "vinay\n",
      "vinay\n",
      "vinay\n",
      "vinay\n",
      "vinay\n",
      "vinay\n",
      "vinay\n",
      "vinay\n",
      "vinay\n",
      "vinay\n",
      "vinay\n",
      "vinay\n",
      "vinay\n",
      "vinay\n",
      "vinay\n",
      "vinay\n",
      "vinay\n",
      "vinay\n",
      "vinay\n",
      "vinay\n",
      "vinay\n",
      "vinay\n",
      "vinay\n",
      "vinay\n",
      "vinay\n",
      "vinay\n",
      "vinay\n",
      "vinay\n",
      "vinay\n",
      "vinay\n",
      "vinay\n",
      "vinay\n",
      "vinay\n",
      "vinay\n",
      "vinay\n",
      "vinay\n",
      "vinay\n",
      "vinay\n",
      "vinay\n",
      "vinay\n",
      "vinay\n",
      "vinay\n",
      "vinay\n",
      "vinay\n",
      "vinay\n",
      "vinay\n",
      "vinay\n",
      "vinay\n",
      "vinay\n",
      "vinay\n",
      "vinay\n",
      "vinay\n",
      "vinay\n",
      "vinay\n",
      "vinay\n",
      "vinay\n",
      "vinay\n",
      "vinay\n",
      "vinay\n",
      "vinay\n",
      "vinay\n",
      "vinay\n",
      "vinay\n",
      "vinay\n",
      "vinay\n",
      "vinay\n",
      "vinay\n",
      "vinay\n",
      "vinay\n",
      "vinay\n",
      "vinay\n",
      "vinay\n",
      "vinay\n",
      "vinay\n",
      "vinay\n",
      "vinay\n",
      "vinay\n",
      "vinay\n",
      "vinay\n",
      "vinay\n",
      "vinay\n",
      "vinay\n",
      "vinay\n",
      "vinay\n",
      "vinay\n",
      "vinay\n",
      "vinay\n",
      "vinay\n",
      "vinay\n",
      "vinay\n",
      "vinay\n",
      "vinay\n",
      "vinay\n",
      "vinay\n",
      "vinay\n",
      "vinay\n",
      "vinay\n",
      "vinay\n",
      "vinay\n",
      "vinay\n",
      "vinay\n",
      "vinay\n",
      "vinay\n",
      "vinay\n",
      "vinay\n",
      "vinay\n",
      "vinay\n",
      "vinay\n",
      "vinay\n",
      "vinay\n",
      "vinay\n",
      "vinay\n",
      "vinay\n",
      "vinay\n",
      "vinay\n",
      "vinay\n",
      "vinay\n",
      "vinay\n",
      "vinay\n",
      "vinay\n",
      "vinay\n",
      "vinay\n",
      "vinay\n",
      "vinay\n",
      "vinay\n",
      "vinay\n",
      "vinay\n",
      "vinay\n",
      "vinay\n",
      "vinay\n",
      "vinay\n",
      "vinay\n",
      "vinay\n",
      "vinay\n",
      "vinay\n",
      "vinay\n",
      "vinay\n",
      "vinay\n",
      "vinay\n",
      "vinay\n",
      "vinay\n",
      "vinay\n",
      "vinay\n",
      "vinay\n",
      "vinay\n",
      "vinay\n",
      "vinay\n",
      "vinay\n",
      "vinay\n",
      "vinay\n",
      "vinay\n",
      "vinay\n",
      "vinay\n",
      "vinay\n",
      "vinay\n",
      "vinay\n",
      "vinay\n",
      "vinay\n",
      "vinay\n",
      "vinay\n",
      "vinay\n",
      "vinay\n",
      "vinay\n",
      "vinay\n",
      "vinay\n",
      "vinay\n",
      "vinay\n",
      "vinay\n",
      "vinay\n",
      "vinay\n",
      "vinay\n",
      "vinay\n",
      "vinay\n",
      "vinay\n",
      "vinay\n",
      "vinay\n",
      "vinay\n",
      "vinay\n",
      "vinay\n",
      "vinay\n",
      "vinay\n",
      "vinay\n",
      "vinay\n",
      "vinay\n",
      "vinay\n",
      "vinay\n",
      "vinay\n",
      "vinay\n",
      "vinay\n",
      "vinay\n",
      "vinay\n",
      "vinay\n",
      "vinay\n",
      "vinay\n",
      "vinay\n",
      "vinay\n",
      "vinay\n",
      "vinay\n",
      "vinay\n",
      "vinay\n",
      "vinay\n",
      "vinay\n",
      "vinay\n",
      "vinay\n",
      "vinay\n",
      "vinay\n",
      "vinay\n",
      "vinay\n",
      "vinay\n",
      "vinay\n",
      "vinay\n",
      "vinay\n",
      "vinay\n",
      "vinay\n",
      "vinay\n",
      "vinay\n",
      "vinay\n",
      "vinay\n",
      "vinay\n",
      "vinay\n",
      "vinay\n",
      "vinay\n",
      "vinay\n",
      "vinay\n",
      "vinay\n",
      "vinay\n",
      "vinay\n",
      "vinay\n",
      "vinay\n",
      "vinay\n",
      "vinay\n",
      "vinay\n",
      "vinay\n",
      "vinay\n",
      "vinay\n",
      "vinay\n",
      "vinay\n",
      "vinay\n",
      "vinay\n",
      "vinay\n",
      "vinay\n",
      "vinay\n",
      "vinay\n",
      "vinay\n",
      "vinay\n",
      "vinay\n",
      "vinay\n",
      "vinay\n",
      "vinay\n",
      "vinay\n",
      "vinay\n",
      "vinay\n",
      "vinay\n",
      "vinay\n",
      "vinay\n",
      "vinay\n",
      "vinay\n",
      "vinay\n",
      "vinay\n",
      "vinay\n",
      "vinay\n",
      "vinay\n",
      "vinay\n",
      "vinay\n",
      "vinay\n",
      "vinay\n",
      "vinay\n",
      "vinay\n",
      "vinay\n",
      "vinay\n",
      "vinay\n",
      "vinay\n",
      "vinay\n",
      "vinay\n",
      "vinay\n",
      "vinay\n",
      "vinay\n",
      "vinay\n",
      "vinay\n",
      "vinay\n",
      "vinay\n",
      "vinay\n",
      "vinay\n",
      "vinay\n",
      "vinay\n",
      "vinay\n",
      "vinay\n",
      "vinay\n",
      "vinay\n",
      "vinay\n",
      "vinay\n",
      "vinay\n",
      "vinay\n",
      "vinay\n",
      "vinay\n",
      "vinay\n",
      "vinay\n",
      "vinay\n",
      "vinay\n",
      "vinay\n",
      "vinay\n",
      "vinay\n",
      "vinay\n",
      "vinay\n",
      "vinay\n",
      "vinay\n",
      "vinay\n",
      "vinay\n",
      "vinay\n",
      "vinay\n",
      "vinay\n",
      "vinay\n",
      "vinay\n",
      "vinay\n",
      "vinay\n",
      "vinay\n",
      "vinay\n",
      "vinay\n",
      "vinay\n",
      "vinay\n",
      "vinay\n",
      "vinay\n",
      "vinay\n",
      "vinay\n",
      "vinay\n",
      "vinay\n",
      "vinay\n",
      "vinay\n",
      "vinay\n",
      "vinay\n",
      "vinay\n",
      "vinay\n",
      "vinay\n",
      "vinay\n",
      "vinay\n",
      "vinay\n",
      "vinay\n",
      "vinay\n",
      "vinay\n",
      "vinay\n",
      "vinay\n",
      "vinay\n",
      "vinay\n",
      "vinay\n",
      "vinay\n",
      "vinay\n",
      "vinay\n",
      "vinay\n",
      "vinay\n",
      "vinay\n",
      "vinay\n",
      "vinay\n",
      "vinay\n",
      "vinay\n",
      "vinay\n",
      "vinay\n",
      "vinay\n",
      "vinay\n",
      "vinay\n",
      "vinay\n",
      "vinay\n",
      "vinay\n",
      "vinay\n",
      "vinay\n",
      "vinay\n",
      "vinay\n",
      "vinay\n",
      "vinay\n",
      "vinay\n",
      "vinay\n",
      "vinay\n",
      "vinay\n",
      "vinay\n",
      "vinay\n",
      "vinay\n",
      "vinay\n",
      "vinay\n",
      "vinay\n",
      "vinay\n",
      "vinay\n",
      "vinay\n",
      "vinay\n",
      "vinay\n",
      "vinay\n",
      "vinay\n",
      "vinay\n",
      "vinay\n",
      "vinay\n",
      "vinay\n",
      "vinay\n",
      "vinay\n",
      "vinay\n",
      "vinay\n",
      "vinay\n",
      "vinay\n",
      "vinay\n",
      "vinay\n",
      "vinay\n",
      "vinay\n",
      "vinay\n",
      "vinay\n",
      "vinay\n",
      "vinay\n",
      "vinay\n",
      "vinay\n",
      "vinay\n",
      "vinay\n",
      "vinay\n",
      "vinay\n",
      "vinay\n",
      "vinay\n",
      "vinay\n",
      "vinay\n",
      "vinay\n",
      "vinay\n",
      "vinay\n",
      "vinay\n",
      "vinay\n",
      "vinay\n",
      "vinay\n",
      "vinay\n",
      "vinay\n",
      "vinay\n",
      "vinay\n",
      "vinay\n",
      "vinay\n",
      "vinay\n",
      "vinay\n",
      "vinay\n",
      "vinay\n",
      "vinay\n",
      "vinay\n",
      "vinay\n",
      "vinay\n",
      "vinay\n",
      "vinay\n",
      "vinay\n",
      "vinay\n",
      "vinay\n",
      "vinay\n",
      "vinay\n",
      "vinay\n",
      "vinay\n",
      "vinay\n",
      "vinay\n",
      "vinay\n",
      "vinay\n",
      "vinay\n",
      "vinay\n",
      "vinay\n",
      "vinay\n",
      "vinay\n",
      "vinay\n",
      "vinay\n",
      "vinay\n",
      "vinay\n",
      "vinay\n",
      "vinay\n",
      "vinay\n",
      "vinay\n",
      "vinay\n",
      "vinay\n",
      "vinay\n",
      "vinay\n",
      "vinay\n",
      "vinay\n",
      "vinay\n",
      "vinay\n",
      "vinay\n",
      "vinay\n",
      "vinay\n",
      "vinay\n",
      "vinay\n",
      "vinay\n",
      "vinay\n",
      "vinay\n",
      "vinay\n",
      "vinay\n",
      "vinay\n",
      "vinay\n",
      "vinay\n",
      "vinay\n",
      "vinay\n",
      "vinay\n",
      "vinay\n",
      "vinay\n",
      "vinay\n",
      "vinay\n",
      "vinay\n",
      "vinay\n",
      "vinay\n",
      "vinay\n",
      "vinay\n",
      "vinay\n",
      "vinay\n",
      "vinay\n",
      "vinay\n",
      "vinay\n",
      "vinay\n",
      "vinay\n",
      "vinay\n",
      "vinay\n",
      "vinay\n",
      "vinay\n",
      "vinay\n",
      "vinay\n",
      "vinay\n",
      "vinay\n",
      "vinay\n",
      "vinay\n",
      "vinay\n",
      "vinay\n",
      "vinay\n",
      "vinay\n",
      "vinay\n",
      "vinay\n",
      "vinay\n",
      "vinay\n",
      "vinay\n",
      "vinay\n",
      "vinay\n",
      "vinay\n",
      "vinay\n",
      "vinay\n",
      "vinay\n",
      "vinay\n",
      "vinay\n",
      "vinay\n",
      "vinay\n",
      "vinay\n",
      "vinay\n",
      "vinay\n",
      "vinay\n",
      "vinay\n",
      "vinay\n",
      "vinay\n",
      "vinay\n",
      "vinay\n",
      "vinay\n",
      "vinay\n",
      "vinay\n",
      "vinay\n",
      "vinay\n",
      "vinay\n",
      "vinay\n",
      "vinay\n",
      "vinay\n",
      "vinay\n",
      "vinay\n",
      "vinay\n",
      "vinay\n",
      "vinay\n",
      "vinay\n",
      "vinay\n",
      "vinay\n",
      "vinay\n",
      "vinay\n",
      "vinay\n",
      "vinay\n",
      "vinay\n",
      "vinay\n",
      "vinay\n",
      "vinay\n",
      "vinay\n",
      "vinay\n",
      "vinay\n",
      "vinay\n",
      "vinay\n",
      "vinay\n",
      "vinay\n",
      "vinay\n",
      "vinay\n",
      "vinay\n",
      "vinay\n",
      "vinay\n",
      "vinay\n",
      "vinay\n",
      "vinay\n",
      "vinay\n",
      "vinay\n",
      "vinay\n",
      "vinay\n",
      "vinay\n",
      "vinay\n",
      "vinay\n",
      "vinay\n",
      "vinay\n",
      "vinay\n",
      "vinay\n",
      "vinay\n",
      "vinay\n",
      "vinay\n",
      "vinay\n",
      "vinay\n",
      "vinay\n",
      "vinay\n",
      "vinay\n",
      "vinay\n",
      "vinay\n",
      "vinay\n",
      "vinay\n",
      "vinay\n",
      "vinay\n",
      "vinay\n",
      "vinay\n",
      "vinay\n",
      "vinay\n",
      "vinay\n",
      "vinay\n",
      "vinay\n",
      "vinay\n",
      "vinay\n",
      "vinay\n",
      "vinay\n",
      "vinay\n",
      "vinay\n",
      "vinay\n",
      "vinay\n",
      "vinay\n",
      "vinay\n",
      "vinay\n",
      "vinay\n",
      "vinay\n",
      "vinay\n",
      "vinay\n",
      "vinay\n",
      "vinay\n",
      "vinay\n",
      "vinay\n",
      "vinay\n",
      "vinay\n",
      "vinay\n",
      "vinay\n",
      "vinay\n",
      "vinay\n",
      "vinay\n",
      "vinay\n",
      "vinay\n",
      "vinay\n",
      "vinay\n",
      "vinay\n",
      "vinay\n",
      "vinay\n",
      "vinay\n",
      "vinay\n",
      "vinay\n",
      "vinay\n",
      "vinay\n",
      "vinay\n",
      "vinay\n",
      "vinay\n",
      "vinay\n",
      "vinay\n",
      "vinay\n",
      "vinay\n",
      "vinay\n",
      "vinay\n",
      "vinay\n",
      "vinay\n",
      "vinay\n",
      "vinay\n",
      "vinay\n",
      "vinay\n",
      "vinay\n",
      "vinay\n",
      "vinay\n",
      "vinay\n",
      "vinay\n",
      "vinay\n",
      "vinay\n",
      "vinay\n",
      "vinay\n",
      "vinay\n",
      "vinay\n",
      "vinay\n",
      "vinay\n",
      "vinay\n",
      "vinay\n",
      "vinay\n",
      "vinay\n",
      "vinay\n",
      "vinay\n",
      "vinay\n",
      "vinay\n",
      "vinay\n",
      "vinay\n",
      "vinay\n",
      "vinay\n",
      "vinay\n",
      "vinay\n",
      "vinay\n",
      "vinay\n",
      "vinay\n",
      "vinay\n",
      "vinay\n",
      "vinay\n",
      "vinay\n",
      "vinay\n",
      "vinay\n",
      "vinay\n",
      "vinay\n",
      "vinay\n",
      "vinay\n",
      "vinay\n",
      "vinay\n",
      "vinay\n",
      "vinay\n",
      "vinay\n",
      "vinay\n",
      "vinay\n",
      "vinay\n",
      "vinay\n",
      "vinay\n",
      "vinay\n",
      "vinay\n",
      "vinay\n",
      "vinay\n",
      "vinay\n",
      "vinay\n",
      "vinay\n",
      "vinay\n",
      "vinay\n",
      "vinay\n",
      "vinay\n",
      "vinay\n",
      "vinay\n",
      "vinay\n",
      "vinay\n",
      "vinay\n",
      "vinay\n",
      "vinay\n",
      "vinay\n",
      "vinay\n",
      "vinay\n",
      "vinay\n",
      "vinay\n",
      "vinay\n",
      "vinay\n",
      "vinay\n",
      "vinay\n",
      "vinay\n",
      "vinay\n",
      "vinay\n",
      "vinay\n",
      "vinay\n",
      "vinay\n",
      "vinay\n",
      "vinay\n",
      "vinay\n",
      "vinay\n",
      "vinay\n",
      "vinay\n",
      "vinay\n",
      "vinay\n",
      "vinay\n",
      "vinay\n",
      "vinay\n",
      "vinay\n",
      "vinay\n",
      "vinay\n",
      "vinay\n",
      "vinay\n",
      "vinay\n",
      "vinay\n",
      "vinay\n",
      "vinay\n",
      "vinay\n",
      "vinay\n",
      "vinay\n",
      "vinay\n",
      "vinay\n",
      "vinay\n",
      "vinay\n",
      "vinay\n",
      "vinay\n",
      "vinay\n",
      "vinay\n",
      "vinay\n",
      "vinay\n",
      "vinay\n",
      "vinay\n",
      "vinay\n",
      "vinay\n",
      "vinay\n",
      "vinay\n",
      "vinay\n",
      "vinay\n",
      "vinay\n",
      "vinay\n",
      "vinay\n",
      "vinay\n",
      "vinay\n",
      "vinay\n",
      "vinay\n",
      "vinay\n",
      "vinay\n",
      "vinay\n",
      "vinay\n",
      "vinay\n",
      "vinay\n",
      "vinay\n",
      "vinay\n",
      "vinay\n",
      "vinay\n",
      "vinay\n",
      "vinay\n",
      "vinay\n",
      "vinay\n",
      "vinay\n",
      "vinay\n",
      "vinay\n",
      "vinay\n",
      "vinay\n",
      "vinay\n",
      "vinay\n",
      "vinay\n",
      "vinay\n",
      "vinay\n",
      "vinay\n",
      "vinay\n",
      "vinay\n",
      "vinay\n",
      "vinay\n",
      "vinay\n",
      "vinay\n",
      "vinay\n",
      "vinay\n",
      "vinay\n",
      "vinay\n",
      "vinay\n",
      "vinay\n",
      "vinay\n",
      "vinay\n",
      "vinay\n",
      "vinay\n",
      "vinay\n",
      "vinay\n",
      "vinay\n",
      "vinay\n",
      "vinay\n",
      "vinay\n",
      "vinay\n",
      "vinay\n",
      "vinay\n",
      "vinay\n",
      "vinay\n",
      "vinay\n",
      "vinay\n",
      "vinay\n",
      "vinay\n",
      "vinay\n",
      "vinay\n",
      "vinay\n",
      "vinay\n",
      "vinay\n",
      "vinay\n",
      "vinay\n",
      "vinay\n",
      "vinay\n",
      "vinay\n",
      "vinay\n",
      "vinay\n",
      "vinay\n",
      "vinay\n",
      "vinay\n",
      "vinay\n",
      "vinay\n",
      "vinay\n",
      "vinay\n",
      "vinay\n",
      "vinay\n",
      "vinay\n",
      "vinay\n",
      "vinay\n",
      "vinay\n",
      "vinay\n",
      "vinay\n",
      "vinay\n",
      "vinay\n",
      "vinay\n",
      "vinay\n",
      "vinay\n",
      "vinay\n",
      "vinay\n",
      "vinay\n",
      "vinay\n",
      "vinay\n",
      "vinay\n",
      "vinay\n",
      "vinay\n",
      "vinay\n",
      "vinay\n",
      "vinay\n",
      "vinay\n",
      "vinay\n",
      "vinay\n",
      "vinay\n",
      "vinay\n",
      "vinay\n",
      "vinay\n",
      "vinay\n",
      "vinay\n",
      "vinay\n",
      "vinay\n",
      "vinay\n",
      "vinay\n",
      "vinay\n",
      "vinay\n",
      "vinay\n",
      "vinay\n",
      "vinay\n",
      "vinay\n",
      "vinay\n",
      "vinay\n",
      "vinay\n",
      "vinay\n",
      "vinay\n",
      "vinay\n",
      "vinay\n",
      "vinay\n",
      "vinay\n",
      "vinay\n",
      "vinay\n",
      "vinay\n",
      "vinay\n",
      "vinay\n",
      "vinay\n",
      "vinay\n",
      "vinay\n",
      "vinay\n",
      "vinay\n",
      "vinay\n",
      "vinay\n",
      "vinay\n",
      "vinay\n",
      "vinay\n",
      "vinay\n",
      "vinay\n",
      "vinay\n",
      "vinay\n",
      "vinay\n",
      "vinay\n",
      "vinay\n",
      "vinay\n",
      "vinay\n",
      "vinay\n",
      "vinay\n",
      "vinay\n",
      "vinay\n",
      "vinay\n",
      "vinay\n",
      "vinay\n",
      "vinay\n",
      "vinay\n",
      "vinay\n",
      "vinay\n",
      "vinay\n",
      "vinay\n",
      "vinay\n",
      "vinay\n",
      "vinay\n",
      "vinay\n",
      "vinay\n",
      "vinay\n",
      "vinay\n",
      "vinay\n",
      "vinay\n",
      "vinay\n",
      "vinay\n",
      "vinay\n",
      "vinay\n",
      "vinay\n",
      "vinay\n",
      "vinay\n",
      "vinay\n",
      "vinay\n",
      "vinay\n",
      "vinay\n",
      "vinay\n",
      "vinay\n",
      "vinay\n",
      "vinay\n",
      "vinay\n",
      "vinay\n",
      "vinay\n",
      "vinay\n",
      "vinay\n",
      "vinay\n",
      "vinay\n",
      "vinay\n",
      "vinay\n",
      "vinay\n",
      "vinay\n",
      "vinay\n",
      "vinay\n",
      "vinay\n",
      "vinay\n",
      "vinay\n",
      "vinay\n",
      "vinay\n",
      "vinay\n",
      "vinay\n",
      "vinay\n",
      "vinay\n",
      "vinay\n",
      "vinay\n",
      "vinay\n",
      "vinay\n",
      "vinay\n",
      "vinay\n",
      "vinay\n",
      "vinay\n",
      "vinay\n",
      "vinay\n",
      "vinay\n"
     ]
    },
    {
     "ename": "RecursionError",
     "evalue": "maximum recursion depth exceeded while calling a Python object",
     "output_type": "error",
     "traceback": [
      "\u001b[0;31m---------------------------------------------------------------------------\u001b[0m",
      "\u001b[0;31mRecursionError\u001b[0m                            Traceback (most recent call last)",
      "Cell \u001b[0;32mIn[1], line 4\u001b[0m\n\u001b[1;32m      2\u001b[0m     \u001b[38;5;28mprint\u001b[39m(\u001b[38;5;124m'\u001b[39m\u001b[38;5;124mvinay\u001b[39m\u001b[38;5;124m'\u001b[39m)\n\u001b[1;32m      3\u001b[0m     my_func()\n\u001b[0;32m----> 4\u001b[0m \u001b[43mmy_func\u001b[49m\u001b[43m(\u001b[49m\u001b[43m)\u001b[49m\n",
      "Cell \u001b[0;32mIn[1], line 3\u001b[0m, in \u001b[0;36mmy_func\u001b[0;34m()\u001b[0m\n\u001b[1;32m      1\u001b[0m \u001b[38;5;28;01mdef\u001b[39;00m \u001b[38;5;21mmy_func\u001b[39m():\n\u001b[1;32m      2\u001b[0m     \u001b[38;5;28mprint\u001b[39m(\u001b[38;5;124m'\u001b[39m\u001b[38;5;124mvinay\u001b[39m\u001b[38;5;124m'\u001b[39m)\n\u001b[0;32m----> 3\u001b[0m     \u001b[43mmy_func\u001b[49m\u001b[43m(\u001b[49m\u001b[43m)\u001b[49m\n",
      "Cell \u001b[0;32mIn[1], line 3\u001b[0m, in \u001b[0;36mmy_func\u001b[0;34m()\u001b[0m\n\u001b[1;32m      1\u001b[0m \u001b[38;5;28;01mdef\u001b[39;00m \u001b[38;5;21mmy_func\u001b[39m():\n\u001b[1;32m      2\u001b[0m     \u001b[38;5;28mprint\u001b[39m(\u001b[38;5;124m'\u001b[39m\u001b[38;5;124mvinay\u001b[39m\u001b[38;5;124m'\u001b[39m)\n\u001b[0;32m----> 3\u001b[0m     \u001b[43mmy_func\u001b[49m\u001b[43m(\u001b[49m\u001b[43m)\u001b[49m\n",
      "    \u001b[0;31m[... skipping similar frames: my_func at line 3 (2966 times)]\u001b[0m\n",
      "Cell \u001b[0;32mIn[1], line 3\u001b[0m, in \u001b[0;36mmy_func\u001b[0;34m()\u001b[0m\n\u001b[1;32m      1\u001b[0m \u001b[38;5;28;01mdef\u001b[39;00m \u001b[38;5;21mmy_func\u001b[39m():\n\u001b[1;32m      2\u001b[0m     \u001b[38;5;28mprint\u001b[39m(\u001b[38;5;124m'\u001b[39m\u001b[38;5;124mvinay\u001b[39m\u001b[38;5;124m'\u001b[39m)\n\u001b[0;32m----> 3\u001b[0m     \u001b[43mmy_func\u001b[49m\u001b[43m(\u001b[49m\u001b[43m)\u001b[49m\n",
      "Cell \u001b[0;32mIn[1], line 2\u001b[0m, in \u001b[0;36mmy_func\u001b[0;34m()\u001b[0m\n\u001b[1;32m      1\u001b[0m \u001b[38;5;28;01mdef\u001b[39;00m \u001b[38;5;21mmy_func\u001b[39m():\n\u001b[0;32m----> 2\u001b[0m     \u001b[38;5;28;43mprint\u001b[39;49m\u001b[43m(\u001b[49m\u001b[38;5;124;43m'\u001b[39;49m\u001b[38;5;124;43mvinay\u001b[39;49m\u001b[38;5;124;43m'\u001b[39;49m\u001b[43m)\u001b[49m\n\u001b[1;32m      3\u001b[0m     my_func()\n",
      "File \u001b[0;32m/opt/anaconda3/lib/python3.9/site-packages/ipykernel/iostream.py:550\u001b[0m, in \u001b[0;36mOutStream.write\u001b[0;34m(self, string)\u001b[0m\n\u001b[1;32m    547\u001b[0m     \u001b[38;5;28;01mraise\u001b[39;00m \u001b[38;5;167;01mValueError\u001b[39;00m(\u001b[38;5;124m\"\u001b[39m\u001b[38;5;124mI/O operation on closed file\u001b[39m\u001b[38;5;124m\"\u001b[39m)\n\u001b[1;32m    548\u001b[0m \u001b[38;5;28;01melse\u001b[39;00m:\n\u001b[0;32m--> 550\u001b[0m     is_child \u001b[38;5;241m=\u001b[39m \u001b[38;5;129;01mnot\u001b[39;00m \u001b[38;5;28;43mself\u001b[39;49m\u001b[38;5;241;43m.\u001b[39;49m\u001b[43m_is_master_process\u001b[49m\u001b[43m(\u001b[49m\u001b[43m)\u001b[49m\n\u001b[1;32m    551\u001b[0m     \u001b[38;5;66;03m# only touch the buffer in the IO thread to avoid races\u001b[39;00m\n\u001b[1;32m    552\u001b[0m     \u001b[38;5;28;01mwith\u001b[39;00m \u001b[38;5;28mself\u001b[39m\u001b[38;5;241m.\u001b[39m_buffer_lock:\n",
      "File \u001b[0;32m/opt/anaconda3/lib/python3.9/site-packages/ipykernel/iostream.py:438\u001b[0m, in \u001b[0;36mOutStream._is_master_process\u001b[0;34m(self)\u001b[0m\n\u001b[1;32m    437\u001b[0m \u001b[38;5;28;01mdef\u001b[39;00m \u001b[38;5;21m_is_master_process\u001b[39m(\u001b[38;5;28mself\u001b[39m):\n\u001b[0;32m--> 438\u001b[0m     \u001b[38;5;28;01mreturn\u001b[39;00m \u001b[43mos\u001b[49m\u001b[38;5;241;43m.\u001b[39;49m\u001b[43mgetpid\u001b[49m\u001b[43m(\u001b[49m\u001b[43m)\u001b[49m \u001b[38;5;241m==\u001b[39m \u001b[38;5;28mself\u001b[39m\u001b[38;5;241m.\u001b[39m_master_pid\n",
      "\u001b[0;31mRecursionError\u001b[0m: maximum recursion depth exceeded while calling a Python object"
     ]
    }
   ],
   "source": [
    "def my_func():\n",
    "    print('vinay')\n",
    "    my_func()\n",
    "my_func()"
   ]
  },
  {
   "cell_type": "markdown",
   "id": "f733e63a",
   "metadata": {},
   "source": [
    "- base condition\n",
    "- function should have parameters and return"
   ]
  },
  {
   "cell_type": "markdown",
   "id": "337e363c",
   "metadata": {},
   "source": [
    "base condition"
   ]
  },
  {
   "cell_type": "code",
   "execution_count": null,
   "id": "698b4902",
   "metadata": {},
   "outputs": [],
   "source": [
    "#sum of n natural numbers using recursion.\n",
    "\n",
    "n=int(input('enter n value: '))\n",
    "answer=my_func(n)\n",
    "print(answer)"
   ]
  },
  {
   "cell_type": "code",
   "execution_count": 2,
   "id": "2ccbe588",
   "metadata": {},
   "outputs": [],
   "source": [
    "#base condition\n",
    "def my_func(n):\n",
    "    if n == 0:\n",
    "        return 0 #where function has to end from loop\n",
    "    return my_func(n-1)+n  #my_func(10-1)+10\n",
    "                           #my_func(9-1)+10\n",
    "                           #my_func(8-1)+9"
   ]
  },
  {
   "cell_type": "code",
   "execution_count": 3,
   "id": "827de788",
   "metadata": {},
   "outputs": [],
   "source": [
    "def func(n):\n",
    "    if n==0:\n",
    "        return 0\n",
    "    return func(n-1)+n"
   ]
  },
  {
   "cell_type": "code",
   "execution_count": 4,
   "id": "7261a839",
   "metadata": {},
   "outputs": [
    {
     "name": "stdout",
     "output_type": "stream",
     "text": [
      "enter the number: 10\n"
     ]
    },
    {
     "data": {
      "text/plain": [
       "55"
      ]
     },
     "execution_count": 4,
     "metadata": {},
     "output_type": "execute_result"
    }
   ],
   "source": [
    "n=int(input('enter the number: '))\n",
    "func(n)"
   ]
  },
  {
   "cell_type": "markdown",
   "id": "21bfa18c",
   "metadata": {},
   "source": [
    "#### Lambda functions\n",
    "Anonymous function- function having no name,, works faster than a normal function\n",
    "1. can be used there is single expression"
   ]
  },
  {
   "cell_type": "code",
   "execution_count": 94,
   "id": "b48bb6cb",
   "metadata": {},
   "outputs": [],
   "source": [
    "def sum_num(n1,n2):\n",
    "    return n1+n2"
   ]
  },
  {
   "cell_type": "code",
   "execution_count": 95,
   "id": "c09cde4d",
   "metadata": {},
   "outputs": [
    {
     "data": {
      "text/plain": [
       "26"
      ]
     },
     "execution_count": 95,
     "metadata": {},
     "output_type": "execute_result"
    }
   ],
   "source": [
    "sum_num(12,14)"
   ]
  },
  {
   "cell_type": "code",
   "execution_count": 96,
   "id": "4ab1ada5",
   "metadata": {},
   "outputs": [
    {
     "data": {
      "text/plain": [
       "<function __main__.<lambda>(n1, n2)>"
      ]
     },
     "execution_count": 96,
     "metadata": {},
     "output_type": "execute_result"
    }
   ],
   "source": [
    "lambda n1,n2:n+n2"
   ]
  },
  {
   "cell_type": "code",
   "execution_count": 102,
   "id": "df512b95",
   "metadata": {},
   "outputs": [],
   "source": [
    "var=lambda n1,n2:n+n2"
   ]
  },
  {
   "cell_type": "code",
   "execution_count": 103,
   "id": "cabfd44b",
   "metadata": {},
   "outputs": [
    {
     "data": {
      "text/plain": [
       "18"
      ]
     },
     "execution_count": 103,
     "metadata": {},
     "output_type": "execute_result"
    }
   ],
   "source": [
    "var(12,14)"
   ]
  },
  {
   "cell_type": "markdown",
   "id": "3969c8f7",
   "metadata": {},
   "source": [
    "### Map function\n",
    "#### used for iterating list to function\n",
    "2. it uses lazy loading technic.in order to initate convert it to list"
   ]
  },
  {
   "cell_type": "code",
   "execution_count": 151,
   "id": "18e1649c",
   "metadata": {},
   "outputs": [],
   "source": [
    "def even_num(n):\n",
    "    if n%2==0:\n",
    "        return 'is even number'\n",
    "    else:\n",
    "        return 'not a even number'"
   ]
  },
  {
   "cell_type": "code",
   "execution_count": 152,
   "id": "0a566017",
   "metadata": {},
   "outputs": [
    {
     "data": {
      "text/plain": [
       "[1, 7, 4, 5, 12, 18, 8]"
      ]
     },
     "execution_count": 152,
     "metadata": {},
     "output_type": "execute_result"
    }
   ],
   "source": [
    "lst"
   ]
  },
  {
   "cell_type": "code",
   "execution_count": 154,
   "id": "d03369c1",
   "metadata": {},
   "outputs": [],
   "source": [
    "a=list(map(even_num,lst))"
   ]
  },
  {
   "cell_type": "code",
   "execution_count": 155,
   "id": "ea901b6c",
   "metadata": {},
   "outputs": [
    {
     "data": {
      "text/plain": [
       "['not a even number',\n",
       " 'not a even number',\n",
       " 'is even number',\n",
       " 'not a even number',\n",
       " 'is even number',\n",
       " 'is even number',\n",
       " 'is even number']"
      ]
     },
     "execution_count": 155,
     "metadata": {},
     "output_type": "execute_result"
    }
   ],
   "source": [
    "a"
   ]
  },
  {
   "cell_type": "markdown",
   "id": "51ae73a0",
   "metadata": {},
   "source": [
    "### Filter function"
   ]
  },
  {
   "cell_type": "code",
   "execution_count": 179,
   "id": "381dcb95",
   "metadata": {},
   "outputs": [],
   "source": [
    "def even_num(n):\n",
    "    if n%2==0:\n",
    "        return n"
   ]
  },
  {
   "cell_type": "code",
   "execution_count": 180,
   "id": "0999e3e3",
   "metadata": {},
   "outputs": [
    {
     "data": {
      "text/plain": [
       "[1, 7, 4, 5, 12, 18, 8]"
      ]
     },
     "execution_count": 180,
     "metadata": {},
     "output_type": "execute_result"
    }
   ],
   "source": [
    "lst"
   ]
  },
  {
   "cell_type": "code",
   "execution_count": 181,
   "id": "b2c7fcfe",
   "metadata": {},
   "outputs": [
    {
     "data": {
      "text/plain": [
       "[4, 12, 18, 8]"
      ]
     },
     "execution_count": 181,
     "metadata": {},
     "output_type": "execute_result"
    }
   ],
   "source": [
    "list(filter(even_num,lst))"
   ]
  },
  {
   "cell_type": "markdown",
   "id": "a8940987",
   "metadata": {},
   "source": [
    "Basic difference between map and filter"
   ]
  },
  {
   "cell_type": "code",
   "execution_count": 182,
   "id": "06ba7453",
   "metadata": {},
   "outputs": [
    {
     "data": {
      "text/plain": [
       "[4, 12, 18, 8]"
      ]
     },
     "execution_count": 182,
     "metadata": {},
     "output_type": "execute_result"
    }
   ],
   "source": [
    "list(filter(lambda n:n%2==0,lst))"
   ]
  },
  {
   "cell_type": "code",
   "execution_count": 183,
   "id": "c5af82fb",
   "metadata": {},
   "outputs": [
    {
     "data": {
      "text/plain": [
       "[False, False, True, False, True, True, True]"
      ]
     },
     "execution_count": 183,
     "metadata": {},
     "output_type": "execute_result"
    }
   ],
   "source": [
    "list(map(lambda n:n%2==0,lst))"
   ]
  },
  {
   "cell_type": "markdown",
   "id": "6ab078f6",
   "metadata": {},
   "source": [
    "### List Comprehension"
   ]
  },
  {
   "cell_type": "markdown",
   "id": "0b9b6f76",
   "metadata": {},
   "source": [
    "provides concise way to create lists.It consists of brackets containing an expression\n",
    " followed by a for clause,then zero or more for or if clauses.you can all kinds of obejcts in a list"
   ]
  },
  {
   "cell_type": "code",
   "execution_count": 185,
   "id": "5b4abec1",
   "metadata": {},
   "outputs": [],
   "source": [
    "lst1=[]\n",
    "def lst_sq(lst):\n",
    "    for i in lst:\n",
    "        lst1.append(i*i)\n",
    "    return lst1"
   ]
  },
  {
   "cell_type": "code",
   "execution_count": 191,
   "id": "e5bb467d",
   "metadata": {},
   "outputs": [
    {
     "data": {
      "text/plain": [
       "[1, 4, 9]"
      ]
     },
     "execution_count": 191,
     "metadata": {},
     "output_type": "execute_result"
    }
   ],
   "source": [
    "lst_sq([1,2,3])"
   ]
  },
  {
   "cell_type": "code",
   "execution_count": 193,
   "id": "008ca660",
   "metadata": {},
   "outputs": [
    {
     "data": {
      "text/plain": [
       "[1, 7, 4, 5, 12, 18, 8]"
      ]
     },
     "execution_count": 193,
     "metadata": {},
     "output_type": "execute_result"
    }
   ],
   "source": [
    "lst"
   ]
  },
  {
   "cell_type": "code",
   "execution_count": 194,
   "id": "5894a589",
   "metadata": {},
   "outputs": [],
   "source": [
    "new_lst=[i*i for i in lst]"
   ]
  },
  {
   "cell_type": "code",
   "execution_count": 195,
   "id": "46c9abb8",
   "metadata": {},
   "outputs": [
    {
     "data": {
      "text/plain": [
       "[1, 49, 16, 25, 144, 324, 64]"
      ]
     },
     "execution_count": 195,
     "metadata": {},
     "output_type": "execute_result"
    }
   ],
   "source": [
    "new_lst"
   ]
  },
  {
   "cell_type": "code",
   "execution_count": 197,
   "id": "e0865080",
   "metadata": {},
   "outputs": [
    {
     "data": {
      "text/plain": [
       "[16, 144, 324, 64]"
      ]
     },
     "execution_count": 197,
     "metadata": {},
     "output_type": "execute_result"
    }
   ],
   "source": [
    "[i*i for i in lst if i%2==0]"
   ]
  },
  {
   "cell_type": "markdown",
   "id": "aa813e1d",
   "metadata": {},
   "source": [
    "### String Formatting"
   ]
  },
  {
   "cell_type": "code",
   "execution_count": 199,
   "id": "36c9add5",
   "metadata": {},
   "outputs": [
    {
     "name": "stdout",
     "output_type": "stream",
     "text": [
      "hello world\n"
     ]
    }
   ],
   "source": [
    "print('hello world')"
   ]
  },
  {
   "cell_type": "code",
   "execution_count": 204,
   "id": "ad269e87",
   "metadata": {},
   "outputs": [],
   "source": [
    "def greeting(name):\n",
    "    return 'hello {},we are waiting for you'.format(name)"
   ]
  },
  {
   "cell_type": "code",
   "execution_count": 207,
   "id": "d634656e",
   "metadata": {},
   "outputs": [
    {
     "data": {
      "text/plain": [
       "'hello vinay,we are waiting for you'"
      ]
     },
     "execution_count": 207,
     "metadata": {},
     "output_type": "execute_result"
    }
   ],
   "source": [
    "greeting('vinay')"
   ]
  },
  {
   "cell_type": "code",
   "execution_count": 215,
   "id": "b8f0e25c",
   "metadata": {},
   "outputs": [],
   "source": [
    "def greet(name,age):\n",
    "    return 'hi im {name} and my age is {age}'.format(name=name,age=age)"
   ]
  },
  {
   "cell_type": "code",
   "execution_count": 216,
   "id": "ee7199f9",
   "metadata": {},
   "outputs": [
    {
     "data": {
      "text/plain": [
       "'hi im vinay and my age is 26'"
      ]
     },
     "execution_count": 216,
     "metadata": {},
     "output_type": "execute_result"
    }
   ],
   "source": [
    "greet('vinay',26)"
   ]
  },
  {
   "cell_type": "markdown",
   "id": "68022f05",
   "metadata": {},
   "source": [
    "### List Iterables vs Iterators"
   ]
  },
  {
   "cell_type": "markdown",
   "id": "5756c613",
   "metadata": {},
   "source": [
    "list is iterable n stores list in memory locations"
   ]
  },
  {
   "cell_type": "code",
   "execution_count": 12,
   "id": "4ef0d951",
   "metadata": {},
   "outputs": [
    {
     "name": "stdout",
     "output_type": "stream",
     "text": [
      "1\n",
      "2\n",
      "3\n",
      "4\n",
      "5\n"
     ]
    }
   ],
   "source": [
    "lst=[1,2,3,4,5]\n",
    "for i in lst:\n",
    "    print(i)"
   ]
  },
  {
   "cell_type": "markdown",
   "id": "77a412d0",
   "metadata": {},
   "source": [
    "iteror- converts list into iterator..\n",
    "1. it does not store in memory location unless and untill we call an inbuilt function next \n",
    "2. when we call next function then only first element present inside that iterator will be stored in memory location"
   ]
  },
  {
   "cell_type": "code",
   "execution_count": 13,
   "id": "99601da9",
   "metadata": {},
   "outputs": [
    {
     "data": {
      "text/plain": [
       "[1, 2, 3, 4, 5]"
      ]
     },
     "execution_count": 13,
     "metadata": {},
     "output_type": "execute_result"
    }
   ],
   "source": [
    "lst"
   ]
  },
  {
   "cell_type": "code",
   "execution_count": 14,
   "id": "0e75340d",
   "metadata": {},
   "outputs": [
    {
     "data": {
      "text/plain": [
       "<list_iterator at 0x7f8b0856cfa0>"
      ]
     },
     "execution_count": 14,
     "metadata": {},
     "output_type": "execute_result"
    }
   ],
   "source": [
    "iter(lst)"
   ]
  },
  {
   "cell_type": "code",
   "execution_count": 15,
   "id": "56065388",
   "metadata": {},
   "outputs": [],
   "source": [
    "list1=iter(lst)"
   ]
  },
  {
   "cell_type": "code",
   "execution_count": 17,
   "id": "f5faf050",
   "metadata": {},
   "outputs": [
    {
     "data": {
      "text/plain": [
       "2"
      ]
     },
     "execution_count": 17,
     "metadata": {},
     "output_type": "execute_result"
    }
   ],
   "source": [
    "next(list1)"
   ]
  },
  {
   "cell_type": "code",
   "execution_count": 20,
   "id": "dd1128ed",
   "metadata": {},
   "outputs": [
    {
     "name": "stdout",
     "output_type": "stream",
     "text": [
      "3\n",
      "4\n",
      "5\n"
     ]
    }
   ],
   "source": [
    "for i in list1:\n",
    "    print(i)"
   ]
  },
  {
   "cell_type": "markdown",
   "id": "05533786",
   "metadata": {},
   "source": [
    "in case of iterables as soon as we assign list elements it gets stored in memory location but whereas in iterator it doesnot store elements in memory location unless and until we call next function"
   ]
  },
  {
   "cell_type": "markdown",
   "id": "8ba2b419",
   "metadata": {},
   "source": [
    "### Generators\n",
    "generators are used in order to create iterator\n",
    "1. yield- it returns all iterators "
   ]
  },
  {
   "cell_type": "code",
   "execution_count": 36,
   "id": "8e25544b",
   "metadata": {},
   "outputs": [],
   "source": [
    "def squ(n):\n",
    "    for i in range(n):\n",
    "        print(i**2)"
   ]
  },
  {
   "cell_type": "code",
   "execution_count": 37,
   "id": "73427a1a",
   "metadata": {},
   "outputs": [
    {
     "name": "stdout",
     "output_type": "stream",
     "text": [
      "0\n",
      "1\n",
      "4\n"
     ]
    }
   ],
   "source": [
    "squ(3)"
   ]
  },
  {
   "cell_type": "code",
   "execution_count": 38,
   "id": "0cd2db78",
   "metadata": {},
   "outputs": [],
   "source": [
    "def squ(n):\n",
    "    for i in range(n):\n",
    "        return i**2"
   ]
  },
  {
   "cell_type": "code",
   "execution_count": 39,
   "id": "fe7f7fb8",
   "metadata": {},
   "outputs": [
    {
     "data": {
      "text/plain": [
       "0"
      ]
     },
     "execution_count": 39,
     "metadata": {},
     "output_type": "execute_result"
    }
   ],
   "source": [
    "squ(3)"
   ]
  },
  {
   "cell_type": "code",
   "execution_count": 40,
   "id": "d375f56b",
   "metadata": {},
   "outputs": [],
   "source": [
    "def squ(n):\n",
    "    for i in range(n):\n",
    "        yield i**2"
   ]
  },
  {
   "cell_type": "code",
   "execution_count": 42,
   "id": "d3aba929",
   "metadata": {},
   "outputs": [],
   "source": [
    "gen=squ(3)"
   ]
  },
  {
   "cell_type": "code",
   "execution_count": 44,
   "id": "e326bad1",
   "metadata": {},
   "outputs": [
    {
     "data": {
      "text/plain": [
       "<generator object squ at 0x7f8ad8ad9820>"
      ]
     },
     "execution_count": 44,
     "metadata": {},
     "output_type": "execute_result"
    }
   ],
   "source": [
    "gen"
   ]
  },
  {
   "cell_type": "code",
   "execution_count": 45,
   "id": "016fe91a",
   "metadata": {},
   "outputs": [
    {
     "data": {
      "text/plain": [
       "0"
      ]
     },
     "execution_count": 45,
     "metadata": {},
     "output_type": "execute_result"
    }
   ],
   "source": [
    "next(gen)"
   ]
  },
  {
   "cell_type": "code",
   "execution_count": 46,
   "id": "fa8d94cb",
   "metadata": {},
   "outputs": [
    {
     "data": {
      "text/plain": [
       "1"
      ]
     },
     "execution_count": 46,
     "metadata": {},
     "output_type": "execute_result"
    }
   ],
   "source": [
    "next(gen)"
   ]
  },
  {
   "cell_type": "markdown",
   "id": "a94b7f8f",
   "metadata": {},
   "source": [
    "Generator Vs iterator"
   ]
  },
  {
   "cell_type": "markdown",
   "id": "66057595",
   "metadata": {},
   "source": [
    "|Iterator | Generator |\n",
    "|--|--|\n",
    "| calls by using iter function | calls by using function along with yield keyword |\n",
    "|doesnot |helps to create fast and compact code|\n",
    "|memory efficient  | not |\n",
    "|common thing is iter with next keyword| -- |"
   ]
  },
  {
   "cell_type": "markdown",
   "id": "bf4faedd",
   "metadata": {},
   "source": [
    "relationship between generators and iterators:\n",
    "- generator is also an iterator"
   ]
  },
  {
   "cell_type": "markdown",
   "id": "af23d0bc",
   "metadata": {},
   "source": [
    "### OOPS"
   ]
  },
  {
   "cell_type": "markdown",
   "id": "a99cf52f",
   "metadata": {},
   "source": [
    "### Class variables"
   ]
  },
  {
   "cell_type": "markdown",
   "id": "72c912b0",
   "metadata": {},
   "source": [
    "this pass statement mean there is no particular attributes for that class car"
   ]
  },
  {
   "cell_type": "code",
   "execution_count": 48,
   "id": "e3ecd85e",
   "metadata": {},
   "outputs": [],
   "source": [
    "class car:\n",
    "    pass"
   ]
  },
  {
   "cell_type": "code",
   "execution_count": 51,
   "id": "0be4d563",
   "metadata": {},
   "outputs": [],
   "source": [
    "car1=car()  #car1 is an object initializing to class car"
   ]
  },
  {
   "cell_type": "code",
   "execution_count": 57,
   "id": "27536171",
   "metadata": {},
   "outputs": [],
   "source": [
    "car1.windows=4  ##windows,seats are attributes of object\n",
    "car1.seats=5"
   ]
  },
  {
   "cell_type": "code",
   "execution_count": 53,
   "id": "5ac44ee7",
   "metadata": {},
   "outputs": [
    {
     "name": "stdout",
     "output_type": "stream",
     "text": [
      "5\n"
     ]
    }
   ],
   "source": [
    "print(car1.seats)"
   ]
  },
  {
   "cell_type": "code",
   "execution_count": 54,
   "id": "0b1968b1",
   "metadata": {},
   "outputs": [],
   "source": [
    "car2=car()"
   ]
  },
  {
   "cell_type": "code",
   "execution_count": 55,
   "id": "40740bcc",
   "metadata": {},
   "outputs": [],
   "source": [
    "car2.windows=5\n",
    "car2.seats=7"
   ]
  },
  {
   "cell_type": "code",
   "execution_count": 56,
   "id": "fd102bc8",
   "metadata": {},
   "outputs": [
    {
     "name": "stdout",
     "output_type": "stream",
     "text": [
      "7\n"
     ]
    }
   ],
   "source": [
    "print(car2.seats)"
   ]
  },
  {
   "cell_type": "code",
   "execution_count": 58,
   "id": "4f7dec8c",
   "metadata": {},
   "outputs": [
    {
     "data": {
      "text/plain": [
       "['__class__',\n",
       " '__delattr__',\n",
       " '__dict__',\n",
       " '__dir__',\n",
       " '__doc__',\n",
       " '__eq__',\n",
       " '__format__',\n",
       " '__ge__',\n",
       " '__getattribute__',\n",
       " '__gt__',\n",
       " '__hash__',\n",
       " '__init__',\n",
       " '__init_subclass__',\n",
       " '__le__',\n",
       " '__lt__',\n",
       " '__module__',\n",
       " '__ne__',\n",
       " '__new__',\n",
       " '__reduce__',\n",
       " '__reduce_ex__',\n",
       " '__repr__',\n",
       " '__setattr__',\n",
       " '__sizeof__',\n",
       " '__str__',\n",
       " '__subclasshook__',\n",
       " '__weakref__',\n",
       " 'seats',\n",
       " 'windows']"
      ]
     },
     "execution_count": 58,
     "metadata": {},
     "output_type": "execute_result"
    }
   ],
   "source": [
    "dir(car1)"
   ]
  },
  {
   "cell_type": "markdown",
   "id": "3be31187",
   "metadata": {},
   "source": [
    "constructor can be used in order to initailize howmany properities are getting used inside that particular class"
   ]
  },
  {
   "cell_type": "markdown",
   "id": "5f96a057",
   "metadata": {},
   "source": [
    "self parameter is used to access attributes to object."
   ]
  },
  {
   "cell_type": "code",
   "execution_count": 61,
   "id": "48c2287a",
   "metadata": {},
   "outputs": [],
   "source": [
    "class car:\n",
    "    def __init__(self,window,seat):\n",
    "        self.windows=window\n",
    "        self.seats=seat"
   ]
  },
  {
   "cell_type": "code",
   "execution_count": 62,
   "id": "14874441",
   "metadata": {},
   "outputs": [],
   "source": [
    "car1=car(4,7)"
   ]
  },
  {
   "cell_type": "code",
   "execution_count": 64,
   "id": "4e2492d8",
   "metadata": {},
   "outputs": [
    {
     "data": {
      "text/plain": [
       "7"
      ]
     },
     "execution_count": 64,
     "metadata": {},
     "output_type": "execute_result"
    }
   ],
   "source": [
    "car1.seats"
   ]
  },
  {
   "cell_type": "code",
   "execution_count": 65,
   "id": "cc670e11",
   "metadata": {},
   "outputs": [],
   "source": [
    "class car:\n",
    "    def __init__(self,window,seat):\n",
    "        self.windows=window\n",
    "        self.seats=seat\n",
    "    def self_driving(self,window,seat):\n",
    "        return 'this car has {} seats'.format(self.seats)"
   ]
  },
  {
   "cell_type": "code",
   "execution_count": 67,
   "id": "971ba231",
   "metadata": {},
   "outputs": [],
   "source": [
    "car2=car(2,4)"
   ]
  },
  {
   "cell_type": "code",
   "execution_count": 69,
   "id": "0f9000cb",
   "metadata": {},
   "outputs": [
    {
     "data": {
      "text/plain": [
       "'this car has 4 seats'"
      ]
     },
     "execution_count": 69,
     "metadata": {},
     "output_type": "execute_result"
    }
   ],
   "source": [
    "car2.self_driving(2,4)"
   ]
  },
  {
   "cell_type": "code",
   "execution_count": 78,
   "id": "0f5971c1",
   "metadata": {},
   "outputs": [],
   "source": [
    "class car:\n",
    "    def __init__(self,window,seat):\n",
    "        self.windows=window\n",
    "        self.seats=seat\n",
    "    def self_driving(self):\n",
    "        return 'this car has {} seats'.format(self.seats)"
   ]
  },
  {
   "cell_type": "code",
   "execution_count": 79,
   "id": "8437dcb0",
   "metadata": {},
   "outputs": [],
   "source": [
    "car2=car(4,6)"
   ]
  },
  {
   "cell_type": "code",
   "execution_count": 80,
   "id": "8c74902f",
   "metadata": {},
   "outputs": [
    {
     "data": {
      "text/plain": [
       "'this car has 6 seats'"
      ]
     },
     "execution_count": 80,
     "metadata": {},
     "output_type": "execute_result"
    }
   ],
   "source": [
    "car2.self_driving()"
   ]
  },
  {
   "cell_type": "code",
   "execution_count": 81,
   "id": "856d8c1c",
   "metadata": {},
   "outputs": [
    {
     "data": {
      "text/plain": [
       "6"
      ]
     },
     "execution_count": 81,
     "metadata": {},
     "output_type": "execute_result"
    }
   ],
   "source": [
    "car2.seats"
   ]
  },
  {
   "cell_type": "markdown",
   "id": "24927818",
   "metadata": {},
   "source": [
    "private, Public and protected access modifers"
   ]
  },
  {
   "cell_type": "markdown",
   "id": "01ad2a1b",
   "metadata": {},
   "source": [
    "All the class variables are public\n",
    "\n",
    "it can be over rided"
   ]
  },
  {
   "cell_type": "code",
   "execution_count": 1,
   "id": "ed1db09a",
   "metadata": {},
   "outputs": [],
   "source": [
    "class car:\n",
    "    def __init__(self,window,seat):\n",
    "        self.windows=window\n",
    "        self.seats=seat"
   ]
  },
  {
   "cell_type": "code",
   "execution_count": 2,
   "id": "49970115",
   "metadata": {},
   "outputs": [],
   "source": [
    "audi=car(2,2)"
   ]
  },
  {
   "cell_type": "code",
   "execution_count": 3,
   "id": "1056059b",
   "metadata": {},
   "outputs": [
    {
     "data": {
      "text/plain": [
       "<__main__.car at 0x7f9f7210f550>"
      ]
     },
     "execution_count": 3,
     "metadata": {},
     "output_type": "execute_result"
    }
   ],
   "source": [
    "audi"
   ]
  },
  {
   "cell_type": "code",
   "execution_count": 14,
   "id": "2fc5dc70",
   "metadata": {},
   "outputs": [
    {
     "data": {
      "text/plain": [
       "2"
      ]
     },
     "execution_count": 14,
     "metadata": {},
     "output_type": "execute_result"
    }
   ],
   "source": [
    "audi.windows"
   ]
  },
  {
   "cell_type": "code",
   "execution_count": 15,
   "id": "cbc2da25",
   "metadata": {},
   "outputs": [],
   "source": [
    "audi.windows=4"
   ]
  },
  {
   "cell_type": "code",
   "execution_count": 16,
   "id": "1353bb0b",
   "metadata": {},
   "outputs": [
    {
     "data": {
      "text/plain": [
       "4"
      ]
     },
     "execution_count": 16,
     "metadata": {},
     "output_type": "execute_result"
    }
   ],
   "source": [
    "audi.windows"
   ]
  },
  {
   "cell_type": "code",
   "execution_count": 4,
   "id": "b21dcdc3",
   "metadata": {},
   "outputs": [
    {
     "data": {
      "text/plain": [
       "['__class__',\n",
       " '__delattr__',\n",
       " '__dict__',\n",
       " '__dir__',\n",
       " '__doc__',\n",
       " '__eq__',\n",
       " '__format__',\n",
       " '__ge__',\n",
       " '__getattribute__',\n",
       " '__gt__',\n",
       " '__hash__',\n",
       " '__init__',\n",
       " '__init_subclass__',\n",
       " '__le__',\n",
       " '__lt__',\n",
       " '__module__',\n",
       " '__ne__',\n",
       " '__new__',\n",
       " '__reduce__',\n",
       " '__reduce_ex__',\n",
       " '__repr__',\n",
       " '__setattr__',\n",
       " '__sizeof__',\n",
       " '__str__',\n",
       " '__subclasshook__',\n",
       " '__weakref__',\n",
       " 'seats',\n",
       " 'windows']"
      ]
     },
     "execution_count": 4,
     "metadata": {},
     "output_type": "execute_result"
    }
   ],
   "source": [
    "dir(audi)"
   ]
  },
  {
   "cell_type": "markdown",
   "id": "378e8da7",
   "metadata": {},
   "source": [
    "All the class variables are protected\n",
    "\n",
    "overriding can happen only from subclass or child class(inheriting that parent class)\n",
    "\n",
    "it can be accessed only from sub classes.i.e., class inheriting another class then we can access variables"
   ]
  },
  {
   "cell_type": "code",
   "execution_count": 9,
   "id": "823198d0",
   "metadata": {},
   "outputs": [],
   "source": [
    "class car:\n",
    "    def __init__(self,window,seat):\n",
    "        self._windows=window\n",
    "        self._seats=seat"
   ]
  },
  {
   "cell_type": "code",
   "execution_count": 10,
   "id": "02a64e1c",
   "metadata": {},
   "outputs": [],
   "source": [
    "bmw=car(4,5)"
   ]
  },
  {
   "cell_type": "code",
   "execution_count": 11,
   "id": "5b320d86",
   "metadata": {},
   "outputs": [
    {
     "data": {
      "text/plain": [
       "<__main__.car at 0x7f9f300adfd0>"
      ]
     },
     "execution_count": 11,
     "metadata": {},
     "output_type": "execute_result"
    }
   ],
   "source": [
    "bmw"
   ]
  },
  {
   "cell_type": "code",
   "execution_count": 13,
   "id": "692c74e9",
   "metadata": {
    "collapsed": true
   },
   "outputs": [
    {
     "data": {
      "text/plain": [
       "['__class__',\n",
       " '__delattr__',\n",
       " '__dict__',\n",
       " '__dir__',\n",
       " '__doc__',\n",
       " '__eq__',\n",
       " '__format__',\n",
       " '__ge__',\n",
       " '__getattribute__',\n",
       " '__gt__',\n",
       " '__hash__',\n",
       " '__init__',\n",
       " '__init_subclass__',\n",
       " '__le__',\n",
       " '__lt__',\n",
       " '__module__',\n",
       " '__ne__',\n",
       " '__new__',\n",
       " '__reduce__',\n",
       " '__reduce_ex__',\n",
       " '__repr__',\n",
       " '__setattr__',\n",
       " '__sizeof__',\n",
       " '__str__',\n",
       " '__subclasshook__',\n",
       " '__weakref__',\n",
       " '_seats',\n",
       " '_windows']"
      ]
     },
     "execution_count": 13,
     "metadata": {},
     "output_type": "execute_result"
    }
   ],
   "source": [
    "dir(bmw)"
   ]
  },
  {
   "cell_type": "markdown",
   "id": "807ad2a5",
   "metadata": {},
   "source": [
    "All the class variables are private\n",
    "\n",
    "it cannot override and inherited or accessed from anywhere.\n",
    "\n",
    "but python wont restrict from overiding,access,modifying but when seen in directries it say that it was private then it cannot accessed ,modified outside a specific class"
   ]
  },
  {
   "cell_type": "code",
   "execution_count": 18,
   "id": "85601e6d",
   "metadata": {},
   "outputs": [],
   "source": [
    "class car:\n",
    "    def __init__(self,window,seat):\n",
    "        self.__windows=window\n",
    "        self.__seats=seat"
   ]
  },
  {
   "cell_type": "code",
   "execution_count": 19,
   "id": "0d260c6d",
   "metadata": {},
   "outputs": [],
   "source": [
    "benz=car(2,3)"
   ]
  },
  {
   "cell_type": "code",
   "execution_count": 20,
   "id": "6d8761d4",
   "metadata": {
    "collapsed": true
   },
   "outputs": [
    {
     "data": {
      "text/plain": [
       "['__class__',\n",
       " '__delattr__',\n",
       " '__dict__',\n",
       " '__dir__',\n",
       " '__doc__',\n",
       " '__eq__',\n",
       " '__format__',\n",
       " '__ge__',\n",
       " '__getattribute__',\n",
       " '__gt__',\n",
       " '__hash__',\n",
       " '__init__',\n",
       " '__init_subclass__',\n",
       " '__le__',\n",
       " '__lt__',\n",
       " '__module__',\n",
       " '__ne__',\n",
       " '__new__',\n",
       " '__reduce__',\n",
       " '__reduce_ex__',\n",
       " '__repr__',\n",
       " '__setattr__',\n",
       " '__sizeof__',\n",
       " '__str__',\n",
       " '__subclasshook__',\n",
       " '__weakref__',\n",
       " '_car__seats',\n",
       " '_car__windows']"
      ]
     },
     "execution_count": 20,
     "metadata": {},
     "output_type": "execute_result"
    }
   ],
   "source": [
    "dir(benz)"
   ]
  },
  {
   "cell_type": "markdown",
   "id": "cdc90152",
   "metadata": {},
   "source": [
    "### Inheritance"
   ]
  },
  {
   "cell_type": "code",
   "execution_count": 21,
   "id": "587474a5",
   "metadata": {},
   "outputs": [],
   "source": [
    "## all the class variables are public\n",
    "##car blueprint\n",
    "class car:\n",
    "    def __init__(self,window,seat):\n",
    "        self.windows=window\n",
    "        self.seats=seat\n",
    "    def self_driving(self):\n",
    "        return'this car has {} seats'.format(self.seats)"
   ]
  },
  {
   "cell_type": "code",
   "execution_count": 5,
   "id": "5bc4dd8b",
   "metadata": {},
   "outputs": [],
   "source": [
    "mini=car(2,4)"
   ]
  },
  {
   "cell_type": "code",
   "execution_count": 6,
   "id": "50639aad",
   "metadata": {},
   "outputs": [
    {
     "data": {
      "text/plain": [
       "'this car has 4 seats'"
      ]
     },
     "execution_count": 6,
     "metadata": {},
     "output_type": "execute_result"
    }
   ],
   "source": [
    "mini.self_driving()"
   ]
  },
  {
   "cell_type": "code",
   "execution_count": 7,
   "id": "efadae92",
   "metadata": {},
   "outputs": [
    {
     "data": {
      "text/plain": [
       "4"
      ]
     },
     "execution_count": 7,
     "metadata": {},
     "output_type": "execute_result"
    }
   ],
   "source": [
    "mini.seats"
   ]
  },
  {
   "cell_type": "code",
   "execution_count": 8,
   "id": "439b55e1",
   "metadata": {},
   "outputs": [],
   "source": [
    "class mg(car):\n",
    "    def __init__(self,window,seat,enginetype,enableai):\n",
    "        #to inherit from parent class we use super()\n",
    "        super().__init__(window,seat)\n",
    "        self.enginetype=enginetype\n",
    "        self.enableai=enableai\n",
    "    def aidriven(self):\n",
    "        return 'mg supports self driving'"
   ]
  },
  {
   "cell_type": "code",
   "execution_count": 9,
   "id": "32cf38d0",
   "metadata": {},
   "outputs": [],
   "source": [
    "mghector=mg(5,8,'diesel','yes')"
   ]
  },
  {
   "cell_type": "code",
   "execution_count": 10,
   "id": "5531c5b0",
   "metadata": {},
   "outputs": [
    {
     "data": {
      "text/plain": [
       "'mg supports self driving'"
      ]
     },
     "execution_count": 10,
     "metadata": {},
     "output_type": "execute_result"
    }
   ],
   "source": [
    "mghector.aidriven()"
   ]
  },
  {
   "cell_type": "code",
   "execution_count": 11,
   "id": "e0faa09a",
   "metadata": {},
   "outputs": [
    {
     "data": {
      "text/plain": [
       "'yes'"
      ]
     },
     "execution_count": 11,
     "metadata": {},
     "output_type": "execute_result"
    }
   ],
   "source": [
    "mghector.enableai"
   ]
  },
  {
   "cell_type": "markdown",
   "id": "5fad8b2b",
   "metadata": {},
   "source": [
    "### Multiple inheritance"
   ]
  },
  {
   "cell_type": "code",
   "execution_count": 34,
   "id": "5d02dd34",
   "metadata": {},
   "outputs": [],
   "source": [
    "class cooper(car):\n",
    "    def __init__(self,window,seat,enginemodel):\n",
    "        #to inherit from parent class we use\n",
    "        super().__init__(window,seat)\n",
    "        self.enginemodel=enginemodel\n",
    "    def aidriven(self):\n",
    "        return 'mg supports self driving'"
   ]
  },
  {
   "cell_type": "code",
   "execution_count": 35,
   "id": "d531e789",
   "metadata": {},
   "outputs": [],
   "source": [
    "mini_cooper=cooper(2,4,'diesel')"
   ]
  },
  {
   "cell_type": "code",
   "execution_count": 36,
   "id": "17c24eb4",
   "metadata": {},
   "outputs": [
    {
     "data": {
      "text/plain": [
       "'diesel'"
      ]
     },
     "execution_count": 36,
     "metadata": {},
     "output_type": "execute_result"
    }
   ],
   "source": [
    "mini_cooper.enginemodel"
   ]
  },
  {
   "cell_type": "code",
   "execution_count": 57,
   "id": "a1291747",
   "metadata": {},
   "outputs": [],
   "source": [
    "class mahindra(cooper,mg):\n",
    "    def __init__(self,window,seat,enginemodel,enginetype,enableai,safety_rating):\n",
    "        super().__init__(window,seat,enginemodel,enginetype,enableai)\n",
    "        self.safety_rating=safety_rating\n",
    "    def aidriven(self):\n",
    "        return 'mg supports self driving'"
   ]
  },
  {
   "cell_type": "code",
   "execution_count": 61,
   "id": "fe7d714c",
   "metadata": {},
   "outputs": [
    {
     "ename": "TypeError",
     "evalue": "__init__() takes 4 positional arguments but 6 were given",
     "output_type": "error",
     "traceback": [
      "\u001b[0;31m---------------------------------------------------------------------------\u001b[0m",
      "\u001b[0;31mTypeError\u001b[0m                                 Traceback (most recent call last)",
      "Cell \u001b[0;32mIn[61], line 1\u001b[0m\n\u001b[0;32m----> 1\u001b[0m xuv700\u001b[38;5;241m=\u001b[39m\u001b[43mmahindra\u001b[49m\u001b[43m(\u001b[49m\u001b[38;5;241;43m4\u001b[39;49m\u001b[43m,\u001b[49m\u001b[38;5;241;43m6\u001b[39;49m\u001b[43m,\u001b[49m\u001b[38;5;124;43m'\u001b[39;49m\u001b[38;5;124;43mdiesel\u001b[39;49m\u001b[38;5;124;43m'\u001b[39;49m\u001b[43m,\u001b[49m\u001b[38;5;124;43m'\u001b[39;49m\u001b[38;5;124;43mcarce\u001b[39;49m\u001b[38;5;124;43m'\u001b[39;49m\u001b[43m,\u001b[49m\u001b[38;5;241;43m1\u001b[39;49m\u001b[43m,\u001b[49m\u001b[38;5;241;43m3.5\u001b[39;49m\u001b[43m)\u001b[49m\n",
      "Cell \u001b[0;32mIn[57], line 3\u001b[0m, in \u001b[0;36mmahindra.__init__\u001b[0;34m(self, window, seat, enginemodel, enginetype, enableai, safety_rating)\u001b[0m\n\u001b[1;32m      2\u001b[0m \u001b[38;5;28;01mdef\u001b[39;00m \u001b[38;5;21m__init__\u001b[39m(\u001b[38;5;28mself\u001b[39m,window,seat,enginemodel,enginetype,enableai,safety_rating):\n\u001b[0;32m----> 3\u001b[0m     \u001b[38;5;28;43msuper\u001b[39;49m\u001b[43m(\u001b[49m\u001b[43m)\u001b[49m\u001b[38;5;241;43m.\u001b[39;49m\u001b[38;5;21;43m__init__\u001b[39;49m\u001b[43m(\u001b[49m\u001b[43mwindow\u001b[49m\u001b[43m,\u001b[49m\u001b[43mseat\u001b[49m\u001b[43m,\u001b[49m\u001b[43menginemodel\u001b[49m\u001b[43m,\u001b[49m\u001b[43menginetype\u001b[49m\u001b[43m,\u001b[49m\u001b[43menableai\u001b[49m\u001b[43m)\u001b[49m\n\u001b[1;32m      4\u001b[0m     \u001b[38;5;28mself\u001b[39m\u001b[38;5;241m.\u001b[39msafety_rating\u001b[38;5;241m=\u001b[39msafety_rating\n",
      "\u001b[0;31mTypeError\u001b[0m: __init__() takes 4 positional arguments but 6 were given"
     ]
    }
   ],
   "source": [
    "xuv700=mahindra(4,6,'diesel','carce',1,3.5)"
   ]
  },
  {
   "cell_type": "code",
   "execution_count": 63,
   "id": "ce721727",
   "metadata": {},
   "outputs": [
    {
     "data": {
      "text/plain": [
       "'mg supports self driving'"
      ]
     },
     "execution_count": 63,
     "metadata": {},
     "output_type": "execute_result"
    }
   ],
   "source": [
    "xuv700.aidriven()"
   ]
  },
  {
   "cell_type": "code",
   "execution_count": 9,
   "id": "6289da1c",
   "metadata": {},
   "outputs": [],
   "source": [
    "class car:\n",
    "    def __init__(self,window,seat):\n",
    "        self.windows=window\n",
    "        self.seats=seat\n",
    "class cooper(car):\n",
    "    def __init__(self,window,seat,enginemodel):\n",
    "        super().__init__(window,seat)\n",
    "        self.enginemodel=enginemodel\n",
    "    def drive(self):\n",
    "        return 'drive car'\n",
    "class mahindra(cooper,car):\n",
    "    def __init__(self,window,seat,enginemodel,safety_rating):\n",
    "        super().__init__(window,seat,enginemodel)\n",
    "        self.safety_rating=safety_rating"
   ]
  },
  {
   "cell_type": "code",
   "execution_count": 10,
   "id": "4e801a85",
   "metadata": {},
   "outputs": [],
   "source": [
    "xuv700=mahindra(4,7,'diesel',3.5)"
   ]
  },
  {
   "cell_type": "code",
   "execution_count": 11,
   "id": "8d5b9653",
   "metadata": {},
   "outputs": [
    {
     "data": {
      "text/plain": [
       "3.5"
      ]
     },
     "execution_count": 11,
     "metadata": {},
     "output_type": "execute_result"
    }
   ],
   "source": [
    "xuv700.safety_rating"
   ]
  },
  {
   "cell_type": "code",
   "execution_count": 12,
   "id": "de9a440c",
   "metadata": {},
   "outputs": [
    {
     "data": {
      "text/plain": [
       "'drive car'"
      ]
     },
     "execution_count": 12,
     "metadata": {},
     "output_type": "execute_result"
    }
   ],
   "source": [
    "xuv700.drive()"
   ]
  },
  {
   "cell_type": "markdown",
   "id": "adf05dd8",
   "metadata": {},
   "source": [
    "### Magic Methods"
   ]
  },
  {
   "cell_type": "code",
   "execution_count": 28,
   "id": "0e47eee0",
   "metadata": {},
   "outputs": [],
   "source": [
    "class car:\n",
    "    def __init__(self,window,seat):\n",
    "        self.windows=window\n",
    "        self.seats=seat\n",
    "    def self_driving(self):\n",
    "        return'this car has {} seats'.format(self.seats)"
   ]
  },
  {
   "cell_type": "code",
   "execution_count": 29,
   "id": "185f39ef",
   "metadata": {},
   "outputs": [],
   "source": [
    "mg=car(2,4)"
   ]
  },
  {
   "cell_type": "code",
   "execution_count": 30,
   "id": "bf301add",
   "metadata": {},
   "outputs": [
    {
     "name": "stdout",
     "output_type": "stream",
     "text": [
      "<__main__.car object at 0x7fb06a1a0520>\n"
     ]
    }
   ],
   "source": [
    "print(mg)"
   ]
  },
  {
   "cell_type": "code",
   "execution_count": 15,
   "id": "4de660c2",
   "metadata": {},
   "outputs": [
    {
     "data": {
      "text/plain": [
       "['__class__',\n",
       " '__delattr__',\n",
       " '__dict__',\n",
       " '__dir__',\n",
       " '__doc__',\n",
       " '__eq__',\n",
       " '__format__',\n",
       " '__ge__',\n",
       " '__getattribute__',\n",
       " '__gt__',\n",
       " '__hash__',\n",
       " '__init__',\n",
       " '__init_subclass__',\n",
       " '__le__',\n",
       " '__lt__',\n",
       " '__module__',\n",
       " '__ne__',\n",
       " '__new__',\n",
       " '__reduce__',\n",
       " '__reduce_ex__',\n",
       " '__repr__',\n",
       " '__setattr__',\n",
       " '__sizeof__',\n",
       " '__str__',\n",
       " '__subclasshook__',\n",
       " '__weakref__',\n",
       " 'seats',\n",
       " 'self_driving',\n",
       " 'windows']"
      ]
     },
     "execution_count": 15,
     "metadata": {},
     "output_type": "execute_result"
    }
   ],
   "source": [
    "dir(mg)"
   ]
  },
  {
   "cell_type": "code",
   "execution_count": 31,
   "id": "a0807217",
   "metadata": {},
   "outputs": [],
   "source": [
    "class car:\n",
    "    def __init__(self,window,seat):\n",
    "        self.windows=window\n",
    "        self.seats=seat\n",
    "    def __str__(self):   #magic method.. overrides __init__ constructor\n",
    "        return 'pappulo kallesav'\n",
    "    def self_driving(self):\n",
    "        return'this car has {} seats'.format(self.seats)"
   ]
  },
  {
   "cell_type": "code",
   "execution_count": 32,
   "id": "e54648cb",
   "metadata": {},
   "outputs": [],
   "source": [
    "mg=car(2,4)"
   ]
  },
  {
   "cell_type": "code",
   "execution_count": 33,
   "id": "ed3057aa",
   "metadata": {},
   "outputs": [
    {
     "name": "stdout",
     "output_type": "stream",
     "text": [
      "pappulo kallesav\n"
     ]
    }
   ],
   "source": [
    "print(mg)"
   ]
  },
  {
   "cell_type": "code",
   "execution_count": 34,
   "id": "08ea6ea4",
   "metadata": {},
   "outputs": [
    {
     "data": {
      "text/plain": [
       "32"
      ]
     },
     "execution_count": 34,
     "metadata": {},
     "output_type": "execute_result"
    }
   ],
   "source": [
    "mg.__sizeof__()"
   ]
  },
  {
   "cell_type": "code",
   "execution_count": 35,
   "id": "e18d5f79",
   "metadata": {},
   "outputs": [],
   "source": [
    "class car:\n",
    "    def __init__(self,window,seat):\n",
    "        self.windows=window\n",
    "        self.seats=seat\n",
    "    def __str__(self):   #magic method.. overrides __init__ constructor\n",
    "        return 'pappulo kallesav'\n",
    "    def __sizeof__(self):\n",
    "        return 'marla pappe'\n",
    "    def self_driving(self):\n",
    "        return'this car has {} seats'.format(self.seats)"
   ]
  },
  {
   "cell_type": "code",
   "execution_count": 36,
   "id": "ad4c1a8e",
   "metadata": {},
   "outputs": [],
   "source": [
    "mini=car(4,5)"
   ]
  },
  {
   "cell_type": "code",
   "execution_count": 39,
   "id": "f340bab8",
   "metadata": {},
   "outputs": [
    {
     "data": {
      "text/plain": [
       "'marla pappe'"
      ]
     },
     "execution_count": 39,
     "metadata": {},
     "output_type": "execute_result"
    }
   ],
   "source": [
    "mini.__sizeof__()"
   ]
  },
  {
   "cell_type": "code",
   "execution_count": 40,
   "id": "bfb0acad",
   "metadata": {},
   "outputs": [
    {
     "data": {
      "text/plain": [
       "'pappulo kallesav'"
      ]
     },
     "execution_count": 40,
     "metadata": {},
     "output_type": "execute_result"
    }
   ],
   "source": [
    "mini.__str__()"
   ]
  },
  {
   "cell_type": "code",
   "execution_count": 41,
   "id": "b9936eaa",
   "metadata": {},
   "outputs": [],
   "source": [
    "class car:\n",
    "    def __new__(self,window,seat):\n",
    "        print('object is getting started')\n",
    "    def __init__(self,window,seat):\n",
    "        self.windows=window\n",
    "        self.seats=seat\n",
    "    def __str__(self):   #magic method.. overrides __init__ constructor\n",
    "        return 'pappulo kallesav'\n",
    "    def __sizeof__(self):\n",
    "        return 'marla pappe'\n",
    "    def self_driving(self):\n",
    "        return'this car has {} seats'.format(self.seats)"
   ]
  },
  {
   "cell_type": "code",
   "execution_count": 42,
   "id": "ed7f7cae",
   "metadata": {},
   "outputs": [
    {
     "name": "stdout",
     "output_type": "stream",
     "text": [
      "object is getting started\n"
     ]
    }
   ],
   "source": [
    "mini=car(4,5)"
   ]
  },
  {
   "cell_type": "markdown",
   "id": "2591f4b1",
   "metadata": {},
   "source": [
    "#### Polymorphism - one method in different ways- same function but handles different data\n",
    "1. method overloading\n",
    "2. method overriding"
   ]
  },
  {
   "cell_type": "markdown",
   "id": "d91462ea",
   "metadata": {},
   "source": [
    "#### Method overloading - different parameters having same name"
   ]
  },
  {
   "cell_type": "code",
   "execution_count": 12,
   "id": "115378f9",
   "metadata": {},
   "outputs": [
    {
     "name": "stdout",
     "output_type": "stream",
     "text": [
      "3\n",
      "12\n",
      "15\n"
     ]
    }
   ],
   "source": [
    "def add(a,b,c=0,d=0,e=0):  #default values\n",
    "    sum= a+b+c+d+e\n",
    "    print(sum)\n",
    "add(1,2)\n",
    "add(3,4,5)\n",
    "add(1,2,3,4,5)"
   ]
  },
  {
   "cell_type": "markdown",
   "id": "fcb83d43",
   "metadata": {},
   "source": [
    "#### Method overriding - same name and same parameters"
   ]
  },
  {
   "cell_type": "code",
   "execution_count": 42,
   "id": "e1928b56",
   "metadata": {},
   "outputs": [],
   "source": [
    "class father:\n",
    "    def __init__(self,height=5.7,education='btech'):\n",
    "        self.height=height\n",
    "        self.education=education\n",
    "    def height(self):\n",
    "        print('height: ',height)\n",
    "    def education(self):\n",
    "        print('education: ',education)"
   ]
  },
  {
   "cell_type": "code",
   "execution_count": 62,
   "id": "a3108f8a",
   "metadata": {},
   "outputs": [],
   "source": [
    "class son(father):\n",
    "    def __init__(self,height,education,job):\n",
    "        father.__init__(self,height,education)\n",
    "        self.height=height\n",
    "        self.education=education\n",
    "        self.job=job\n",
    "    def height(self):\n",
    "        print('height: ',height)\n",
    "    def job(self):\n",
    "        print('job: ',lastname)"
   ]
  },
  {
   "cell_type": "code",
   "execution_count": 55,
   "id": "292241ac",
   "metadata": {},
   "outputs": [],
   "source": [
    "Father=father()"
   ]
  },
  {
   "cell_type": "code",
   "execution_count": 56,
   "id": "3d9681ab",
   "metadata": {},
   "outputs": [
    {
     "data": {
      "text/plain": [
       "5.7"
      ]
     },
     "execution_count": 56,
     "metadata": {},
     "output_type": "execute_result"
    }
   ],
   "source": [
    "Father.height"
   ]
  },
  {
   "cell_type": "code",
   "execution_count": 57,
   "id": "8f2bc653",
   "metadata": {},
   "outputs": [
    {
     "data": {
      "text/plain": [
       "'btech'"
      ]
     },
     "execution_count": 57,
     "metadata": {},
     "output_type": "execute_result"
    }
   ],
   "source": [
    "Father.education"
   ]
  },
  {
   "cell_type": "code",
   "execution_count": 63,
   "id": "8a36bc57",
   "metadata": {},
   "outputs": [],
   "source": [
    "Son=son(5.6,'degree','sde')"
   ]
  },
  {
   "cell_type": "code",
   "execution_count": 64,
   "id": "b8c87814",
   "metadata": {},
   "outputs": [
    {
     "data": {
      "text/plain": [
       "'sde'"
      ]
     },
     "execution_count": 64,
     "metadata": {},
     "output_type": "execute_result"
    }
   ],
   "source": [
    "Son.job"
   ]
  },
  {
   "cell_type": "code",
   "execution_count": 65,
   "id": "740772f4",
   "metadata": {},
   "outputs": [
    {
     "data": {
      "text/plain": [
       "5.6"
      ]
     },
     "execution_count": 65,
     "metadata": {},
     "output_type": "execute_result"
    }
   ],
   "source": [
    "Son.height"
   ]
  },
  {
   "cell_type": "code",
   "execution_count": 66,
   "id": "8bf064c8",
   "metadata": {},
   "outputs": [
    {
     "data": {
      "text/plain": [
       "'degree'"
      ]
     },
     "execution_count": 66,
     "metadata": {},
     "output_type": "execute_result"
    }
   ],
   "source": [
    "Son.education"
   ]
  },
  {
   "cell_type": "code",
   "execution_count": 69,
   "id": "8099902b",
   "metadata": {},
   "outputs": [
    {
     "name": "stdout",
     "output_type": "stream",
     "text": [
      "<__main__.A object at 0x7fb91a33c940>\n"
     ]
    }
   ],
   "source": [
    "class A:\n",
    "    def __init__(self,a,b):\n",
    "        self.a=a\n",
    "        self.b=b\n",
    "obj=A(3,4)\n",
    "print(obj)"
   ]
  },
  {
   "cell_type": "code",
   "execution_count": 73,
   "id": "2ec057c1",
   "metadata": {},
   "outputs": [
    {
     "name": "stdout",
     "output_type": "stream",
     "text": [
      "(3, 4)\n"
     ]
    }
   ],
   "source": [
    "class A:\n",
    "    def __init__(self,a,b):\n",
    "        self.a=a\n",
    "        self.b=b\n",
    "        \n",
    "    def __str__(self):#overrides with str to print parameters as we want\n",
    "        return f'{self.a,self.b}'\n",
    "obj=A(3,4)\n",
    "print(obj)"
   ]
  },
  {
   "cell_type": "markdown",
   "id": "e31064e9",
   "metadata": {},
   "source": [
    "#### Operator overloading"
   ]
  },
  {
   "cell_type": "code",
   "execution_count": 74,
   "id": "c03762da",
   "metadata": {},
   "outputs": [
    {
     "name": "stdout",
     "output_type": "stream",
     "text": [
      "3\n",
      "True\n",
      "True\n"
     ]
    }
   ],
   "source": [
    "print(1+2)\n",
    "print(1<3)\n",
    "print(3>1)"
   ]
  },
  {
   "cell_type": "markdown",
   "id": "13a6dcd6",
   "metadata": {},
   "source": [
    "here compiler know how to evulate operator between two integers.\n",
    "\n",
    "but incase of operator between two objects.it results as below.\n",
    "\n",
    "so we use operator overloading to overcome this"
   ]
  },
  {
   "cell_type": "code",
   "execution_count": 76,
   "id": "ed7195ba",
   "metadata": {},
   "outputs": [
    {
     "ename": "TypeError",
     "evalue": "unsupported operand type(s) for +: 'A' and 'A'",
     "output_type": "error",
     "traceback": [
      "\u001b[0;31m---------------------------------------------------------------------------\u001b[0m",
      "\u001b[0;31mTypeError\u001b[0m                                 Traceback (most recent call last)",
      "Cell \u001b[0;32mIn[76], line 6\u001b[0m\n\u001b[1;32m      4\u001b[0m obj\u001b[38;5;241m=\u001b[39mA(\u001b[38;5;241m10\u001b[39m)\n\u001b[1;32m      5\u001b[0m obj1\u001b[38;5;241m=\u001b[39mA(\u001b[38;5;241m20\u001b[39m)\n\u001b[0;32m----> 6\u001b[0m \u001b[38;5;28mprint\u001b[39m(\u001b[43mobj\u001b[49m\u001b[38;5;241;43m+\u001b[39;49m\u001b[43mobj1\u001b[49m)\n",
      "\u001b[0;31mTypeError\u001b[0m: unsupported operand type(s) for +: 'A' and 'A'"
     ]
    }
   ],
   "source": [
    "class A:\n",
    "    def __init__(self,a):\n",
    "        self.a=a\n",
    "obj=A(10)\n",
    "obj1=A(20)\n",
    "print(obj+obj1)"
   ]
  },
  {
   "cell_type": "markdown",
   "id": "bbabec9a",
   "metadata": {},
   "source": [
    "- '+' -- __add__\n",
    "- '-' -- __sub__\n",
    "- '*' -- __mul__\n",
    "- '>' -- __gt__\n",
    "- '<' -- __lt__"
   ]
  },
  {
   "cell_type": "code",
   "execution_count": 84,
   "id": "fb001057",
   "metadata": {},
   "outputs": [
    {
     "name": "stdout",
     "output_type": "stream",
     "text": [
      "30\n"
     ]
    }
   ],
   "source": [
    "class A:\n",
    "    def __init__(self,a):\n",
    "        self.a=a\n",
    "    def __add__(self,other):\n",
    "        return self.a + other.a\n",
    "obj=A(10)\n",
    "obj1=A(20)\n",
    "print(obj+obj1)"
   ]
  },
  {
   "cell_type": "markdown",
   "id": "8cf1658b",
   "metadata": {},
   "source": [
    "### Expection Handling"
   ]
  },
  {
   "cell_type": "code",
   "execution_count": 43,
   "id": "45c84dcf",
   "metadata": {},
   "outputs": [
    {
     "ename": "NameError",
     "evalue": "name 'b' is not defined",
     "output_type": "error",
     "traceback": [
      "\u001b[0;31m---------------------------------------------------------------------------\u001b[0m",
      "\u001b[0;31mNameError\u001b[0m                                 Traceback (most recent call last)",
      "Cell \u001b[0;32mIn[43], line 1\u001b[0m\n\u001b[0;32m----> 1\u001b[0m a\u001b[38;5;241m=\u001b[39m\u001b[43mb\u001b[49m\n",
      "\u001b[0;31mNameError\u001b[0m: name 'b' is not defined"
     ]
    }
   ],
   "source": [
    "a=b"
   ]
  },
  {
   "cell_type": "code",
   "execution_count": 1,
   "id": "11de469b",
   "metadata": {},
   "outputs": [
    {
     "name": "stdout",
     "output_type": "stream",
     "text": [
      "name 'b' is not defined\n"
     ]
    }
   ],
   "source": [
    "try:\n",
    "    a=b\n",
    "except Exception as ex:  #use exception to get exact error in error\n",
    "    print(ex)"
   ]
  },
  {
   "cell_type": "code",
   "execution_count": 47,
   "id": "d3d1dbf8",
   "metadata": {},
   "outputs": [
    {
     "name": "stdout",
     "output_type": "stream",
     "text": [
      "give a value to \"b\"\n"
     ]
    }
   ],
   "source": [
    "try:\n",
    "    a=b\n",
    "except: #customize own error message\n",
    "    print('give a value to \"b\"')"
   ]
  },
  {
   "cell_type": "code",
   "execution_count": 49,
   "id": "8f0e759c",
   "metadata": {},
   "outputs": [
    {
     "name": "stdout",
     "output_type": "stream",
     "text": [
      "give a value to \"b\"\n"
     ]
    }
   ],
   "source": [
    "try:\n",
    "    a=b\n",
    "except NameError as ex1:   #customize own error message\n",
    "    #chances of getting this error we can use this\n",
    "    print('give a value to \"b\"')\n",
    "except Exception as ex: #if exceeds known errors use this\n",
    "    print(ex)"
   ]
  },
  {
   "cell_type": "code",
   "execution_count": 50,
   "id": "1090db0a",
   "metadata": {},
   "outputs": [
    {
     "name": "stdout",
     "output_type": "stream",
     "text": [
      "120\n",
      "chala kastabaddav..\n"
     ]
    }
   ],
   "source": [
    "try:\n",
    "    n=12\n",
    "    a=10\n",
    "    i=n*a\n",
    "except Exception as ex:\n",
    "    print('inkosari chusuko..')\n",
    "else:\n",
    "    print(i)\n",
    "finally:\n",
    "    print('chala kastabaddav..')"
   ]
  },
  {
   "cell_type": "markdown",
   "id": "921a4361",
   "metadata": {},
   "source": [
    "### Custom Exception handling"
   ]
  },
  {
   "cell_type": "code",
   "execution_count": 3,
   "id": "bd4d1039",
   "metadata": {},
   "outputs": [],
   "source": [
    "class Error(Exception):    #common custom exception handling\n",
    "    pass\n",
    "\n",
    "class dobexception(Error):\n",
    "    pass"
   ]
  },
  {
   "cell_type": "code",
   "execution_count": 4,
   "id": "a802c966",
   "metadata": {},
   "outputs": [
    {
     "name": "stdout",
     "output_type": "stream",
     "text": [
      "enter the year: 1990\n",
      "you are not eligible to apply\n"
     ]
    }
   ],
   "source": [
    "year=int(input('enter the year: '))\n",
    "age=2023-year\n",
    "try:\n",
    "    if age<=30 & age>=20:\n",
    "        print('you are eligible.')\n",
    "    else:\n",
    "        raise dobexception\n",
    "except dobexception:\n",
    "    print('you are not eligible to apply')"
   ]
  },
  {
   "cell_type": "code",
   "execution_count": 17,
   "id": "4b052672",
   "metadata": {},
   "outputs": [],
   "source": [
    "class Error(Exception):\n",
    "    pass\n",
    "\n",
    "class NameError(Error):\n",
    "    pass\n",
    "class Exception(NameError):\n",
    "    pass"
   ]
  },
  {
   "cell_type": "code",
   "execution_count": 23,
   "id": "0ece49ca",
   "metadata": {},
   "outputs": [
    {
     "name": "stdout",
     "output_type": "stream",
     "text": [
      "give a value to \"b\"\n"
     ]
    }
   ],
   "source": [
    "try:\n",
    "    a=b\n",
    "except:\n",
    "    print('give a value to \"b\"')"
   ]
  },
  {
   "cell_type": "code",
   "execution_count": 2,
   "id": "e11c5344",
   "metadata": {},
   "outputs": [
    {
     "name": "stdout",
     "output_type": "stream",
     "text": [
      "name 'b' is not defined\n"
     ]
    }
   ],
   "source": [
    "try:\n",
    "    a=b\n",
    "except Exception as ex:\n",
    "    print(ex)"
   ]
  },
  {
   "cell_type": "markdown",
   "id": "0f72d68e",
   "metadata": {},
   "source": [
    "#### Assert\n",
    "\n",
    "\n",
    "python provides assert statement to check if a given logical expression is true or false.python execution proceeds only if the expression is true and raises the assertionerror when it is false. the following code shows the usage of the assert statement"
   ]
  },
  {
   "cell_type": "code",
   "execution_count": 75,
   "id": "53b774ec",
   "metadata": {},
   "outputs": [
    {
     "data": {
      "text/plain": [
       "True"
      ]
     },
     "execution_count": 75,
     "metadata": {},
     "output_type": "execute_result"
    }
   ],
   "source": [
    "10>=10"
   ]
  },
  {
   "cell_type": "code",
   "execution_count": 80,
   "id": "e1e67f83",
   "metadata": {},
   "outputs": [],
   "source": [
    "assert 10>=10  #expression is true so exceution proceeds"
   ]
  },
  {
   "cell_type": "code",
   "execution_count": 81,
   "id": "7edb6b62",
   "metadata": {},
   "outputs": [
    {
     "ename": "AssertionError",
     "evalue": "",
     "output_type": "error",
     "traceback": [
      "\u001b[0;31m---------------------------------------------------------------------------\u001b[0m",
      "\u001b[0;31mAssertionError\u001b[0m                            Traceback (most recent call last)",
      "Cell \u001b[0;32mIn[81], line 1\u001b[0m\n\u001b[0;32m----> 1\u001b[0m \u001b[38;5;28;01massert\u001b[39;00m \u001b[38;5;241m10\u001b[39m\u001b[38;5;241m>\u001b[39m\u001b[38;5;241m10\u001b[39m\n",
      "\u001b[0;31mAssertionError\u001b[0m: "
     ]
    }
   ],
   "source": [
    "assert 10>10"
   ]
  },
  {
   "cell_type": "code",
   "execution_count": 88,
   "id": "7264db57",
   "metadata": {},
   "outputs": [
    {
     "name": "stdout",
     "output_type": "stream",
     "text": [
      "please correct it\n"
     ]
    }
   ],
   "source": [
    "try:\n",
    "    assert 10>10\n",
    "except AssertionError:\n",
    "    print('please correct it')"
   ]
  },
  {
   "cell_type": "markdown",
   "id": "36a330ff",
   "metadata": {},
   "source": [
    "#### Function copy"
   ]
  },
  {
   "cell_type": "code",
   "execution_count": 8,
   "id": "ec829e01",
   "metadata": {},
   "outputs": [],
   "source": [
    "def func(a,b):\n",
    "    add=a+b\n",
    "    return add"
   ]
  },
  {
   "cell_type": "code",
   "execution_count": 10,
   "id": "319a8727",
   "metadata": {},
   "outputs": [],
   "source": [
    "new_func=func(2,3)"
   ]
  },
  {
   "cell_type": "code",
   "execution_count": 11,
   "id": "3f2dbd75",
   "metadata": {},
   "outputs": [
    {
     "data": {
      "text/plain": [
       "5"
      ]
     },
     "execution_count": 11,
     "metadata": {},
     "output_type": "execute_result"
    }
   ],
   "source": [
    "new_func"
   ]
  },
  {
   "cell_type": "code",
   "execution_count": 12,
   "id": "f1976da8",
   "metadata": {},
   "outputs": [
    {
     "data": {
      "text/plain": [
       "5"
      ]
     },
     "execution_count": 12,
     "metadata": {},
     "output_type": "execute_result"
    }
   ],
   "source": [
    "func(2,3)"
   ]
  },
  {
   "cell_type": "code",
   "execution_count": 13,
   "id": "f7b892ef",
   "metadata": {},
   "outputs": [],
   "source": [
    "new_func=func(2,3)\n",
    "del func"
   ]
  },
  {
   "cell_type": "code",
   "execution_count": 14,
   "id": "ec311d7f",
   "metadata": {},
   "outputs": [
    {
     "data": {
      "text/plain": [
       "5"
      ]
     },
     "execution_count": 14,
     "metadata": {},
     "output_type": "execute_result"
    }
   ],
   "source": [
    "new_func"
   ]
  },
  {
   "cell_type": "code",
   "execution_count": 15,
   "id": "4abbbb07",
   "metadata": {},
   "outputs": [
    {
     "ename": "NameError",
     "evalue": "name 'func' is not defined",
     "output_type": "error",
     "traceback": [
      "\u001b[0;31m---------------------------------------------------------------------------\u001b[0m",
      "\u001b[0;31mNameError\u001b[0m                                 Traceback (most recent call last)",
      "Cell \u001b[0;32mIn[15], line 1\u001b[0m\n\u001b[0;32m----> 1\u001b[0m \u001b[43mfunc\u001b[49m(\u001b[38;5;241m2\u001b[39m,\u001b[38;5;241m3\u001b[39m)\n",
      "\u001b[0;31mNameError\u001b[0m: name 'func' is not defined"
     ]
    }
   ],
   "source": [
    "func(2,3)"
   ]
  },
  {
   "cell_type": "markdown",
   "id": "fcf4e610",
   "metadata": {},
   "source": [
    "#### Closures\n",
    "function inside a function\n",
    "\n",
    "In closures,whatever variable we assign in parent function.we can access it to child function"
   ]
  },
  {
   "cell_type": "code",
   "execution_count": 24,
   "id": "8ebc56e8",
   "metadata": {},
   "outputs": [],
   "source": [
    "def parent_func():\n",
    "    msg='hello everyone'\n",
    "    def child_func():\n",
    "        print(msg,'\"Please welcome\"')\n",
    "    return child_func()"
   ]
  },
  {
   "cell_type": "code",
   "execution_count": 25,
   "id": "939d4e58",
   "metadata": {},
   "outputs": [
    {
     "name": "stdout",
     "output_type": "stream",
     "text": [
      "hello everyone \"Please welcome\"\n"
     ]
    }
   ],
   "source": [
    "parent_func()"
   ]
  },
  {
   "cell_type": "code",
   "execution_count": 45,
   "id": "6a3d6c50",
   "metadata": {},
   "outputs": [],
   "source": [
    "def parent_func(msg):\n",
    "    print('hello everyone')\n",
    "    def child_func():\n",
    "        msg()\n",
    "        print(\"Please welcome\")\n",
    "    return child_func()"
   ]
  },
  {
   "cell_type": "code",
   "execution_count": 46,
   "id": "71a09368",
   "metadata": {},
   "outputs": [
    {
     "name": "stdout",
     "output_type": "stream",
     "text": [
      "hello everyone\n",
      "\n",
      "Please welcome\n"
     ]
    }
   ],
   "source": [
    "parent_func(print)"
   ]
  },
  {
   "cell_type": "markdown",
   "id": "fc86ceba",
   "metadata": {},
   "source": [
    "### Decorators\n",
    "\n",
    "Function accessing another function as a parameter."
   ]
  },
  {
   "cell_type": "code",
   "execution_count": 58,
   "id": "f5fcec60",
   "metadata": {},
   "outputs": [],
   "source": [
    "##intital decorators\n",
    "def parent_func(msg):\n",
    "    def child_func():\n",
    "        print('vinay')\n",
    "        msg()\n",
    "        print(\"Please welcome\")\n",
    "    return child_func()"
   ]
  },
  {
   "cell_type": "code",
   "execution_count": 59,
   "id": "d67dd2c0",
   "metadata": {},
   "outputs": [
    {
     "name": "stdout",
     "output_type": "stream",
     "text": [
      "vinay\n",
      "\n",
      "Please welcome\n"
     ]
    }
   ],
   "source": [
    "parent_func(print)"
   ]
  },
  {
   "cell_type": "code",
   "execution_count": 60,
   "id": "30d4d028",
   "metadata": {},
   "outputs": [],
   "source": [
    "def sub_func():\n",
    "    print('alright')"
   ]
  },
  {
   "cell_type": "code",
   "execution_count": 61,
   "id": "ebf9cb79",
   "metadata": {},
   "outputs": [
    {
     "name": "stdout",
     "output_type": "stream",
     "text": [
      "vinay\n",
      "alright\n",
      "Please welcome\n"
     ]
    }
   ],
   "source": [
    "parent_func(sub_func)"
   ]
  },
  {
   "cell_type": "code",
   "execution_count": 70,
   "id": "8b8473f5",
   "metadata": {},
   "outputs": [],
   "source": [
    "##another method for decorators incase of having lot of functions\n",
    "def parent_func(msg):\n",
    "    def child_func():\n",
    "        msg()\n",
    "        print('vinay')\n",
    "        print(\"Please welcome\")\n",
    "    return child_func()"
   ]
  },
  {
   "cell_type": "code",
   "execution_count": 71,
   "id": "de03ab7a",
   "metadata": {},
   "outputs": [],
   "source": [
    "def sub_func():\n",
    "    print('alright')"
   ]
  },
  {
   "cell_type": "code",
   "execution_count": 72,
   "id": "d2990a63",
   "metadata": {},
   "outputs": [
    {
     "name": "stdout",
     "output_type": "stream",
     "text": [
      "alright\n",
      "vinay\n",
      "Please welcome\n"
     ]
    }
   ],
   "source": [
    "@parent_func\n",
    "def sub_func():\n",
    "    print('alright')"
   ]
  },
  {
   "cell_type": "markdown",
   "id": "90179417",
   "metadata": {},
   "source": [
    "### Class methods and Class variables"
   ]
  },
  {
   "cell_type": "markdown",
   "id": "066ae100",
   "metadata": {},
   "source": [
    "#### Class methods"
   ]
  },
  {
   "cell_type": "code",
   "execution_count": 144,
   "id": "aebbe35f",
   "metadata": {},
   "outputs": [],
   "source": [
    "class car:\n",
    "    base_price=10000\n",
    "    def __init__(self,windows,doors,power):\n",
    "        self.windows=windows\n",
    "        self.doors=doors\n",
    "        self.power=power\n",
    "    def org_base_price(self):\n",
    "        print('base price is {}'.format(self.base_price))"
   ]
  },
  {
   "cell_type": "markdown",
   "id": "8b6bae76",
   "metadata": {},
   "source": [
    "when we want update based on previous class variables. In order to do that we use class methods with decorators\n",
    "\n",
    "when self as parameter we are referring instances(objects) of a class.\n",
    "\n",
    "whenever cls as parameter then we are referring directly to class"
   ]
  },
  {
   "cell_type": "code",
   "execution_count": 215,
   "id": "60f064e0",
   "metadata": {},
   "outputs": [],
   "source": [
    "class car:\n",
    "    base_price=10000\n",
    "    def __init__(self,windows,doors,power):\n",
    "        self.windows=windows\n",
    "        self.doors=doors\n",
    "        self.power=power\n",
    "    def org_base_price(self):\n",
    "        print('base price is {}'.format(self.base_price))\n",
    "    @classmethod\n",
    "    def rev_base_price(cls,inflation):\n",
    "        #whenever we define the class method we have to provide cls as parameter\n",
    "        cls.rev_base_price=cls.base_price+cls.base_price*inflation"
   ]
  },
  {
   "cell_type": "code",
   "execution_count": 210,
   "id": "3c7b2352",
   "metadata": {},
   "outputs": [],
   "source": [
    "car.rev_base_price(0.10)"
   ]
  },
  {
   "cell_type": "code",
   "execution_count": 217,
   "id": "edc19ae5",
   "metadata": {},
   "outputs": [],
   "source": [
    "copper=car(4,4,'34bhp')"
   ]
  },
  {
   "cell_type": "code",
   "execution_count": 211,
   "id": "26a8964b",
   "metadata": {},
   "outputs": [
    {
     "data": {
      "text/plain": [
       "11000.0"
      ]
     },
     "execution_count": 211,
     "metadata": {},
     "output_type": "execute_result"
    }
   ],
   "source": [
    "car.rev_base_price"
   ]
  },
  {
   "cell_type": "code",
   "execution_count": 218,
   "id": "f3b69631",
   "metadata": {},
   "outputs": [
    {
     "data": {
      "text/plain": [
       "12000.0"
      ]
     },
     "execution_count": 218,
     "metadata": {},
     "output_type": "execute_result"
    }
   ],
   "source": [
    "copper.rev_base_price"
   ]
  },
  {
   "cell_type": "markdown",
   "id": "c7d352e4",
   "metadata": {},
   "source": [
    "we can also refer classmethods with instances of class but thats not a good practice in real world scenerios\n",
    "so instead refer to class directly with cls parameter"
   ]
  },
  {
   "cell_type": "markdown",
   "id": "130219c1",
   "metadata": {},
   "source": [
    "#### Static methods\n",
    "\n",
    "whenever we defining static methods we no need to assign self or cls as parameter.. mean instance parameter nor class parameter.we no need to provide any parameter.\n",
    "\n",
    "as soon as class is loaded first thing that gets initialized is static method. and gets intialized only once. and cannot create multiple copies of static methods."
   ]
  },
  {
   "cell_type": "code",
   "execution_count": 270,
   "id": "4139179d",
   "metadata": {},
   "outputs": [],
   "source": [
    "import datetime\n",
    "now=datetime.datetime.now()"
   ]
  },
  {
   "cell_type": "code",
   "execution_count": 274,
   "id": "c40c284f",
   "metadata": {},
   "outputs": [
    {
     "data": {
      "text/plain": [
       "2023"
      ]
     },
     "execution_count": 274,
     "metadata": {},
     "output_type": "execute_result"
    }
   ],
   "source": [
    "now.year"
   ]
  },
  {
   "cell_type": "code",
   "execution_count": 313,
   "id": "a67621f3",
   "metadata": {},
   "outputs": [],
   "source": [
    "class car:\n",
    "    base_price=10000\n",
    "    def __init__(self,windows,doors,power):\n",
    "        self.windows=windows\n",
    "        self.doors=doors\n",
    "        self.power=power\n",
    "    def org_base_price(self):\n",
    "        print('base price is {}'.format(self.base_price))\n",
    "    @classmethod\n",
    "    def rev_base_price(cls,inflation):\n",
    "        cls.base_price=cls.base_price+cls.base_price*inflation\n",
    "    @staticmethod\n",
    "    def check_year():\n",
    "        if now.year==2023:\n",
    "            return True\n",
    "        else:\n",
    "            return False"
   ]
  },
  {
   "cell_type": "code",
   "execution_count": 314,
   "id": "740994ed",
   "metadata": {},
   "outputs": [],
   "source": [
    "if car.check_year():\n",
    "    pass\n",
    "else:\n",
    "    car.rev_base_price(0.15)"
   ]
  },
  {
   "cell_type": "code",
   "execution_count": 315,
   "id": "17bc7b09",
   "metadata": {},
   "outputs": [
    {
     "data": {
      "text/plain": [
       "10000"
      ]
     },
     "execution_count": 315,
     "metadata": {},
     "output_type": "execute_result"
    }
   ],
   "source": [
    "car.base_price"
   ]
  },
  {
   "cell_type": "markdown",
   "id": "89106e96",
   "metadata": {},
   "source": [
    "### Boolean evulation \"is vs ==\"\n",
    "\n",
    "== -- comparsion in between\n",
    "\n",
    "is -- same references or not(lst1 is stored in some memory location and lst2 takes that references of that lst1)"
   ]
  },
  {
   "cell_type": "code",
   "execution_count": 89,
   "id": "3896f8f8",
   "metadata": {},
   "outputs": [],
   "source": [
    "lst=['vinay',20,21,22]"
   ]
  },
  {
   "cell_type": "code",
   "execution_count": 90,
   "id": "0cfcf791",
   "metadata": {},
   "outputs": [
    {
     "data": {
      "text/plain": [
       "['vinay', 20, 21, 22]"
      ]
     },
     "execution_count": 90,
     "metadata": {},
     "output_type": "execute_result"
    }
   ],
   "source": [
    "lst"
   ]
  },
  {
   "cell_type": "code",
   "execution_count": 91,
   "id": "bb90ccdd",
   "metadata": {},
   "outputs": [],
   "source": [
    "lst2=[11,20,21,22]"
   ]
  },
  {
   "cell_type": "code",
   "execution_count": 92,
   "id": "d4079528",
   "metadata": {},
   "outputs": [
    {
     "data": {
      "text/plain": [
       "False"
      ]
     },
     "execution_count": 92,
     "metadata": {},
     "output_type": "execute_result"
    }
   ],
   "source": [
    "lst2 is lst"
   ]
  },
  {
   "cell_type": "code",
   "execution_count": 93,
   "id": "198d47f5",
   "metadata": {},
   "outputs": [
    {
     "data": {
      "text/plain": [
       "False"
      ]
     },
     "execution_count": 93,
     "metadata": {},
     "output_type": "execute_result"
    }
   ],
   "source": [
    "lst2==lst"
   ]
  },
  {
   "cell_type": "markdown",
   "id": "b79a0a1e",
   "metadata": {},
   "source": [
    "### =, shallow copy, deep copy\n",
    "\n",
    "for both shallow copy and deep copy.. the data should be of collection and that should be mutable\n",
    "\n",
    "= -- collection stores in same memory location.so when one collection modifies then other collection also changes.\n",
    "\n",
    "shallowcopy -- collection stores in different memory locations.so when one collection modifies other collection wont changes. \n",
    "\n",
    "but incase of nested list shallow copy is not applicable.so we use deep copy\n",
    "\n",
    "deep copy -- ollection stores in different memory locations.so when one collection modifies other collection wont changes. \n",
    "\n",
    "\n",
    "In normal list shallow is same as deep copy\n",
    "\n",
    "but incase of nested list it varies"
   ]
  },
  {
   "cell_type": "code",
   "execution_count": 94,
   "id": "c6b66a8f",
   "metadata": {},
   "outputs": [
    {
     "data": {
      "text/plain": [
       "['vinay', 20, 21, 22]"
      ]
     },
     "execution_count": 94,
     "metadata": {},
     "output_type": "execute_result"
    }
   ],
   "source": [
    "lst"
   ]
  },
  {
   "cell_type": "code",
   "execution_count": 95,
   "id": "b6c11708",
   "metadata": {},
   "outputs": [],
   "source": [
    "#\n",
    "lst2=lst"
   ]
  },
  {
   "cell_type": "code",
   "execution_count": 96,
   "id": "95dc4d99",
   "metadata": {},
   "outputs": [
    {
     "data": {
      "text/plain": [
       "['vinay', 20, 21, 22]"
      ]
     },
     "execution_count": 96,
     "metadata": {},
     "output_type": "execute_result"
    }
   ],
   "source": [
    "lst2"
   ]
  },
  {
   "cell_type": "code",
   "execution_count": 97,
   "id": "03e790b5",
   "metadata": {},
   "outputs": [
    {
     "data": {
      "text/plain": [
       "['vinay', 20, 21, 22]"
      ]
     },
     "execution_count": 97,
     "metadata": {},
     "output_type": "execute_result"
    }
   ],
   "source": [
    "lst"
   ]
  },
  {
   "cell_type": "code",
   "execution_count": 98,
   "id": "1d752356",
   "metadata": {},
   "outputs": [
    {
     "data": {
      "text/plain": [
       "(['vinay', 20, 21, 22], ['vinay', 20, 21, 22])"
      ]
     },
     "execution_count": 98,
     "metadata": {},
     "output_type": "execute_result"
    }
   ],
   "source": [
    "lst2,lst"
   ]
  },
  {
   "cell_type": "code",
   "execution_count": 99,
   "id": "4f7a4920",
   "metadata": {},
   "outputs": [],
   "source": [
    "lst2[0]='kumar'"
   ]
  },
  {
   "cell_type": "code",
   "execution_count": 100,
   "id": "c838dbf1",
   "metadata": {},
   "outputs": [
    {
     "data": {
      "text/plain": [
       "['kumar', 20, 21, 22]"
      ]
     },
     "execution_count": 100,
     "metadata": {},
     "output_type": "execute_result"
    }
   ],
   "source": [
    "lst2"
   ]
  },
  {
   "cell_type": "code",
   "execution_count": 101,
   "id": "99e523dc",
   "metadata": {},
   "outputs": [
    {
     "data": {
      "text/plain": [
       "['kumar', 20, 21, 22]"
      ]
     },
     "execution_count": 101,
     "metadata": {},
     "output_type": "execute_result"
    }
   ],
   "source": [
    "lst"
   ]
  },
  {
   "cell_type": "markdown",
   "id": "a490173a",
   "metadata": {},
   "source": [
    "here when modifying lst2 then lst also get changed.because both the lsts stored in same memory location when used '='"
   ]
  },
  {
   "cell_type": "markdown",
   "id": "9a883bc4",
   "metadata": {},
   "source": [
    "#### copy- kind of shallow copy"
   ]
  },
  {
   "cell_type": "code",
   "execution_count": 104,
   "id": "960b8277",
   "metadata": {},
   "outputs": [
    {
     "data": {
      "text/plain": [
       "['kumar', 20, 21, 22]"
      ]
     },
     "execution_count": 104,
     "metadata": {},
     "output_type": "execute_result"
    }
   ],
   "source": [
    "lst"
   ]
  },
  {
   "cell_type": "code",
   "execution_count": 105,
   "id": "000fa61b",
   "metadata": {},
   "outputs": [],
   "source": [
    "lst2=lst.copy()"
   ]
  },
  {
   "cell_type": "code",
   "execution_count": 106,
   "id": "52cfe2d2",
   "metadata": {},
   "outputs": [
    {
     "data": {
      "text/plain": [
       "['kumar', 20, 21, 22]"
      ]
     },
     "execution_count": 106,
     "metadata": {},
     "output_type": "execute_result"
    }
   ],
   "source": [
    "lst2"
   ]
  },
  {
   "cell_type": "code",
   "execution_count": 107,
   "id": "b9f0cbb8",
   "metadata": {},
   "outputs": [],
   "source": [
    "lst[0]='vinay'"
   ]
  },
  {
   "cell_type": "code",
   "execution_count": 108,
   "id": "42577ebc",
   "metadata": {},
   "outputs": [
    {
     "data": {
      "text/plain": [
       "(['vinay', 20, 21, 22], ['kumar', 20, 21, 22])"
      ]
     },
     "execution_count": 108,
     "metadata": {},
     "output_type": "execute_result"
    }
   ],
   "source": [
    "lst,lst2"
   ]
  },
  {
   "cell_type": "markdown",
   "id": "e9a41222",
   "metadata": {},
   "source": [
    "both lists are having different memory location when used shallow copy"
   ]
  },
  {
   "cell_type": "code",
   "execution_count": 111,
   "id": "aed7efaf",
   "metadata": {},
   "outputs": [],
   "source": [
    "lst1=[[12,13,14,15],[16,17,18,19]]\n",
    "lst2=[22,23,24,25]"
   ]
  },
  {
   "cell_type": "code",
   "execution_count": 116,
   "id": "85273249",
   "metadata": {},
   "outputs": [],
   "source": [
    "lst3=lst1.copy()"
   ]
  },
  {
   "cell_type": "code",
   "execution_count": 113,
   "id": "b1288e2e",
   "metadata": {},
   "outputs": [],
   "source": [
    "lst1[0][2]=20"
   ]
  },
  {
   "cell_type": "code",
   "execution_count": 114,
   "id": "1592aa98",
   "metadata": {},
   "outputs": [
    {
     "data": {
      "text/plain": [
       "[[12, 13, 20, 15], [16, 17, 18, 19]]"
      ]
     },
     "execution_count": 114,
     "metadata": {},
     "output_type": "execute_result"
    }
   ],
   "source": [
    "lst1"
   ]
  },
  {
   "cell_type": "code",
   "execution_count": 117,
   "id": "8ff01456",
   "metadata": {},
   "outputs": [
    {
     "data": {
      "text/plain": [
       "[[12, 13, 20, 15], [16, 17, 18, 19]]"
      ]
     },
     "execution_count": 117,
     "metadata": {},
     "output_type": "execute_result"
    }
   ],
   "source": [
    "lst3"
   ]
  },
  {
   "cell_type": "markdown",
   "id": "bbc0c6d1",
   "metadata": {},
   "source": [
    "incase of nested lists shallow copy is not applicable.it works as =\n",
    "\n",
    "so we use deep copy"
   ]
  },
  {
   "cell_type": "code",
   "execution_count": 119,
   "id": "70a66d01",
   "metadata": {},
   "outputs": [
    {
     "data": {
      "text/plain": [
       "[[12, 13, 20, 15], [16, 17, 18, 19]]"
      ]
     },
     "execution_count": 119,
     "metadata": {},
     "output_type": "execute_result"
    }
   ],
   "source": [
    "lst1"
   ]
  },
  {
   "cell_type": "code",
   "execution_count": 120,
   "id": "fd09d229",
   "metadata": {},
   "outputs": [],
   "source": [
    "lst1.append([31,32,33,34])"
   ]
  },
  {
   "cell_type": "code",
   "execution_count": 121,
   "id": "d47498bc",
   "metadata": {},
   "outputs": [
    {
     "data": {
      "text/plain": [
       "[[12, 13, 20, 15], [16, 17, 18, 19], [31, 32, 33, 34]]"
      ]
     },
     "execution_count": 121,
     "metadata": {},
     "output_type": "execute_result"
    }
   ],
   "source": [
    "lst1"
   ]
  },
  {
   "cell_type": "code",
   "execution_count": 122,
   "id": "e64f5a99",
   "metadata": {},
   "outputs": [
    {
     "data": {
      "text/plain": [
       "[22, 23, 24, 25]"
      ]
     },
     "execution_count": 122,
     "metadata": {},
     "output_type": "execute_result"
    }
   ],
   "source": [
    "lst2"
   ]
  },
  {
   "cell_type": "code",
   "execution_count": 123,
   "id": "3c392c3b",
   "metadata": {},
   "outputs": [],
   "source": [
    "import copy"
   ]
  },
  {
   "cell_type": "code",
   "execution_count": 125,
   "id": "3c2fba57",
   "metadata": {},
   "outputs": [],
   "source": [
    "lst2=copy.deepcopy(lst1)"
   ]
  },
  {
   "cell_type": "code",
   "execution_count": 126,
   "id": "da36176e",
   "metadata": {},
   "outputs": [
    {
     "data": {
      "text/plain": [
       "[[12, 13, 20, 15], [16, 17, 18, 19], [31, 32, 33, 34]]"
      ]
     },
     "execution_count": 126,
     "metadata": {},
     "output_type": "execute_result"
    }
   ],
   "source": [
    "lst2"
   ]
  },
  {
   "cell_type": "code",
   "execution_count": 127,
   "id": "907df2e8",
   "metadata": {},
   "outputs": [],
   "source": [
    "lst1[0][0]=72"
   ]
  },
  {
   "cell_type": "code",
   "execution_count": 128,
   "id": "a1e010f5",
   "metadata": {},
   "outputs": [
    {
     "data": {
      "text/plain": [
       "[[72, 13, 20, 15], [16, 17, 18, 19], [31, 32, 33, 34]]"
      ]
     },
     "execution_count": 128,
     "metadata": {},
     "output_type": "execute_result"
    }
   ],
   "source": [
    "lst1"
   ]
  },
  {
   "cell_type": "code",
   "execution_count": 129,
   "id": "a54d41d0",
   "metadata": {},
   "outputs": [
    {
     "data": {
      "text/plain": [
       "[[12, 13, 20, 15], [16, 17, 18, 19], [31, 32, 33, 34]]"
      ]
     },
     "execution_count": 129,
     "metadata": {},
     "output_type": "execute_result"
    }
   ],
   "source": [
    "lst2"
   ]
  },
  {
   "cell_type": "markdown",
   "id": "456b0be0",
   "metadata": {},
   "source": [
    "### Eval Function\n",
    "Eval function evaluates python expression which are written as strings."
   ]
  },
  {
   "cell_type": "markdown",
   "id": "f7838cf7",
   "metadata": {},
   "source": [
    "#### how does Eval work:\n",
    "If you pass in a string to eval() , then the function parses it, compiles it to bytecode, and evaluates it as a Python expression.\n",
    "\n",
    "parse-taking a sentence and breaking it down into different parts of speech.\n",
    "\n",
    "first parameter-python expression\n",
    "\n",
    "second parameter-globals\n",
    "\n",
    "third parameter-locals"
   ]
  },
  {
   "cell_type": "code",
   "execution_count": 317,
   "id": "59d5fcf4",
   "metadata": {},
   "outputs": [
    {
     "data": {
      "text/plain": [
       "7"
      ]
     },
     "execution_count": 317,
     "metadata": {},
     "output_type": "execute_result"
    }
   ],
   "source": [
    "eval('2+5')"
   ]
  },
  {
   "cell_type": "code",
   "execution_count": 318,
   "id": "ffc3799b",
   "metadata": {},
   "outputs": [
    {
     "name": "stdout",
     "output_type": "stream",
     "text": [
      "enter the expression: sum([1,2,3,4,5])\n"
     ]
    },
    {
     "data": {
      "text/plain": [
       "15"
      ]
     },
     "execution_count": 318,
     "metadata": {},
     "output_type": "execute_result"
    }
   ],
   "source": [
    "eval(input('enter the expression: '))"
   ]
  },
  {
   "cell_type": "code",
   "execution_count": 319,
   "id": "377d6df8",
   "metadata": {},
   "outputs": [],
   "source": [
    "def sq_num(num):\n",
    "    return num**2"
   ]
  },
  {
   "cell_type": "code",
   "execution_count": 320,
   "id": "d63f867f",
   "metadata": {},
   "outputs": [
    {
     "data": {
      "text/plain": [
       "9"
      ]
     },
     "execution_count": 320,
     "metadata": {},
     "output_type": "execute_result"
    }
   ],
   "source": [
    "sq_num(3)"
   ]
  },
  {
   "cell_type": "code",
   "execution_count": 321,
   "id": "f10e6803",
   "metadata": {},
   "outputs": [
    {
     "data": {
      "text/plain": [
       "9"
      ]
     },
     "execution_count": 321,
     "metadata": {},
     "output_type": "execute_result"
    }
   ],
   "source": [
    "eval('sq_num(3)')"
   ]
  },
  {
   "cell_type": "markdown",
   "id": "9745a359",
   "metadata": {},
   "source": [
    "#### Global parameters"
   ]
  },
  {
   "cell_type": "code",
   "execution_count": 323,
   "id": "13026099",
   "metadata": {},
   "outputs": [
    {
     "ename": "NameError",
     "evalue": "name 'x' is not defined",
     "output_type": "error",
     "traceback": [
      "\u001b[0;31m---------------------------------------------------------------------------\u001b[0m",
      "\u001b[0;31mNameError\u001b[0m                                 Traceback (most recent call last)",
      "Cell \u001b[0;32mIn[323], line 1\u001b[0m\n\u001b[0;32m----> 1\u001b[0m \u001b[38;5;28;43meval\u001b[39;49m\u001b[43m(\u001b[49m\u001b[38;5;124;43m'\u001b[39;49m\u001b[38;5;124;43mx+x*5\u001b[39;49m\u001b[38;5;124;43m'\u001b[39;49m\u001b[43m)\u001b[49m\n",
      "File \u001b[0;32m<string>:1\u001b[0m\n",
      "\u001b[0;31mNameError\u001b[0m: name 'x' is not defined"
     ]
    }
   ],
   "source": [
    "eval('x+x*5')"
   ]
  },
  {
   "cell_type": "code",
   "execution_count": 324,
   "id": "d3823a31",
   "metadata": {},
   "outputs": [
    {
     "name": "stdout",
     "output_type": "stream",
     "text": [
      "name 'x' is not defined\n"
     ]
    }
   ],
   "source": [
    "try:\n",
    "    eval('x+x*5')\n",
    "except Exception as ex:\n",
    "    print(ex)"
   ]
  },
  {
   "cell_type": "markdown",
   "id": "f85b96af",
   "metadata": {},
   "source": [
    "so to define x, we use global parameters"
   ]
  },
  {
   "cell_type": "code",
   "execution_count": 325,
   "id": "998fca07",
   "metadata": {},
   "outputs": [
    {
     "data": {
      "text/plain": [
       "60"
      ]
     },
     "execution_count": 325,
     "metadata": {},
     "output_type": "execute_result"
    }
   ],
   "source": [
    "eval('x+x*5',{'x':10})"
   ]
  },
  {
   "cell_type": "code",
   "execution_count": 326,
   "id": "4f2ada44",
   "metadata": {},
   "outputs": [
    {
     "data": {
      "text/plain": [
       "60"
      ]
     },
     "execution_count": 326,
     "metadata": {},
     "output_type": "execute_result"
    }
   ],
   "source": [
    "##another method\n",
    "x=10\n",
    "eval('x+x*5',{'x':x})"
   ]
  },
  {
   "cell_type": "markdown",
   "id": "06cb3d43",
   "metadata": {},
   "source": [
    "#### Local parameters"
   ]
  },
  {
   "cell_type": "code",
   "execution_count": 329,
   "id": "2c658ca7",
   "metadata": {},
   "outputs": [
    {
     "data": {
      "text/plain": [
       "600"
      ]
     },
     "execution_count": 329,
     "metadata": {},
     "output_type": "execute_result"
    }
   ],
   "source": [
    "eval('a+b+c',{'c':300},{'a':100,'b':200}) "
   ]
  },
  {
   "cell_type": "markdown",
   "id": "71f448da",
   "metadata": {},
   "source": [
    "### File Handling\n",
    "\n",
    "Reading, writing, deleting, creating of a file is called File handling.\n",
    "\n",
    "open -- open()\n",
    "\n",
    "read/write\n",
    "\n",
    "close -- close()\n",
    "\n",
    "MODES: (to select a file to perform only such operation)\n",
    "1. r--read\n",
    "2. w--write(Truncate)\n",
    "3. a--append\n",
    "4. r+ --read write\n",
    "5. w+ --write read(Truncate)"
   ]
  },
  {
   "cell_type": "markdown",
   "id": "0c11201b",
   "metadata": {},
   "source": [
    "#### create a file"
   ]
  },
  {
   "cell_type": "markdown",
   "id": "eef4416f",
   "metadata": {},
   "source": [
    "1. write only"
   ]
  },
  {
   "cell_type": "code",
   "execution_count": 63,
   "id": "030327cb",
   "metadata": {},
   "outputs": [],
   "source": [
    "f=open('python.txt','w')\n",
    "f.write('new beginning')\n",
    "f.close()"
   ]
  },
  {
   "cell_type": "markdown",
   "id": "76d75dca",
   "metadata": {},
   "source": [
    "2. read only"
   ]
  },
  {
   "cell_type": "code",
   "execution_count": 64,
   "id": "b1f10c42",
   "metadata": {},
   "outputs": [
    {
     "data": {
      "text/plain": [
       "'new beginning'"
      ]
     },
     "execution_count": 64,
     "metadata": {},
     "output_type": "execute_result"
    }
   ],
   "source": [
    "f=open('python.txt')\n",
    "f.read()"
   ]
  },
  {
   "cell_type": "markdown",
   "id": "c8c60ef2",
   "metadata": {},
   "source": [
    "#### when we write in same file it gets replaced.in order to avoid it we use append. to add to existing file"
   ]
  },
  {
   "cell_type": "markdown",
   "id": "d406c4ee",
   "metadata": {},
   "source": [
    "3. append"
   ]
  },
  {
   "cell_type": "code",
   "execution_count": 65,
   "id": "dd7a00a8",
   "metadata": {},
   "outputs": [],
   "source": [
    "f=open('python.txt','a')\n",
    "f.write('\\non the Path')\n",
    "f.close()"
   ]
  },
  {
   "cell_type": "code",
   "execution_count": 66,
   "id": "f1dc7c30",
   "metadata": {},
   "outputs": [
    {
     "data": {
      "text/plain": [
       "'new beginning\\non the Path'"
      ]
     },
     "execution_count": 66,
     "metadata": {},
     "output_type": "execute_result"
    }
   ],
   "source": [
    "f=open('python.txt')\n",
    "f.read()"
   ]
  },
  {
   "cell_type": "markdown",
   "id": "f9c910ea",
   "metadata": {},
   "source": [
    "4. read/write - r+ - adds to existing file."
   ]
  },
  {
   "cell_type": "code",
   "execution_count": 76,
   "id": "5e104ad9",
   "metadata": {},
   "outputs": [],
   "source": [
    "f=open('python2.txt','r+')\n",
    "f.read()\n",
    "f.write('r+mode\\n')\n",
    "f.close()"
   ]
  },
  {
   "cell_type": "markdown",
   "id": "d3cbfb16",
   "metadata": {},
   "source": [
    "5. write/read - w+ - replaces existing file with new"
   ]
  },
  {
   "cell_type": "code",
   "execution_count": 75,
   "id": "758b9950",
   "metadata": {},
   "outputs": [],
   "source": [
    "f=open('python2.txt','w+')\n",
    "f.write('w+mode\\n')\n",
    "f.read()\n",
    "f.close()"
   ]
  },
  {
   "cell_type": "markdown",
   "id": "a33ed0e1",
   "metadata": {},
   "source": [
    "### Regular Expression - RegEx\n",
    "A regular expression is a sequence of characters that define a search pattern.\n",
    "\n",
    "we can match and extract any string pattern from the text with the help of regular expressions"
   ]
  },
  {
   "cell_type": "markdown",
   "id": "45f822de",
   "metadata": {},
   "source": [
    "#### re"
   ]
  },
  {
   "cell_type": "code",
   "execution_count": 86,
   "id": "ecc57969",
   "metadata": {},
   "outputs": [
    {
     "name": "stdout",
     "output_type": "stream",
     "text": [
      "Help on function match in module re:\n",
      "\n",
      "match(pattern, string, flags=0)\n",
      "    Try to apply the pattern at the start of the string, returning\n",
      "    a Match object, or None if no match was found.\n",
      "\n"
     ]
    }
   ],
   "source": [
    "help(re.match)"
   ]
  },
  {
   "cell_type": "code",
   "execution_count": 84,
   "id": "90a8893e",
   "metadata": {},
   "outputs": [
    {
     "name": "stdout",
     "output_type": "stream",
     "text": [
      "match\n"
     ]
    }
   ],
   "source": [
    "import re\n",
    "p='delhi'\n",
    "if re.match(p, 'delhi is best'):\n",
    "    print('match')\n",
    "else:\n",
    "    print('no match')"
   ]
  },
  {
   "cell_type": "code",
   "execution_count": 85,
   "id": "6087bfcb",
   "metadata": {},
   "outputs": [
    {
     "name": "stdout",
     "output_type": "stream",
     "text": [
      "no match\n"
     ]
    }
   ],
   "source": [
    "import re\n",
    "p='Delhi'\n",
    "if re.match(p, 'delhi is best'):\n",
    "    print('match')\n",
    "else:\n",
    "    print('no match')"
   ]
  },
  {
   "cell_type": "markdown",
   "id": "c00a18a0",
   "metadata": {},
   "source": [
    "#### search"
   ]
  },
  {
   "cell_type": "code",
   "execution_count": 89,
   "id": "509aceb4",
   "metadata": {},
   "outputs": [
    {
     "name": "stdout",
     "output_type": "stream",
     "text": [
      "no match found\n"
     ]
    }
   ],
   "source": [
    "import re\n",
    "pattern='Delhi'\n",
    "if re.search(pattern, 'delhi is best'):\n",
    "    print('match found')\n",
    "else:\n",
    "    print('no match found')"
   ]
  },
  {
   "cell_type": "markdown",
   "id": "b1a2e587",
   "metadata": {},
   "source": [
    "#### findall"
   ]
  },
  {
   "cell_type": "code",
   "execution_count": 90,
   "id": "1c8b65fd",
   "metadata": {},
   "outputs": [
    {
     "data": {
      "text/plain": [
       "[]"
      ]
     },
     "execution_count": 90,
     "metadata": {},
     "output_type": "execute_result"
    }
   ],
   "source": [
    "re.findall(pattern,'delhi is best')"
   ]
  },
  {
   "cell_type": "code",
   "execution_count": 91,
   "id": "51cfc2eb",
   "metadata": {},
   "outputs": [
    {
     "data": {
      "text/plain": [
       "['Delhi']"
      ]
     },
     "execution_count": 91,
     "metadata": {},
     "output_type": "execute_result"
    }
   ],
   "source": [
    "re.findall(pattern,'Delhi is best')"
   ]
  },
  {
   "cell_type": "markdown",
   "id": "b936de03",
   "metadata": {},
   "source": [
    "#### group"
   ]
  },
  {
   "cell_type": "code",
   "execution_count": 102,
   "id": "5b470d82",
   "metadata": {},
   "outputs": [
    {
     "name": "stdout",
     "output_type": "stream",
     "text": [
      "<re.Match object; span=(12, 17), match='place'>\n",
      "place\n"
     ]
    }
   ],
   "source": [
    "p='place'\n",
    "pattern=re.search(p,'goa is best place to chill. goa')\n",
    "print(pattern)\n",
    "if pattern:\n",
    "    print(pattern.group())\n",
    "else:\n",
    "    print('no match found')"
   ]
  },
  {
   "cell_type": "markdown",
   "id": "05fde96e",
   "metadata": {},
   "source": [
    "#### start"
   ]
  },
  {
   "cell_type": "code",
   "execution_count": 103,
   "id": "367888ab",
   "metadata": {},
   "outputs": [
    {
     "data": {
      "text/plain": [
       "12"
      ]
     },
     "execution_count": 103,
     "metadata": {},
     "output_type": "execute_result"
    }
   ],
   "source": [
    "pattern.start()"
   ]
  },
  {
   "cell_type": "markdown",
   "id": "d7b5034b",
   "metadata": {},
   "source": [
    "#### end"
   ]
  },
  {
   "cell_type": "code",
   "execution_count": 104,
   "id": "2be73628",
   "metadata": {},
   "outputs": [
    {
     "data": {
      "text/plain": [
       "17"
      ]
     },
     "execution_count": 104,
     "metadata": {},
     "output_type": "execute_result"
    }
   ],
   "source": [
    "pattern.end()"
   ]
  },
  {
   "cell_type": "markdown",
   "id": "35bef4c2",
   "metadata": {},
   "source": [
    "#### span"
   ]
  },
  {
   "cell_type": "code",
   "execution_count": 105,
   "id": "53dad3ee",
   "metadata": {},
   "outputs": [
    {
     "data": {
      "text/plain": [
       "(12, 17)"
      ]
     },
     "execution_count": 105,
     "metadata": {},
     "output_type": "execute_result"
    }
   ],
   "source": [
    "pattern.span()"
   ]
  },
  {
   "cell_type": "markdown",
   "id": "f2f35924",
   "metadata": {},
   "source": [
    "#### sub  - for substitution"
   ]
  },
  {
   "cell_type": "code",
   "execution_count": 115,
   "id": "7b87766f",
   "metadata": {},
   "outputs": [
    {
     "name": "stdout",
     "output_type": "stream",
     "text": [
      " my name is kandregula. call me kandregula\n"
     ]
    }
   ],
   "source": [
    "import re\n",
    "\n",
    "org_str= ' my name is vinay. call me vinay'\n",
    "p='vinay'\n",
    "string=re.sub(p,'kandregula',org_str)\n",
    "print(string)"
   ]
  },
  {
   "cell_type": "markdown",
   "id": "67cdb32c",
   "metadata": {},
   "source": [
    "#### meta characters"
   ]
  },
  {
   "cell_type": "markdown",
   "id": "56758c9e",
   "metadata": {},
   "source": [
    "1. dot"
   ]
  },
  {
   "cell_type": "code",
   "execution_count": 117,
   "id": "261718d2",
   "metadata": {},
   "outputs": [
    {
     "name": "stdout",
     "output_type": "stream",
     "text": [
      "1\n",
      "3\n"
     ]
    }
   ],
   "source": [
    "p='gr.y'\n",
    "if re.match(p,'gray'):\n",
    "    print(1)\n",
    "if re.match(p,'graw'):\n",
    "    print(2)\n",
    "if re.match(p,'griy'):\n",
    "    print(3)"
   ]
  },
  {
   "cell_type": "code",
   "execution_count": 119,
   "id": "567f3508",
   "metadata": {},
   "outputs": [
    {
     "name": "stdout",
     "output_type": "stream",
     "text": [
      "1\n",
      "3\n"
     ]
    }
   ],
   "source": [
    "p='gr...y'\n",
    "if re.match(p,'grawwy'):\n",
    "    print(1)\n",
    "if re.match(p,'graw'):\n",
    "    print(2)\n",
    "if re.match(p,'griopy'):\n",
    "    print(3)"
   ]
  },
  {
   "cell_type": "markdown",
   "id": "e7de02f4",
   "metadata": {},
   "source": [
    "2. start(^)"
   ]
  },
  {
   "cell_type": "code",
   "execution_count": 132,
   "id": "2823281b",
   "metadata": {},
   "outputs": [
    {
     "name": "stdout",
     "output_type": "stream",
     "text": [
      "1\n",
      "3\n"
     ]
    }
   ],
   "source": [
    "p='^g...'\n",
    "if re.match(p,'gray'):\n",
    "    print(1)\n",
    "if re.match(p,'rawn'):\n",
    "    print(2)\n",
    "if re.match(p,'gropy'):\n",
    "    print(3)"
   ]
  },
  {
   "cell_type": "markdown",
   "id": "aab35321",
   "metadata": {},
   "source": [
    "3. end($)"
   ]
  },
  {
   "cell_type": "code",
   "execution_count": 136,
   "id": "b10d098f",
   "metadata": {},
   "outputs": [
    {
     "name": "stdout",
     "output_type": "stream",
     "text": [
      "3\n"
     ]
    }
   ],
   "source": [
    "p='....y$'\n",
    "if re.match(p,'gray'):\n",
    "    print(1)\n",
    "if re.match(p,'rawn'):\n",
    "    print(2)\n",
    "if re.match(p,'gropy'):\n",
    "    print(3)"
   ]
  },
  {
   "cell_type": "markdown",
   "id": "a3b32a8e",
   "metadata": {},
   "source": [
    "#### Character classes"
   ]
  },
  {
   "cell_type": "code",
   "execution_count": 137,
   "id": "baa39fb7",
   "metadata": {},
   "outputs": [
    {
     "name": "stdout",
     "output_type": "stream",
     "text": [
      "1\n",
      "2\n"
     ]
    }
   ],
   "source": [
    "import re\n",
    "p='[aeiou]'\n",
    "if re.search(p,'vinay'):\n",
    "    print(1)\n",
    "if re.search(p,'sujith'):\n",
    "    print(2)\n",
    "if re.search(p,'ywnpy'):\n",
    "    print(3)"
   ]
  },
  {
   "cell_type": "code",
   "execution_count": 142,
   "id": "e5a27198",
   "metadata": {},
   "outputs": [
    {
     "name": "stdout",
     "output_type": "stream",
     "text": [
      "1\n",
      "2\n"
     ]
    }
   ],
   "source": [
    "import re\n",
    "p='[a-h]'\n",
    "if re.search(p,'vinay'):\n",
    "    print(1)\n",
    "if re.search(p,'sujith'):\n",
    "    print(2)\n",
    "if re.search(p,'ywnpy'):\n",
    "    print(3)"
   ]
  },
  {
   "cell_type": "code",
   "execution_count": 146,
   "id": "a674a728",
   "metadata": {},
   "outputs": [
    {
     "name": "stdout",
     "output_type": "stream",
     "text": [
      "1\n",
      "2\n",
      "3\n"
     ]
    }
   ],
   "source": [
    "import re\n",
    "p='[a-hA-N]'\n",
    "if re.search(p,'vinay'):\n",
    "    print(1)\n",
    "if re.search(p,'sujith'):\n",
    "    print(2)\n",
    "if re.search(p,'ywNpy'):\n",
    "    print(3)"
   ]
  },
  {
   "cell_type": "code",
   "execution_count": 149,
   "id": "aab4b89e",
   "metadata": {},
   "outputs": [
    {
     "name": "stdout",
     "output_type": "stream",
     "text": [
      "2\n"
     ]
    }
   ],
   "source": [
    "import re\n",
    "p='[0-9]'\n",
    "if re.search(p,'vinay'):\n",
    "    print(1)\n",
    "if re.search(p,'sujith078'):\n",
    "    print(2)\n",
    "if re.search(p,'Teja'):\n",
    "    print(3)"
   ]
  },
  {
   "cell_type": "code",
   "execution_count": 151,
   "id": "c56966a6",
   "metadata": {},
   "outputs": [],
   "source": [
    "import re\n",
    "p='^[0-9][a-z][A-Z]'\n",
    "if re.search(p,'vinay'):\n",
    "    print(1)\n",
    "if re.search(p,'sujith078'):\n",
    "    print(2)\n",
    "if re.search(p,'Teja'):\n",
    "    print(3)"
   ]
  },
  {
   "cell_type": "markdown",
   "id": "1e534f67",
   "metadata": {},
   "source": [
    "inbuilt modules:"
   ]
  },
  {
   "cell_type": "code",
   "execution_count": 3,
   "id": "06bde06b",
   "metadata": {},
   "outputs": [],
   "source": [
    "import math"
   ]
  },
  {
   "cell_type": "code",
   "execution_count": 4,
   "id": "322b925c",
   "metadata": {},
   "outputs": [
    {
     "data": {
      "text/plain": [
       "120"
      ]
     },
     "execution_count": 4,
     "metadata": {},
     "output_type": "execute_result"
    }
   ],
   "source": [
    "math.factorial(5)"
   ]
  },
  {
   "cell_type": "code",
   "execution_count": 12,
   "id": "414bd615",
   "metadata": {
    "collapsed": true
   },
   "outputs": [
    {
     "name": "stdout",
     "output_type": "stream",
     "text": [
      "Help on module math:\n",
      "\n",
      "NAME\n",
      "    math\n",
      "\n",
      "MODULE REFERENCE\n",
      "    https://docs.python.org/3.9/library/math\n",
      "    \n",
      "    The following documentation is automatically generated from the Python\n",
      "    source files.  It may be incomplete, incorrect or include features that\n",
      "    are considered implementation detail and may vary between Python\n",
      "    implementations.  When in doubt, consult the module reference at the\n",
      "    location listed above.\n",
      "\n",
      "DESCRIPTION\n",
      "    This module provides access to the mathematical functions\n",
      "    defined by the C standard.\n",
      "\n",
      "FUNCTIONS\n",
      "    acos(x, /)\n",
      "        Return the arc cosine (measured in radians) of x.\n",
      "        \n",
      "        The result is between 0 and pi.\n",
      "    \n",
      "    acosh(x, /)\n",
      "        Return the inverse hyperbolic cosine of x.\n",
      "    \n",
      "    asin(x, /)\n",
      "        Return the arc sine (measured in radians) of x.\n",
      "        \n",
      "        The result is between -pi/2 and pi/2.\n",
      "    \n",
      "    asinh(x, /)\n",
      "        Return the inverse hyperbolic sine of x.\n",
      "    \n",
      "    atan(x, /)\n",
      "        Return the arc tangent (measured in radians) of x.\n",
      "        \n",
      "        The result is between -pi/2 and pi/2.\n",
      "    \n",
      "    atan2(y, x, /)\n",
      "        Return the arc tangent (measured in radians) of y/x.\n",
      "        \n",
      "        Unlike atan(y/x), the signs of both x and y are considered.\n",
      "    \n",
      "    atanh(x, /)\n",
      "        Return the inverse hyperbolic tangent of x.\n",
      "    \n",
      "    ceil(x, /)\n",
      "        Return the ceiling of x as an Integral.\n",
      "        \n",
      "        This is the smallest integer >= x.\n",
      "    \n",
      "    comb(n, k, /)\n",
      "        Number of ways to choose k items from n items without repetition and without order.\n",
      "        \n",
      "        Evaluates to n! / (k! * (n - k)!) when k <= n and evaluates\n",
      "        to zero when k > n.\n",
      "        \n",
      "        Also called the binomial coefficient because it is equivalent\n",
      "        to the coefficient of k-th term in polynomial expansion of the\n",
      "        expression (1 + x)**n.\n",
      "        \n",
      "        Raises TypeError if either of the arguments are not integers.\n",
      "        Raises ValueError if either of the arguments are negative.\n",
      "    \n",
      "    copysign(x, y, /)\n",
      "        Return a float with the magnitude (absolute value) of x but the sign of y.\n",
      "        \n",
      "        On platforms that support signed zeros, copysign(1.0, -0.0)\n",
      "        returns -1.0.\n",
      "    \n",
      "    cos(x, /)\n",
      "        Return the cosine of x (measured in radians).\n",
      "    \n",
      "    cosh(x, /)\n",
      "        Return the hyperbolic cosine of x.\n",
      "    \n",
      "    degrees(x, /)\n",
      "        Convert angle x from radians to degrees.\n",
      "    \n",
      "    dist(p, q, /)\n",
      "        Return the Euclidean distance between two points p and q.\n",
      "        \n",
      "        The points should be specified as sequences (or iterables) of\n",
      "        coordinates.  Both inputs must have the same dimension.\n",
      "        \n",
      "        Roughly equivalent to:\n",
      "            sqrt(sum((px - qx) ** 2.0 for px, qx in zip(p, q)))\n",
      "    \n",
      "    erf(x, /)\n",
      "        Error function at x.\n",
      "    \n",
      "    erfc(x, /)\n",
      "        Complementary error function at x.\n",
      "    \n",
      "    exp(x, /)\n",
      "        Return e raised to the power of x.\n",
      "    \n",
      "    expm1(x, /)\n",
      "        Return exp(x)-1.\n",
      "        \n",
      "        This function avoids the loss of precision involved in the direct evaluation of exp(x)-1 for small x.\n",
      "    \n",
      "    fabs(x, /)\n",
      "        Return the absolute value of the float x.\n",
      "    \n",
      "    factorial(x, /)\n",
      "        Find x!.\n",
      "        \n",
      "        Raise a ValueError if x is negative or non-integral.\n",
      "    \n",
      "    floor(x, /)\n",
      "        Return the floor of x as an Integral.\n",
      "        \n",
      "        This is the largest integer <= x.\n",
      "    \n",
      "    fmod(x, y, /)\n",
      "        Return fmod(x, y), according to platform C.\n",
      "        \n",
      "        x % y may differ.\n",
      "    \n",
      "    frexp(x, /)\n",
      "        Return the mantissa and exponent of x, as pair (m, e).\n",
      "        \n",
      "        m is a float and e is an int, such that x = m * 2.**e.\n",
      "        If x is 0, m and e are both 0.  Else 0.5 <= abs(m) < 1.0.\n",
      "    \n",
      "    fsum(seq, /)\n",
      "        Return an accurate floating point sum of values in the iterable seq.\n",
      "        \n",
      "        Assumes IEEE-754 floating point arithmetic.\n",
      "    \n",
      "    gamma(x, /)\n",
      "        Gamma function at x.\n",
      "    \n",
      "    gcd(*integers)\n",
      "        Greatest Common Divisor.\n",
      "    \n",
      "    hypot(...)\n",
      "        hypot(*coordinates) -> value\n",
      "        \n",
      "        Multidimensional Euclidean distance from the origin to a point.\n",
      "        \n",
      "        Roughly equivalent to:\n",
      "            sqrt(sum(x**2 for x in coordinates))\n",
      "        \n",
      "        For a two dimensional point (x, y), gives the hypotenuse\n",
      "        using the Pythagorean theorem:  sqrt(x*x + y*y).\n",
      "        \n",
      "        For example, the hypotenuse of a 3/4/5 right triangle is:\n",
      "        \n",
      "            >>> hypot(3.0, 4.0)\n",
      "            5.0\n",
      "    \n",
      "    isclose(a, b, *, rel_tol=1e-09, abs_tol=0.0)\n",
      "        Determine whether two floating point numbers are close in value.\n",
      "        \n",
      "          rel_tol\n",
      "            maximum difference for being considered \"close\", relative to the\n",
      "            magnitude of the input values\n",
      "          abs_tol\n",
      "            maximum difference for being considered \"close\", regardless of the\n",
      "            magnitude of the input values\n",
      "        \n",
      "        Return True if a is close in value to b, and False otherwise.\n",
      "        \n",
      "        For the values to be considered close, the difference between them\n",
      "        must be smaller than at least one of the tolerances.\n",
      "        \n",
      "        -inf, inf and NaN behave similarly to the IEEE 754 Standard.  That\n",
      "        is, NaN is not close to anything, even itself.  inf and -inf are\n",
      "        only close to themselves.\n",
      "    \n",
      "    isfinite(x, /)\n",
      "        Return True if x is neither an infinity nor a NaN, and False otherwise.\n",
      "    \n",
      "    isinf(x, /)\n",
      "        Return True if x is a positive or negative infinity, and False otherwise.\n",
      "    \n",
      "    isnan(x, /)\n",
      "        Return True if x is a NaN (not a number), and False otherwise.\n",
      "    \n",
      "    isqrt(n, /)\n",
      "        Return the integer part of the square root of the input.\n",
      "    \n",
      "    lcm(*integers)\n",
      "        Least Common Multiple.\n",
      "    \n",
      "    ldexp(x, i, /)\n",
      "        Return x * (2**i).\n",
      "        \n",
      "        This is essentially the inverse of frexp().\n",
      "    \n",
      "    lgamma(x, /)\n",
      "        Natural logarithm of absolute value of Gamma function at x.\n",
      "    \n",
      "    log(...)\n",
      "        log(x, [base=math.e])\n",
      "        Return the logarithm of x to the given base.\n",
      "        \n",
      "        If the base not specified, returns the natural logarithm (base e) of x.\n",
      "    \n",
      "    log10(x, /)\n",
      "        Return the base 10 logarithm of x.\n",
      "    \n",
      "    log1p(x, /)\n",
      "        Return the natural logarithm of 1+x (base e).\n",
      "        \n",
      "        The result is computed in a way which is accurate for x near zero.\n",
      "    \n",
      "    log2(x, /)\n",
      "        Return the base 2 logarithm of x.\n",
      "    \n",
      "    modf(x, /)\n",
      "        Return the fractional and integer parts of x.\n",
      "        \n",
      "        Both results carry the sign of x and are floats.\n",
      "    \n",
      "    nextafter(x, y, /)\n",
      "        Return the next floating-point value after x towards y.\n",
      "    \n",
      "    perm(n, k=None, /)\n",
      "        Number of ways to choose k items from n items without repetition and with order.\n",
      "        \n",
      "        Evaluates to n! / (n - k)! when k <= n and evaluates\n",
      "        to zero when k > n.\n",
      "        \n",
      "        If k is not specified or is None, then k defaults to n\n",
      "        and the function returns n!.\n",
      "        \n",
      "        Raises TypeError if either of the arguments are not integers.\n",
      "        Raises ValueError if either of the arguments are negative.\n",
      "    \n",
      "    pow(x, y, /)\n",
      "        Return x**y (x to the power of y).\n",
      "    \n",
      "    prod(iterable, /, *, start=1)\n",
      "        Calculate the product of all the elements in the input iterable.\n",
      "        \n",
      "        The default start value for the product is 1.\n",
      "        \n",
      "        When the iterable is empty, return the start value.  This function is\n",
      "        intended specifically for use with numeric values and may reject\n",
      "        non-numeric types.\n",
      "    \n",
      "    radians(x, /)\n",
      "        Convert angle x from degrees to radians.\n",
      "    \n",
      "    remainder(x, y, /)\n",
      "        Difference between x and the closest integer multiple of y.\n",
      "        \n",
      "        Return x - n*y where n*y is the closest integer multiple of y.\n",
      "        In the case where x is exactly halfway between two multiples of\n",
      "        y, the nearest even value of n is used. The result is always exact.\n",
      "    \n",
      "    sin(x, /)\n",
      "        Return the sine of x (measured in radians).\n",
      "    \n",
      "    sinh(x, /)\n",
      "        Return the hyperbolic sine of x.\n",
      "    \n",
      "    sqrt(x, /)\n",
      "        Return the square root of x.\n",
      "    \n",
      "    tan(x, /)\n",
      "        Return the tangent of x (measured in radians).\n",
      "    \n",
      "    tanh(x, /)\n",
      "        Return the hyperbolic tangent of x.\n",
      "    \n",
      "    trunc(x, /)\n",
      "        Truncates the Real x to the nearest Integral toward 0.\n",
      "        \n",
      "        Uses the __trunc__ magic method.\n",
      "    \n",
      "    ulp(x, /)\n",
      "        Return the value of the least significant bit of the float x.\n",
      "\n",
      "DATA\n",
      "    e = 2.718281828459045\n",
      "    inf = inf\n",
      "    nan = nan\n",
      "    pi = 3.141592653589793\n",
      "    tau = 6.283185307179586\n",
      "\n",
      "FILE\n",
      "    /opt/anaconda3/lib/python3.9/lib-dynload/math.cpython-39-darwin.so\n",
      "\n",
      "\n"
     ]
    }
   ],
   "source": [
    "help(math)"
   ]
  },
  {
   "cell_type": "code",
   "execution_count": null,
   "id": "65caf3ac",
   "metadata": {},
   "outputs": [],
   "source": []
  },
  {
   "cell_type": "code",
   "execution_count": null,
   "id": "f43f2b08",
   "metadata": {},
   "outputs": [],
   "source": []
  },
  {
   "cell_type": "code",
   "execution_count": null,
   "id": "e71ab9cc",
   "metadata": {},
   "outputs": [],
   "source": []
  },
  {
   "cell_type": "code",
   "execution_count": null,
   "id": "fcdbb019",
   "metadata": {},
   "outputs": [],
   "source": []
  },
  {
   "cell_type": "code",
   "execution_count": null,
   "id": "6dc2d3df",
   "metadata": {},
   "outputs": [],
   "source": []
  },
  {
   "cell_type": "code",
   "execution_count": null,
   "id": "21bac50c",
   "metadata": {},
   "outputs": [],
   "source": []
  },
  {
   "cell_type": "code",
   "execution_count": null,
   "id": "36ecd3b9",
   "metadata": {},
   "outputs": [],
   "source": []
  },
  {
   "cell_type": "code",
   "execution_count": null,
   "id": "933aa166",
   "metadata": {},
   "outputs": [],
   "source": []
  },
  {
   "cell_type": "code",
   "execution_count": null,
   "id": "cbdfb99e",
   "metadata": {},
   "outputs": [],
   "source": []
  },
  {
   "cell_type": "code",
   "execution_count": null,
   "id": "b41ea379",
   "metadata": {},
   "outputs": [],
   "source": []
  }
 ],
 "metadata": {
  "kernelspec": {
   "display_name": "Python 3 (ipykernel)",
   "language": "python",
   "name": "python3"
  },
  "language_info": {
   "codemirror_mode": {
    "name": "ipython",
    "version": 3
   },
   "file_extension": ".py",
   "mimetype": "text/x-python",
   "name": "python",
   "nbconvert_exporter": "python",
   "pygments_lexer": "ipython3",
   "version": "3.9.16"
  }
 },
 "nbformat": 4,
 "nbformat_minor": 5
}
