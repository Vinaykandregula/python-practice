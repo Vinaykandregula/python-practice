{
 "cells": [
  {
   "cell_type": "markdown",
   "id": "031753c6",
   "metadata": {},
   "source": [
    "## Web Scraping"
   ]
  },
  {
   "cell_type": "markdown",
   "id": "edace8b9",
   "metadata": {},
   "source": [
    "Web scraping is the process of extracting specific data on a targeted webpages.\n",
    "\n",
    " or\n",
    " \n",
    " \n",
    "we write some code to fetch data from websites in an automated fashion..\n",
    "\n",
    "#### web crawling: \n",
    "\n",
    "is like search engine,it goes through different webpages without specific goal."
   ]
  },
  {
   "cell_type": "markdown",
   "id": "e51258a3",
   "metadata": {},
   "source": [
    "Websites with dynamic content(changes with user need) cannot be scraped using BeautifulSoup. One way to scrape dynamic website is by using Selenium."
   ]
  },
  {
   "cell_type": "markdown",
   "id": "b14b2c82",
   "metadata": {},
   "source": [
    "#### 1. Pick a website and describe your objective\n",
    "\n",
    "- Browse through different sites and pick on to scrape. Check the \"Project Ideas\" section for inspiration.\n",
    "- Identify the information you'd like to scrape from the site. Decide the format of the output CSV file.\n",
    "- Summarize your project idea and outline your strategy in a Juptyer notebook. Use the \"New\" button above.\n",
    "\n",
    "#### 2. Use the requests library to download web pages\n",
    "- Inspect the website's HTML source and identify the right URLs to download.\n",
    "- Download and save web pages locally using the requests library.\n",
    "- Create a function to automate downloading for different topics/search queries.\n",
    "\n",
    "#### 3.Use Beautiful Soup to parse and extract information\n",
    "- Parse and explore the structure of downloaded web pages using Beautiful soup.\n",
    "- Use the right properties and methods to extract the required information.\n",
    "- Create functions to extract from the page into lists and dictionaries.\n",
    "- (Optional) Use a REST API to acquire additional information if required.\n",
    "#### 4.Create CSV file(s) with the extracted information\n",
    "- Create functions for the end-to-end process of downloading, parsing, and saving CSVs.\n",
    "- Execute the function with different inputs to create a dataset of CSV files.\n",
    "- Verify the information in the CSV files by reading them back using Pandas.\n",
    "\n",
    "#### 5.Document and share your work"
   ]
  },
  {
   "cell_type": "markdown",
   "id": "fe58cd7b",
   "metadata": {},
   "source": [
    "### Scraping-Github-topics-repositories"
   ]
  },
  {
   "cell_type": "markdown",
   "id": "3f41e01f",
   "metadata": {},
   "source": [
    "### Problem Statement:\n",
    "\n",
    "Find top 20 repositories in each github topics of 3D,ajax etc.."
   ]
  },
  {
   "cell_type": "markdown",
   "id": "2e5af311",
   "metadata": {},
   "source": [
    "Before jumping directy for coding its better to prepare output by hands using sheets.new. then we can get basic idea of how final outcome looks as like."
   ]
  },
  {
   "cell_type": "markdown",
   "id": "53c63d7d",
   "metadata": {},
   "source": [
    "#### 1. Pick a website and describe your objective\n",
    "\n",
    "- Browse through different sites and pick on to scrape. Check the \"Project Ideas\" section for inspiration.\n",
    "- Identify the information you'd like to scrape from the site. Decide the format of the output CSV file.\n",
    "- Summarize your project idea and outline your strategy in a Juptyer notebook. Use the \"New\" button above."
   ]
  },
  {
   "cell_type": "markdown",
   "id": "16397ef1",
   "metadata": {},
   "source": [
    "#### Project Outline:\n",
    "- we're going to scrape github topics https://github.com/topics\n",
    "- we'll get a list of topics. For each topic, we'll get topic title, topic url & topic description\n",
    "- for each topic,pick top 25 repositories in the topic from the topic page\n",
    "- for each repository we grab repo name,username,star,url.\n",
    "- for each topic we'll create a csv file in the following format:\n",
    "\n",
    "```\n",
    "Repo Name,username,stars,repo url\n",
    "three.js,mrdood,93.4,https://github.com/mrdoob/three.js\n",
    "react-three-fiber,pmndrs,23.3,https://github.com/pmndrs/react-three-fiber\n",
    "```"
   ]
  },
  {
   "cell_type": "markdown",
   "id": "5852dac4",
   "metadata": {},
   "source": [
    "#### 2. Use the requests library to download web pages"
   ]
  },
  {
   "cell_type": "code",
   "execution_count": 1,
   "id": "a1921969",
   "metadata": {},
   "outputs": [],
   "source": [
    "url='https://github.com/topics'"
   ]
  },
  {
   "cell_type": "code",
   "execution_count": 2,
   "id": "42035827",
   "metadata": {},
   "outputs": [
    {
     "name": "stdout",
     "output_type": "stream",
     "text": [
      "Requirement already satisfied: requests in /opt/anaconda3/lib/python3.9/site-packages (2.31.0)\n",
      "Requirement already satisfied: charset-normalizer<4,>=2 in /opt/anaconda3/lib/python3.9/site-packages (from requests) (2.0.4)\n",
      "Requirement already satisfied: urllib3<3,>=1.21.1 in /opt/anaconda3/lib/python3.9/site-packages (from requests) (1.26.15)\n",
      "Requirement already satisfied: idna<4,>=2.5 in /opt/anaconda3/lib/python3.9/site-packages (from requests) (3.4)\n",
      "Requirement already satisfied: certifi>=2017.4.17 in /opt/anaconda3/lib/python3.9/site-packages (from requests) (2022.12.7)\n",
      "Note: you may need to restart the kernel to use updated packages.\n"
     ]
    }
   ],
   "source": [
    "pip install requests --upgrade"
   ]
  },
  {
   "cell_type": "markdown",
   "id": "e664fa33",
   "metadata": {},
   "source": [
    "use '-- quiet' to hide output"
   ]
  },
  {
   "cell_type": "code",
   "execution_count": 3,
   "id": "e6ba4f26",
   "metadata": {},
   "outputs": [],
   "source": [
    "!pip install requests --upgrade --quiet"
   ]
  },
  {
   "cell_type": "code",
   "execution_count": 4,
   "id": "df00d311",
   "metadata": {},
   "outputs": [],
   "source": [
    "import requests"
   ]
  },
  {
   "cell_type": "code",
   "execution_count": 5,
   "id": "9f23d4fa",
   "metadata": {},
   "outputs": [],
   "source": [
    "response=requests.get(url)"
   ]
  },
  {
   "cell_type": "code",
   "execution_count": 6,
   "id": "6ec07555",
   "metadata": {},
   "outputs": [
    {
     "data": {
      "text/plain": [
       "200"
      ]
     },
     "execution_count": 6,
     "metadata": {},
     "output_type": "execute_result"
    }
   ],
   "source": [
    "response.status_code\n",
    "#to check whether the response is succesfull or not\n",
    "#successful responses(200-299)\n",
    "#check HTTP response status code in google for more details"
   ]
  },
  {
   "cell_type": "code",
   "execution_count": 7,
   "id": "cdb40448",
   "metadata": {},
   "outputs": [
    {
     "data": {
      "text/plain": [
       "164895"
      ]
     },
     "execution_count": 7,
     "metadata": {},
     "output_type": "execute_result"
    }
   ],
   "source": [
    "len(response.text)"
   ]
  },
  {
   "cell_type": "code",
   "execution_count": 8,
   "id": "20068c84",
   "metadata": {},
   "outputs": [],
   "source": [
    "page_contents=response.text"
   ]
  },
  {
   "cell_type": "code",
   "execution_count": 9,
   "id": "c1d513a3",
   "metadata": {},
   "outputs": [
    {
     "data": {
      "text/plain": [
       "'\\n\\n<!DOCTYPE html>\\n<html lang=\"en\" data-color-mode=\"auto\" data-light-theme=\"light\" data-dark-theme=\"dark\"  data-a11y-animated-images=\"system\">\\n  <head>\\n    <meta charset=\"utf-8\">\\n  <link rel=\"dns-prefetch\" href=\"https://github.githubassets.com\">\\n  <link rel=\"dns-prefetch\" href=\"https://avatars.githubusercontent.com\">\\n  <link rel=\"dns-prefetch\" href=\"https://github-cloud.s3.amazonaws.com\">\\n  <link rel=\"dns-prefetch\" href=\"https://user-images.githubusercontent.com/\">\\n  <link rel=\"preconnect\" href=\"https://github.githubassets.com\" crossorigin>\\n  <link rel=\"preconnect\" href=\"https://avatars.githubusercontent.com\">\\n\\n  \\n\\n  <link crossorigin=\"anonymous\" media=\"all\" rel=\"stylesheet\" href=\"https://github.githubassets.com/assets/light-8cafbcbd78f4.css\" /><link crossorigin=\"anonymous\" media=\"all\" rel=\"stylesheet\" href=\"https://github.githubassets.com/assets/dark-31dc14e38457.css\" /><link data-color-theme=\"dark_dimmed\" crossorigin=\"anonymous\" media=\"all\" rel=\"stylesheet\" data-href=\"https://github.g'"
      ]
     },
     "execution_count": 9,
     "metadata": {},
     "output_type": "execute_result"
    }
   ],
   "source": [
    "page_contents[:1000]\n",
    "#written in HTML"
   ]
  },
  {
   "cell_type": "code",
   "execution_count": 10,
   "id": "30e2ec28",
   "metadata": {},
   "outputs": [],
   "source": [
    "with open('webpage.html','w') as f:\n",
    "    f.write(page_contents)"
   ]
  },
  {
   "cell_type": "markdown",
   "id": "0fbd629b",
   "metadata": {},
   "source": [
    "#### 3.Use Beautiful Soup to parse and extract information"
   ]
  },
  {
   "cell_type": "code",
   "execution_count": 11,
   "id": "eaea43e0",
   "metadata": {},
   "outputs": [
    {
     "name": "stdout",
     "output_type": "stream",
     "text": [
      "Note: you may need to restart the kernel to use updated packages.\n"
     ]
    }
   ],
   "source": [
    "pip install beautifulsoup4 --upgrade --quiet"
   ]
  },
  {
   "cell_type": "code",
   "execution_count": 12,
   "id": "98f71014",
   "metadata": {},
   "outputs": [],
   "source": [
    "from bs4 import BeautifulSoup"
   ]
  },
  {
   "cell_type": "code",
   "execution_count": 13,
   "id": "3b4ef68f",
   "metadata": {},
   "outputs": [],
   "source": [
    "soup=BeautifulSoup(page_contents,'lxml')"
   ]
  },
  {
   "cell_type": "code",
   "execution_count": 14,
   "id": "26697c68",
   "metadata": {},
   "outputs": [
    {
     "data": {
      "text/plain": [
       "<!DOCTYPE html>\n",
       "<html data-a11y-animated-images=\"system\" data-color-mode=\"auto\" data-dark-theme=\"dark\" data-light-theme=\"light\" lang=\"en\">\n",
       "<head>\n",
       "<meta charset=\"utf-8\"/>\n",
       "<link href=\"https://github.githubassets.com\" rel=\"dns-prefetch\"/>\n",
       "<link href=\"https://avatars.githubusercontent.com\" rel=\"dns-prefetch\"/>\n",
       "<link href=\"https://github-cloud.s3.amazonaws.com\" rel=\"dns-prefetch\"/>\n",
       "<link href=\"https://user-images.githubusercontent.com/\" rel=\"dns-prefetch\"/>\n",
       "<link crossorigin=\"\" href=\"https://github.githubassets.com\" rel=\"preconnect\"/>\n",
       "<link href=\"https://avatars.githubusercontent.com\" rel=\"preconnect\"/>\n",
       "<link crossorigin=\"anonymous\" href=\"https://github.githubassets.com/assets/light-8cafbcbd78f4.css\" media=\"all\" rel=\"stylesheet\"/><link crossorigin=\"anonymous\" href=\"https://github.githubassets.com/assets/dark-31dc14e38457.css\" media=\"all\" rel=\"stylesheet\"/><link crossorigin=\"anonymous\" data-color-theme=\"dark_dimmed\" data-href=\"https://github.githubassets.com/assets/dark_dimmed-71414d661fe2.css\" media=\"all\" rel=\"stylesheet\"/><link crossorigin=\"anonymous\" data-color-theme=\"dark_high_contrast\" data-href=\"https://github.githubassets.com/assets/dark_high_contrast-ba96c7f1d660.css\" media=\"all\" rel=\"stylesheet\"/><link crossorigin=\"anonymous\" data-color-theme=\"dark_colorblind\" data-href=\"https://github.githubassets.com/assets/dark_colorblind-7471c22cdb6a.css\" media=\"all\" rel=\"stylesheet\"/><link crossorigin=\"anonymous\" data-color-theme=\"light_colorblind\" data-href=\"https://github.githubassets.com/assets/light_colorblind-80180bed15ed.css\" media=\"all\" rel=\"stylesheet\"/><link crossorigin=\"anonymous\" data-color-theme=\"light_high_contrast\" data-href=\"https://github.githubassets.com/assets/light_high_contrast-e89b9cdecb75.css\" media=\"all\" rel=\"stylesheet\"/><link crossorigin=\"anonymous\" data-color-theme=\"light_tritanopia\" data-href=\"https://github.githubassets.com/assets/light_tritanopia-77f15e9154df.css\" media=\"all\" rel=\"stylesheet\"/><link crossorigin=\"anonymous\" data-color-theme=\"dark_tritanopia\" data-href=\"https://github.githubassets.com/assets/dark_tritanopia-f598f8dd18ae.css\" media=\"all\" rel=\"stylesheet\"/>\n",
       "<link crossorigin=\"anonymous\" href=\"https://github.githubassets.com/assets/primer-primitives-fb1d51d1ef66.css\" media=\"all\" rel=\"stylesheet\"/>\n",
       "<link crossorigin=\"anonymous\" href=\"https://github.githubassets.com/assets/primer-05fec56eb582.css\" media=\"all\" rel=\"stylesheet\"/>\n",
       "<link crossorigin=\"anonymous\" href=\"https://github.githubassets.com/assets/global-96fc04180b0b.css\" media=\"all\" rel=\"stylesheet\"/>\n",
       "<link crossorigin=\"anonymous\" href=\"https://github.githubassets.com/assets/github-21dc4e5af19d.css\" media=\"all\" rel=\"stylesheet\"/>\n",
       "<link crossorigin=\"anonymous\" href=\"https://github.githubassets.com/assets/site-aa0bea65ed3d.css\" media=\"all\" rel=\"stylesheet\"/>\n",
       "<link crossorigin=\"anonymous\" href=\"https://github.githubassets.com/assets/explore-a3d82a8916fa.css\" media=\"all\" rel=\"stylesheet\"/>\n",
       "<link crossorigin=\"anonymous\" href=\"https://github.githubassets.com/assets/dashboard-bb5ec199767d.css\" media=\"all\" rel=\"stylesheet\"/>\n",
       "<link crossorigin=\"anonymous\" href=\"https://github.githubassets.com/assets/discussions-8c34e5e343ae.css\" media=\"all\" rel=\"stylesheet\"/>\n",
       "<script id=\"client-env\" type=\"application/json\">{\"locale\":\"en\",\"featureFlags\":[\"failbot_handle_non_errors\",\"fix_react_title\",\"geojson_azure_maps\",\"image_metric_tracking\",\"turbo_experiment_risky\",\"use_scroll_restoration\"]}</script>\n",
       "<script crossorigin=\"anonymous\" defer=\"defer\" src=\"https://github.githubassets.com/assets/wp-runtime-5a0979c71521.js\" type=\"application/javascript\"></script>\n",
       "<script crossorigin=\"anonymous\" defer=\"defer\" src=\"https://github.githubassets.com/assets/vendors-node_modules_dompurify_dist_purify_js-64d590970fa6.js\" type=\"application/javascript\"></script>\n",
       "<script crossorigin=\"anonymous\" defer=\"defer\" src=\"https://github.githubassets.com/assets/vendors-node_modules_stacktrace-parser_dist_stack-trace-parser_esm_js-node_modules_github_bro-a4c183-ae93d3fba59c.js\" type=\"application/javascript\"></script>\n",
       "<script crossorigin=\"anonymous\" defer=\"defer\" src=\"https://github.githubassets.com/assets/ui_packages_soft-nav_soft-nav_ts-db8b037dfa8f.js\" type=\"application/javascript\"></script>\n",
       "<script crossorigin=\"anonymous\" defer=\"defer\" src=\"https://github.githubassets.com/assets/environment-c2140938ffde.js\" type=\"application/javascript\"></script>\n",
       "<script crossorigin=\"anonymous\" defer=\"defer\" src=\"https://github.githubassets.com/assets/vendors-node_modules_github_selector-observer_dist_index_esm_js-2646a2c533e3.js\" type=\"application/javascript\"></script>\n",
       "<script crossorigin=\"anonymous\" defer=\"defer\" src=\"https://github.githubassets.com/assets/vendors-node_modules_primer_behaviors_dist_esm_focus-zone_js-d55308df5023.js\" type=\"application/javascript\"></script>\n",
       "<script crossorigin=\"anonymous\" defer=\"defer\" src=\"https://github.githubassets.com/assets/vendors-node_modules_github_relative-time-element_dist_index_js-99e288659d4f.js\" type=\"application/javascript\"></script>\n",
       "<script crossorigin=\"anonymous\" defer=\"defer\" src=\"https://github.githubassets.com/assets/vendors-node_modules_fzy_js_index_js-node_modules_github_markdown-toolbar-element_dist_index_js-d2119e75298d.js\" type=\"application/javascript\"></script>\n",
       "<script crossorigin=\"anonymous\" defer=\"defer\" src=\"https://github.githubassets.com/assets/vendors-node_modules_delegated-events_dist_index_js-node_modules_github_auto-complete-element-5b3870-9b38c0812424.js\" type=\"application/javascript\"></script>\n",
       "<script crossorigin=\"anonymous\" defer=\"defer\" src=\"https://github.githubassets.com/assets/vendors-node_modules_github_filter-input-element_dist_index_js-node_modules_github_remote-inp-8873b7-5771678648e0.js\" type=\"application/javascript\"></script>\n",
       "<script crossorigin=\"anonymous\" defer=\"defer\" src=\"https://github.githubassets.com/assets/vendors-node_modules_github_file-attachment-element_dist_index_js-node_modules_github_text-ex-3415a8-7ecc10fb88d0.js\" type=\"application/javascript\"></script>\n",
       "<script crossorigin=\"anonymous\" defer=\"defer\" src=\"https://github.githubassets.com/assets/vendors-node_modules_primer_view-components_app_components_primer_primer_js-node_modules_gith-e7a1e2-0c753046063c.js\" type=\"application/javascript\"></script>\n",
       "<script crossorigin=\"anonymous\" defer=\"defer\" src=\"https://github.githubassets.com/assets/github-elements-82e8d1a2fb81.js\" type=\"application/javascript\"></script>\n",
       "<script crossorigin=\"anonymous\" defer=\"defer\" src=\"https://github.githubassets.com/assets/element-registry-7302f590387d.js\" type=\"application/javascript\"></script>\n",
       "<script crossorigin=\"anonymous\" defer=\"defer\" src=\"https://github.githubassets.com/assets/vendors-node_modules_lit-html_lit-html_js-9d9fe1859ce5.js\" type=\"application/javascript\"></script>\n",
       "<script crossorigin=\"anonymous\" defer=\"defer\" src=\"https://github.githubassets.com/assets/vendors-node_modules_github_hydro-analytics-client_dist_analytics-client_js-node_modules_gith-f3aee1-fd3c22610e40.js\" type=\"application/javascript\"></script>\n",
       "<script crossorigin=\"anonymous\" defer=\"defer\" src=\"https://github.githubassets.com/assets/vendors-node_modules_morphdom_dist_morphdom-esm_js-b1fdd7158cf0.js\" type=\"application/javascript\"></script>\n",
       "<script crossorigin=\"anonymous\" defer=\"defer\" src=\"https://github.githubassets.com/assets/vendors-node_modules_github_mini-throttle_dist_index_js-node_modules_github_alive-client_dist-bf5aa2-424aa982deef.js\" type=\"application/javascript\"></script>\n",
       "<script crossorigin=\"anonymous\" defer=\"defer\" src=\"https://github.githubassets.com/assets/vendors-node_modules_github_turbo_dist_turbo_es2017-esm_js-1f4793023fcd.js\" type=\"application/javascript\"></script>\n",
       "<script crossorigin=\"anonymous\" defer=\"defer\" src=\"https://github.githubassets.com/assets/vendors-node_modules_github_remote-form_dist_index_js-node_modules_scroll-anchoring_dist_scro-52dc4b-e1e33bfc0b7e.js\" type=\"application/javascript\"></script>\n",
       "<script crossorigin=\"anonymous\" defer=\"defer\" src=\"https://github.githubassets.com/assets/vendors-node_modules_color-convert_index_js-35b3ae68c408.js\" type=\"application/javascript\"></script>\n",
       "<script crossorigin=\"anonymous\" defer=\"defer\" src=\"https://github.githubassets.com/assets/vendors-node_modules_github_paste-markdown_dist_index_esm_js-node_modules_github_quote-select-7a8e2b-f036384374ea.js\" type=\"application/javascript\"></script>\n",
       "<script crossorigin=\"anonymous\" defer=\"defer\" src=\"https://github.githubassets.com/assets/app_assets_modules_github_updatable-content_ts-126aeb5c22c9.js\" type=\"application/javascript\"></script>\n",
       "<script crossorigin=\"anonymous\" defer=\"defer\" src=\"https://github.githubassets.com/assets/app_assets_modules_github_behaviors_task-list_ts-app_assets_modules_github_onfocus_ts-app_ass-079b43-c46fa3ecf26e.js\" type=\"application/javascript\"></script>\n",
       "<script crossorigin=\"anonymous\" defer=\"defer\" src=\"https://github.githubassets.com/assets/app_assets_modules_github_sticky-scroll-into-view_ts-050ad6637d58.js\" type=\"application/javascript\"></script>\n",
       "<script crossorigin=\"anonymous\" defer=\"defer\" src=\"https://github.githubassets.com/assets/app_assets_modules_github_blob-anchor_ts-app_assets_modules_github_cookies_ts-app_assets_modu-4c025d-23cbb87a0af9.js\" type=\"application/javascript\"></script>\n",
       "<script crossorigin=\"anonymous\" defer=\"defer\" src=\"https://github.githubassets.com/assets/app_assets_modules_github_behaviors_commenting_edit_ts-app_assets_modules_github_behaviors_ht-83c235-f22ac6b94445.js\" type=\"application/javascript\"></script>\n",
       "<script crossorigin=\"anonymous\" defer=\"defer\" src=\"https://github.githubassets.com/assets/app_assets_modules_github_behaviors_ajax-error_ts-app_assets_modules_github_behaviors_include-2e2258-113626c1b575.js\" type=\"application/javascript\"></script>\n",
       "<script crossorigin=\"anonymous\" defer=\"defer\" src=\"https://github.githubassets.com/assets/behaviors-717f67f10853.js\" type=\"application/javascript\"></script>\n",
       "<script crossorigin=\"anonymous\" defer=\"defer\" src=\"https://github.githubassets.com/assets/vendors-node_modules_delegated-events_dist_index_js-node_modules_github_catalyst_lib_index_js-06ff531-fe0b8ccc90a5.js\" type=\"application/javascript\"></script>\n",
       "<script crossorigin=\"anonymous\" defer=\"defer\" src=\"https://github.githubassets.com/assets/notifications-global-f57687007bfc.js\" type=\"application/javascript\"></script>\n",
       "<title>Topics on GitHub · GitHub</title>\n",
       "<meta content=\"/topics(.:format)\" name=\"route-pattern\"/>\n",
       "<meta content=\"580e020ff5acc46ed55f2372ada45b3ff61fa1c9576b8e05992ec043d3e86edd\" name=\"current-catalog-service-hash\"/>\n",
       "<meta content=\"D278:162C0B:265C90:2999C7:64C1577A\" data-pjax-transient=\"true\" name=\"request-id\"/><meta content=\"842fc110155c295c413f281a77ba75b8283fb674bf659f9c9c7eb2d1b8d30ae7\" data-pjax-transient=\"true\" name=\"html-safe-nonce\"/><meta content=\"eyJyZWZlcnJlciI6IiIsInJlcXVlc3RfaWQiOiJEMjc4OjE2MkMwQjoyNjVDOTA6Mjk5OUM3OjY0QzE1NzdBIiwidmlzaXRvcl9pZCI6IjI1OTIzMTI5NzQ0NTA0NDgyNTAiLCJyZWdpb25fZWRnZSI6ImNlbnRyYWxpbmRpYSIsInJlZ2lvbl9yZW5kZXIiOiJjZW50cmFsaW5kaWEifQ==\" data-pjax-transient=\"true\" name=\"visitor-payload\"/><meta content=\"02e091a3c0f196db456f2ce58a973019a5dd567bd50ecba81ea96328198a4443\" data-pjax-transient=\"true\" name=\"visitor-hmac\"/>\n",
       "<meta content=\"\" data-turbo-transient=\"true\" name=\"github-keyboard-shortcuts\"/>\n",
       "<meta data-turbo-transient=\"\" name=\"selected-link\" value=\"/topics\"/>\n",
       "<link href=\"https://github.githubassets.com/\" rel=\"assets\"/>\n",
       "<meta content=\"c1kuD-K2HIVF635lypcsWPoD4kilo5-jA_wBFyT4uMY\" name=\"google-site-verification\"/>\n",
       "<meta content=\"KT5gs8h0wvaagLKAVWq8bbeNwnZZK1r1XQysX3xurLU\" name=\"google-site-verification\"/>\n",
       "<meta content=\"ZzhVyEFwb7w3e0-uOTltm8Jsck2F5StVihD0exw2fsA\" name=\"google-site-verification\"/>\n",
       "<meta content=\"GXs5KoUUkNCoaAZn7wPN-t01Pywp9M3sEjnt_3_ZWPc\" name=\"google-site-verification\"/>\n",
       "<meta content=\"Apib7-x98H0j5cPqHWwSMm6dNU4GmODRoqxLiDzdx9I\" name=\"google-site-verification\"/>\n",
       "<meta content=\"https://collector.github.com/github/collect\" name=\"octolytics-url\"/>\n",
       "<meta content=\"\" name=\"user-login\"/>\n",
       "<meta content=\"width=device-width\" name=\"viewport\"/>\n",
       "<meta content=\"GitHub is where people build software. More than 100 million people use GitHub to discover, fork, and contribute to over 330 million projects.\" name=\"description\"/>\n",
       "<link href=\"/opensearch.xml\" rel=\"search\" title=\"GitHub\" type=\"application/opensearchdescription+xml\"/>\n",
       "<link href=\"https://github.com/fluidicon.png\" rel=\"fluid-icon\" title=\"GitHub\"/>\n",
       "<meta content=\"1401488693436528\" property=\"fb:app_id\"/>\n",
       "<meta content=\"app-id=1477376905, app-argument=https://github.com/topics\" name=\"apple-itunes-app\"/>\n",
       "<meta content=\"https://github.com\" property=\"og:url\"/>\n",
       "<meta content=\"GitHub\" property=\"og:site_name\"/>\n",
       "<meta content=\"Build software better, together\" property=\"og:title\"/>\n",
       "<meta content=\"GitHub is where people build software. More than 100 million people use GitHub to discover, fork, and contribute to over 330 million projects.\" property=\"og:description\"/>\n",
       "<meta content=\"https://github.githubassets.com/images/modules/open_graph/github-logo.png\" property=\"og:image\"/>\n",
       "<meta content=\"image/png\" property=\"og:image:type\"/>\n",
       "<meta content=\"1200\" property=\"og:image:width\"/>\n",
       "<meta content=\"1200\" property=\"og:image:height\"/>\n",
       "<meta content=\"https://github.githubassets.com/images/modules/open_graph/github-mark.png\" property=\"og:image\"/>\n",
       "<meta content=\"image/png\" property=\"og:image:type\"/>\n",
       "<meta content=\"1200\" property=\"og:image:width\"/>\n",
       "<meta content=\"620\" property=\"og:image:height\"/>\n",
       "<meta content=\"https://github.githubassets.com/images/modules/open_graph/github-octocat.png\" property=\"og:image\"/>\n",
       "<meta content=\"image/png\" property=\"og:image:type\"/>\n",
       "<meta content=\"1200\" property=\"og:image:width\"/>\n",
       "<meta content=\"620\" property=\"og:image:height\"/>\n",
       "<meta content=\"github\" property=\"twitter:site\"/>\n",
       "<meta content=\"13334762\" property=\"twitter:site:id\"/>\n",
       "<meta content=\"github\" property=\"twitter:creator\"/>\n",
       "<meta content=\"13334762\" property=\"twitter:creator:id\"/>\n",
       "<meta content=\"summary_large_image\" property=\"twitter:card\"/>\n",
       "<meta content=\"GitHub\" property=\"twitter:title\"/>\n",
       "<meta content=\"GitHub is where people build software. More than 100 million people use GitHub to discover, fork, and contribute to over 330 million projects.\" property=\"twitter:description\"/>\n",
       "<meta content=\"https://github.githubassets.com/images/modules/open_graph/github-logo.png\" property=\"twitter:image:src\"/>\n",
       "<meta content=\"1200\" property=\"twitter:image:width\"/>\n",
       "<meta content=\"1200\" property=\"twitter:image:height\"/>\n",
       "<meta content=\"github.com\" name=\"hostname\"/>\n",
       "<meta content=\"github.com\" name=\"expected-hostname\"/>\n",
       "<meta content=\"FAILBOT_HANDLE_NON_ERRORS,FIX_REACT_TITLE,GEOJSON_AZURE_MAPS,IMAGE_METRIC_TRACKING,TURBO_EXPERIMENT_RISKY,USE_SCROLL_RESTORATION\" name=\"enabled-features\"/>\n",
       "<meta content=\"8934a0cb42a6ddf4242975c369551e3615d7fd505c2eaf47a4643386ccb3131c\" data-turbo-track=\"reload\" http-equiv=\"x-pjax-version\"/>\n",
       "<meta content=\"d578db686ab50f6f79f53006983acd122464dfeec8531d38fe12d520f9cbf1bc\" data-turbo-track=\"reload\" http-equiv=\"x-pjax-csp-version\"/>\n",
       "<meta content=\"0605edbc2f984c4636338bb4c6da1ec667487300b521cf7496daf0f49b303cea\" data-turbo-track=\"reload\" http-equiv=\"x-pjax-css-version\"/>\n",
       "<meta content=\"1692d7f07a1403a1f08df776f4c6d6d6d6b2ecf194cfc27d10b9f24e63007919\" data-turbo-track=\"reload\" http-equiv=\"x-pjax-js-version\"/>\n",
       "<meta content=\"no-preview\" data-turbo-transient=\"\" name=\"turbo-cache-control\"/>\n",
       "<meta content=\"logged-out env-production page-responsive\" name=\"turbo-body-classes\"/>\n",
       "<meta content=\"https://api.github.com/_private/browser/stats\" name=\"browser-stats-url\"/>\n",
       "<meta content=\"https://api.github.com/_private/browser/errors\" name=\"browser-errors-url\"/>\n",
       "<meta content=\"https://api.github.com/_private/browser/optimizely_client/errors\" name=\"browser-optimizely-client-errors-url\"/>\n",
       "<link color=\"#000000\" href=\"https://github.githubassets.com/pinned-octocat.svg\" rel=\"mask-icon\"/>\n",
       "<link class=\"js-site-favicon\" href=\"https://github.githubassets.com/favicons/favicon.png\" rel=\"alternate icon\" type=\"image/png\"/>\n",
       "<link class=\"js-site-favicon\" href=\"https://github.githubassets.com/favicons/favicon.svg\" rel=\"icon\" type=\"image/svg+xml\"/>\n",
       "<meta content=\"#1e2327\" name=\"theme-color\"/>\n",
       "<meta content=\"light dark\" name=\"color-scheme\"/>\n",
       "<link crossorigin=\"use-credentials\" href=\"/manifest.json\" rel=\"manifest\"/>\n",
       "</head>\n",
       "<body class=\"logged-out env-production page-responsive\" style=\"word-wrap: break-word;\">\n",
       "<div class=\"logged-out env-production page-responsive\" data-turbo-body=\"\" style=\"word-wrap: break-word;\">\n",
       "<div class=\"position-relative js-header-wrapper\">\n",
       "<a class=\"px-2 py-4 color-bg-accent-emphasis color-fg-on-emphasis show-on-focus js-skip-to-content\" href=\"#start-of-content\">Skip to content</a>\n",
       "<span class=\"progress-pjax-loader Progress position-fixed width-full\" data-view-component=\"true\">\n",
       "<span class=\"Progress-item progress-pjax-loader-bar left-0 top-0 color-bg-accent-emphasis\" data-view-component=\"true\" style=\"width: 0%;\"></span>\n",
       "</span>\n",
       "<script crossorigin=\"anonymous\" defer=\"defer\" src=\"https://github.githubassets.com/assets/vendors-node_modules_github_remote-form_dist_index_js-node_modules_github_memoize_dist_esm_in-687f35-d131f0b6de8e.js\" type=\"application/javascript\"></script>\n",
       "<script crossorigin=\"anonymous\" defer=\"defer\" src=\"https://github.githubassets.com/assets/sessions-2638decb9ee5.js\" type=\"application/javascript\"></script>\n",
       "<header class=\"Header-old header-logged-out js-details-container Details position-relative f4 py-3\" data-color-mode=\"light\" data-dark-theme=\"dark\" data-light-theme=\"light\" role=\"banner\">\n",
       "<button aria-label=\"Toggle navigation\" class=\"Header-backdrop d-lg-none border-0 position-fixed top-0 left-0 width-full height-full js-details-target\" type=\"button\">\n",
       "<span class=\"d-none\">Toggle navigation</span>\n",
       "</button>\n",
       "<div class=\"d-flex flex-column flex-lg-row flex-items-center p-responsive height-full position-relative z-1\">\n",
       "<div class=\"d-flex flex-justify-between flex-items-center width-full width-lg-auto\">\n",
       "<a aria-label=\"Homepage\" class=\"mr-lg-3 color-fg-inherit flex-order-2\" data-ga-click=\"(Logged out) Header, go to homepage, icon:logo-wordmark\" href=\"https://github.com/\">\n",
       "<svg aria-hidden=\"true\" class=\"octicon octicon-mark-github\" data-view-component=\"true\" height=\"32\" version=\"1.1\" viewbox=\"0 0 16 16\" width=\"32\">\n",
       "<path d=\"M8 0c4.42 0 8 3.58 8 8a8.013 8.013 0 0 1-5.45 7.59c-.4.08-.55-.17-.55-.38 0-.27.01-1.13.01-2.2 0-.75-.25-1.23-.54-1.48 1.78-.2 3.65-.88 3.65-3.95 0-.88-.31-1.59-.82-2.15.08-.2.36-1.02-.08-2.12 0 0-.67-.22-2.2.82-.64-.18-1.32-.27-2-.27-.68 0-1.36.09-2 .27-1.53-1.03-2.2-.82-2.2-.82-.44 1.1-.16 1.92-.08 2.12-.51.56-.82 1.28-.82 2.15 0 3.06 1.86 3.75 3.64 3.95-.23.2-.44.55-.51 1.07-.46.21-1.61.55-2.33-.66-.15-.24-.6-.83-1.23-.82-.67.01-.27.38.01.53.34.19.73.9.82 1.13.16.45.68 1.31 2.69.94 0 .67.01 1.3.01 1.49 0 .21-.15.45-.55.38A7.995 7.995 0 0 1 0 8c0-4.42 3.58-8 8-8Z\"></path>\n",
       "</svg>\n",
       "</a>\n",
       "<div class=\"flex-1\">\n",
       "<a class=\"d-inline-block d-lg-none flex-order-1 f5 no-underline border color-border-default rounded-2 px-2 py-1 color-fg-inherit\" data-hydro-click='{\"event_type\":\"authentication.click\",\"payload\":{\"location_in_page\":\"site header\",\"repository_id\":null,\"auth_type\":\"SIGN_UP\",\"originating_url\":\"https://github.com/topics\",\"user_id\":null}}' data-hydro-click-hmac=\"9563eaf6cc4b00e656abef045c9bcab7c24609a46959b5bf5499d7abd0be49f5\" href=\"/signup?ref_cta=Sign+up&amp;ref_loc=header+logged+out&amp;ref_page=%2Ftopics&amp;source=header\">\n",
       "            Sign up\n",
       "          </a>\n",
       "</div>\n",
       "<div class=\"flex-1 flex-order-2 text-right\">\n",
       "<button aria-expanded=\"false\" aria-label=\"Toggle navigation\" class=\"js-details-target Button--link Button--medium Button d-lg-none color-fg-inherit p-1\" data-view-component=\"true\" type=\"button\"> <span class=\"Button-content\">\n",
       "<span class=\"Button-label\"><div class=\"HeaderMenu-toggle-bar rounded my-1\"></div>\n",
       "<div class=\"HeaderMenu-toggle-bar rounded my-1\"></div>\n",
       "<div class=\"HeaderMenu-toggle-bar rounded my-1\"></div></span>\n",
       "</span>\n",
       "</button>\n",
       "</div>\n",
       "</div>\n",
       "<div class=\"HeaderMenu--logged-out p-responsive height-fit position-lg-relative d-lg-flex flex-column flex-auto pt-7 pb-4 top-0\">\n",
       "<div class=\"header-menu-wrapper d-flex flex-column flex-self-end flex-lg-row flex-justify-between flex-auto p-3 p-lg-0 rounded rounded-lg-0 mt-3 mt-lg-0\">\n",
       "<nav aria-label=\"Global\" class=\"mt-0 px-3 px-lg-0 mb-3 mb-lg-0\">\n",
       "<ul class=\"d-lg-flex list-style-none\">\n",
       "<li class=\"HeaderMenu-item position-relative flex-wrap flex-justify-between flex-items-center d-block d-lg-flex flex-lg-nowrap flex-lg-items-center js-details-container js-header-menu-item\">\n",
       "<button aria-expanded=\"false\" class=\"HeaderMenu-link border-0 width-full width-lg-auto px-0 px-lg-2 py-3 py-lg-2 no-wrap d-flex flex-items-center flex-justify-between js-details-target\" type=\"button\">\n",
       "        Product\n",
       "        <svg aria-hidden=\"true\" class=\"octicon octicon-chevron-down HeaderMenu-icon ml-1\" data-view-component=\"true\" height=\"16\" opacity=\"0.5\" version=\"1.1\" viewbox=\"0 0 16 16\" width=\"16\">\n",
       "<path d=\"M12.78 5.22a.749.749 0 0 1 0 1.06l-4.25 4.25a.749.749 0 0 1-1.06 0L3.22 6.28a.749.749 0 1 1 1.06-1.06L8 8.939l3.72-3.719a.749.749 0 0 1 1.06 0Z\"></path>\n",
       "</svg>\n",
       "</button>\n",
       "<div class=\"HeaderMenu-dropdown dropdown-menu rounded m-0 p-0 py-2 py-lg-4 position-relative position-lg-absolute left-0 left-lg-n3 d-lg-flex dropdown-menu-wide\">\n",
       "<div class=\"px-lg-4 border-lg-right mb-4 mb-lg-0 pr-lg-7\">\n",
       "<ul class=\"list-style-none f5\">\n",
       "<li>\n",
       "<a class=\"HeaderMenu-dropdown-link lh-condensed d-block no-underline position-relative py-2 Link--secondary d-flex flex-items-center pb-lg-3\" data-analytics-event='{\"category\":\"Header dropdown (logged out), Product\",\"action\":\"click to go to Actions\",\"label\":\"ref_cta:Actions;\"}' href=\"/features/actions\">\n",
       "<svg aria-hidden=\"true\" class=\"octicon octicon-workflow color-fg-subtle mr-3\" data-view-component=\"true\" height=\"24\" version=\"1.1\" viewbox=\"0 0 24 24\" width=\"24\">\n",
       "<path d=\"M1 3a2 2 0 0 1 2-2h6.5a2 2 0 0 1 2 2v6.5a2 2 0 0 1-2 2H7v4.063C7 16.355 7.644 17 8.438 17H12.5v-2.5a2 2 0 0 1 2-2H21a2 2 0 0 1 2 2V21a2 2 0 0 1-2 2h-6.5a2 2 0 0 1-2-2v-2.5H8.437A2.939 2.939 0 0 1 5.5 15.562V11.5H3a2 2 0 0 1-2-2Zm2-.5a.5.5 0 0 0-.5.5v6.5a.5.5 0 0 0 .5.5h6.5a.5.5 0 0 0 .5-.5V3a.5.5 0 0 0-.5-.5ZM14.5 14a.5.5 0 0 0-.5.5V21a.5.5 0 0 0 .5.5H21a.5.5 0 0 0 .5-.5v-6.5a.5.5 0 0 0-.5-.5Z\"></path>\n",
       "</svg>\n",
       "<div>\n",
       "<div class=\"color-fg-default h4\">Actions</div>\n",
       "        Automate any workflow\n",
       "      </div>\n",
       "</a></li>\n",
       "<li>\n",
       "<a class=\"HeaderMenu-dropdown-link lh-condensed d-block no-underline position-relative py-2 Link--secondary d-flex flex-items-center pb-lg-3\" data-analytics-event='{\"category\":\"Header dropdown (logged out), Product\",\"action\":\"click to go to Packages\",\"label\":\"ref_cta:Packages;\"}' href=\"/features/packages\">\n",
       "<svg aria-hidden=\"true\" class=\"octicon octicon-package color-fg-subtle mr-3\" data-view-component=\"true\" height=\"24\" version=\"1.1\" viewbox=\"0 0 24 24\" width=\"24\">\n",
       "<path d=\"M12.876.64V.639l8.25 4.763c.541.313.875.89.875 1.515v9.525a1.75 1.75 0 0 1-.875 1.516l-8.25 4.762a1.748 1.748 0 0 1-1.75 0l-8.25-4.763a1.75 1.75 0 0 1-.875-1.515V6.917c0-.625.334-1.202.875-1.515L11.126.64a1.748 1.748 0 0 1 1.75 0Zm-1 1.298L4.251 6.34l7.75 4.474 7.75-4.474-7.625-4.402a.248.248 0 0 0-.25 0Zm.875 19.123 7.625-4.402a.25.25 0 0 0 .125-.216V7.639l-7.75 4.474ZM3.501 7.64v8.803c0 .09.048.172.125.216l7.625 4.402v-8.947Z\"></path>\n",
       "</svg>\n",
       "<div>\n",
       "<div class=\"color-fg-default h4\">Packages</div>\n",
       "        Host and manage packages\n",
       "      </div>\n",
       "</a></li>\n",
       "<li>\n",
       "<a class=\"HeaderMenu-dropdown-link lh-condensed d-block no-underline position-relative py-2 Link--secondary d-flex flex-items-center pb-lg-3\" data-analytics-event='{\"category\":\"Header dropdown (logged out), Product\",\"action\":\"click to go to Security\",\"label\":\"ref_cta:Security;\"}' href=\"/features/security\">\n",
       "<svg aria-hidden=\"true\" class=\"octicon octicon-shield-check color-fg-subtle mr-3\" data-view-component=\"true\" height=\"24\" version=\"1.1\" viewbox=\"0 0 24 24\" width=\"24\">\n",
       "<path d=\"M16.53 9.78a.75.75 0 0 0-1.06-1.06L11 13.19l-1.97-1.97a.75.75 0 0 0-1.06 1.06l2.5 2.5a.75.75 0 0 0 1.06 0l5-5Z\"></path><path d=\"m12.54.637 8.25 2.675A1.75 1.75 0 0 1 22 4.976V10c0 6.19-3.771 10.704-9.401 12.83a1.704 1.704 0 0 1-1.198 0C5.77 20.705 2 16.19 2 10V4.976c0-.758.489-1.43 1.21-1.664L11.46.637a1.748 1.748 0 0 1 1.08 0Zm-.617 1.426-8.25 2.676a.249.249 0 0 0-.173.237V10c0 5.46 3.28 9.483 8.43 11.426a.199.199 0 0 0 .14 0C17.22 19.483 20.5 15.461 20.5 10V4.976a.25.25 0 0 0-.173-.237l-8.25-2.676a.253.253 0 0 0-.154 0Z\"></path>\n",
       "</svg>\n",
       "<div>\n",
       "<div class=\"color-fg-default h4\">Security</div>\n",
       "        Find and fix vulnerabilities\n",
       "      </div>\n",
       "</a></li>\n",
       "<li>\n",
       "<a class=\"HeaderMenu-dropdown-link lh-condensed d-block no-underline position-relative py-2 Link--secondary d-flex flex-items-center pb-lg-3\" data-analytics-event='{\"category\":\"Header dropdown (logged out), Product\",\"action\":\"click to go to Codespaces\",\"label\":\"ref_cta:Codespaces;\"}' href=\"/features/codespaces\">\n",
       "<svg aria-hidden=\"true\" class=\"octicon octicon-codespaces color-fg-subtle mr-3\" data-view-component=\"true\" height=\"24\" version=\"1.1\" viewbox=\"0 0 24 24\" width=\"24\">\n",
       "<path d=\"M3.5 3.75C3.5 2.784 4.284 2 5.25 2h13.5c.966 0 1.75.784 1.75 1.75v7.5A1.75 1.75 0 0 1 18.75 13H5.25a1.75 1.75 0 0 1-1.75-1.75Zm-2 12c0-.966.784-1.75 1.75-1.75h17.5c.966 0 1.75.784 1.75 1.75v4a1.75 1.75 0 0 1-1.75 1.75H3.25a1.75 1.75 0 0 1-1.75-1.75ZM5.25 3.5a.25.25 0 0 0-.25.25v7.5c0 .138.112.25.25.25h13.5a.25.25 0 0 0 .25-.25v-7.5a.25.25 0 0 0-.25-.25Zm-2 12a.25.25 0 0 0-.25.25v4c0 .138.112.25.25.25h17.5a.25.25 0 0 0 .25-.25v-4a.25.25 0 0 0-.25-.25Z\"></path><path d=\"M10 17.75a.75.75 0 0 1 .75-.75h6.5a.75.75 0 0 1 0 1.5h-6.5a.75.75 0 0 1-.75-.75Zm-4 0a.75.75 0 0 1 .75-.75h.5a.75.75 0 0 1 0 1.5h-.5a.75.75 0 0 1-.75-.75Z\"></path>\n",
       "</svg>\n",
       "<div>\n",
       "<div class=\"color-fg-default h4\">Codespaces</div>\n",
       "        Instant dev environments\n",
       "      </div>\n",
       "</a></li>\n",
       "<li>\n",
       "<a class=\"HeaderMenu-dropdown-link lh-condensed d-block no-underline position-relative py-2 Link--secondary d-flex flex-items-center pb-lg-3\" data-analytics-event='{\"category\":\"Header dropdown (logged out), Product\",\"action\":\"click to go to Copilot\",\"label\":\"ref_cta:Copilot;\"}' href=\"/features/copilot\">\n",
       "<svg aria-hidden=\"true\" class=\"octicon octicon-copilot color-fg-subtle mr-3\" data-view-component=\"true\" height=\"24\" version=\"1.1\" viewbox=\"0 0 24 24\" width=\"24\">\n",
       "<path d=\"M9.75 14a.75.75 0 0 1 .75.75v2.5a.75.75 0 0 1-1.5 0v-2.5a.75.75 0 0 1 .75-.75Zm4.5 0a.75.75 0 0 1 .75.75v2.5a.75.75 0 0 1-1.5 0v-2.5a.75.75 0 0 1 .75-.75Z\"></path><path d=\"M12 2c2.214 0 4.248.657 5.747 1.756.136.099.268.204.397.312.584.235 1.077.546 1.474.952.85.869 1.132 2.037 1.132 3.368 0 .368-.014.733-.052 1.086l.633 1.478.043.022A4.75 4.75 0 0 1 24 15.222v1.028c0 .529-.309.987-.565 1.293-.28.336-.636.653-.966.918a13.84 13.84 0 0 1-1.299.911l-.024.015-.006.004-.039.025c-.223.135-.45.264-.68.386-.46.245-1.122.571-1.941.895C16.845 21.344 14.561 22 12 22c-2.561 0-4.845-.656-6.479-1.303a19.046 19.046 0 0 1-1.942-.894 14.081 14.081 0 0 1-.535-.3l-.144-.087-.04-.025-.006-.004-.024-.015a13.16 13.16 0 0 1-1.299-.911 6.913 6.913 0 0 1-.967-.918C.31 17.237 0 16.779 0 16.25v-1.028a4.75 4.75 0 0 1 2.626-4.248l.043-.022.633-1.478a10.195 10.195 0 0 1-.052-1.086c0-1.331.282-2.498 1.132-3.368.397-.406.89-.717 1.474-.952.129-.108.261-.213.397-.312C7.752 2.657 9.786 2 12 2Zm-8 9.654v6.669a17.59 17.59 0 0 0 2.073.98C7.595 19.906 9.686 20.5 12 20.5c2.314 0 4.405-.594 5.927-1.197a17.59 17.59 0 0 0 2.073-.98v-6.669l-.038-.09c-.046.061-.095.12-.145.177-.793.9-2.057 1.259-3.782 1.259-1.59 0-2.738-.544-3.508-1.492a4.323 4.323 0 0 1-.355-.508h-.344a4.323 4.323 0 0 1-.355.508C10.704 12.456 9.555 13 7.965 13c-1.725 0-2.989-.359-3.782-1.259a3.026 3.026 0 0 1-.145-.177Zm6.309-1.092c.445-.547.708-1.334.851-2.301.057-.357.087-.718.09-1.079v-.031c-.001-.762-.166-1.26-.43-1.568l-.008-.01c-.341-.391-1.046-.689-2.533-.529-1.505.163-2.347.537-2.824 1.024-.462.473-.705 1.18-.705 2.32 0 .605.044 1.087.135 1.472.092.384.231.672.423.89.365.413 1.084.75 2.657.75.91 0 1.527-.223 1.964-.564.14-.11.268-.235.38-.374Zm2.504-2.497c.136 1.057.403 1.913.878 2.497.442.545 1.134.938 2.344.938 1.573 0 2.292-.337 2.657-.751.384-.435.558-1.151.558-2.361 0-1.14-.243-1.847-.705-2.319-.477-.488-1.318-.862-2.824-1.025-1.487-.161-2.192.139-2.533.529-.268.308-.437.808-.438 1.578v.02c.002.299.023.598.063.894Z\"></path>\n",
       "</svg>\n",
       "<div>\n",
       "<div class=\"color-fg-default h4\">Copilot</div>\n",
       "        Write better code with AI\n",
       "      </div>\n",
       "</a></li>\n",
       "<li>\n",
       "<a class=\"HeaderMenu-dropdown-link lh-condensed d-block no-underline position-relative py-2 Link--secondary d-flex flex-items-center pb-lg-3\" data-analytics-event='{\"category\":\"Header dropdown (logged out), Product\",\"action\":\"click to go to Code review\",\"label\":\"ref_cta:Code review;\"}' href=\"/features/code-review\">\n",
       "<svg aria-hidden=\"true\" class=\"octicon octicon-code-review color-fg-subtle mr-3\" data-view-component=\"true\" height=\"24\" version=\"1.1\" viewbox=\"0 0 24 24\" width=\"24\">\n",
       "<path d=\"M10.3 6.74a.75.75 0 0 1-.04 1.06l-2.908 2.7 2.908 2.7a.75.75 0 1 1-1.02 1.1l-3.5-3.25a.75.75 0 0 1 0-1.1l3.5-3.25a.75.75 0 0 1 1.06.04Zm3.44 1.06a.75.75 0 1 1 1.02-1.1l3.5 3.25a.75.75 0 0 1 0 1.1l-3.5 3.25a.75.75 0 1 1-1.02-1.1l2.908-2.7-2.908-2.7Z\"></path><path d=\"M1.5 4.25c0-.966.784-1.75 1.75-1.75h17.5c.966 0 1.75.784 1.75 1.75v12.5a1.75 1.75 0 0 1-1.75 1.75h-9.69l-3.573 3.573A1.458 1.458 0 0 1 5 21.043V18.5H3.25a1.75 1.75 0 0 1-1.75-1.75ZM3.25 4a.25.25 0 0 0-.25.25v12.5c0 .138.112.25.25.25h2.5a.75.75 0 0 1 .75.75v3.19l3.72-3.72a.749.749 0 0 1 .53-.22h10a.25.25 0 0 0 .25-.25V4.25a.25.25 0 0 0-.25-.25Z\"></path>\n",
       "</svg>\n",
       "<div>\n",
       "<div class=\"color-fg-default h4\">Code review</div>\n",
       "        Manage code changes\n",
       "      </div>\n",
       "</a></li>\n",
       "<li>\n",
       "<a class=\"HeaderMenu-dropdown-link lh-condensed d-block no-underline position-relative py-2 Link--secondary d-flex flex-items-center pb-lg-3\" data-analytics-event='{\"category\":\"Header dropdown (logged out), Product\",\"action\":\"click to go to Issues\",\"label\":\"ref_cta:Issues;\"}' href=\"/features/issues\">\n",
       "<svg aria-hidden=\"true\" class=\"octicon octicon-issue-opened color-fg-subtle mr-3\" data-view-component=\"true\" height=\"24\" version=\"1.1\" viewbox=\"0 0 24 24\" width=\"24\">\n",
       "<path d=\"M12 1c6.075 0 11 4.925 11 11s-4.925 11-11 11S1 18.075 1 12 5.925 1 12 1ZM2.5 12a9.5 9.5 0 0 0 9.5 9.5 9.5 9.5 0 0 0 9.5-9.5A9.5 9.5 0 0 0 12 2.5 9.5 9.5 0 0 0 2.5 12Zm9.5 2a2 2 0 1 1-.001-3.999A2 2 0 0 1 12 14Z\"></path>\n",
       "</svg>\n",
       "<div>\n",
       "<div class=\"color-fg-default h4\">Issues</div>\n",
       "        Plan and track work\n",
       "      </div>\n",
       "</a></li>\n",
       "<li>\n",
       "<a class=\"HeaderMenu-dropdown-link lh-condensed d-block no-underline position-relative py-2 Link--secondary d-flex flex-items-center\" data-analytics-event='{\"category\":\"Header dropdown (logged out), Product\",\"action\":\"click to go to Discussions\",\"label\":\"ref_cta:Discussions;\"}' href=\"/features/discussions\">\n",
       "<svg aria-hidden=\"true\" class=\"octicon octicon-comment-discussion color-fg-subtle mr-3\" data-view-component=\"true\" height=\"24\" version=\"1.1\" viewbox=\"0 0 24 24\" width=\"24\">\n",
       "<path d=\"M1.75 1h12.5c.966 0 1.75.784 1.75 1.75v9.5A1.75 1.75 0 0 1 14.25 14H8.061l-2.574 2.573A1.458 1.458 0 0 1 3 15.543V14H1.75A1.75 1.75 0 0 1 0 12.25v-9.5C0 1.784.784 1 1.75 1ZM1.5 2.75v9.5c0 .138.112.25.25.25h2a.75.75 0 0 1 .75.75v2.19l2.72-2.72a.749.749 0 0 1 .53-.22h6.5a.25.25 0 0 0 .25-.25v-9.5a.25.25 0 0 0-.25-.25H1.75a.25.25 0 0 0-.25.25Z\"></path><path d=\"M22.5 8.75a.25.25 0 0 0-.25-.25h-3.5a.75.75 0 0 1 0-1.5h3.5c.966 0 1.75.784 1.75 1.75v9.5A1.75 1.75 0 0 1 22.25 20H21v1.543a1.457 1.457 0 0 1-2.487 1.03L15.939 20H10.75A1.75 1.75 0 0 1 9 18.25v-1.465a.75.75 0 0 1 1.5 0v1.465c0 .138.112.25.25.25h5.5a.75.75 0 0 1 .53.22l2.72 2.72v-2.19a.75.75 0 0 1 .75-.75h2a.25.25 0 0 0 .25-.25v-9.5Z\"></path>\n",
       "</svg>\n",
       "<div>\n",
       "<div class=\"color-fg-default h4\">Discussions</div>\n",
       "        Collaborate outside of code\n",
       "      </div>\n",
       "</a></li>\n",
       "</ul>\n",
       "</div>\n",
       "<div class=\"px-lg-4\">\n",
       "<span class=\"d-block h4 color-fg-default my-1\" id=\"product-explore-heading\">Explore</span>\n",
       "<ul aria-labelledby=\"product-explore-heading\" class=\"list-style-none f5\">\n",
       "<li>\n",
       "<a class=\"HeaderMenu-dropdown-link lh-condensed d-block no-underline position-relative py-2 Link--secondary\" data-analytics-event='{\"category\":\"Header dropdown (logged out), Product\",\"action\":\"click to go to All features\",\"label\":\"ref_cta:All features;\"}' href=\"/features\">\n",
       "      All features\n",
       "\n",
       "    \n",
       "</a></li>\n",
       "<li>\n",
       "<a class=\"HeaderMenu-dropdown-link lh-condensed d-block no-underline position-relative py-2 Link--secondary\" data-analytics-event='{\"category\":\"Header dropdown (logged out), Product\",\"action\":\"click to go to Documentation\",\"label\":\"ref_cta:Documentation;\"}' href=\"https://docs.github.com\" target=\"_blank\">\n",
       "      Documentation\n",
       "\n",
       "    <svg aria-hidden=\"true\" class=\"octicon octicon-link-external HeaderMenu-external-icon color-fg-subtle\" data-view-component=\"true\" height=\"16\" version=\"1.1\" viewbox=\"0 0 16 16\" width=\"16\">\n",
       "<path d=\"M3.75 2h3.5a.75.75 0 0 1 0 1.5h-3.5a.25.25 0 0 0-.25.25v8.5c0 .138.112.25.25.25h8.5a.25.25 0 0 0 .25-.25v-3.5a.75.75 0 0 1 1.5 0v3.5A1.75 1.75 0 0 1 12.25 14h-8.5A1.75 1.75 0 0 1 2 12.25v-8.5C2 2.784 2.784 2 3.75 2Zm6.854-1h4.146a.25.25 0 0 1 .25.25v4.146a.25.25 0 0 1-.427.177L13.03 4.03 9.28 7.78a.751.751 0 0 1-1.042-.018.751.751 0 0 1-.018-1.042l3.75-3.75-1.543-1.543A.25.25 0 0 1 10.604 1Z\"></path>\n",
       "</svg>\n",
       "</a></li>\n",
       "<li>\n",
       "<a class=\"HeaderMenu-dropdown-link lh-condensed d-block no-underline position-relative py-2 Link--secondary\" data-analytics-event='{\"category\":\"Header dropdown (logged out), Product\",\"action\":\"click to go to GitHub Skills\",\"label\":\"ref_cta:GitHub Skills;\"}' href=\"https://skills.github.com/\" target=\"_blank\">\n",
       "      GitHub Skills\n",
       "\n",
       "    <svg aria-hidden=\"true\" class=\"octicon octicon-link-external HeaderMenu-external-icon color-fg-subtle\" data-view-component=\"true\" height=\"16\" version=\"1.1\" viewbox=\"0 0 16 16\" width=\"16\">\n",
       "<path d=\"M3.75 2h3.5a.75.75 0 0 1 0 1.5h-3.5a.25.25 0 0 0-.25.25v8.5c0 .138.112.25.25.25h8.5a.25.25 0 0 0 .25-.25v-3.5a.75.75 0 0 1 1.5 0v3.5A1.75 1.75 0 0 1 12.25 14h-8.5A1.75 1.75 0 0 1 2 12.25v-8.5C2 2.784 2.784 2 3.75 2Zm6.854-1h4.146a.25.25 0 0 1 .25.25v4.146a.25.25 0 0 1-.427.177L13.03 4.03 9.28 7.78a.751.751 0 0 1-1.042-.018.751.751 0 0 1-.018-1.042l3.75-3.75-1.543-1.543A.25.25 0 0 1 10.604 1Z\"></path>\n",
       "</svg>\n",
       "</a></li>\n",
       "<li>\n",
       "<a class=\"HeaderMenu-dropdown-link lh-condensed d-block no-underline position-relative py-2 Link--secondary\" data-analytics-event='{\"category\":\"Header dropdown (logged out), Product\",\"action\":\"click to go to Blog\",\"label\":\"ref_cta:Blog;\"}' href=\"https://github.blog\" target=\"_blank\">\n",
       "      Blog\n",
       "\n",
       "    <svg aria-hidden=\"true\" class=\"octicon octicon-link-external HeaderMenu-external-icon color-fg-subtle\" data-view-component=\"true\" height=\"16\" version=\"1.1\" viewbox=\"0 0 16 16\" width=\"16\">\n",
       "<path d=\"M3.75 2h3.5a.75.75 0 0 1 0 1.5h-3.5a.25.25 0 0 0-.25.25v8.5c0 .138.112.25.25.25h8.5a.25.25 0 0 0 .25-.25v-3.5a.75.75 0 0 1 1.5 0v3.5A1.75 1.75 0 0 1 12.25 14h-8.5A1.75 1.75 0 0 1 2 12.25v-8.5C2 2.784 2.784 2 3.75 2Zm6.854-1h4.146a.25.25 0 0 1 .25.25v4.146a.25.25 0 0 1-.427.177L13.03 4.03 9.28 7.78a.751.751 0 0 1-1.042-.018.751.751 0 0 1-.018-1.042l3.75-3.75-1.543-1.543A.25.25 0 0 1 10.604 1Z\"></path>\n",
       "</svg>\n",
       "</a></li>\n",
       "</ul>\n",
       "</div>\n",
       "</div>\n",
       "</li>\n",
       "<li class=\"HeaderMenu-item position-relative flex-wrap flex-justify-between flex-items-center d-block d-lg-flex flex-lg-nowrap flex-lg-items-center js-details-container js-header-menu-item\">\n",
       "<button aria-expanded=\"false\" class=\"HeaderMenu-link border-0 width-full width-lg-auto px-0 px-lg-2 py-3 py-lg-2 no-wrap d-flex flex-items-center flex-justify-between js-details-target\" type=\"button\">\n",
       "        Solutions\n",
       "        <svg aria-hidden=\"true\" class=\"octicon octicon-chevron-down HeaderMenu-icon ml-1\" data-view-component=\"true\" height=\"16\" opacity=\"0.5\" version=\"1.1\" viewbox=\"0 0 16 16\" width=\"16\">\n",
       "<path d=\"M12.78 5.22a.749.749 0 0 1 0 1.06l-4.25 4.25a.749.749 0 0 1-1.06 0L3.22 6.28a.749.749 0 1 1 1.06-1.06L8 8.939l3.72-3.719a.749.749 0 0 1 1.06 0Z\"></path>\n",
       "</svg>\n",
       "</button>\n",
       "<div class=\"HeaderMenu-dropdown dropdown-menu rounded m-0 p-0 py-2 py-lg-4 position-relative position-lg-absolute left-0 left-lg-n3 px-lg-4\">\n",
       "<div class=\"border-bottom pb-3 mb-3\">\n",
       "<span class=\"d-block h4 color-fg-default my-1\" id=\"solutions-for-heading\">For</span>\n",
       "<ul aria-labelledby=\"solutions-for-heading\" class=\"list-style-none f5\">\n",
       "<li>\n",
       "<a class=\"HeaderMenu-dropdown-link lh-condensed d-block no-underline position-relative py-2 Link--secondary\" data-analytics-event='{\"category\":\"Header dropdown (logged out), Solutions\",\"action\":\"click to go to Enterprise\",\"label\":\"ref_cta:Enterprise;\"}' href=\"/enterprise\">\n",
       "      Enterprise\n",
       "\n",
       "    \n",
       "</a></li>\n",
       "<li>\n",
       "<a class=\"HeaderMenu-dropdown-link lh-condensed d-block no-underline position-relative py-2 Link--secondary\" data-analytics-event='{\"category\":\"Header dropdown (logged out), Solutions\",\"action\":\"click to go to Teams\",\"label\":\"ref_cta:Teams;\"}' href=\"/team\">\n",
       "      Teams\n",
       "\n",
       "    \n",
       "</a></li>\n",
       "<li>\n",
       "<a class=\"HeaderMenu-dropdown-link lh-condensed d-block no-underline position-relative py-2 Link--secondary\" data-analytics-event='{\"category\":\"Header dropdown (logged out), Solutions\",\"action\":\"click to go to Startups\",\"label\":\"ref_cta:Startups;\"}' href=\"/enterprise/startups\">\n",
       "      Startups\n",
       "\n",
       "    \n",
       "</a></li>\n",
       "<li>\n",
       "<a class=\"HeaderMenu-dropdown-link lh-condensed d-block no-underline position-relative py-2 Link--secondary\" data-analytics-event='{\"category\":\"Header dropdown (logged out), Solutions\",\"action\":\"click to go to Education\",\"label\":\"ref_cta:Education;\"}' href=\"https://education.github.com\" target=\"_blank\">\n",
       "      Education\n",
       "\n",
       "    <svg aria-hidden=\"true\" class=\"octicon octicon-link-external HeaderMenu-external-icon color-fg-subtle\" data-view-component=\"true\" height=\"16\" version=\"1.1\" viewbox=\"0 0 16 16\" width=\"16\">\n",
       "<path d=\"M3.75 2h3.5a.75.75 0 0 1 0 1.5h-3.5a.25.25 0 0 0-.25.25v8.5c0 .138.112.25.25.25h8.5a.25.25 0 0 0 .25-.25v-3.5a.75.75 0 0 1 1.5 0v3.5A1.75 1.75 0 0 1 12.25 14h-8.5A1.75 1.75 0 0 1 2 12.25v-8.5C2 2.784 2.784 2 3.75 2Zm6.854-1h4.146a.25.25 0 0 1 .25.25v4.146a.25.25 0 0 1-.427.177L13.03 4.03 9.28 7.78a.751.751 0 0 1-1.042-.018.751.751 0 0 1-.018-1.042l3.75-3.75-1.543-1.543A.25.25 0 0 1 10.604 1Z\"></path>\n",
       "</svg>\n",
       "</a></li>\n",
       "</ul>\n",
       "</div>\n",
       "<div class=\"border-bottom pb-3 mb-3\">\n",
       "<span class=\"d-block h4 color-fg-default my-1\" id=\"solutions-by-solution-heading\">By Solution</span>\n",
       "<ul aria-labelledby=\"solutions-by-solution-heading\" class=\"list-style-none f5\">\n",
       "<li>\n",
       "<a class=\"HeaderMenu-dropdown-link lh-condensed d-block no-underline position-relative py-2 Link--secondary\" data-analytics-event='{\"category\":\"Header dropdown (logged out), Solutions\",\"action\":\"click to go to CI/CD &amp;amp; Automation\",\"label\":\"ref_cta:CI/CD &amp;amp; Automation;\"}' href=\"/solutions/ci-cd/\">\n",
       "      CI/CD &amp; Automation\n",
       "\n",
       "    \n",
       "</a></li>\n",
       "<li>\n",
       "<a class=\"HeaderMenu-dropdown-link lh-condensed d-block no-underline position-relative py-2 Link--secondary\" data-analytics-event='{\"category\":\"Header dropdown (logged out), Solutions\",\"action\":\"click to go to DevOps\",\"label\":\"ref_cta:DevOps;\"}' href=\"https://resources.github.com/devops/\" target=\"_blank\">\n",
       "      DevOps\n",
       "\n",
       "    <svg aria-hidden=\"true\" class=\"octicon octicon-link-external HeaderMenu-external-icon color-fg-subtle\" data-view-component=\"true\" height=\"16\" version=\"1.1\" viewbox=\"0 0 16 16\" width=\"16\">\n",
       "<path d=\"M3.75 2h3.5a.75.75 0 0 1 0 1.5h-3.5a.25.25 0 0 0-.25.25v8.5c0 .138.112.25.25.25h8.5a.25.25 0 0 0 .25-.25v-3.5a.75.75 0 0 1 1.5 0v3.5A1.75 1.75 0 0 1 12.25 14h-8.5A1.75 1.75 0 0 1 2 12.25v-8.5C2 2.784 2.784 2 3.75 2Zm6.854-1h4.146a.25.25 0 0 1 .25.25v4.146a.25.25 0 0 1-.427.177L13.03 4.03 9.28 7.78a.751.751 0 0 1-1.042-.018.751.751 0 0 1-.018-1.042l3.75-3.75-1.543-1.543A.25.25 0 0 1 10.604 1Z\"></path>\n",
       "</svg>\n",
       "</a></li>\n",
       "<li>\n",
       "<a class=\"HeaderMenu-dropdown-link lh-condensed d-block no-underline position-relative py-2 Link--secondary\" data-analytics-event='{\"category\":\"Header dropdown (logged out), Solutions\",\"action\":\"click to go to DevSecOps\",\"label\":\"ref_cta:DevSecOps;\"}' href=\"https://resources.github.com/devops/fundamentals/devsecops/\" target=\"_blank\">\n",
       "      DevSecOps\n",
       "\n",
       "    <svg aria-hidden=\"true\" class=\"octicon octicon-link-external HeaderMenu-external-icon color-fg-subtle\" data-view-component=\"true\" height=\"16\" version=\"1.1\" viewbox=\"0 0 16 16\" width=\"16\">\n",
       "<path d=\"M3.75 2h3.5a.75.75 0 0 1 0 1.5h-3.5a.25.25 0 0 0-.25.25v8.5c0 .138.112.25.25.25h8.5a.25.25 0 0 0 .25-.25v-3.5a.75.75 0 0 1 1.5 0v3.5A1.75 1.75 0 0 1 12.25 14h-8.5A1.75 1.75 0 0 1 2 12.25v-8.5C2 2.784 2.784 2 3.75 2Zm6.854-1h4.146a.25.25 0 0 1 .25.25v4.146a.25.25 0 0 1-.427.177L13.03 4.03 9.28 7.78a.751.751 0 0 1-1.042-.018.751.751 0 0 1-.018-1.042l3.75-3.75-1.543-1.543A.25.25 0 0 1 10.604 1Z\"></path>\n",
       "</svg>\n",
       "</a></li>\n",
       "</ul>\n",
       "</div>\n",
       "<div class=\"\">\n",
       "<span class=\"d-block h4 color-fg-default my-1\" id=\"solutions-resources-heading\">Resources</span>\n",
       "<ul aria-labelledby=\"solutions-resources-heading\" class=\"list-style-none f5\">\n",
       "<li>\n",
       "<a class=\"HeaderMenu-dropdown-link lh-condensed d-block no-underline position-relative py-2 Link--secondary\" data-analytics-event='{\"category\":\"Header dropdown (logged out), Solutions\",\"action\":\"click to go to Customer Stories\",\"label\":\"ref_cta:Customer Stories;\"}' href=\"/customer-stories\">\n",
       "      Customer Stories\n",
       "\n",
       "    \n",
       "</a></li>\n",
       "<li>\n",
       "<a class=\"HeaderMenu-dropdown-link lh-condensed d-block no-underline position-relative py-2 Link--secondary\" data-analytics-event='{\"category\":\"Header dropdown (logged out), Solutions\",\"action\":\"click to go to White papers, Ebooks, Webinars\",\"label\":\"ref_cta:White papers, Ebooks, Webinars;\"}' href=\"https://resources.github.com/\" target=\"_blank\">\n",
       "      White papers, Ebooks, Webinars\n",
       "\n",
       "    <svg aria-hidden=\"true\" class=\"octicon octicon-link-external HeaderMenu-external-icon color-fg-subtle\" data-view-component=\"true\" height=\"16\" version=\"1.1\" viewbox=\"0 0 16 16\" width=\"16\">\n",
       "<path d=\"M3.75 2h3.5a.75.75 0 0 1 0 1.5h-3.5a.25.25 0 0 0-.25.25v8.5c0 .138.112.25.25.25h8.5a.25.25 0 0 0 .25-.25v-3.5a.75.75 0 0 1 1.5 0v3.5A1.75 1.75 0 0 1 12.25 14h-8.5A1.75 1.75 0 0 1 2 12.25v-8.5C2 2.784 2.784 2 3.75 2Zm6.854-1h4.146a.25.25 0 0 1 .25.25v4.146a.25.25 0 0 1-.427.177L13.03 4.03 9.28 7.78a.751.751 0 0 1-1.042-.018.751.751 0 0 1-.018-1.042l3.75-3.75-1.543-1.543A.25.25 0 0 1 10.604 1Z\"></path>\n",
       "</svg>\n",
       "</a></li>\n",
       "<li>\n",
       "<a class=\"HeaderMenu-dropdown-link lh-condensed d-block no-underline position-relative py-2 Link--secondary\" data-analytics-event='{\"category\":\"Header dropdown (logged out), Solutions\",\"action\":\"click to go to Partners\",\"label\":\"ref_cta:Partners;\"}' href=\"https://partner.github.com/\" target=\"_blank\">\n",
       "      Partners\n",
       "\n",
       "    <svg aria-hidden=\"true\" class=\"octicon octicon-link-external HeaderMenu-external-icon color-fg-subtle\" data-view-component=\"true\" height=\"16\" version=\"1.1\" viewbox=\"0 0 16 16\" width=\"16\">\n",
       "<path d=\"M3.75 2h3.5a.75.75 0 0 1 0 1.5h-3.5a.25.25 0 0 0-.25.25v8.5c0 .138.112.25.25.25h8.5a.25.25 0 0 0 .25-.25v-3.5a.75.75 0 0 1 1.5 0v3.5A1.75 1.75 0 0 1 12.25 14h-8.5A1.75 1.75 0 0 1 2 12.25v-8.5C2 2.784 2.784 2 3.75 2Zm6.854-1h4.146a.25.25 0 0 1 .25.25v4.146a.25.25 0 0 1-.427.177L13.03 4.03 9.28 7.78a.751.751 0 0 1-1.042-.018.751.751 0 0 1-.018-1.042l3.75-3.75-1.543-1.543A.25.25 0 0 1 10.604 1Z\"></path>\n",
       "</svg>\n",
       "</a></li>\n",
       "</ul>\n",
       "</div>\n",
       "</div>\n",
       "</li>\n",
       "<li class=\"HeaderMenu-item position-relative flex-wrap flex-justify-between flex-items-center d-block d-lg-flex flex-lg-nowrap flex-lg-items-center js-details-container js-header-menu-item\">\n",
       "<button aria-expanded=\"false\" class=\"HeaderMenu-link border-0 width-full width-lg-auto px-0 px-lg-2 py-3 py-lg-2 no-wrap d-flex flex-items-center flex-justify-between js-details-target\" type=\"button\">\n",
       "        Open Source\n",
       "        <svg aria-hidden=\"true\" class=\"octicon octicon-chevron-down HeaderMenu-icon ml-1\" data-view-component=\"true\" height=\"16\" opacity=\"0.5\" version=\"1.1\" viewbox=\"0 0 16 16\" width=\"16\">\n",
       "<path d=\"M12.78 5.22a.749.749 0 0 1 0 1.06l-4.25 4.25a.749.749 0 0 1-1.06 0L3.22 6.28a.749.749 0 1 1 1.06-1.06L8 8.939l3.72-3.719a.749.749 0 0 1 1.06 0Z\"></path>\n",
       "</svg>\n",
       "</button>\n",
       "<div class=\"HeaderMenu-dropdown dropdown-menu rounded m-0 p-0 py-2 py-lg-4 position-relative position-lg-absolute left-0 left-lg-n3 px-lg-4\">\n",
       "<div class=\"border-bottom pb-3 mb-3\">\n",
       "<ul class=\"list-style-none f5\">\n",
       "<li>\n",
       "<a class=\"HeaderMenu-dropdown-link lh-condensed d-block no-underline position-relative py-2 Link--secondary d-flex flex-items-center\" data-analytics-event='{\"category\":\"Header dropdown (logged out), Open Source\",\"action\":\"click to go to GitHub Sponsors\",\"label\":\"ref_cta:GitHub Sponsors;\"}' href=\"/sponsors\">\n",
       "<div>\n",
       "<div class=\"color-fg-default h4\">GitHub Sponsors</div>\n",
       "        Fund open source developers\n",
       "      </div>\n",
       "</a></li>\n",
       "</ul>\n",
       "</div>\n",
       "<div class=\"border-bottom pb-3 mb-3\">\n",
       "<ul class=\"list-style-none f5\">\n",
       "<li>\n",
       "<a class=\"HeaderMenu-dropdown-link lh-condensed d-block no-underline position-relative py-2 Link--secondary d-flex flex-items-center\" data-analytics-event='{\"category\":\"Header dropdown (logged out), Open Source\",\"action\":\"click to go to The ReadME Project\",\"label\":\"ref_cta:The ReadME Project;\"}' href=\"/readme\">\n",
       "<div>\n",
       "<div class=\"color-fg-default h4\">The ReadME Project</div>\n",
       "        GitHub community articles\n",
       "      </div>\n",
       "</a></li>\n",
       "</ul>\n",
       "</div>\n",
       "<div class=\"\">\n",
       "<span class=\"d-block h4 color-fg-default my-1\" id=\"open-source-repositories-heading\">Repositories</span>\n",
       "<ul aria-labelledby=\"open-source-repositories-heading\" class=\"list-style-none f5\">\n",
       "<li>\n",
       "<a class=\"HeaderMenu-dropdown-link lh-condensed d-block no-underline position-relative py-2 Link--secondary\" data-analytics-event='{\"category\":\"Header dropdown (logged out), Open Source\",\"action\":\"click to go to Topics\",\"label\":\"ref_cta:Topics;\"}' href=\"/topics\">\n",
       "      Topics\n",
       "\n",
       "    \n",
       "</a></li>\n",
       "<li>\n",
       "<a class=\"HeaderMenu-dropdown-link lh-condensed d-block no-underline position-relative py-2 Link--secondary\" data-analytics-event='{\"category\":\"Header dropdown (logged out), Open Source\",\"action\":\"click to go to Trending\",\"label\":\"ref_cta:Trending;\"}' href=\"/trending\">\n",
       "      Trending\n",
       "\n",
       "    \n",
       "</a></li>\n",
       "<li>\n",
       "<a class=\"HeaderMenu-dropdown-link lh-condensed d-block no-underline position-relative py-2 Link--secondary\" data-analytics-event='{\"category\":\"Header dropdown (logged out), Open Source\",\"action\":\"click to go to Collections\",\"label\":\"ref_cta:Collections;\"}' href=\"/collections\">\n",
       "      Collections\n",
       "\n",
       "    \n",
       "</a></li>\n",
       "</ul>\n",
       "</div>\n",
       "</div>\n",
       "</li>\n",
       "<li class=\"HeaderMenu-item position-relative flex-wrap flex-justify-between flex-items-center d-block d-lg-flex flex-lg-nowrap flex-lg-items-center js-details-container js-header-menu-item\">\n",
       "<a class=\"HeaderMenu-link no-underline px-0 px-lg-2 py-3 py-lg-2 d-block d-lg-inline-block\" data-analytics-event='{\"category\":\"Header menu top item (logged out)\",\"action\":\"click to go to Pricing\",\"label\":\"ref_cta:Pricing;\"}' href=\"/pricing\">Pricing</a>\n",
       "</li>\n",
       "</ul>\n",
       "</nav>\n",
       "<div class=\"d-lg-flex flex-items-center mb-3 mb-lg-0 text-center text-lg-left ml-3\" style=\"\">\n",
       "<qbsearch-input class=\"search-input\" data-blackbird-suggestions-path=\"/search/suggestions\" data-current-org=\"\" data-current-owner=\"\" data-current-repository=\"\" data-custom-scopes-path=\"/search/custom_scopes\" data-delete-custom-scopes-csrf=\"qSif9GDIkNB9SL1Ge1wOOdRfvAfNB0oF_phqJHtdt_YPbwx_AIspzuJO5vRNW8ZvDuvxObRyHMMyw8BuoIUrDg\" data-header-redesign-enabled=\"false\" data-initial-value=\"\" data-jump-to-suggestions-path=\"/_graphql/GetSuggestedNavigationDestinations\" data-logged-in=\"false\" data-max-custom-scopes=\"10\" data-scope=\"\">\n",
       "<div class=\"search-input-container search-with-dialog position-relative d-flex flex-row flex-items-center mr-4 rounded\" data-action=\"click:qbsearch-input#searchInputContainerClicked\">\n",
       "<button autocapitalize=\"off\" class=\"header-search-button placeholder input-button form-control d-flex flex-1 flex-self-stretch flex-items-center no-wrap width-full py-0 pl-2 pr-0 text-left border-0 box-shadow-none\" data-action=\"click:qbsearch-input#handleExpand\" data-hotkey=\"s,/\" data-target=\"qbsearch-input.inputButton\" placeholder=\"Search or jump to...\" type=\"button\">\n",
       "<div class=\"mr-2 color-fg-muted\">\n",
       "<svg aria-hidden=\"true\" class=\"octicon octicon-search\" data-view-component=\"true\" height=\"16\" version=\"1.1\" viewbox=\"0 0 16 16\" width=\"16\">\n",
       "<path d=\"M10.68 11.74a6 6 0 0 1-7.922-8.982 6 6 0 0 1 8.982 7.922l3.04 3.04a.749.749 0 0 1-.326 1.275.749.749 0 0 1-.734-.215ZM11.5 7a4.499 4.499 0 1 0-8.997 0A4.499 4.499 0 0 0 11.5 7Z\"></path>\n",
       "</svg>\n",
       "</div>\n",
       "<span class=\"flex-1\" data-target=\"qbsearch-input.inputButtonText\">Search or jump to...</span>\n",
       "<div class=\"d-flex\" data-target=\"qbsearch-input.hotkeyIndicator\">\n",
       "<svg aria-hidden=\"true\" class=\"mr-1\" height=\"20\" width=\"22\" xmlns=\"http://www.w3.org/2000/svg\"><path d=\"M3.5.5h12c1.7 0 3 1.3 3 3v13c0 1.7-1.3 3-3 3h-12c-1.7 0-3-1.3-3-3v-13c0-1.7 1.3-3 3-3z\" fill=\"none\" opacity=\".4\" stroke=\"#979A9C\"></path><path d=\"M11.8 6L8 15.1h-.9L10.8 6h1z\" fill=\"#979A9C\"></path></svg>\n",
       "</div>\n",
       "</button>\n",
       "<input class=\"js-site-search-type-field\" name=\"type\" type=\"hidden\"/>\n",
       "<div class=\"Overlay--hidden\" data-modal-dialog-overlay=\"\">\n",
       "<modal-dialog aria-labelledby=\"search-suggestions-dialog-header\" aria-modal=\"true\" class=\"Overlay Overlay--width-large Overlay--height-auto\" data-action=\"close:qbsearch-input#handleClose cancel:qbsearch-input#handleClose\" data-target=\"qbsearch-input.searchSuggestionsDialog\" data-view-component=\"true\" id=\"search-suggestions-dialog\" role=\"dialog\">\n",
       "<h1 class=\"sr-only\" id=\"search-suggestions-dialog-header\">Search code, repositories, users, issues, pull requests...</h1>\n",
       "<div class=\"Overlay-body Overlay-body--paddingNone\">\n",
       "<div data-view-component=\"true\"> <div class=\"search-suggestions position-fixed width-full color-shadow-large border color-fg-default color-bg-default overflow-hidden d-flex flex-column query-builder-container\" data-target=\"qbsearch-input.queryBuilderContainer\" hidden=\"\" style=\"border-radius: 12px;\">\n",
       "<!-- '\"` --><!-- </textarea></xmp> --><form accept-charset=\"UTF-8\" action=\"\" id=\"query-builder-test-form\" method=\"get\">\n",
       "<query-builder class=\"QueryBuilder search-query-builder\" data-filter-key=\":\" data-target=\"qbsearch-input.queryBuilder\" data-view-component=\"true\" id=\"query-builder-query-builder-test\">\n",
       "<div class=\"FormControl FormControl--fullWidth\">\n",
       "<label class=\"FormControl-label sr-only\" for=\"query-builder-test\" id=\"query-builder-test-label\">\n",
       "        Search\n",
       "      </label>\n",
       "<div class=\"QueryBuilder-StyledInput width-fit\" data-target=\"query-builder.styledInput\">\n",
       "<span class=\"FormControl-input-leadingVisualWrap QueryBuilder-leadingVisualWrap\" id=\"query-builder-test-leadingvisual-wrap\">\n",
       "<svg aria-hidden=\"true\" class=\"octicon octicon-search FormControl-input-leadingVisual\" data-view-component=\"true\" height=\"16\" version=\"1.1\" viewbox=\"0 0 16 16\" width=\"16\">\n",
       "<path d=\"M10.68 11.74a6 6 0 0 1-7.922-8.982 6 6 0 0 1 8.982 7.922l3.04 3.04a.749.749 0 0 1-.326 1.275.749.749 0 0 1-.734-.215ZM11.5 7a4.499 4.499 0 1 0-8.997 0A4.499 4.499 0 0 0 11.5 7Z\"></path>\n",
       "</svg>\n",
       "</span>\n",
       "<div class=\"QueryBuilder-StyledInputContainer\" data-target=\"query-builder.styledInputContainer\">\n",
       "<div aria-hidden=\"true\" class=\"QueryBuilder-StyledInputContent\" data-target=\"query-builder.styledInputContent\"></div>\n",
       "<div class=\"QueryBuilder-InputWrapper\">\n",
       "<div aria-hidden=\"true\" class=\"QueryBuilder-Sizer\" data-target=\"query-builder.sizer\"></div>\n",
       "<input aria-expanded=\"false\" autocomplete=\"off\" class=\"FormControl-input QueryBuilder-Input FormControl-medium\" data-action=\"\n",
       "          input:query-builder#inputChange\n",
       "          blur:query-builder#inputBlur\n",
       "          keydown:query-builder#inputKeydown\n",
       "          focus:query-builder#inputFocus\n",
       "        \" data-target=\"query-builder.input\" data-view-component=\"true\" id=\"query-builder-test\" name=\"query-builder-test\" role=\"combobox\" spellcheck=\"false\" type=\"text\" value=\"\"/>\n",
       "</div>\n",
       "</div>\n",
       "<span class=\"sr-only\" id=\"query-builder-test-clear\">Clear</span>\n",
       "<button aria-labelledby=\"query-builder-test-clear query-builder-test-label\" class=\"Button Button--iconOnly Button--invisible Button--medium mr-1 px-2 py-0 d-flex flex-items-center rounded-1 color-fg-muted\" data-action=\"\n",
       "                click:query-builder#clear\n",
       "                focus:query-builder#clearButtonFocus\n",
       "                blur:query-builder#clearButtonBlur\n",
       "              \" data-target=\"query-builder.clearButton\" data-view-component=\"true\" hidden=\"hidden\" id=\"query-builder-test-clear-button\" role=\"button\" type=\"button\" variant=\"small\"> <svg aria-hidden=\"true\" class=\"octicon octicon-x-circle-fill Button-visual\" data-view-component=\"true\" height=\"16\" version=\"1.1\" viewbox=\"0 0 16 16\" width=\"16\">\n",
       "<path d=\"M2.343 13.657A8 8 0 1 1 13.658 2.343 8 8 0 0 1 2.343 13.657ZM6.03 4.97a.751.751 0 0 0-1.042.018.751.751 0 0 0-.018 1.042L6.94 8 4.97 9.97a.749.749 0 0 0 .326 1.275.749.749 0 0 0 .734-.215L8 9.06l1.97 1.97a.749.749 0 0 0 1.275-.326.749.749 0 0 0-.215-.734L9.06 8l1.97-1.97a.749.749 0 0 0-.326-1.275.749.749 0 0 0-.734.215L8 6.94Z\"></path>\n",
       "</svg>\n",
       "</button>\n",
       "</div>\n",
       "<template id=\"search-icon\">\n",
       "<svg aria-hidden=\"true\" class=\"octicon octicon-search\" data-view-component=\"true\" height=\"16\" version=\"1.1\" viewbox=\"0 0 16 16\" width=\"16\">\n",
       "<path d=\"M10.68 11.74a6 6 0 0 1-7.922-8.982 6 6 0 0 1 8.982 7.922l3.04 3.04a.749.749 0 0 1-.326 1.275.749.749 0 0 1-.734-.215ZM11.5 7a4.499 4.499 0 1 0-8.997 0A4.499 4.499 0 0 0 11.5 7Z\"></path>\n",
       "</svg>\n",
       "</template>\n",
       "<template id=\"code-icon\">\n",
       "<svg aria-hidden=\"true\" class=\"octicon octicon-code\" data-view-component=\"true\" height=\"16\" version=\"1.1\" viewbox=\"0 0 16 16\" width=\"16\">\n",
       "<path d=\"m11.28 3.22 4.25 4.25a.75.75 0 0 1 0 1.06l-4.25 4.25a.749.749 0 0 1-1.275-.326.749.749 0 0 1 .215-.734L13.94 8l-3.72-3.72a.749.749 0 0 1 .326-1.275.749.749 0 0 1 .734.215Zm-6.56 0a.751.751 0 0 1 1.042.018.751.751 0 0 1 .018 1.042L2.06 8l3.72 3.72a.749.749 0 0 1-.326 1.275.749.749 0 0 1-.734-.215L.47 8.53a.75.75 0 0 1 0-1.06Z\"></path>\n",
       "</svg>\n",
       "</template>\n",
       "<template id=\"file-code-icon\">\n",
       "<svg aria-hidden=\"true\" class=\"octicon octicon-file-code\" data-view-component=\"true\" height=\"16\" version=\"1.1\" viewbox=\"0 0 16 16\" width=\"16\">\n",
       "<path d=\"M4 1.75C4 .784 4.784 0 5.75 0h5.586c.464 0 .909.184 1.237.513l2.914 2.914c.329.328.513.773.513 1.237v8.586A1.75 1.75 0 0 1 14.25 15h-9a.75.75 0 0 1 0-1.5h9a.25.25 0 0 0 .25-.25V6h-2.75A1.75 1.75 0 0 1 10 4.25V1.5H5.75a.25.25 0 0 0-.25.25v2.5a.75.75 0 0 1-1.5 0Zm1.72 4.97a.75.75 0 0 1 1.06 0l2 2a.75.75 0 0 1 0 1.06l-2 2a.749.749 0 0 1-1.275-.326.749.749 0 0 1 .215-.734l1.47-1.47-1.47-1.47a.75.75 0 0 1 0-1.06ZM3.28 7.78 1.81 9.25l1.47 1.47a.751.751 0 0 1-.018 1.042.751.751 0 0 1-1.042.018l-2-2a.75.75 0 0 1 0-1.06l2-2a.751.751 0 0 1 1.042.018.751.751 0 0 1 .018 1.042Zm8.22-6.218V4.25c0 .138.112.25.25.25h2.688l-.011-.013-2.914-2.914-.013-.011Z\"></path>\n",
       "</svg>\n",
       "</template>\n",
       "<template id=\"history-icon\">\n",
       "<svg aria-hidden=\"true\" class=\"octicon octicon-history\" data-view-component=\"true\" height=\"16\" version=\"1.1\" viewbox=\"0 0 16 16\" width=\"16\">\n",
       "<path d=\"m.427 1.927 1.215 1.215a8.002 8.002 0 1 1-1.6 5.685.75.75 0 1 1 1.493-.154 6.5 6.5 0 1 0 1.18-4.458l1.358 1.358A.25.25 0 0 1 3.896 6H.25A.25.25 0 0 1 0 5.75V2.104a.25.25 0 0 1 .427-.177ZM7.75 4a.75.75 0 0 1 .75.75v2.992l2.028.812a.75.75 0 0 1-.557 1.392l-2.5-1A.751.751 0 0 1 7 8.25v-3.5A.75.75 0 0 1 7.75 4Z\"></path>\n",
       "</svg>\n",
       "</template>\n",
       "<template id=\"repo-icon\">\n",
       "<svg aria-hidden=\"true\" class=\"octicon octicon-repo\" data-view-component=\"true\" height=\"16\" version=\"1.1\" viewbox=\"0 0 16 16\" width=\"16\">\n",
       "<path d=\"M2 2.5A2.5 2.5 0 0 1 4.5 0h8.75a.75.75 0 0 1 .75.75v12.5a.75.75 0 0 1-.75.75h-2.5a.75.75 0 0 1 0-1.5h1.75v-2h-8a1 1 0 0 0-.714 1.7.75.75 0 1 1-1.072 1.05A2.495 2.495 0 0 1 2 11.5Zm10.5-1h-8a1 1 0 0 0-1 1v6.708A2.486 2.486 0 0 1 4.5 9h8ZM5 12.25a.25.25 0 0 1 .25-.25h3.5a.25.25 0 0 1 .25.25v3.25a.25.25 0 0 1-.4.2l-1.45-1.087a.249.249 0 0 0-.3 0L5.4 15.7a.25.25 0 0 1-.4-.2Z\"></path>\n",
       "</svg>\n",
       "</template>\n",
       "<template id=\"bookmark-icon\">\n",
       "<svg aria-hidden=\"true\" class=\"octicon octicon-bookmark\" data-view-component=\"true\" height=\"16\" version=\"1.1\" viewbox=\"0 0 16 16\" width=\"16\">\n",
       "<path d=\"M3 2.75C3 1.784 3.784 1 4.75 1h6.5c.966 0 1.75.784 1.75 1.75v11.5a.75.75 0 0 1-1.227.579L8 11.722l-3.773 3.107A.751.751 0 0 1 3 14.25Zm1.75-.25a.25.25 0 0 0-.25.25v9.91l3.023-2.489a.75.75 0 0 1 .954 0l3.023 2.49V2.75a.25.25 0 0 0-.25-.25Z\"></path>\n",
       "</svg>\n",
       "</template>\n",
       "<template id=\"plus-circle-icon\">\n",
       "<svg aria-hidden=\"true\" class=\"octicon octicon-plus-circle\" data-view-component=\"true\" height=\"16\" version=\"1.1\" viewbox=\"0 0 16 16\" width=\"16\">\n",
       "<path d=\"M8 0a8 8 0 1 1 0 16A8 8 0 0 1 8 0ZM1.5 8a6.5 6.5 0 1 0 13 0 6.5 6.5 0 0 0-13 0Zm7.25-3.25v2.5h2.5a.75.75 0 0 1 0 1.5h-2.5v2.5a.75.75 0 0 1-1.5 0v-2.5h-2.5a.75.75 0 0 1 0-1.5h2.5v-2.5a.75.75 0 0 1 1.5 0Z\"></path>\n",
       "</svg>\n",
       "</template>\n",
       "<template id=\"circle-icon\">\n",
       "<svg aria-hidden=\"true\" class=\"octicon octicon-dot-fill\" data-view-component=\"true\" height=\"16\" version=\"1.1\" viewbox=\"0 0 16 16\" width=\"16\">\n",
       "<path d=\"M8 4a4 4 0 1 1 0 8 4 4 0 0 1 0-8Z\"></path>\n",
       "</svg>\n",
       "</template>\n",
       "<template id=\"trash-icon\">\n",
       "<svg aria-hidden=\"true\" class=\"octicon octicon-trash\" data-view-component=\"true\" height=\"16\" version=\"1.1\" viewbox=\"0 0 16 16\" width=\"16\">\n",
       "<path d=\"M11 1.75V3h2.25a.75.75 0 0 1 0 1.5H2.75a.75.75 0 0 1 0-1.5H5V1.75C5 .784 5.784 0 6.75 0h2.5C10.216 0 11 .784 11 1.75ZM4.496 6.675l.66 6.6a.25.25 0 0 0 .249.225h5.19a.25.25 0 0 0 .249-.225l.66-6.6a.75.75 0 0 1 1.492.149l-.66 6.6A1.748 1.748 0 0 1 10.595 15h-5.19a1.75 1.75 0 0 1-1.741-1.575l-.66-6.6a.75.75 0 1 1 1.492-.15ZM6.5 1.75V3h3V1.75a.25.25 0 0 0-.25-.25h-2.5a.25.25 0 0 0-.25.25Z\"></path>\n",
       "</svg>\n",
       "</template>\n",
       "<template id=\"team-icon\">\n",
       "<svg aria-hidden=\"true\" class=\"octicon octicon-people\" data-view-component=\"true\" height=\"16\" version=\"1.1\" viewbox=\"0 0 16 16\" width=\"16\">\n",
       "<path d=\"M2 5.5a3.5 3.5 0 1 1 5.898 2.549 5.508 5.508 0 0 1 3.034 4.084.75.75 0 1 1-1.482.235 4 4 0 0 0-7.9 0 .75.75 0 0 1-1.482-.236A5.507 5.507 0 0 1 3.102 8.05 3.493 3.493 0 0 1 2 5.5ZM11 4a3.001 3.001 0 0 1 2.22 5.018 5.01 5.01 0 0 1 2.56 3.012.749.749 0 0 1-.885.954.752.752 0 0 1-.549-.514 3.507 3.507 0 0 0-2.522-2.372.75.75 0 0 1-.574-.73v-.352a.75.75 0 0 1 .416-.672A1.5 1.5 0 0 0 11 5.5.75.75 0 0 1 11 4Zm-5.5-.5a2 2 0 1 0-.001 3.999A2 2 0 0 0 5.5 3.5Z\"></path>\n",
       "</svg>\n",
       "</template>\n",
       "<template id=\"project-icon\">\n",
       "<svg aria-hidden=\"true\" class=\"octicon octicon-project\" data-view-component=\"true\" height=\"16\" version=\"1.1\" viewbox=\"0 0 16 16\" width=\"16\">\n",
       "<path d=\"M1.75 0h12.5C15.216 0 16 .784 16 1.75v12.5A1.75 1.75 0 0 1 14.25 16H1.75A1.75 1.75 0 0 1 0 14.25V1.75C0 .784.784 0 1.75 0ZM1.5 1.75v12.5c0 .138.112.25.25.25h12.5a.25.25 0 0 0 .25-.25V1.75a.25.25 0 0 0-.25-.25H1.75a.25.25 0 0 0-.25.25ZM11.75 3a.75.75 0 0 1 .75.75v7.5a.75.75 0 0 1-1.5 0v-7.5a.75.75 0 0 1 .75-.75Zm-8.25.75a.75.75 0 0 1 1.5 0v5.5a.75.75 0 0 1-1.5 0ZM8 3a.75.75 0 0 1 .75.75v3.5a.75.75 0 0 1-1.5 0v-3.5A.75.75 0 0 1 8 3Z\"></path>\n",
       "</svg>\n",
       "</template>\n",
       "<template id=\"pencil-icon\">\n",
       "<svg aria-hidden=\"true\" class=\"octicon octicon-pencil\" data-view-component=\"true\" height=\"16\" version=\"1.1\" viewbox=\"0 0 16 16\" width=\"16\">\n",
       "<path d=\"M11.013 1.427a1.75 1.75 0 0 1 2.474 0l1.086 1.086a1.75 1.75 0 0 1 0 2.474l-8.61 8.61c-.21.21-.47.364-.756.445l-3.251.93a.75.75 0 0 1-.927-.928l.929-3.25c.081-.286.235-.547.445-.758l8.61-8.61Zm.176 4.823L9.75 4.81l-6.286 6.287a.253.253 0 0 0-.064.108l-.558 1.953 1.953-.558a.253.253 0 0 0 .108-.064Zm1.238-3.763a.25.25 0 0 0-.354 0L10.811 3.75l1.439 1.44 1.263-1.263a.25.25 0 0 0 0-.354Z\"></path>\n",
       "</svg>\n",
       "</template>\n",
       "<div class=\"position-relative\">\n",
       "<ul aria-label=\"Suggestions\" class=\"ActionListWrap QueryBuilder-ListWrap\" data-action=\"\n",
       "                    combobox-commit:query-builder#comboboxCommit\n",
       "                    mousedown:query-builder#resultsMousedown\n",
       "                  \" data-persist-list=\"false\" data-target=\"query-builder.resultsList\" id=\"query-builder-test-results\" role=\"listbox\"></ul>\n",
       "</div>\n",
       "</div>\n",
       "<div aria-atomic=\"true\" aria-live=\"polite\" class=\"sr-only\" data-target=\"query-builder.screenReaderFeedback\"></div>\n",
       "</query-builder></form>\n",
       "<div class=\"d-flex flex-row color-fg-muted px-3 text-small color-bg-default search-feedback-prompt\">\n",
       "<a class=\"Link color-fg-accent text-normal ml-2\" data-view-component=\"true\" href=\"https://docs.github.com/en/search-github/github-code-search/understanding-github-code-search-syntax\" target=\"_blank\">\n",
       "              Search syntax tips\n",
       "</a> <div class=\"d-flex flex-1\"></div>\n",
       "</div>\n",
       "</div>\n",
       "</div>\n",
       "</div>\n",
       "</modal-dialog></div>\n",
       "</div>\n",
       "<div class=\"dark-backdrop position-fixed\" data-action=\"click:qbsearch-input#retract\" data-target=\"qbsearch-input.darkBackdrop\" hidden=\"\"></div>\n",
       "<div class=\"color-fg-default\">\n",
       "<div class=\"Overlay--hidden Overlay-backdrop--center\" data-modal-dialog-overlay=\"\">\n",
       "<modal-dialog aria-describedby=\"feedback-dialog-title feedback-dialog-description\" aria-disabled=\"true\" aria-modal=\"true\" class=\"Overlay Overlay-whenNarrow Overlay--size-medium Overlay--motion-scaleFade\" data-action=\"close:qbsearch-input#handleDialogClose cancel:qbsearch-input#handleDialogClose\" data-target=\"qbsearch-input.feedbackDialog\" data-view-component=\"true\" id=\"feedback-dialog\" role=\"dialog\">\n",
       "<div class=\"Overlay-header\" data-view-component=\"true\">\n",
       "<div class=\"Overlay-headerContentWrap\">\n",
       "<div class=\"Overlay-titleWrap\">\n",
       "<h1 class=\"Overlay-title\" id=\"feedback-dialog-title\">\n",
       "        Provide feedback\n",
       "      </h1>\n",
       "</div>\n",
       "<div class=\"Overlay-actionWrap\">\n",
       "<button aria-label=\"Close\" class=\"close-button Overlay-closeButton\" data-close-dialog-id=\"feedback-dialog\" data-view-component=\"true\" type=\"button\"><svg aria-hidden=\"true\" class=\"octicon octicon-x\" data-view-component=\"true\" height=\"16\" version=\"1.1\" viewbox=\"0 0 16 16\" width=\"16\">\n",
       "<path d=\"M3.72 3.72a.75.75 0 0 1 1.06 0L8 6.94l3.22-3.22a.749.749 0 0 1 1.275.326.749.749 0 0 1-.215.734L9.06 8l3.22 3.22a.749.749 0 0 1-.326 1.275.749.749 0 0 1-.734-.215L8 9.06l-3.22 3.22a.751.751 0 0 1-1.042-.018.751.751 0 0 1-.018-1.042L6.94 8 3.72 4.78a.75.75 0 0 1 0-1.06Z\"></path>\n",
       "</svg></button>\n",
       "</div>\n",
       "</div>\n",
       "</div>\n",
       "<div class=\"Overlay-body\" data-view-component=\"true\"> <!-- '\"` --><!-- </textarea></xmp> --><form accept-charset=\"UTF-8\" action=\"/search/feedback\" data-turbo=\"false\" id=\"code-search-feedback-form\" method=\"post\"><input data-csrf=\"true\" name=\"authenticity_token\" type=\"hidden\" value=\"f2P5hS6U7fD8wIXX0yosh93CDWaY2dLPsbsyYEWGCwu6pXXeCc7Pejaylc9lvClbLz1V4Vihj13+4651E75bZQ==\"/>\n",
       "<p>We read every piece of feedback, and take your input very seriously.</p>\n",
       "<textarea class=\"form-control width-full mb-2\" id=\"feedback\" name=\"feedback\" style=\"height: 120px\"></textarea>\n",
       "<input aria-label=\"Include my email address so I can be contacted\" class=\"form-control mr-2\" id=\"include_email\" name=\"include_email\" type=\"checkbox\"/>\n",
       "<label for=\"include_email\" style=\"font-weight: normal\">Include my email address so I can be contacted</label>\n",
       "</form></div>\n",
       "<div class=\"Overlay-footer Overlay-footer--alignEnd\" data-view-component=\"true\"> <button class=\"btn\" data-close-dialog-id=\"feedback-dialog\" data-view-component=\"true\" type=\"button\">    Cancel\n",
       "</button>\n",
       "<button class=\"btn-primary btn\" data-action=\"click:qbsearch-input#submitFeedback\" data-view-component=\"true\" form=\"code-search-feedback-form\" type=\"submit\">    Submit feedback\n",
       "</button>\n",
       "</div>\n",
       "</modal-dialog></div>\n",
       "<custom-scopes data-target=\"qbsearch-input.customScopesManager\">\n",
       "<div class=\"Overlay--hidden Overlay-backdrop--center\" data-modal-dialog-overlay=\"\">\n",
       "<modal-dialog aria-describedby=\"custom-scopes-dialog-title custom-scopes-dialog-description\" aria-disabled=\"true\" aria-modal=\"true\" class=\"Overlay Overlay-whenNarrow Overlay--size-medium Overlay--motion-scaleFade\" data-action=\"close:qbsearch-input#handleDialogClose cancel:qbsearch-input#handleDialogClose\" data-target=\"custom-scopes.customScopesModalDialog\" data-view-component=\"true\" id=\"custom-scopes-dialog\" role=\"dialog\">\n",
       "<div class=\"Overlay-header Overlay-header--divided\" data-view-component=\"true\">\n",
       "<div class=\"Overlay-headerContentWrap\">\n",
       "<div class=\"Overlay-titleWrap\">\n",
       "<h1 class=\"Overlay-title\" id=\"custom-scopes-dialog-title\">\n",
       "        Saved searches\n",
       "      </h1>\n",
       "<h2 class=\"Overlay-description\" id=\"custom-scopes-dialog-description\">Use saved searches to filter your results more quickly</h2>\n",
       "</div>\n",
       "<div class=\"Overlay-actionWrap\">\n",
       "<button aria-label=\"Close\" class=\"close-button Overlay-closeButton\" data-close-dialog-id=\"custom-scopes-dialog\" data-view-component=\"true\" type=\"button\"><svg aria-hidden=\"true\" class=\"octicon octicon-x\" data-view-component=\"true\" height=\"16\" version=\"1.1\" viewbox=\"0 0 16 16\" width=\"16\">\n",
       "<path d=\"M3.72 3.72a.75.75 0 0 1 1.06 0L8 6.94l3.22-3.22a.749.749 0 0 1 1.275.326.749.749 0 0 1-.215.734L9.06 8l3.22 3.22a.749.749 0 0 1-.326 1.275.749.749 0 0 1-.734-.215L8 9.06l-3.22 3.22a.751.751 0 0 1-1.042-.018.751.751 0 0 1-.018-1.042L6.94 8 3.72 4.78a.75.75 0 0 1 0-1.06Z\"></path>\n",
       "</svg></button>\n",
       "</div>\n",
       "</div>\n",
       "</div>\n",
       "<div class=\"Overlay-body\" data-view-component=\"true\"> <div data-target=\"custom-scopes.customScopesModalDialogFlash\"></div>\n",
       "<div class=\"create-custom-scope-form\" data-target=\"custom-scopes.createCustomScopeForm\" hidden=\"\">\n",
       "<!-- '\"` --><!-- </textarea></xmp> --><form accept-charset=\"UTF-8\" action=\"/search/custom_scopes\" data-turbo=\"false\" id=\"custom-scopes-dialog-form\" method=\"post\"><input data-csrf=\"true\" name=\"authenticity_token\" type=\"hidden\" value=\"3RTjbz3vpqxRzXP5T9UXLHWx3K/wq2rDUVbKNTpn7dORWuatKcQ6kEpEAQNVjK8cPSBa/ZFOnx8DaxMVvLgNuw==\"/>\n",
       "<div data-target=\"custom-scopes.customScopesModalDialogFlash\"></div>\n",
       "<input data-target=\"custom-scopes.customScopesIdField\" id=\"custom_scope_id\" name=\"custom_scope_id\" type=\"hidden\"/>\n",
       "<div class=\"form-group\">\n",
       "<label for=\"custom_scope_name\">Name</label>\n",
       "<auto-check required=\"\" src=\"/search/custom_scopes/check_name\">\n",
       "<input autocomplete=\"off\" class=\"form-control\" data-target=\"custom-scopes.customScopesNameField\" id=\"custom_scope_name\" maxlength=\"50\" name=\"custom_scope_name\" placeholder=\"github-ruby\" required=\"\" type=\"text\"/>\n",
       "<input data-csrf=\"true\" type=\"hidden\" value=\"bXcOmhW1mpSRbujoONKwC4ZJI8PxTc0mCvGV8fEILwH5QafX0vi6/ZlPtQxC20iQGVokdXg/KFw760VXREJfgA==\"/>\n",
       "</auto-check>\n",
       "</div>\n",
       "<div class=\"form-group\">\n",
       "<label for=\"custom_scope_query\">Query</label>\n",
       "<input autocomplete=\"off\" class=\"form-control\" data-target=\"custom-scopes.customScopesQueryField\" id=\"custom_scope_query\" maxlength=\"500\" name=\"custom_scope_query\" placeholder=\"(repo:mona/a OR repo:mona/b) AND lang:python\" required=\"\" type=\"text\"/>\n",
       "</div>\n",
       "<p class=\"text-small color-fg-muted\">\n",
       "            To see all available qualifiers, see our <a href=\"https://docs.github.com/en/search-github/github-code-search/understanding-github-code-search-syntax\">documentation</a>.\n",
       "          </p>\n",
       "</form> </div>\n",
       "<div data-target=\"custom-scopes.manageCustomScopesForm\">\n",
       "<div data-target=\"custom-scopes.list\"></div>\n",
       "</div>\n",
       "</div>\n",
       "<div class=\"Overlay-footer Overlay-footer--alignEnd Overlay-footer--divided\" data-view-component=\"true\"> <button class=\"btn\" data-action=\"click:custom-scopes#customScopesCancel\" data-view-component=\"true\" type=\"button\">    Cancel\n",
       "</button>\n",
       "<button class=\"btn-primary btn\" data-action=\"click:custom-scopes#customScopesSubmit\" data-target=\"custom-scopes.customScopesSubmitButton\" data-view-component=\"true\" form=\"custom-scopes-dialog-form\" type=\"submit\">    Create saved search\n",
       "</button>\n",
       "</div>\n",
       "</modal-dialog></div>\n",
       "</custom-scopes>\n",
       "</div>\n",
       "</qbsearch-input><input class=\"js-data-jump-to-suggestions-path-csrf\" data-csrf=\"true\" type=\"hidden\" value=\"XMTS5kOUnFADTDxl2dYCsfFWtOBGj6Aew6+WfWYJG5i/lTVYcNFswn4U3K8666Er/1fKaZlQc46JFrBSHzUbRA==\"/>\n",
       "<div class=\"position-relative mr-lg-3 d-lg-inline-block\">\n",
       "<a class=\"HeaderMenu-link HeaderMenu-link--sign-in flex-shrink-0 no-underline d-block d-lg-inline-block border border-lg-0 rounded rounded-lg-0 p-2 p-lg-0\" data-ga-click=\"(Logged out) Header, clicked Sign in, text:sign-in\" data-hydro-click='{\"event_type\":\"authentication.click\",\"payload\":{\"location_in_page\":\"site header menu\",\"repository_id\":null,\"auth_type\":\"SIGN_UP\",\"originating_url\":\"https://github.com/topics\",\"user_id\":null}}' data-hydro-click-hmac=\"fdff7e6857bd89b558ca630ca2d22bd5e760abfb99e6e05efed93f5d21230200\" href=\"/login?return_to=https%3A%2F%2Fgithub.com%2Ftopics\">\n",
       "              Sign in\n",
       "            </a>\n",
       "</div>\n",
       "<a class=\"HeaderMenu-link HeaderMenu-link--sign-up flex-shrink-0 d-none d-lg-inline-block no-underline border color-border-default rounded px-2 py-1\" data-analytics-event='{\"category\":\"Sign up\",\"action\":\"click to sign up for account\",\"label\":\"ref_page:/topics;ref_cta:Sign up;ref_loc:header logged out\"}' data-hydro-click='{\"event_type\":\"authentication.click\",\"payload\":{\"location_in_page\":\"site header menu\",\"repository_id\":null,\"auth_type\":\"SIGN_UP\",\"originating_url\":\"https://github.com/topics\",\"user_id\":null}}' data-hydro-click-hmac=\"fdff7e6857bd89b558ca630ca2d22bd5e760abfb99e6e05efed93f5d21230200\" href=\"/signup?ref_cta=Sign+up&amp;ref_loc=header+logged+out&amp;ref_page=%2Ftopics&amp;source=header\">\n",
       "              Sign up\n",
       "            </a>\n",
       "</div>\n",
       "</div>\n",
       "</div>\n",
       "</div>\n",
       "</header>\n",
       "<div class=\"js-stale-session-flash flash flash-warn mb-3\" data-view-component=\"true\" hidden=\"hidden\">\n",
       "<svg aria-hidden=\"true\" class=\"octicon octicon-alert\" data-view-component=\"true\" height=\"16\" version=\"1.1\" viewbox=\"0 0 16 16\" width=\"16\">\n",
       "<path d=\"M6.457 1.047c.659-1.234 2.427-1.234 3.086 0l6.082 11.378A1.75 1.75 0 0 1 14.082 15H1.918a1.75 1.75 0 0 1-1.543-2.575Zm1.763.707a.25.25 0 0 0-.44 0L1.698 13.132a.25.25 0 0 0 .22.368h12.164a.25.25 0 0 0 .22-.368Zm.53 3.996v2.5a.75.75 0 0 1-1.5 0v-2.5a.75.75 0 0 1 1.5 0ZM9 11a1 1 0 1 1-2 0 1 1 0 0 1 2 0Z\"></path>\n",
       "</svg>\n",
       "<span class=\"js-stale-session-flash-signed-in\" hidden=\"\">You signed in with another tab or window. <a href=\"\">Reload</a> to refresh your session.</span>\n",
       "<span class=\"js-stale-session-flash-signed-out\" hidden=\"\">You signed out in another tab or window. <a href=\"\">Reload</a> to refresh your session.</span>\n",
       "<span class=\"js-stale-session-flash-switched\" hidden=\"\">You switched accounts on another tab or window. <a href=\"\">Reload</a> to refresh your session.</span>\n",
       "<button aria-label=\"Close\" class=\"flash-close js-flash-close\" type=\"button\">\n",
       "<svg aria-hidden=\"true\" class=\"octicon octicon-x\" data-view-component=\"true\" height=\"16\" version=\"1.1\" viewbox=\"0 0 16 16\" width=\"16\">\n",
       "<path d=\"M3.72 3.72a.75.75 0 0 1 1.06 0L8 6.94l3.22-3.22a.749.749 0 0 1 1.275.326.749.749 0 0 1-.215.734L9.06 8l3.22 3.22a.749.749 0 0 1-.326 1.275.749.749 0 0 1-.734-.215L8 9.06l-3.22 3.22a.751.751 0 0 1-1.042-.018.751.751 0 0 1-.018-1.042L6.94 8 3.72 4.78a.75.75 0 0 1 0-1.06Z\"></path>\n",
       "</svg>\n",
       "</button>\n",
       "</div>\n",
       "</div>\n",
       "<div class=\"show-on-focus\" id=\"start-of-content\"></div>\n",
       "<div data-turbo-replace=\"\" id=\"js-flash-container\">\n",
       "<template class=\"js-flash-template\">\n",
       "<div class=\"flash flash-full {{ className }}\">\n",
       "<div class=\"px-2\">\n",
       "<button aria-label=\"Dismiss this message\" autofocus=\"\" class=\"flash-close js-flash-close\" type=\"button\">\n",
       "<svg aria-hidden=\"true\" class=\"octicon octicon-x\" data-view-component=\"true\" height=\"16\" version=\"1.1\" viewbox=\"0 0 16 16\" width=\"16\">\n",
       "<path d=\"M3.72 3.72a.75.75 0 0 1 1.06 0L8 6.94l3.22-3.22a.749.749 0 0 1 1.275.326.749.749 0 0 1-.215.734L9.06 8l3.22 3.22a.749.749 0 0 1-.326 1.275.749.749 0 0 1-.734-.215L8 9.06l-3.22 3.22a.751.751 0 0 1-1.042-.018.751.751 0 0 1-.018-1.042L6.94 8 3.72 4.78a.75.75 0 0 1 0-1.06Z\"></path>\n",
       "</svg>\n",
       "</button>\n",
       "<div aria-atomic=\"true\" class=\"js-flash-alert\" role=\"alert\">\n",
       "<div>{{ message }}</div>\n",
       "</div>\n",
       "</div>\n",
       "</div>\n",
       "</template>\n",
       "</div>\n",
       "<include-fragment class=\"js-notification-shelf-include-fragment\" data-base-src=\"https://github.com/notifications/beta/shelf\"></include-fragment>\n",
       "<div class=\"application-main\" data-commit-hovercards-enabled=\"\" data-discussion-hovercards-enabled=\"\" data-issue-and-pr-hovercards-enabled=\"\">\n",
       "<main>\n",
       "<div class=\"site-subnav color-bg-default site-subnav-sticky js-sticky\">\n",
       "<nav aria-label=\"Explore navigation\" class=\"container-lg mx-auto p-responsive\" role=\"navigation\">\n",
       "<div class=\"d-flex flex-wrap flex-items-center flex-justify-center flex-md-justify-start text-center text-md-left\">\n",
       "<a class=\"js-selected-navigation-item d-inline-block subnav-primary f5 py-0 py-md-3 mt-2 mt-md-0 mr-0 mr-md-4 no-underline subnav-link\" data-hydro-click='{\"event_type\":\"explore.click\",\"payload\":{\"click_context\":\"NAVIGATION_BAR\",\"click_target\":\"EXPLORE\",\"click_visual_representation\":\"CLICK_VISUAL_REPRESENTATION_UNKNOWN\",\"actor_id\":null,\"record_id\":null,\"originating_url\":\"https://github.com/topics\",\"user_id\":null}}' data-hydro-click-hmac=\"046d6990e9154466d2c348f62f0c8850006d8d0203ffa5de936cdf98771e1cd1\" data-selected-links=\"/explore /explore/email /explore\" href=\"/explore\">Explore</a>\n",
       "<a aria-current=\"page\" class=\"js-selected-navigation-item selected d-inline-block py-2 py-md-3 mr-3 mr-md-4 no-underline subnav-link\" data-hydro-click='{\"event_type\":\"explore.click\",\"payload\":{\"click_context\":\"NAVIGATION_BAR\",\"click_target\":\"TOPICS\",\"click_visual_representation\":\"CLICK_VISUAL_REPRESENTATION_UNKNOWN\",\"actor_id\":null,\"record_id\":null,\"originating_url\":\"https://github.com/topics\",\"user_id\":null}}' data-hydro-click-hmac=\"46cceed329d440952f9b9c496b52c3ff5f8329030ae1c1ff48371e3788f09d93\" data-selected-links=\"topics_path /topics/ /topics\" href=\"/topics\">Topics</a>\n",
       "<a class=\"js-selected-navigation-item d-inline-block py-2 py-md-3 mr-3 mr-md-4 no-underline subnav-link\" data-hydro-click='{\"event_type\":\"explore.click\",\"payload\":{\"click_context\":\"NAVIGATION_BAR\",\"click_target\":\"TRENDING\",\"click_visual_representation\":\"CLICK_VISUAL_REPRESENTATION_UNKNOWN\",\"actor_id\":null,\"record_id\":null,\"originating_url\":\"https://github.com/topics\",\"user_id\":null}}' data-hydro-click-hmac=\"06adfb4e7a29a78e76b361eec504bee63a616c97288bf9c9cceb78b763cc1945\" data-selected-links=\"/trending /trending/developers /trending/developers /trending /trending\" href=\"/trending\">Trending</a>\n",
       "<a class=\"js-selected-navigation-item d-inline-block py-2 py-md-3 mr-3 mr-md-4 no-underline subnav-link\" data-hydro-click='{\"event_type\":\"explore.click\",\"payload\":{\"click_context\":\"NAVIGATION_BAR\",\"click_target\":\"COLLECTIONS\",\"click_visual_representation\":\"CLICK_VISUAL_REPRESENTATION_UNKNOWN\",\"actor_id\":null,\"record_id\":null,\"originating_url\":\"https://github.com/topics\",\"user_id\":null}}' data-hydro-click-hmac=\"cd0014d20caf77ede4fa618141796878e80a1e84336ca369d2c49b34b1277bd3\" data-selected-links=\"collections_path /collections/ /collections\" href=\"/collections\">Collections</a>\n",
       "<a class=\"js-selected-navigation-item d-inline-block py-2 py-md-3 mr-3 mr-md-4 no-underline subnav-link\" data-hydro-click='{\"event_type\":\"explore.click\",\"payload\":{\"click_context\":\"NAVIGATION_BAR\",\"click_target\":\"EVENTS\",\"click_visual_representation\":\"CLICK_VISUAL_REPRESENTATION_UNKNOWN\",\"actor_id\":null,\"record_id\":null,\"originating_url\":\"https://github.com/topics\",\"user_id\":null}}' data-hydro-click-hmac=\"ccfa68f5a29b2bb2580bbf2909107f96de971d2eddd003a32de5a5b0a180bb56\" data-selected-links=\"events_path /events/ /events\" href=\"/events\">Events</a>\n",
       "<a class=\"js-selected-navigation-item d-inline-block py-2 py-md-3 mr-3 mr-md-4 no-underline subnav-link\" data-hydro-click='{\"event_type\":\"explore.click\",\"payload\":{\"click_context\":\"NAVIGATION_BAR\",\"click_target\":\"GITHUB_SPONSORS\",\"click_visual_representation\":\"CLICK_VISUAL_REPRESENTATION_UNKNOWN\",\"actor_id\":null,\"record_id\":null,\"originating_url\":\"https://github.com/topics\",\"user_id\":null}}' data-hydro-click-hmac=\"93ff9d3ceb83faf659890a3521e6927a28810093ca98a1a9cd8df550134c6003\" data-selected-links=\"sponsors_explore_index_path /sponsors/explore /sponsors/explore\" href=\"/sponsors/explore\">GitHub Sponsors</a>\n",
       "<div class=\"d-none d-md-block flex-auto text-right\">\n",
       "<a class=\"btn Link px-3 py-2\" data-hydro-click='{\"event_type\":\"explore.click\",\"payload\":{\"click_context\":\"NAVIGATION_BAR\",\"click_target\":\"EXPLORE_EMAIL\",\"click_visual_representation\":\"GET_EMAIL_UPDATES_BUTTON\",\"actor_id\":null,\"record_id\":null,\"originating_url\":\"https://github.com/topics\",\"user_id\":null}}' data-hydro-click-hmac=\"0ccec1a15089aca3327314266c4a0eebecb51d88ef25eda579f23c9bb232c9f9\" data-view-component=\"true\" href=\"/explore/email\">\n",
       "              Get email updates\n",
       "</a> </div>\n",
       "</div>\n",
       "</nav>\n",
       "</div>\n",
       "<div class=\"color-bg-subtle border-bottom\">\n",
       "<div class=\"container-lg p-responsive text-center py-6\">\n",
       "<h1 class=\"h1\">Topics</h1>\n",
       "<p class=\"f4 color-fg-muted col-md-6 mx-auto\">Browse popular topics on GitHub.</p>\n",
       "</div>\n",
       "</div>\n",
       "<div class=\"container-lg p-responsive mt-6\">\n",
       "<ul class=\"d-flex flex-wrap flex-justify-start flex-items-stretch list-style-none gutter my-4\">\n",
       "<li class=\"col-12 col-sm-6 col-md-4 mb-4\">\n",
       "<div class=\"topic-box position-relative hover-grow height-full text-center border color-border-muted rounded color-bg-default p-5\">\n",
       "<div class=\"js-toggler-container starring-container\">\n",
       "</div>\n",
       "<a class=\"no-underline d-flex flex-column flex-justify-center\" data-ga-click=\"Explore, go to topic, text:covid-19; location:boxes\" href=\"/topics/covid-19\">\n",
       "<img alt=\"covid-19\" class=\"mx-auto rounded mb-3\" height=\"64\" src=\"https://raw.githubusercontent.com/github/explore/af16e074f93c080d7b283815787283cab0e9414b/topics/covid-19/covid-19.png\" width=\"64\"/>\n",
       "<p class=\"f3 lh-condensed text-center Link--primary mb-0 mt-1\">\n",
       "        COVID-19\n",
       "      </p>\n",
       "<p class=\"f5 color-fg-muted text-center mb-0 mt-1\">The coronavirus disease 2019 (COVID-19) is an infectious disease caused by SARS-CoV-2.</p>\n",
       "</a>\n",
       "</div>\n",
       "</li>\n",
       "<li class=\"col-12 col-sm-6 col-md-4 mb-4\">\n",
       "<div class=\"topic-box position-relative hover-grow height-full text-center border color-border-muted rounded color-bg-default p-5\">\n",
       "<div class=\"js-toggler-container starring-container\">\n",
       "</div>\n",
       "<a class=\"no-underline d-flex flex-column flex-justify-center\" data-ga-click=\"Explore, go to topic, text:gulp; location:boxes\" href=\"/topics/gulp\">\n",
       "<img alt=\"gulp\" class=\"mx-auto rounded mb-3\" height=\"64\" src=\"https://raw.githubusercontent.com/github/explore/80688e429a7d4ef2fca1e82350fe8e3517d3494d/topics/gulp/gulp.png\" width=\"64\"/>\n",
       "<p class=\"f3 lh-condensed text-center Link--primary mb-0 mt-1\">\n",
       "        Gulp\n",
       "      </p>\n",
       "<p class=\"f5 color-fg-muted text-center mb-0 mt-1\">Gulp is a toolkit for automating and streamlining web development.</p>\n",
       "</a>\n",
       "</div>\n",
       "</li>\n",
       "<li class=\"col-12 col-sm-6 col-md-4 mb-4\">\n",
       "<div class=\"topic-box position-relative hover-grow height-full text-center border color-border-muted rounded color-bg-default p-5\">\n",
       "<div class=\"js-toggler-container starring-container\">\n",
       "</div>\n",
       "<a class=\"no-underline d-flex flex-column flex-justify-center\" data-ga-click=\"Explore, go to topic, text:java; location:boxes\" href=\"/topics/java\">\n",
       "<img alt=\"java\" class=\"mx-auto rounded mb-3\" height=\"64\" src=\"https://raw.githubusercontent.com/github/explore/5b3600551e122a3277c2c5368af2ad5725ffa9a1/topics/java/java.png\" width=\"64\"/>\n",
       "<p class=\"f3 lh-condensed text-center Link--primary mb-0 mt-1\">\n",
       "        Java\n",
       "      </p>\n",
       "<p class=\"f5 color-fg-muted text-center mb-0 mt-1\">Java is an object-oriented programming language used mainly for web, desktop, embedded devices and mobile applications.</p>\n",
       "</a>\n",
       "</div>\n",
       "</li>\n",
       "</ul>\n",
       "</div>\n",
       "<div class=\"d-lg-flex container-lg p-responsive\">\n",
       "<div class=\"col-lg-9 position-relative pr-lg-5 mb-6 mr-lg-5\" data-hpc=\"\">\n",
       "<h2 class=\"h2\">All featured topics</h2>\n",
       "<div>\n",
       "<div class=\"py-4 border-bottom d-flex flex-justify-between\">\n",
       "<a class=\"no-underline flex-grow-0\" href=\"/topics/3d\">\n",
       "<div class=\"color-bg-accent f4 color-fg-muted text-bold rounded mr-3 flex-shrink-0 text-center\" style=\"width:64px; height:64px; line-height:64px;\">\n",
       "            #\n",
       "          </div>\n",
       "</a>\n",
       "<a class=\"no-underline flex-1 d-flex flex-column\" href=\"/topics/3d\">\n",
       "<p class=\"f3 lh-condensed mb-0 mt-1 Link--primary\">3D</p>\n",
       "<p class=\"f5 color-fg-muted mb-0 mt-1\">\n",
       "          3D refers to the use of three-dimensional graphics, modeling, and animation in various industries.\n",
       "        </p>\n",
       "</a>\n",
       "<div class=\"flex-grow-0\">\n",
       "<div class=\"d-block\" data-view-component=\"true\">\n",
       "<a aria-label=\"You must be signed in to star a repository\" class=\"tooltipped tooltipped-s btn-sm btn\" data-hydro-click='{\"event_type\":\"authentication.click\",\"payload\":{\"location_in_page\":\"star button\",\"repository_id\":null,\"auth_type\":\"LOG_IN\",\"originating_url\":\"https://github.com/topics\",\"user_id\":null}}' data-hydro-click-hmac=\"5d696759683aa72e09fbdb14a69b26ab1c672e6d107e4ae922a0926f4476f50a\" data-view-component=\"true\" href=\"/login?return_to=%2Ftopic.3d\" rel=\"nofollow\"> <svg aria-hidden=\"true\" class=\"octicon octicon-star v-align-text-bottom d-inline-block mr-2\" data-view-component=\"true\" height=\"16\" version=\"1.1\" viewbox=\"0 0 16 16\" width=\"16\">\n",
       "<path d=\"M8 .25a.75.75 0 0 1 .673.418l1.882 3.815 4.21.612a.75.75 0 0 1 .416 1.279l-3.046 2.97.719 4.192a.751.751 0 0 1-1.088.791L8 12.347l-3.766 1.98a.75.75 0 0 1-1.088-.79l.72-4.194L.818 6.374a.75.75 0 0 1 .416-1.28l4.21-.611L7.327.668A.75.75 0 0 1 8 .25Zm0 2.445L6.615 5.5a.75.75 0 0 1-.564.41l-3.097.45 2.24 2.184a.75.75 0 0 1 .216.664l-.528 3.084 2.769-1.456a.75.75 0 0 1 .698 0l2.77 1.456-.53-3.084a.75.75 0 0 1 .216-.664l2.24-2.183-3.096-.45a.75.75 0 0 1-.564-.41L8 2.694Z\"></path>\n",
       "</svg><span class=\"d-inline\" data-view-component=\"true\">\n",
       "          Star\n",
       "</span>\n",
       "</a></div>\n",
       "</div>\n",
       "</div>\n",
       "<div class=\"py-4 border-bottom d-flex flex-justify-between\">\n",
       "<a class=\"no-underline flex-grow-0\" href=\"/topics/ajax\">\n",
       "<img alt=\"ajax\" class=\"rounded mr-3\" height=\"64\" src=\"https://raw.githubusercontent.com/github/explore/8be26d91eb231fec0b8856359979ac09f27173fd/topics/ajax/ajax.png\" width=\"64\"/>\n",
       "</a>\n",
       "<a class=\"no-underline flex-1 d-flex flex-column\" href=\"/topics/ajax\">\n",
       "<p class=\"f3 lh-condensed mb-0 mt-1 Link--primary\">Ajax</p>\n",
       "<p class=\"f5 color-fg-muted mb-0 mt-1\">\n",
       "          Ajax is a technique for creating interactive web applications.\n",
       "        </p>\n",
       "</a>\n",
       "<div class=\"flex-grow-0\">\n",
       "<div class=\"d-block\" data-view-component=\"true\">\n",
       "<a aria-label=\"You must be signed in to star a repository\" class=\"tooltipped tooltipped-s btn-sm btn\" data-hydro-click='{\"event_type\":\"authentication.click\",\"payload\":{\"location_in_page\":\"star button\",\"repository_id\":null,\"auth_type\":\"LOG_IN\",\"originating_url\":\"https://github.com/topics\",\"user_id\":null}}' data-hydro-click-hmac=\"5d696759683aa72e09fbdb14a69b26ab1c672e6d107e4ae922a0926f4476f50a\" data-view-component=\"true\" href=\"/login?return_to=%2Ftopic.ajax\" rel=\"nofollow\"> <svg aria-hidden=\"true\" class=\"octicon octicon-star v-align-text-bottom d-inline-block mr-2\" data-view-component=\"true\" height=\"16\" version=\"1.1\" viewbox=\"0 0 16 16\" width=\"16\">\n",
       "<path d=\"M8 .25a.75.75 0 0 1 .673.418l1.882 3.815 4.21.612a.75.75 0 0 1 .416 1.279l-3.046 2.97.719 4.192a.751.751 0 0 1-1.088.791L8 12.347l-3.766 1.98a.75.75 0 0 1-1.088-.79l.72-4.194L.818 6.374a.75.75 0 0 1 .416-1.28l4.21-.611L7.327.668A.75.75 0 0 1 8 .25Zm0 2.445L6.615 5.5a.75.75 0 0 1-.564.41l-3.097.45 2.24 2.184a.75.75 0 0 1 .216.664l-.528 3.084 2.769-1.456a.75.75 0 0 1 .698 0l2.77 1.456-.53-3.084a.75.75 0 0 1 .216-.664l2.24-2.183-3.096-.45a.75.75 0 0 1-.564-.41L8 2.694Z\"></path>\n",
       "</svg><span class=\"d-inline\" data-view-component=\"true\">\n",
       "          Star\n",
       "</span>\n",
       "</a></div>\n",
       "</div>\n",
       "</div>\n",
       "<div class=\"py-4 border-bottom d-flex flex-justify-between\">\n",
       "<a class=\"no-underline flex-grow-0\" href=\"/topics/algorithm\">\n",
       "<div class=\"color-bg-accent f4 color-fg-muted text-bold rounded mr-3 flex-shrink-0 text-center\" style=\"width:64px; height:64px; line-height:64px;\">\n",
       "            #\n",
       "          </div>\n",
       "</a>\n",
       "<a class=\"no-underline flex-1 d-flex flex-column\" href=\"/topics/algorithm\">\n",
       "<p class=\"f3 lh-condensed mb-0 mt-1 Link--primary\">Algorithm</p>\n",
       "<p class=\"f5 color-fg-muted mb-0 mt-1\">\n",
       "          Algorithms are self-contained sequences that carry out a variety of tasks.\n",
       "        </p>\n",
       "</a>\n",
       "<div class=\"flex-grow-0\">\n",
       "<div class=\"d-block\" data-view-component=\"true\">\n",
       "<a aria-label=\"You must be signed in to star a repository\" class=\"tooltipped tooltipped-s btn-sm btn\" data-hydro-click='{\"event_type\":\"authentication.click\",\"payload\":{\"location_in_page\":\"star button\",\"repository_id\":null,\"auth_type\":\"LOG_IN\",\"originating_url\":\"https://github.com/topics\",\"user_id\":null}}' data-hydro-click-hmac=\"5d696759683aa72e09fbdb14a69b26ab1c672e6d107e4ae922a0926f4476f50a\" data-view-component=\"true\" href=\"/login?return_to=%2Ftopic.algorithm\" rel=\"nofollow\"> <svg aria-hidden=\"true\" class=\"octicon octicon-star v-align-text-bottom d-inline-block mr-2\" data-view-component=\"true\" height=\"16\" version=\"1.1\" viewbox=\"0 0 16 16\" width=\"16\">\n",
       "<path d=\"M8 .25a.75.75 0 0 1 .673.418l1.882 3.815 4.21.612a.75.75 0 0 1 .416 1.279l-3.046 2.97.719 4.192a.751.751 0 0 1-1.088.791L8 12.347l-3.766 1.98a.75.75 0 0 1-1.088-.79l.72-4.194L.818 6.374a.75.75 0 0 1 .416-1.28l4.21-.611L7.327.668A.75.75 0 0 1 8 .25Zm0 2.445L6.615 5.5a.75.75 0 0 1-.564.41l-3.097.45 2.24 2.184a.75.75 0 0 1 .216.664l-.528 3.084 2.769-1.456a.75.75 0 0 1 .698 0l2.77 1.456-.53-3.084a.75.75 0 0 1 .216-.664l2.24-2.183-3.096-.45a.75.75 0 0 1-.564-.41L8 2.694Z\"></path>\n",
       "</svg><span class=\"d-inline\" data-view-component=\"true\">\n",
       "          Star\n",
       "</span>\n",
       "</a></div>\n",
       "</div>\n",
       "</div>\n",
       "<div class=\"py-4 border-bottom d-flex flex-justify-between\">\n",
       "<a class=\"no-underline flex-grow-0\" href=\"/topics/amphp\">\n",
       "<img alt=\"amphp\" class=\"rounded mr-3\" height=\"64\" src=\"https://raw.githubusercontent.com/github/explore/99fe59c0f4fb5d6545311440b4ce89a0d82b0804/topics/amphp/amphp.png\" width=\"64\"/>\n",
       "</a>\n",
       "<a class=\"no-underline flex-1 d-flex flex-column\" href=\"/topics/amphp\">\n",
       "<p class=\"f3 lh-condensed mb-0 mt-1 Link--primary\">Amp</p>\n",
       "<p class=\"f5 color-fg-muted mb-0 mt-1\">\n",
       "          Amp is a non-blocking concurrency library for PHP.\n",
       "        </p>\n",
       "</a>\n",
       "<div class=\"flex-grow-0\">\n",
       "<div class=\"d-block\" data-view-component=\"true\">\n",
       "<a aria-label=\"You must be signed in to star a repository\" class=\"tooltipped tooltipped-s btn-sm btn\" data-hydro-click='{\"event_type\":\"authentication.click\",\"payload\":{\"location_in_page\":\"star button\",\"repository_id\":null,\"auth_type\":\"LOG_IN\",\"originating_url\":\"https://github.com/topics\",\"user_id\":null}}' data-hydro-click-hmac=\"5d696759683aa72e09fbdb14a69b26ab1c672e6d107e4ae922a0926f4476f50a\" data-view-component=\"true\" href=\"/login?return_to=%2Ftopic.amphp\" rel=\"nofollow\"> <svg aria-hidden=\"true\" class=\"octicon octicon-star v-align-text-bottom d-inline-block mr-2\" data-view-component=\"true\" height=\"16\" version=\"1.1\" viewbox=\"0 0 16 16\" width=\"16\">\n",
       "<path d=\"M8 .25a.75.75 0 0 1 .673.418l1.882 3.815 4.21.612a.75.75 0 0 1 .416 1.279l-3.046 2.97.719 4.192a.751.751 0 0 1-1.088.791L8 12.347l-3.766 1.98a.75.75 0 0 1-1.088-.79l.72-4.194L.818 6.374a.75.75 0 0 1 .416-1.28l4.21-.611L7.327.668A.75.75 0 0 1 8 .25Zm0 2.445L6.615 5.5a.75.75 0 0 1-.564.41l-3.097.45 2.24 2.184a.75.75 0 0 1 .216.664l-.528 3.084 2.769-1.456a.75.75 0 0 1 .698 0l2.77 1.456-.53-3.084a.75.75 0 0 1 .216-.664l2.24-2.183-3.096-.45a.75.75 0 0 1-.564-.41L8 2.694Z\"></path>\n",
       "</svg><span class=\"d-inline\" data-view-component=\"true\">\n",
       "          Star\n",
       "</span>\n",
       "</a></div>\n",
       "</div>\n",
       "</div>\n",
       "<div class=\"py-4 border-bottom d-flex flex-justify-between\">\n",
       "<a class=\"no-underline flex-grow-0\" href=\"/topics/android\">\n",
       "<img alt=\"android\" class=\"rounded mr-3\" height=\"64\" src=\"https://raw.githubusercontent.com/github/explore/8baf984947f4d9c32006bd03fa4c51ff91aadf8d/topics/android/android.png\" width=\"64\"/>\n",
       "</a>\n",
       "<a class=\"no-underline flex-1 d-flex flex-column\" href=\"/topics/android\">\n",
       "<p class=\"f3 lh-condensed mb-0 mt-1 Link--primary\">Android</p>\n",
       "<p class=\"f5 color-fg-muted mb-0 mt-1\">\n",
       "          Android is an operating system built by Google designed for mobile devices.\n",
       "        </p>\n",
       "</a>\n",
       "<div class=\"flex-grow-0\">\n",
       "<div class=\"d-block\" data-view-component=\"true\">\n",
       "<a aria-label=\"You must be signed in to star a repository\" class=\"tooltipped tooltipped-s btn-sm btn\" data-hydro-click='{\"event_type\":\"authentication.click\",\"payload\":{\"location_in_page\":\"star button\",\"repository_id\":null,\"auth_type\":\"LOG_IN\",\"originating_url\":\"https://github.com/topics\",\"user_id\":null}}' data-hydro-click-hmac=\"5d696759683aa72e09fbdb14a69b26ab1c672e6d107e4ae922a0926f4476f50a\" data-view-component=\"true\" href=\"/login?return_to=%2Ftopic.android\" rel=\"nofollow\"> <svg aria-hidden=\"true\" class=\"octicon octicon-star v-align-text-bottom d-inline-block mr-2\" data-view-component=\"true\" height=\"16\" version=\"1.1\" viewbox=\"0 0 16 16\" width=\"16\">\n",
       "<path d=\"M8 .25a.75.75 0 0 1 .673.418l1.882 3.815 4.21.612a.75.75 0 0 1 .416 1.279l-3.046 2.97.719 4.192a.751.751 0 0 1-1.088.791L8 12.347l-3.766 1.98a.75.75 0 0 1-1.088-.79l.72-4.194L.818 6.374a.75.75 0 0 1 .416-1.28l4.21-.611L7.327.668A.75.75 0 0 1 8 .25Zm0 2.445L6.615 5.5a.75.75 0 0 1-.564.41l-3.097.45 2.24 2.184a.75.75 0 0 1 .216.664l-.528 3.084 2.769-1.456a.75.75 0 0 1 .698 0l2.77 1.456-.53-3.084a.75.75 0 0 1 .216-.664l2.24-2.183-3.096-.45a.75.75 0 0 1-.564-.41L8 2.694Z\"></path>\n",
       "</svg><span class=\"d-inline\" data-view-component=\"true\">\n",
       "          Star\n",
       "</span>\n",
       "</a></div>\n",
       "</div>\n",
       "</div>\n",
       "<div class=\"py-4 border-bottom d-flex flex-justify-between\">\n",
       "<a class=\"no-underline flex-grow-0\" href=\"/topics/angular\">\n",
       "<img alt=\"angular\" class=\"rounded mr-3\" height=\"64\" src=\"https://raw.githubusercontent.com/github/explore/80688e429a7d4ef2fca1e82350fe8e3517d3494d/topics/angular/angular.png\" width=\"64\"/>\n",
       "</a>\n",
       "<a class=\"no-underline flex-1 d-flex flex-column\" href=\"/topics/angular\">\n",
       "<p class=\"f3 lh-condensed mb-0 mt-1 Link--primary\">Angular</p>\n",
       "<p class=\"f5 color-fg-muted mb-0 mt-1\">\n",
       "          Angular is an open source web application platform.\n",
       "        </p>\n",
       "</a>\n",
       "<div class=\"flex-grow-0\">\n",
       "<div class=\"d-block\" data-view-component=\"true\">\n",
       "<a aria-label=\"You must be signed in to star a repository\" class=\"tooltipped tooltipped-s btn-sm btn\" data-hydro-click='{\"event_type\":\"authentication.click\",\"payload\":{\"location_in_page\":\"star button\",\"repository_id\":null,\"auth_type\":\"LOG_IN\",\"originating_url\":\"https://github.com/topics\",\"user_id\":null}}' data-hydro-click-hmac=\"5d696759683aa72e09fbdb14a69b26ab1c672e6d107e4ae922a0926f4476f50a\" data-view-component=\"true\" href=\"/login?return_to=%2Ftopic.angular\" rel=\"nofollow\"> <svg aria-hidden=\"true\" class=\"octicon octicon-star v-align-text-bottom d-inline-block mr-2\" data-view-component=\"true\" height=\"16\" version=\"1.1\" viewbox=\"0 0 16 16\" width=\"16\">\n",
       "<path d=\"M8 .25a.75.75 0 0 1 .673.418l1.882 3.815 4.21.612a.75.75 0 0 1 .416 1.279l-3.046 2.97.719 4.192a.751.751 0 0 1-1.088.791L8 12.347l-3.766 1.98a.75.75 0 0 1-1.088-.79l.72-4.194L.818 6.374a.75.75 0 0 1 .416-1.28l4.21-.611L7.327.668A.75.75 0 0 1 8 .25Zm0 2.445L6.615 5.5a.75.75 0 0 1-.564.41l-3.097.45 2.24 2.184a.75.75 0 0 1 .216.664l-.528 3.084 2.769-1.456a.75.75 0 0 1 .698 0l2.77 1.456-.53-3.084a.75.75 0 0 1 .216-.664l2.24-2.183-3.096-.45a.75.75 0 0 1-.564-.41L8 2.694Z\"></path>\n",
       "</svg><span class=\"d-inline\" data-view-component=\"true\">\n",
       "          Star\n",
       "</span>\n",
       "</a></div>\n",
       "</div>\n",
       "</div>\n",
       "<div class=\"py-4 border-bottom d-flex flex-justify-between\">\n",
       "<a class=\"no-underline flex-grow-0\" href=\"/topics/ansible\">\n",
       "<img alt=\"ansible\" class=\"rounded mr-3\" height=\"64\" src=\"https://raw.githubusercontent.com/github/explore/80688e429a7d4ef2fca1e82350fe8e3517d3494d/topics/ansible/ansible.png\" width=\"64\"/>\n",
       "</a>\n",
       "<a class=\"no-underline flex-1 d-flex flex-column\" href=\"/topics/ansible\">\n",
       "<p class=\"f3 lh-condensed mb-0 mt-1 Link--primary\">Ansible</p>\n",
       "<p class=\"f5 color-fg-muted mb-0 mt-1\">\n",
       "          Ansible is a simple and powerful automation engine.\n",
       "        </p>\n",
       "</a>\n",
       "<div class=\"flex-grow-0\">\n",
       "<div class=\"d-block\" data-view-component=\"true\">\n",
       "<a aria-label=\"You must be signed in to star a repository\" class=\"tooltipped tooltipped-s btn-sm btn\" data-hydro-click='{\"event_type\":\"authentication.click\",\"payload\":{\"location_in_page\":\"star button\",\"repository_id\":null,\"auth_type\":\"LOG_IN\",\"originating_url\":\"https://github.com/topics\",\"user_id\":null}}' data-hydro-click-hmac=\"5d696759683aa72e09fbdb14a69b26ab1c672e6d107e4ae922a0926f4476f50a\" data-view-component=\"true\" href=\"/login?return_to=%2Ftopic.ansible\" rel=\"nofollow\"> <svg aria-hidden=\"true\" class=\"octicon octicon-star v-align-text-bottom d-inline-block mr-2\" data-view-component=\"true\" height=\"16\" version=\"1.1\" viewbox=\"0 0 16 16\" width=\"16\">\n",
       "<path d=\"M8 .25a.75.75 0 0 1 .673.418l1.882 3.815 4.21.612a.75.75 0 0 1 .416 1.279l-3.046 2.97.719 4.192a.751.751 0 0 1-1.088.791L8 12.347l-3.766 1.98a.75.75 0 0 1-1.088-.79l.72-4.194L.818 6.374a.75.75 0 0 1 .416-1.28l4.21-.611L7.327.668A.75.75 0 0 1 8 .25Zm0 2.445L6.615 5.5a.75.75 0 0 1-.564.41l-3.097.45 2.24 2.184a.75.75 0 0 1 .216.664l-.528 3.084 2.769-1.456a.75.75 0 0 1 .698 0l2.77 1.456-.53-3.084a.75.75 0 0 1 .216-.664l2.24-2.183-3.096-.45a.75.75 0 0 1-.564-.41L8 2.694Z\"></path>\n",
       "</svg><span class=\"d-inline\" data-view-component=\"true\">\n",
       "          Star\n",
       "</span>\n",
       "</a></div>\n",
       "</div>\n",
       "</div>\n",
       "<div class=\"py-4 border-bottom d-flex flex-justify-between\">\n",
       "<a class=\"no-underline flex-grow-0\" href=\"/topics/api\">\n",
       "<div class=\"color-bg-accent f4 color-fg-muted text-bold rounded mr-3 flex-shrink-0 text-center\" style=\"width:64px; height:64px; line-height:64px;\">\n",
       "            #\n",
       "          </div>\n",
       "</a>\n",
       "<a class=\"no-underline flex-1 d-flex flex-column\" href=\"/topics/api\">\n",
       "<p class=\"f3 lh-condensed mb-0 mt-1 Link--primary\">API</p>\n",
       "<p class=\"f5 color-fg-muted mb-0 mt-1\">\n",
       "          An API (Application Programming Interface) is a collection of protocols and subroutines for building software.\n",
       "        </p>\n",
       "</a>\n",
       "<div class=\"flex-grow-0\">\n",
       "<div class=\"d-block\" data-view-component=\"true\">\n",
       "<a aria-label=\"You must be signed in to star a repository\" class=\"tooltipped tooltipped-s btn-sm btn\" data-hydro-click='{\"event_type\":\"authentication.click\",\"payload\":{\"location_in_page\":\"star button\",\"repository_id\":null,\"auth_type\":\"LOG_IN\",\"originating_url\":\"https://github.com/topics\",\"user_id\":null}}' data-hydro-click-hmac=\"5d696759683aa72e09fbdb14a69b26ab1c672e6d107e4ae922a0926f4476f50a\" data-view-component=\"true\" href=\"/login?return_to=%2Ftopic.api\" rel=\"nofollow\"> <svg aria-hidden=\"true\" class=\"octicon octicon-star v-align-text-bottom d-inline-block mr-2\" data-view-component=\"true\" height=\"16\" version=\"1.1\" viewbox=\"0 0 16 16\" width=\"16\">\n",
       "<path d=\"M8 .25a.75.75 0 0 1 .673.418l1.882 3.815 4.21.612a.75.75 0 0 1 .416 1.279l-3.046 2.97.719 4.192a.751.751 0 0 1-1.088.791L8 12.347l-3.766 1.98a.75.75 0 0 1-1.088-.79l.72-4.194L.818 6.374a.75.75 0 0 1 .416-1.28l4.21-.611L7.327.668A.75.75 0 0 1 8 .25Zm0 2.445L6.615 5.5a.75.75 0 0 1-.564.41l-3.097.45 2.24 2.184a.75.75 0 0 1 .216.664l-.528 3.084 2.769-1.456a.75.75 0 0 1 .698 0l2.77 1.456-.53-3.084a.75.75 0 0 1 .216-.664l2.24-2.183-3.096-.45a.75.75 0 0 1-.564-.41L8 2.694Z\"></path>\n",
       "</svg><span class=\"d-inline\" data-view-component=\"true\">\n",
       "          Star\n",
       "</span>\n",
       "</a></div>\n",
       "</div>\n",
       "</div>\n",
       "<div class=\"py-4 border-bottom d-flex flex-justify-between\">\n",
       "<a class=\"no-underline flex-grow-0\" href=\"/topics/arduino\">\n",
       "<img alt=\"arduino\" class=\"rounded mr-3\" height=\"64\" src=\"https://raw.githubusercontent.com/github/explore/80688e429a7d4ef2fca1e82350fe8e3517d3494d/topics/arduino/arduino.png\" width=\"64\"/>\n",
       "</a>\n",
       "<a class=\"no-underline flex-1 d-flex flex-column\" href=\"/topics/arduino\">\n",
       "<p class=\"f3 lh-condensed mb-0 mt-1 Link--primary\">Arduino</p>\n",
       "<p class=\"f5 color-fg-muted mb-0 mt-1\">\n",
       "          Arduino is an open source platform for building electronic devices.\n",
       "        </p>\n",
       "</a>\n",
       "<div class=\"flex-grow-0\">\n",
       "<div class=\"d-block\" data-view-component=\"true\">\n",
       "<a aria-label=\"You must be signed in to star a repository\" class=\"tooltipped tooltipped-s btn-sm btn\" data-hydro-click='{\"event_type\":\"authentication.click\",\"payload\":{\"location_in_page\":\"star button\",\"repository_id\":null,\"auth_type\":\"LOG_IN\",\"originating_url\":\"https://github.com/topics\",\"user_id\":null}}' data-hydro-click-hmac=\"5d696759683aa72e09fbdb14a69b26ab1c672e6d107e4ae922a0926f4476f50a\" data-view-component=\"true\" href=\"/login?return_to=%2Ftopic.arduino\" rel=\"nofollow\"> <svg aria-hidden=\"true\" class=\"octicon octicon-star v-align-text-bottom d-inline-block mr-2\" data-view-component=\"true\" height=\"16\" version=\"1.1\" viewbox=\"0 0 16 16\" width=\"16\">\n",
       "<path d=\"M8 .25a.75.75 0 0 1 .673.418l1.882 3.815 4.21.612a.75.75 0 0 1 .416 1.279l-3.046 2.97.719 4.192a.751.751 0 0 1-1.088.791L8 12.347l-3.766 1.98a.75.75 0 0 1-1.088-.79l.72-4.194L.818 6.374a.75.75 0 0 1 .416-1.28l4.21-.611L7.327.668A.75.75 0 0 1 8 .25Zm0 2.445L6.615 5.5a.75.75 0 0 1-.564.41l-3.097.45 2.24 2.184a.75.75 0 0 1 .216.664l-.528 3.084 2.769-1.456a.75.75 0 0 1 .698 0l2.77 1.456-.53-3.084a.75.75 0 0 1 .216-.664l2.24-2.183-3.096-.45a.75.75 0 0 1-.564-.41L8 2.694Z\"></path>\n",
       "</svg><span class=\"d-inline\" data-view-component=\"true\">\n",
       "          Star\n",
       "</span>\n",
       "</a></div>\n",
       "</div>\n",
       "</div>\n",
       "<div class=\"py-4 border-bottom d-flex flex-justify-between\">\n",
       "<a class=\"no-underline flex-grow-0\" href=\"/topics/aspnet\">\n",
       "<img alt=\"aspnet\" class=\"rounded mr-3\" height=\"64\" src=\"https://raw.githubusercontent.com/github/explore/80688e429a7d4ef2fca1e82350fe8e3517d3494d/topics/aspnet/aspnet.png\" width=\"64\"/>\n",
       "</a>\n",
       "<a class=\"no-underline flex-1 d-flex flex-column\" href=\"/topics/aspnet\">\n",
       "<p class=\"f3 lh-condensed mb-0 mt-1 Link--primary\">ASP.NET</p>\n",
       "<p class=\"f5 color-fg-muted mb-0 mt-1\">\n",
       "          ASP.NET is a web framework for building modern web apps and services.\n",
       "        </p>\n",
       "</a>\n",
       "<div class=\"flex-grow-0\">\n",
       "<div class=\"d-block\" data-view-component=\"true\">\n",
       "<a aria-label=\"You must be signed in to star a repository\" class=\"tooltipped tooltipped-s btn-sm btn\" data-hydro-click='{\"event_type\":\"authentication.click\",\"payload\":{\"location_in_page\":\"star button\",\"repository_id\":null,\"auth_type\":\"LOG_IN\",\"originating_url\":\"https://github.com/topics\",\"user_id\":null}}' data-hydro-click-hmac=\"5d696759683aa72e09fbdb14a69b26ab1c672e6d107e4ae922a0926f4476f50a\" data-view-component=\"true\" href=\"/login?return_to=%2Ftopic.aspnet\" rel=\"nofollow\"> <svg aria-hidden=\"true\" class=\"octicon octicon-star v-align-text-bottom d-inline-block mr-2\" data-view-component=\"true\" height=\"16\" version=\"1.1\" viewbox=\"0 0 16 16\" width=\"16\">\n",
       "<path d=\"M8 .25a.75.75 0 0 1 .673.418l1.882 3.815 4.21.612a.75.75 0 0 1 .416 1.279l-3.046 2.97.719 4.192a.751.751 0 0 1-1.088.791L8 12.347l-3.766 1.98a.75.75 0 0 1-1.088-.79l.72-4.194L.818 6.374a.75.75 0 0 1 .416-1.28l4.21-.611L7.327.668A.75.75 0 0 1 8 .25Zm0 2.445L6.615 5.5a.75.75 0 0 1-.564.41l-3.097.45 2.24 2.184a.75.75 0 0 1 .216.664l-.528 3.084 2.769-1.456a.75.75 0 0 1 .698 0l2.77 1.456-.53-3.084a.75.75 0 0 1 .216-.664l2.24-2.183-3.096-.45a.75.75 0 0 1-.564-.41L8 2.694Z\"></path>\n",
       "</svg><span class=\"d-inline\" data-view-component=\"true\">\n",
       "          Star\n",
       "</span>\n",
       "</a></div>\n",
       "</div>\n",
       "</div>\n",
       "<div class=\"py-4 border-bottom d-flex flex-justify-between\">\n",
       "<a class=\"no-underline flex-grow-0\" href=\"/topics/atom\">\n",
       "<img alt=\"atom\" class=\"rounded mr-3\" height=\"64\" src=\"https://raw.githubusercontent.com/github/explore/80688e429a7d4ef2fca1e82350fe8e3517d3494d/topics/atom/atom.png\" width=\"64\"/>\n",
       "</a>\n",
       "<a class=\"no-underline flex-1 d-flex flex-column\" href=\"/topics/atom\">\n",
       "<p class=\"f3 lh-condensed mb-0 mt-1 Link--primary\">Atom</p>\n",
       "<p class=\"f5 color-fg-muted mb-0 mt-1\">\n",
       "          Atom is a open source text editor built with web technologies.\n",
       "        </p>\n",
       "</a>\n",
       "<div class=\"flex-grow-0\">\n",
       "<div class=\"d-block\" data-view-component=\"true\">\n",
       "<a aria-label=\"You must be signed in to star a repository\" class=\"tooltipped tooltipped-s btn-sm btn\" data-hydro-click='{\"event_type\":\"authentication.click\",\"payload\":{\"location_in_page\":\"star button\",\"repository_id\":null,\"auth_type\":\"LOG_IN\",\"originating_url\":\"https://github.com/topics\",\"user_id\":null}}' data-hydro-click-hmac=\"5d696759683aa72e09fbdb14a69b26ab1c672e6d107e4ae922a0926f4476f50a\" data-view-component=\"true\" href=\"/login?return_to=%2Ftopic.atom\" rel=\"nofollow\"> <svg aria-hidden=\"true\" class=\"octicon octicon-star v-align-text-bottom d-inline-block mr-2\" data-view-component=\"true\" height=\"16\" version=\"1.1\" viewbox=\"0 0 16 16\" width=\"16\">\n",
       "<path d=\"M8 .25a.75.75 0 0 1 .673.418l1.882 3.815 4.21.612a.75.75 0 0 1 .416 1.279l-3.046 2.97.719 4.192a.751.751 0 0 1-1.088.791L8 12.347l-3.766 1.98a.75.75 0 0 1-1.088-.79l.72-4.194L.818 6.374a.75.75 0 0 1 .416-1.28l4.21-.611L7.327.668A.75.75 0 0 1 8 .25Zm0 2.445L6.615 5.5a.75.75 0 0 1-.564.41l-3.097.45 2.24 2.184a.75.75 0 0 1 .216.664l-.528 3.084 2.769-1.456a.75.75 0 0 1 .698 0l2.77 1.456-.53-3.084a.75.75 0 0 1 .216-.664l2.24-2.183-3.096-.45a.75.75 0 0 1-.564-.41L8 2.694Z\"></path>\n",
       "</svg><span class=\"d-inline\" data-view-component=\"true\">\n",
       "          Star\n",
       "</span>\n",
       "</a></div>\n",
       "</div>\n",
       "</div>\n",
       "<div class=\"py-4 border-bottom d-flex flex-justify-between\">\n",
       "<a class=\"no-underline flex-grow-0\" href=\"/topics/awesome\">\n",
       "<img alt=\"awesome\" class=\"rounded mr-3\" height=\"64\" src=\"https://raw.githubusercontent.com/github/explore/80688e429a7d4ef2fca1e82350fe8e3517d3494d/topics/awesome/awesome.png\" width=\"64\"/>\n",
       "</a>\n",
       "<a class=\"no-underline flex-1 d-flex flex-column\" href=\"/topics/awesome\">\n",
       "<p class=\"f3 lh-condensed mb-0 mt-1 Link--primary\">Awesome Lists</p>\n",
       "<p class=\"f5 color-fg-muted mb-0 mt-1\">\n",
       "          An awesome list is a list of awesome things curated by the community.\n",
       "        </p>\n",
       "</a>\n",
       "<div class=\"flex-grow-0\">\n",
       "<div class=\"d-block\" data-view-component=\"true\">\n",
       "<a aria-label=\"You must be signed in to star a repository\" class=\"tooltipped tooltipped-s btn-sm btn\" data-hydro-click='{\"event_type\":\"authentication.click\",\"payload\":{\"location_in_page\":\"star button\",\"repository_id\":null,\"auth_type\":\"LOG_IN\",\"originating_url\":\"https://github.com/topics\",\"user_id\":null}}' data-hydro-click-hmac=\"5d696759683aa72e09fbdb14a69b26ab1c672e6d107e4ae922a0926f4476f50a\" data-view-component=\"true\" href=\"/login?return_to=%2Ftopic.awesome\" rel=\"nofollow\"> <svg aria-hidden=\"true\" class=\"octicon octicon-star v-align-text-bottom d-inline-block mr-2\" data-view-component=\"true\" height=\"16\" version=\"1.1\" viewbox=\"0 0 16 16\" width=\"16\">\n",
       "<path d=\"M8 .25a.75.75 0 0 1 .673.418l1.882 3.815 4.21.612a.75.75 0 0 1 .416 1.279l-3.046 2.97.719 4.192a.751.751 0 0 1-1.088.791L8 12.347l-3.766 1.98a.75.75 0 0 1-1.088-.79l.72-4.194L.818 6.374a.75.75 0 0 1 .416-1.28l4.21-.611L7.327.668A.75.75 0 0 1 8 .25Zm0 2.445L6.615 5.5a.75.75 0 0 1-.564.41l-3.097.45 2.24 2.184a.75.75 0 0 1 .216.664l-.528 3.084 2.769-1.456a.75.75 0 0 1 .698 0l2.77 1.456-.53-3.084a.75.75 0 0 1 .216-.664l2.24-2.183-3.096-.45a.75.75 0 0 1-.564-.41L8 2.694Z\"></path>\n",
       "</svg><span class=\"d-inline\" data-view-component=\"true\">\n",
       "          Star\n",
       "</span>\n",
       "</a></div>\n",
       "</div>\n",
       "</div>\n",
       "<div class=\"py-4 border-bottom d-flex flex-justify-between\">\n",
       "<a class=\"no-underline flex-grow-0\" href=\"/topics/aws\">\n",
       "<img alt=\"aws\" class=\"rounded mr-3\" height=\"64\" src=\"https://raw.githubusercontent.com/github/explore/fbceb94436312b6dacde68d122a5b9c7d11f9524/topics/aws/aws.png\" width=\"64\"/>\n",
       "</a>\n",
       "<a class=\"no-underline flex-1 d-flex flex-column\" href=\"/topics/aws\">\n",
       "<p class=\"f3 lh-condensed mb-0 mt-1 Link--primary\">Amazon Web Services</p>\n",
       "<p class=\"f5 color-fg-muted mb-0 mt-1\">\n",
       "          Amazon Web Services provides on-demand cloud computing platforms on a subscription basis.\n",
       "        </p>\n",
       "</a>\n",
       "<div class=\"flex-grow-0\">\n",
       "<div class=\"d-block\" data-view-component=\"true\">\n",
       "<a aria-label=\"You must be signed in to star a repository\" class=\"tooltipped tooltipped-s btn-sm btn\" data-hydro-click='{\"event_type\":\"authentication.click\",\"payload\":{\"location_in_page\":\"star button\",\"repository_id\":null,\"auth_type\":\"LOG_IN\",\"originating_url\":\"https://github.com/topics\",\"user_id\":null}}' data-hydro-click-hmac=\"5d696759683aa72e09fbdb14a69b26ab1c672e6d107e4ae922a0926f4476f50a\" data-view-component=\"true\" href=\"/login?return_to=%2Ftopic.aws\" rel=\"nofollow\"> <svg aria-hidden=\"true\" class=\"octicon octicon-star v-align-text-bottom d-inline-block mr-2\" data-view-component=\"true\" height=\"16\" version=\"1.1\" viewbox=\"0 0 16 16\" width=\"16\">\n",
       "<path d=\"M8 .25a.75.75 0 0 1 .673.418l1.882 3.815 4.21.612a.75.75 0 0 1 .416 1.279l-3.046 2.97.719 4.192a.751.751 0 0 1-1.088.791L8 12.347l-3.766 1.98a.75.75 0 0 1-1.088-.79l.72-4.194L.818 6.374a.75.75 0 0 1 .416-1.28l4.21-.611L7.327.668A.75.75 0 0 1 8 .25Zm0 2.445L6.615 5.5a.75.75 0 0 1-.564.41l-3.097.45 2.24 2.184a.75.75 0 0 1 .216.664l-.528 3.084 2.769-1.456a.75.75 0 0 1 .698 0l2.77 1.456-.53-3.084a.75.75 0 0 1 .216-.664l2.24-2.183-3.096-.45a.75.75 0 0 1-.564-.41L8 2.694Z\"></path>\n",
       "</svg><span class=\"d-inline\" data-view-component=\"true\">\n",
       "          Star\n",
       "</span>\n",
       "</a></div>\n",
       "</div>\n",
       "</div>\n",
       "<div class=\"py-4 border-bottom d-flex flex-justify-between\">\n",
       "<a class=\"no-underline flex-grow-0\" href=\"/topics/azure\">\n",
       "<img alt=\"azure\" class=\"rounded mr-3\" height=\"64\" src=\"https://raw.githubusercontent.com/github/explore/eaef8552d8b082ffafe2bfc8a5023d47da904aac/topics/azure/azure.png\" width=\"64\"/>\n",
       "</a>\n",
       "<a class=\"no-underline flex-1 d-flex flex-column\" href=\"/topics/azure\">\n",
       "<p class=\"f3 lh-condensed mb-0 mt-1 Link--primary\">Azure</p>\n",
       "<p class=\"f5 color-fg-muted mb-0 mt-1\">\n",
       "          Azure is a cloud computing service created by Microsoft.\n",
       "        </p>\n",
       "</a>\n",
       "<div class=\"flex-grow-0\">\n",
       "<div class=\"d-block\" data-view-component=\"true\">\n",
       "<a aria-label=\"You must be signed in to star a repository\" class=\"tooltipped tooltipped-s btn-sm btn\" data-hydro-click='{\"event_type\":\"authentication.click\",\"payload\":{\"location_in_page\":\"star button\",\"repository_id\":null,\"auth_type\":\"LOG_IN\",\"originating_url\":\"https://github.com/topics\",\"user_id\":null}}' data-hydro-click-hmac=\"5d696759683aa72e09fbdb14a69b26ab1c672e6d107e4ae922a0926f4476f50a\" data-view-component=\"true\" href=\"/login?return_to=%2Ftopic.azure\" rel=\"nofollow\"> <svg aria-hidden=\"true\" class=\"octicon octicon-star v-align-text-bottom d-inline-block mr-2\" data-view-component=\"true\" height=\"16\" version=\"1.1\" viewbox=\"0 0 16 16\" width=\"16\">\n",
       "<path d=\"M8 .25a.75.75 0 0 1 .673.418l1.882 3.815 4.21.612a.75.75 0 0 1 .416 1.279l-3.046 2.97.719 4.192a.751.751 0 0 1-1.088.791L8 12.347l-3.766 1.98a.75.75 0 0 1-1.088-.79l.72-4.194L.818 6.374a.75.75 0 0 1 .416-1.28l4.21-.611L7.327.668A.75.75 0 0 1 8 .25Zm0 2.445L6.615 5.5a.75.75 0 0 1-.564.41l-3.097.45 2.24 2.184a.75.75 0 0 1 .216.664l-.528 3.084 2.769-1.456a.75.75 0 0 1 .698 0l2.77 1.456-.53-3.084a.75.75 0 0 1 .216-.664l2.24-2.183-3.096-.45a.75.75 0 0 1-.564-.41L8 2.694Z\"></path>\n",
       "</svg><span class=\"d-inline\" data-view-component=\"true\">\n",
       "          Star\n",
       "</span>\n",
       "</a></div>\n",
       "</div>\n",
       "</div>\n",
       "<div class=\"py-4 border-bottom d-flex flex-justify-between\">\n",
       "<a class=\"no-underline flex-grow-0\" href=\"/topics/babel\">\n",
       "<img alt=\"babel\" class=\"rounded mr-3\" height=\"64\" src=\"https://raw.githubusercontent.com/github/explore/cb39e2385dfcec8a661d01bfacff6b1e33bbaa9d/topics/babel/babel.png\" width=\"64\"/>\n",
       "</a>\n",
       "<a class=\"no-underline flex-1 d-flex flex-column\" href=\"/topics/babel\">\n",
       "<p class=\"f3 lh-condensed mb-0 mt-1 Link--primary\">Babel</p>\n",
       "<p class=\"f5 color-fg-muted mb-0 mt-1\">\n",
       "          Babel is a compiler for writing next generation JavaScript, today.\n",
       "        </p>\n",
       "</a>\n",
       "<div class=\"flex-grow-0\">\n",
       "<div class=\"d-block\" data-view-component=\"true\">\n",
       "<a aria-label=\"You must be signed in to star a repository\" class=\"tooltipped tooltipped-s btn-sm btn\" data-hydro-click='{\"event_type\":\"authentication.click\",\"payload\":{\"location_in_page\":\"star button\",\"repository_id\":null,\"auth_type\":\"LOG_IN\",\"originating_url\":\"https://github.com/topics\",\"user_id\":null}}' data-hydro-click-hmac=\"5d696759683aa72e09fbdb14a69b26ab1c672e6d107e4ae922a0926f4476f50a\" data-view-component=\"true\" href=\"/login?return_to=%2Ftopic.babel\" rel=\"nofollow\"> <svg aria-hidden=\"true\" class=\"octicon octicon-star v-align-text-bottom d-inline-block mr-2\" data-view-component=\"true\" height=\"16\" version=\"1.1\" viewbox=\"0 0 16 16\" width=\"16\">\n",
       "<path d=\"M8 .25a.75.75 0 0 1 .673.418l1.882 3.815 4.21.612a.75.75 0 0 1 .416 1.279l-3.046 2.97.719 4.192a.751.751 0 0 1-1.088.791L8 12.347l-3.766 1.98a.75.75 0 0 1-1.088-.79l.72-4.194L.818 6.374a.75.75 0 0 1 .416-1.28l4.21-.611L7.327.668A.75.75 0 0 1 8 .25Zm0 2.445L6.615 5.5a.75.75 0 0 1-.564.41l-3.097.45 2.24 2.184a.75.75 0 0 1 .216.664l-.528 3.084 2.769-1.456a.75.75 0 0 1 .698 0l2.77 1.456-.53-3.084a.75.75 0 0 1 .216-.664l2.24-2.183-3.096-.45a.75.75 0 0 1-.564-.41L8 2.694Z\"></path>\n",
       "</svg><span class=\"d-inline\" data-view-component=\"true\">\n",
       "          Star\n",
       "</span>\n",
       "</a></div>\n",
       "</div>\n",
       "</div>\n",
       "<div class=\"py-4 border-bottom d-flex flex-justify-between\">\n",
       "<a class=\"no-underline flex-grow-0\" href=\"/topics/bash\">\n",
       "<img alt=\"bash\" class=\"rounded mr-3\" height=\"64\" src=\"https://raw.githubusercontent.com/github/explore/80688e429a7d4ef2fca1e82350fe8e3517d3494d/topics/bash/bash.png\" width=\"64\"/>\n",
       "</a>\n",
       "<a class=\"no-underline flex-1 d-flex flex-column\" href=\"/topics/bash\">\n",
       "<p class=\"f3 lh-condensed mb-0 mt-1 Link--primary\">Bash</p>\n",
       "<p class=\"f5 color-fg-muted mb-0 mt-1\">\n",
       "          Bash is a shell and command language interpreter for the GNU operating system.\n",
       "        </p>\n",
       "</a>\n",
       "<div class=\"flex-grow-0\">\n",
       "<div class=\"d-block\" data-view-component=\"true\">\n",
       "<a aria-label=\"You must be signed in to star a repository\" class=\"tooltipped tooltipped-s btn-sm btn\" data-hydro-click='{\"event_type\":\"authentication.click\",\"payload\":{\"location_in_page\":\"star button\",\"repository_id\":null,\"auth_type\":\"LOG_IN\",\"originating_url\":\"https://github.com/topics\",\"user_id\":null}}' data-hydro-click-hmac=\"5d696759683aa72e09fbdb14a69b26ab1c672e6d107e4ae922a0926f4476f50a\" data-view-component=\"true\" href=\"/login?return_to=%2Ftopic.bash\" rel=\"nofollow\"> <svg aria-hidden=\"true\" class=\"octicon octicon-star v-align-text-bottom d-inline-block mr-2\" data-view-component=\"true\" height=\"16\" version=\"1.1\" viewbox=\"0 0 16 16\" width=\"16\">\n",
       "<path d=\"M8 .25a.75.75 0 0 1 .673.418l1.882 3.815 4.21.612a.75.75 0 0 1 .416 1.279l-3.046 2.97.719 4.192a.751.751 0 0 1-1.088.791L8 12.347l-3.766 1.98a.75.75 0 0 1-1.088-.79l.72-4.194L.818 6.374a.75.75 0 0 1 .416-1.28l4.21-.611L7.327.668A.75.75 0 0 1 8 .25Zm0 2.445L6.615 5.5a.75.75 0 0 1-.564.41l-3.097.45 2.24 2.184a.75.75 0 0 1 .216.664l-.528 3.084 2.769-1.456a.75.75 0 0 1 .698 0l2.77 1.456-.53-3.084a.75.75 0 0 1 .216-.664l2.24-2.183-3.096-.45a.75.75 0 0 1-.564-.41L8 2.694Z\"></path>\n",
       "</svg><span class=\"d-inline\" data-view-component=\"true\">\n",
       "          Star\n",
       "</span>\n",
       "</a></div>\n",
       "</div>\n",
       "</div>\n",
       "<div class=\"py-4 border-bottom d-flex flex-justify-between\">\n",
       "<a class=\"no-underline flex-grow-0\" href=\"/topics/bitcoin\">\n",
       "<img alt=\"bitcoin\" class=\"rounded mr-3\" height=\"64\" src=\"https://raw.githubusercontent.com/github/explore/80688e429a7d4ef2fca1e82350fe8e3517d3494d/topics/bitcoin/bitcoin.png\" width=\"64\"/>\n",
       "</a>\n",
       "<a class=\"no-underline flex-1 d-flex flex-column\" href=\"/topics/bitcoin\">\n",
       "<p class=\"f3 lh-condensed mb-0 mt-1 Link--primary\">Bitcoin</p>\n",
       "<p class=\"f5 color-fg-muted mb-0 mt-1\">\n",
       "          Bitcoin is a cryptocurrency developed by Satoshi Nakamoto.\n",
       "        </p>\n",
       "</a>\n",
       "<div class=\"flex-grow-0\">\n",
       "<div class=\"d-block\" data-view-component=\"true\">\n",
       "<a aria-label=\"You must be signed in to star a repository\" class=\"tooltipped tooltipped-s btn-sm btn\" data-hydro-click='{\"event_type\":\"authentication.click\",\"payload\":{\"location_in_page\":\"star button\",\"repository_id\":null,\"auth_type\":\"LOG_IN\",\"originating_url\":\"https://github.com/topics\",\"user_id\":null}}' data-hydro-click-hmac=\"5d696759683aa72e09fbdb14a69b26ab1c672e6d107e4ae922a0926f4476f50a\" data-view-component=\"true\" href=\"/login?return_to=%2Ftopic.bitcoin\" rel=\"nofollow\"> <svg aria-hidden=\"true\" class=\"octicon octicon-star v-align-text-bottom d-inline-block mr-2\" data-view-component=\"true\" height=\"16\" version=\"1.1\" viewbox=\"0 0 16 16\" width=\"16\">\n",
       "<path d=\"M8 .25a.75.75 0 0 1 .673.418l1.882 3.815 4.21.612a.75.75 0 0 1 .416 1.279l-3.046 2.97.719 4.192a.751.751 0 0 1-1.088.791L8 12.347l-3.766 1.98a.75.75 0 0 1-1.088-.79l.72-4.194L.818 6.374a.75.75 0 0 1 .416-1.28l4.21-.611L7.327.668A.75.75 0 0 1 8 .25Zm0 2.445L6.615 5.5a.75.75 0 0 1-.564.41l-3.097.45 2.24 2.184a.75.75 0 0 1 .216.664l-.528 3.084 2.769-1.456a.75.75 0 0 1 .698 0l2.77 1.456-.53-3.084a.75.75 0 0 1 .216-.664l2.24-2.183-3.096-.45a.75.75 0 0 1-.564-.41L8 2.694Z\"></path>\n",
       "</svg><span class=\"d-inline\" data-view-component=\"true\">\n",
       "          Star\n",
       "</span>\n",
       "</a></div>\n",
       "</div>\n",
       "</div>\n",
       "<div class=\"py-4 border-bottom d-flex flex-justify-between\">\n",
       "<a class=\"no-underline flex-grow-0\" href=\"/topics/bootstrap\">\n",
       "<img alt=\"bootstrap\" class=\"rounded mr-3\" height=\"64\" src=\"https://raw.githubusercontent.com/github/explore/80688e429a7d4ef2fca1e82350fe8e3517d3494d/topics/bootstrap/bootstrap.png\" width=\"64\"/>\n",
       "</a>\n",
       "<a class=\"no-underline flex-1 d-flex flex-column\" href=\"/topics/bootstrap\">\n",
       "<p class=\"f3 lh-condensed mb-0 mt-1 Link--primary\">Bootstrap</p>\n",
       "<p class=\"f5 color-fg-muted mb-0 mt-1\">\n",
       "          Bootstrap is an HTML, CSS, and JavaScript framework.\n",
       "        </p>\n",
       "</a>\n",
       "<div class=\"flex-grow-0\">\n",
       "<div class=\"d-block\" data-view-component=\"true\">\n",
       "<a aria-label=\"You must be signed in to star a repository\" class=\"tooltipped tooltipped-s btn-sm btn\" data-hydro-click='{\"event_type\":\"authentication.click\",\"payload\":{\"location_in_page\":\"star button\",\"repository_id\":null,\"auth_type\":\"LOG_IN\",\"originating_url\":\"https://github.com/topics\",\"user_id\":null}}' data-hydro-click-hmac=\"5d696759683aa72e09fbdb14a69b26ab1c672e6d107e4ae922a0926f4476f50a\" data-view-component=\"true\" href=\"/login?return_to=%2Ftopic.bootstrap\" rel=\"nofollow\"> <svg aria-hidden=\"true\" class=\"octicon octicon-star v-align-text-bottom d-inline-block mr-2\" data-view-component=\"true\" height=\"16\" version=\"1.1\" viewbox=\"0 0 16 16\" width=\"16\">\n",
       "<path d=\"M8 .25a.75.75 0 0 1 .673.418l1.882 3.815 4.21.612a.75.75 0 0 1 .416 1.279l-3.046 2.97.719 4.192a.751.751 0 0 1-1.088.791L8 12.347l-3.766 1.98a.75.75 0 0 1-1.088-.79l.72-4.194L.818 6.374a.75.75 0 0 1 .416-1.28l4.21-.611L7.327.668A.75.75 0 0 1 8 .25Zm0 2.445L6.615 5.5a.75.75 0 0 1-.564.41l-3.097.45 2.24 2.184a.75.75 0 0 1 .216.664l-.528 3.084 2.769-1.456a.75.75 0 0 1 .698 0l2.77 1.456-.53-3.084a.75.75 0 0 1 .216-.664l2.24-2.183-3.096-.45a.75.75 0 0 1-.564-.41L8 2.694Z\"></path>\n",
       "</svg><span class=\"d-inline\" data-view-component=\"true\">\n",
       "          Star\n",
       "</span>\n",
       "</a></div>\n",
       "</div>\n",
       "</div>\n",
       "<div class=\"py-4 border-bottom d-flex flex-justify-between\">\n",
       "<a class=\"no-underline flex-grow-0\" href=\"/topics/bot\">\n",
       "<img alt=\"bot\" class=\"rounded mr-3\" height=\"64\" src=\"https://raw.githubusercontent.com/github/explore/0a84ca418425da147e4e43b1c74aa169d3265870/topics/bot/bot.png\" width=\"64\"/>\n",
       "</a>\n",
       "<a class=\"no-underline flex-1 d-flex flex-column\" href=\"/topics/bot\">\n",
       "<p class=\"f3 lh-condensed mb-0 mt-1 Link--primary\">Bot</p>\n",
       "<p class=\"f5 color-fg-muted mb-0 mt-1\">\n",
       "          A bot is an application that runs automated tasks over the Internet.\n",
       "        </p>\n",
       "</a>\n",
       "<div class=\"flex-grow-0\">\n",
       "<div class=\"d-block\" data-view-component=\"true\">\n",
       "<a aria-label=\"You must be signed in to star a repository\" class=\"tooltipped tooltipped-s btn-sm btn\" data-hydro-click='{\"event_type\":\"authentication.click\",\"payload\":{\"location_in_page\":\"star button\",\"repository_id\":null,\"auth_type\":\"LOG_IN\",\"originating_url\":\"https://github.com/topics\",\"user_id\":null}}' data-hydro-click-hmac=\"5d696759683aa72e09fbdb14a69b26ab1c672e6d107e4ae922a0926f4476f50a\" data-view-component=\"true\" href=\"/login?return_to=%2Ftopic.bot\" rel=\"nofollow\"> <svg aria-hidden=\"true\" class=\"octicon octicon-star v-align-text-bottom d-inline-block mr-2\" data-view-component=\"true\" height=\"16\" version=\"1.1\" viewbox=\"0 0 16 16\" width=\"16\">\n",
       "<path d=\"M8 .25a.75.75 0 0 1 .673.418l1.882 3.815 4.21.612a.75.75 0 0 1 .416 1.279l-3.046 2.97.719 4.192a.751.751 0 0 1-1.088.791L8 12.347l-3.766 1.98a.75.75 0 0 1-1.088-.79l.72-4.194L.818 6.374a.75.75 0 0 1 .416-1.28l4.21-.611L7.327.668A.75.75 0 0 1 8 .25Zm0 2.445L6.615 5.5a.75.75 0 0 1-.564.41l-3.097.45 2.24 2.184a.75.75 0 0 1 .216.664l-.528 3.084 2.769-1.456a.75.75 0 0 1 .698 0l2.77 1.456-.53-3.084a.75.75 0 0 1 .216-.664l2.24-2.183-3.096-.45a.75.75 0 0 1-.564-.41L8 2.694Z\"></path>\n",
       "</svg><span class=\"d-inline\" data-view-component=\"true\">\n",
       "          Star\n",
       "</span>\n",
       "</a></div>\n",
       "</div>\n",
       "</div>\n",
       "<div class=\"py-4 border-bottom d-flex flex-justify-between\">\n",
       "<a class=\"no-underline flex-grow-0\" href=\"/topics/c\">\n",
       "<img alt=\"c\" class=\"rounded mr-3\" height=\"64\" src=\"https://raw.githubusercontent.com/github/explore/f3e22f0dca2be955676bc70d6214b95b13354ee8/topics/c/c.png\" width=\"64\"/>\n",
       "</a>\n",
       "<a class=\"no-underline flex-1 d-flex flex-column\" href=\"/topics/c\">\n",
       "<p class=\"f3 lh-condensed mb-0 mt-1 Link--primary\">C</p>\n",
       "<p class=\"f5 color-fg-muted mb-0 mt-1\">\n",
       "          C is a general purpose programming language that first appeared in 1972.\n",
       "        </p>\n",
       "</a>\n",
       "<div class=\"flex-grow-0\">\n",
       "<div class=\"d-block\" data-view-component=\"true\">\n",
       "<a aria-label=\"You must be signed in to star a repository\" class=\"tooltipped tooltipped-s btn-sm btn\" data-hydro-click='{\"event_type\":\"authentication.click\",\"payload\":{\"location_in_page\":\"star button\",\"repository_id\":null,\"auth_type\":\"LOG_IN\",\"originating_url\":\"https://github.com/topics\",\"user_id\":null}}' data-hydro-click-hmac=\"5d696759683aa72e09fbdb14a69b26ab1c672e6d107e4ae922a0926f4476f50a\" data-view-component=\"true\" href=\"/login?return_to=%2Ftopic.c\" rel=\"nofollow\"> <svg aria-hidden=\"true\" class=\"octicon octicon-star v-align-text-bottom d-inline-block mr-2\" data-view-component=\"true\" height=\"16\" version=\"1.1\" viewbox=\"0 0 16 16\" width=\"16\">\n",
       "<path d=\"M8 .25a.75.75 0 0 1 .673.418l1.882 3.815 4.21.612a.75.75 0 0 1 .416 1.279l-3.046 2.97.719 4.192a.751.751 0 0 1-1.088.791L8 12.347l-3.766 1.98a.75.75 0 0 1-1.088-.79l.72-4.194L.818 6.374a.75.75 0 0 1 .416-1.28l4.21-.611L7.327.668A.75.75 0 0 1 8 .25Zm0 2.445L6.615 5.5a.75.75 0 0 1-.564.41l-3.097.45 2.24 2.184a.75.75 0 0 1 .216.664l-.528 3.084 2.769-1.456a.75.75 0 0 1 .698 0l2.77 1.456-.53-3.084a.75.75 0 0 1 .216-.664l2.24-2.183-3.096-.45a.75.75 0 0 1-.564-.41L8 2.694Z\"></path>\n",
       "</svg><span class=\"d-inline\" data-view-component=\"true\">\n",
       "          Star\n",
       "</span>\n",
       "</a></div>\n",
       "</div>\n",
       "</div>\n",
       "<div class=\"py-4 border-bottom d-flex flex-justify-between\">\n",
       "<a class=\"no-underline flex-grow-0\" href=\"/topics/chrome\">\n",
       "<img alt=\"chrome\" class=\"rounded mr-3\" height=\"64\" src=\"https://raw.githubusercontent.com/github/explore/002d791bc68a86506b1bb7a3332bb6ba8e1d1891/topics/chrome/chrome.png\" width=\"64\"/>\n",
       "</a>\n",
       "<a class=\"no-underline flex-1 d-flex flex-column\" href=\"/topics/chrome\">\n",
       "<p class=\"f3 lh-condensed mb-0 mt-1 Link--primary\">Chrome</p>\n",
       "<p class=\"f5 color-fg-muted mb-0 mt-1\">\n",
       "          Chrome is a web browser from the tech company Google.\n",
       "        </p>\n",
       "</a>\n",
       "<div class=\"flex-grow-0\">\n",
       "<div class=\"d-block\" data-view-component=\"true\">\n",
       "<a aria-label=\"You must be signed in to star a repository\" class=\"tooltipped tooltipped-s btn-sm btn\" data-hydro-click='{\"event_type\":\"authentication.click\",\"payload\":{\"location_in_page\":\"star button\",\"repository_id\":null,\"auth_type\":\"LOG_IN\",\"originating_url\":\"https://github.com/topics\",\"user_id\":null}}' data-hydro-click-hmac=\"5d696759683aa72e09fbdb14a69b26ab1c672e6d107e4ae922a0926f4476f50a\" data-view-component=\"true\" href=\"/login?return_to=%2Ftopic.chrome\" rel=\"nofollow\"> <svg aria-hidden=\"true\" class=\"octicon octicon-star v-align-text-bottom d-inline-block mr-2\" data-view-component=\"true\" height=\"16\" version=\"1.1\" viewbox=\"0 0 16 16\" width=\"16\">\n",
       "<path d=\"M8 .25a.75.75 0 0 1 .673.418l1.882 3.815 4.21.612a.75.75 0 0 1 .416 1.279l-3.046 2.97.719 4.192a.751.751 0 0 1-1.088.791L8 12.347l-3.766 1.98a.75.75 0 0 1-1.088-.79l.72-4.194L.818 6.374a.75.75 0 0 1 .416-1.28l4.21-.611L7.327.668A.75.75 0 0 1 8 .25Zm0 2.445L6.615 5.5a.75.75 0 0 1-.564.41l-3.097.45 2.24 2.184a.75.75 0 0 1 .216.664l-.528 3.084 2.769-1.456a.75.75 0 0 1 .698 0l2.77 1.456-.53-3.084a.75.75 0 0 1 .216-.664l2.24-2.183-3.096-.45a.75.75 0 0 1-.564-.41L8 2.694Z\"></path>\n",
       "</svg><span class=\"d-inline\" data-view-component=\"true\">\n",
       "          Star\n",
       "</span>\n",
       "</a></div>\n",
       "</div>\n",
       "</div>\n",
       "<div class=\"py-4 border-bottom d-flex flex-justify-between\">\n",
       "<a class=\"no-underline flex-grow-0\" href=\"/topics/chrome-extension\">\n",
       "<img alt=\"chrome-extension\" class=\"rounded mr-3\" height=\"64\" src=\"https://raw.githubusercontent.com/github/explore/8eaa4711f3b6015070483ff1c3b707292304efe4/topics/chrome-extension/chrome-extension.png\" width=\"64\"/>\n",
       "</a>\n",
       "<a class=\"no-underline flex-1 d-flex flex-column\" href=\"/topics/chrome-extension\">\n",
       "<p class=\"f3 lh-condensed mb-0 mt-1 Link--primary\">Chrome extension</p>\n",
       "<p class=\"f5 color-fg-muted mb-0 mt-1\">\n",
       "          Chrome extensions enable users to customize the Chrome browsing experience.\n",
       "        </p>\n",
       "</a>\n",
       "<div class=\"flex-grow-0\">\n",
       "<div class=\"d-block\" data-view-component=\"true\">\n",
       "<a aria-label=\"You must be signed in to star a repository\" class=\"tooltipped tooltipped-s btn-sm btn\" data-hydro-click='{\"event_type\":\"authentication.click\",\"payload\":{\"location_in_page\":\"star button\",\"repository_id\":null,\"auth_type\":\"LOG_IN\",\"originating_url\":\"https://github.com/topics\",\"user_id\":null}}' data-hydro-click-hmac=\"5d696759683aa72e09fbdb14a69b26ab1c672e6d107e4ae922a0926f4476f50a\" data-view-component=\"true\" href=\"/login?return_to=%2Ftopic.chrome-extension\" rel=\"nofollow\"> <svg aria-hidden=\"true\" class=\"octicon octicon-star v-align-text-bottom d-inline-block mr-2\" data-view-component=\"true\" height=\"16\" version=\"1.1\" viewbox=\"0 0 16 16\" width=\"16\">\n",
       "<path d=\"M8 .25a.75.75 0 0 1 .673.418l1.882 3.815 4.21.612a.75.75 0 0 1 .416 1.279l-3.046 2.97.719 4.192a.751.751 0 0 1-1.088.791L8 12.347l-3.766 1.98a.75.75 0 0 1-1.088-.79l.72-4.194L.818 6.374a.75.75 0 0 1 .416-1.28l4.21-.611L7.327.668A.75.75 0 0 1 8 .25Zm0 2.445L6.615 5.5a.75.75 0 0 1-.564.41l-3.097.45 2.24 2.184a.75.75 0 0 1 .216.664l-.528 3.084 2.769-1.456a.75.75 0 0 1 .698 0l2.77 1.456-.53-3.084a.75.75 0 0 1 .216-.664l2.24-2.183-3.096-.45a.75.75 0 0 1-.564-.41L8 2.694Z\"></path>\n",
       "</svg><span class=\"d-inline\" data-view-component=\"true\">\n",
       "          Star\n",
       "</span>\n",
       "</a></div>\n",
       "</div>\n",
       "</div>\n",
       "<div class=\"py-4 border-bottom d-flex flex-justify-between\">\n",
       "<a class=\"no-underline flex-grow-0\" href=\"/topics/cli\">\n",
       "<img alt=\"cli\" class=\"rounded mr-3\" height=\"64\" src=\"https://raw.githubusercontent.com/github/explore/aca0b3b69ca680013b925338b0cc428190aa42dc/topics/cli/cli.png\" width=\"64\"/>\n",
       "</a>\n",
       "<a class=\"no-underline flex-1 d-flex flex-column\" href=\"/topics/cli\">\n",
       "<p class=\"f3 lh-condensed mb-0 mt-1 Link--primary\">Command line interface</p>\n",
       "<p class=\"f5 color-fg-muted mb-0 mt-1\">\n",
       "          A CLI, or command-line interface, is a console that helps users issue commands to a program.\n",
       "        </p>\n",
       "</a>\n",
       "<div class=\"flex-grow-0\">\n",
       "<div class=\"d-block\" data-view-component=\"true\">\n",
       "<a aria-label=\"You must be signed in to star a repository\" class=\"tooltipped tooltipped-s btn-sm btn\" data-hydro-click='{\"event_type\":\"authentication.click\",\"payload\":{\"location_in_page\":\"star button\",\"repository_id\":null,\"auth_type\":\"LOG_IN\",\"originating_url\":\"https://github.com/topics\",\"user_id\":null}}' data-hydro-click-hmac=\"5d696759683aa72e09fbdb14a69b26ab1c672e6d107e4ae922a0926f4476f50a\" data-view-component=\"true\" href=\"/login?return_to=%2Ftopic.cli\" rel=\"nofollow\"> <svg aria-hidden=\"true\" class=\"octicon octicon-star v-align-text-bottom d-inline-block mr-2\" data-view-component=\"true\" height=\"16\" version=\"1.1\" viewbox=\"0 0 16 16\" width=\"16\">\n",
       "<path d=\"M8 .25a.75.75 0 0 1 .673.418l1.882 3.815 4.21.612a.75.75 0 0 1 .416 1.279l-3.046 2.97.719 4.192a.751.751 0 0 1-1.088.791L8 12.347l-3.766 1.98a.75.75 0 0 1-1.088-.79l.72-4.194L.818 6.374a.75.75 0 0 1 .416-1.28l4.21-.611L7.327.668A.75.75 0 0 1 8 .25Zm0 2.445L6.615 5.5a.75.75 0 0 1-.564.41l-3.097.45 2.24 2.184a.75.75 0 0 1 .216.664l-.528 3.084 2.769-1.456a.75.75 0 0 1 .698 0l2.77 1.456-.53-3.084a.75.75 0 0 1 .216-.664l2.24-2.183-3.096-.45a.75.75 0 0 1-.564-.41L8 2.694Z\"></path>\n",
       "</svg><span class=\"d-inline\" data-view-component=\"true\">\n",
       "          Star\n",
       "</span>\n",
       "</a></div>\n",
       "</div>\n",
       "</div>\n",
       "<div class=\"py-4 border-bottom d-flex flex-justify-between\">\n",
       "<a class=\"no-underline flex-grow-0\" href=\"/topics/clojure\">\n",
       "<img alt=\"clojure\" class=\"rounded mr-3\" height=\"64\" src=\"https://raw.githubusercontent.com/github/explore/80688e429a7d4ef2fca1e82350fe8e3517d3494d/topics/clojure/clojure.png\" width=\"64\"/>\n",
       "</a>\n",
       "<a class=\"no-underline flex-1 d-flex flex-column\" href=\"/topics/clojure\">\n",
       "<p class=\"f3 lh-condensed mb-0 mt-1 Link--primary\">Clojure</p>\n",
       "<p class=\"f5 color-fg-muted mb-0 mt-1\">\n",
       "          Clojure is a dynamic, general-purpose programming language.\n",
       "        </p>\n",
       "</a>\n",
       "<div class=\"flex-grow-0\">\n",
       "<div class=\"d-block\" data-view-component=\"true\">\n",
       "<a aria-label=\"You must be signed in to star a repository\" class=\"tooltipped tooltipped-s btn-sm btn\" data-hydro-click='{\"event_type\":\"authentication.click\",\"payload\":{\"location_in_page\":\"star button\",\"repository_id\":null,\"auth_type\":\"LOG_IN\",\"originating_url\":\"https://github.com/topics\",\"user_id\":null}}' data-hydro-click-hmac=\"5d696759683aa72e09fbdb14a69b26ab1c672e6d107e4ae922a0926f4476f50a\" data-view-component=\"true\" href=\"/login?return_to=%2Ftopic.clojure\" rel=\"nofollow\"> <svg aria-hidden=\"true\" class=\"octicon octicon-star v-align-text-bottom d-inline-block mr-2\" data-view-component=\"true\" height=\"16\" version=\"1.1\" viewbox=\"0 0 16 16\" width=\"16\">\n",
       "<path d=\"M8 .25a.75.75 0 0 1 .673.418l1.882 3.815 4.21.612a.75.75 0 0 1 .416 1.279l-3.046 2.97.719 4.192a.751.751 0 0 1-1.088.791L8 12.347l-3.766 1.98a.75.75 0 0 1-1.088-.79l.72-4.194L.818 6.374a.75.75 0 0 1 .416-1.28l4.21-.611L7.327.668A.75.75 0 0 1 8 .25Zm0 2.445L6.615 5.5a.75.75 0 0 1-.564.41l-3.097.45 2.24 2.184a.75.75 0 0 1 .216.664l-.528 3.084 2.769-1.456a.75.75 0 0 1 .698 0l2.77 1.456-.53-3.084a.75.75 0 0 1 .216-.664l2.24-2.183-3.096-.45a.75.75 0 0 1-.564-.41L8 2.694Z\"></path>\n",
       "</svg><span class=\"d-inline\" data-view-component=\"true\">\n",
       "          Star\n",
       "</span>\n",
       "</a></div>\n",
       "</div>\n",
       "</div>\n",
       "<div class=\"py-4 border-bottom d-flex flex-justify-between\">\n",
       "<a class=\"no-underline flex-grow-0\" href=\"/topics/code-quality\">\n",
       "<div class=\"color-bg-accent f4 color-fg-muted text-bold rounded mr-3 flex-shrink-0 text-center\" style=\"width:64px; height:64px; line-height:64px;\">\n",
       "            #\n",
       "          </div>\n",
       "</a>\n",
       "<a class=\"no-underline flex-1 d-flex flex-column\" href=\"/topics/code-quality\">\n",
       "<p class=\"f3 lh-condensed mb-0 mt-1 Link--primary\">Code quality</p>\n",
       "<p class=\"f5 color-fg-muted mb-0 mt-1\">\n",
       "          Automate your code review with style, quality, security, and test‑coverage checks when you need them.\n",
       "        </p>\n",
       "</a>\n",
       "<div class=\"flex-grow-0\">\n",
       "<div class=\"d-block\" data-view-component=\"true\">\n",
       "<a aria-label=\"You must be signed in to star a repository\" class=\"tooltipped tooltipped-s btn-sm btn\" data-hydro-click='{\"event_type\":\"authentication.click\",\"payload\":{\"location_in_page\":\"star button\",\"repository_id\":null,\"auth_type\":\"LOG_IN\",\"originating_url\":\"https://github.com/topics\",\"user_id\":null}}' data-hydro-click-hmac=\"5d696759683aa72e09fbdb14a69b26ab1c672e6d107e4ae922a0926f4476f50a\" data-view-component=\"true\" href=\"/login?return_to=%2Ftopic.code-quality\" rel=\"nofollow\"> <svg aria-hidden=\"true\" class=\"octicon octicon-star v-align-text-bottom d-inline-block mr-2\" data-view-component=\"true\" height=\"16\" version=\"1.1\" viewbox=\"0 0 16 16\" width=\"16\">\n",
       "<path d=\"M8 .25a.75.75 0 0 1 .673.418l1.882 3.815 4.21.612a.75.75 0 0 1 .416 1.279l-3.046 2.97.719 4.192a.751.751 0 0 1-1.088.791L8 12.347l-3.766 1.98a.75.75 0 0 1-1.088-.79l.72-4.194L.818 6.374a.75.75 0 0 1 .416-1.28l4.21-.611L7.327.668A.75.75 0 0 1 8 .25Zm0 2.445L6.615 5.5a.75.75 0 0 1-.564.41l-3.097.45 2.24 2.184a.75.75 0 0 1 .216.664l-.528 3.084 2.769-1.456a.75.75 0 0 1 .698 0l2.77 1.456-.53-3.084a.75.75 0 0 1 .216-.664l2.24-2.183-3.096-.45a.75.75 0 0 1-.564-.41L8 2.694Z\"></path>\n",
       "</svg><span class=\"d-inline\" data-view-component=\"true\">\n",
       "          Star\n",
       "</span>\n",
       "</a></div>\n",
       "</div>\n",
       "</div>\n",
       "<div class=\"py-4 border-bottom d-flex flex-justify-between\">\n",
       "<a class=\"no-underline flex-grow-0\" href=\"/topics/code-review\">\n",
       "<div class=\"color-bg-accent f4 color-fg-muted text-bold rounded mr-3 flex-shrink-0 text-center\" style=\"width:64px; height:64px; line-height:64px;\">\n",
       "            #\n",
       "          </div>\n",
       "</a>\n",
       "<a class=\"no-underline flex-1 d-flex flex-column\" href=\"/topics/code-review\">\n",
       "<p class=\"f3 lh-condensed mb-0 mt-1 Link--primary\">Code review</p>\n",
       "<p class=\"f5 color-fg-muted mb-0 mt-1\">\n",
       "          Ensure your code meets quality standards and ship with confidence.\n",
       "        </p>\n",
       "</a>\n",
       "<div class=\"flex-grow-0\">\n",
       "<div class=\"d-block\" data-view-component=\"true\">\n",
       "<a aria-label=\"You must be signed in to star a repository\" class=\"tooltipped tooltipped-s btn-sm btn\" data-hydro-click='{\"event_type\":\"authentication.click\",\"payload\":{\"location_in_page\":\"star button\",\"repository_id\":null,\"auth_type\":\"LOG_IN\",\"originating_url\":\"https://github.com/topics\",\"user_id\":null}}' data-hydro-click-hmac=\"5d696759683aa72e09fbdb14a69b26ab1c672e6d107e4ae922a0926f4476f50a\" data-view-component=\"true\" href=\"/login?return_to=%2Ftopic.code-review\" rel=\"nofollow\"> <svg aria-hidden=\"true\" class=\"octicon octicon-star v-align-text-bottom d-inline-block mr-2\" data-view-component=\"true\" height=\"16\" version=\"1.1\" viewbox=\"0 0 16 16\" width=\"16\">\n",
       "<path d=\"M8 .25a.75.75 0 0 1 .673.418l1.882 3.815 4.21.612a.75.75 0 0 1 .416 1.279l-3.046 2.97.719 4.192a.751.751 0 0 1-1.088.791L8 12.347l-3.766 1.98a.75.75 0 0 1-1.088-.79l.72-4.194L.818 6.374a.75.75 0 0 1 .416-1.28l4.21-.611L7.327.668A.75.75 0 0 1 8 .25Zm0 2.445L6.615 5.5a.75.75 0 0 1-.564.41l-3.097.45 2.24 2.184a.75.75 0 0 1 .216.664l-.528 3.084 2.769-1.456a.75.75 0 0 1 .698 0l2.77 1.456-.53-3.084a.75.75 0 0 1 .216-.664l2.24-2.183-3.096-.45a.75.75 0 0 1-.564-.41L8 2.694Z\"></path>\n",
       "</svg><span class=\"d-inline\" data-view-component=\"true\">\n",
       "          Star\n",
       "</span>\n",
       "</a></div>\n",
       "</div>\n",
       "</div>\n",
       "<div class=\"py-4 border-bottom d-flex flex-justify-between\">\n",
       "<a class=\"no-underline flex-grow-0\" href=\"/topics/compiler\">\n",
       "<div class=\"color-bg-accent f4 color-fg-muted text-bold rounded mr-3 flex-shrink-0 text-center\" style=\"width:64px; height:64px; line-height:64px;\">\n",
       "            #\n",
       "          </div>\n",
       "</a>\n",
       "<a class=\"no-underline flex-1 d-flex flex-column\" href=\"/topics/compiler\">\n",
       "<p class=\"f3 lh-condensed mb-0 mt-1 Link--primary\">Compiler</p>\n",
       "<p class=\"f5 color-fg-muted mb-0 mt-1\">\n",
       "          Compilers are software that translate higher-level programming languages to lower-level languages (e.g. machine code).\n",
       "        </p>\n",
       "</a>\n",
       "<div class=\"flex-grow-0\">\n",
       "<div class=\"d-block\" data-view-component=\"true\">\n",
       "<a aria-label=\"You must be signed in to star a repository\" class=\"tooltipped tooltipped-s btn-sm btn\" data-hydro-click='{\"event_type\":\"authentication.click\",\"payload\":{\"location_in_page\":\"star button\",\"repository_id\":null,\"auth_type\":\"LOG_IN\",\"originating_url\":\"https://github.com/topics\",\"user_id\":null}}' data-hydro-click-hmac=\"5d696759683aa72e09fbdb14a69b26ab1c672e6d107e4ae922a0926f4476f50a\" data-view-component=\"true\" href=\"/login?return_to=%2Ftopic.compiler\" rel=\"nofollow\"> <svg aria-hidden=\"true\" class=\"octicon octicon-star v-align-text-bottom d-inline-block mr-2\" data-view-component=\"true\" height=\"16\" version=\"1.1\" viewbox=\"0 0 16 16\" width=\"16\">\n",
       "<path d=\"M8 .25a.75.75 0 0 1 .673.418l1.882 3.815 4.21.612a.75.75 0 0 1 .416 1.279l-3.046 2.97.719 4.192a.751.751 0 0 1-1.088.791L8 12.347l-3.766 1.98a.75.75 0 0 1-1.088-.79l.72-4.194L.818 6.374a.75.75 0 0 1 .416-1.28l4.21-.611L7.327.668A.75.75 0 0 1 8 .25Zm0 2.445L6.615 5.5a.75.75 0 0 1-.564.41l-3.097.45 2.24 2.184a.75.75 0 0 1 .216.664l-.528 3.084 2.769-1.456a.75.75 0 0 1 .698 0l2.77 1.456-.53-3.084a.75.75 0 0 1 .216-.664l2.24-2.183-3.096-.45a.75.75 0 0 1-.564-.41L8 2.694Z\"></path>\n",
       "</svg><span class=\"d-inline\" data-view-component=\"true\">\n",
       "          Star\n",
       "</span>\n",
       "</a></div>\n",
       "</div>\n",
       "</div>\n",
       "<div class=\"py-4 border-bottom d-flex flex-justify-between\">\n",
       "<a class=\"no-underline flex-grow-0\" href=\"/topics/continuous-integration\">\n",
       "<div class=\"color-bg-accent f4 color-fg-muted text-bold rounded mr-3 flex-shrink-0 text-center\" style=\"width:64px; height:64px; line-height:64px;\">\n",
       "            #\n",
       "          </div>\n",
       "</a>\n",
       "<a class=\"no-underline flex-1 d-flex flex-column\" href=\"/topics/continuous-integration\">\n",
       "<p class=\"f3 lh-condensed mb-0 mt-1 Link--primary\">Continuous integration</p>\n",
       "<p class=\"f5 color-fg-muted mb-0 mt-1\">\n",
       "          Automatically build and test your code as you push it upstream, preventing bugs from being deployed to production.\n",
       "        </p>\n",
       "</a>\n",
       "<div class=\"flex-grow-0\">\n",
       "<div class=\"d-block\" data-view-component=\"true\">\n",
       "<a aria-label=\"You must be signed in to star a repository\" class=\"tooltipped tooltipped-s btn-sm btn\" data-hydro-click='{\"event_type\":\"authentication.click\",\"payload\":{\"location_in_page\":\"star button\",\"repository_id\":null,\"auth_type\":\"LOG_IN\",\"originating_url\":\"https://github.com/topics\",\"user_id\":null}}' data-hydro-click-hmac=\"5d696759683aa72e09fbdb14a69b26ab1c672e6d107e4ae922a0926f4476f50a\" data-view-component=\"true\" href=\"/login?return_to=%2Ftopic.continuous-integration\" rel=\"nofollow\"> <svg aria-hidden=\"true\" class=\"octicon octicon-star v-align-text-bottom d-inline-block mr-2\" data-view-component=\"true\" height=\"16\" version=\"1.1\" viewbox=\"0 0 16 16\" width=\"16\">\n",
       "<path d=\"M8 .25a.75.75 0 0 1 .673.418l1.882 3.815 4.21.612a.75.75 0 0 1 .416 1.279l-3.046 2.97.719 4.192a.751.751 0 0 1-1.088.791L8 12.347l-3.766 1.98a.75.75 0 0 1-1.088-.79l.72-4.194L.818 6.374a.75.75 0 0 1 .416-1.28l4.21-.611L7.327.668A.75.75 0 0 1 8 .25Zm0 2.445L6.615 5.5a.75.75 0 0 1-.564.41l-3.097.45 2.24 2.184a.75.75 0 0 1 .216.664l-.528 3.084 2.769-1.456a.75.75 0 0 1 .698 0l2.77 1.456-.53-3.084a.75.75 0 0 1 .216-.664l2.24-2.183-3.096-.45a.75.75 0 0 1-.564-.41L8 2.694Z\"></path>\n",
       "</svg><span class=\"d-inline\" data-view-component=\"true\">\n",
       "          Star\n",
       "</span>\n",
       "</a></div>\n",
       "</div>\n",
       "</div>\n",
       "<div class=\"py-4 border-bottom d-flex flex-justify-between\">\n",
       "<a class=\"no-underline flex-grow-0\" href=\"/topics/covid-19\">\n",
       "<img alt=\"covid-19\" class=\"rounded mr-3\" height=\"64\" src=\"https://raw.githubusercontent.com/github/explore/af16e074f93c080d7b283815787283cab0e9414b/topics/covid-19/covid-19.png\" width=\"64\"/>\n",
       "</a>\n",
       "<a class=\"no-underline flex-1 d-flex flex-column\" href=\"/topics/covid-19\">\n",
       "<p class=\"f3 lh-condensed mb-0 mt-1 Link--primary\">COVID-19</p>\n",
       "<p class=\"f5 color-fg-muted mb-0 mt-1\">\n",
       "          The coronavirus disease 2019 (COVID-19) is an infectious disease caused by SARS-CoV-2.\n",
       "        </p>\n",
       "</a>\n",
       "<div class=\"flex-grow-0\">\n",
       "<div class=\"d-block\" data-view-component=\"true\">\n",
       "<a aria-label=\"You must be signed in to star a repository\" class=\"tooltipped tooltipped-s btn-sm btn\" data-hydro-click='{\"event_type\":\"authentication.click\",\"payload\":{\"location_in_page\":\"star button\",\"repository_id\":null,\"auth_type\":\"LOG_IN\",\"originating_url\":\"https://github.com/topics\",\"user_id\":null}}' data-hydro-click-hmac=\"5d696759683aa72e09fbdb14a69b26ab1c672e6d107e4ae922a0926f4476f50a\" data-view-component=\"true\" href=\"/login?return_to=%2Ftopic.covid-19\" rel=\"nofollow\"> <svg aria-hidden=\"true\" class=\"octicon octicon-star v-align-text-bottom d-inline-block mr-2\" data-view-component=\"true\" height=\"16\" version=\"1.1\" viewbox=\"0 0 16 16\" width=\"16\">\n",
       "<path d=\"M8 .25a.75.75 0 0 1 .673.418l1.882 3.815 4.21.612a.75.75 0 0 1 .416 1.279l-3.046 2.97.719 4.192a.751.751 0 0 1-1.088.791L8 12.347l-3.766 1.98a.75.75 0 0 1-1.088-.79l.72-4.194L.818 6.374a.75.75 0 0 1 .416-1.28l4.21-.611L7.327.668A.75.75 0 0 1 8 .25Zm0 2.445L6.615 5.5a.75.75 0 0 1-.564.41l-3.097.45 2.24 2.184a.75.75 0 0 1 .216.664l-.528 3.084 2.769-1.456a.75.75 0 0 1 .698 0l2.77 1.456-.53-3.084a.75.75 0 0 1 .216-.664l2.24-2.183-3.096-.45a.75.75 0 0 1-.564-.41L8 2.694Z\"></path>\n",
       "</svg><span class=\"d-inline\" data-view-component=\"true\">\n",
       "          Star\n",
       "</span>\n",
       "</a></div>\n",
       "</div>\n",
       "</div>\n",
       "<div class=\"py-4 border-bottom d-flex flex-justify-between\">\n",
       "<a class=\"no-underline flex-grow-0\" href=\"/topics/cpp\">\n",
       "<img alt=\"cpp\" class=\"rounded mr-3\" height=\"64\" src=\"https://raw.githubusercontent.com/github/explore/180320cffc25f4ed1bbdfd33d4db3a66eeeeb358/topics/cpp/cpp.png\" width=\"64\"/>\n",
       "</a>\n",
       "<a class=\"no-underline flex-1 d-flex flex-column\" href=\"/topics/cpp\">\n",
       "<p class=\"f3 lh-condensed mb-0 mt-1 Link--primary\">C++</p>\n",
       "<p class=\"f5 color-fg-muted mb-0 mt-1\">\n",
       "          C++ is a general purpose and object-oriented programming language.\n",
       "        </p>\n",
       "</a>\n",
       "<div class=\"flex-grow-0\">\n",
       "<div class=\"d-block\" data-view-component=\"true\">\n",
       "<a aria-label=\"You must be signed in to star a repository\" class=\"tooltipped tooltipped-s btn-sm btn\" data-hydro-click='{\"event_type\":\"authentication.click\",\"payload\":{\"location_in_page\":\"star button\",\"repository_id\":null,\"auth_type\":\"LOG_IN\",\"originating_url\":\"https://github.com/topics\",\"user_id\":null}}' data-hydro-click-hmac=\"5d696759683aa72e09fbdb14a69b26ab1c672e6d107e4ae922a0926f4476f50a\" data-view-component=\"true\" href=\"/login?return_to=%2Ftopic.cpp\" rel=\"nofollow\"> <svg aria-hidden=\"true\" class=\"octicon octicon-star v-align-text-bottom d-inline-block mr-2\" data-view-component=\"true\" height=\"16\" version=\"1.1\" viewbox=\"0 0 16 16\" width=\"16\">\n",
       "<path d=\"M8 .25a.75.75 0 0 1 .673.418l1.882 3.815 4.21.612a.75.75 0 0 1 .416 1.279l-3.046 2.97.719 4.192a.751.751 0 0 1-1.088.791L8 12.347l-3.766 1.98a.75.75 0 0 1-1.088-.79l.72-4.194L.818 6.374a.75.75 0 0 1 .416-1.28l4.21-.611L7.327.668A.75.75 0 0 1 8 .25Zm0 2.445L6.615 5.5a.75.75 0 0 1-.564.41l-3.097.45 2.24 2.184a.75.75 0 0 1 .216.664l-.528 3.084 2.769-1.456a.75.75 0 0 1 .698 0l2.77 1.456-.53-3.084a.75.75 0 0 1 .216-.664l2.24-2.183-3.096-.45a.75.75 0 0 1-.564-.41L8 2.694Z\"></path>\n",
       "</svg><span class=\"d-inline\" data-view-component=\"true\">\n",
       "          Star\n",
       "</span>\n",
       "</a></div>\n",
       "</div>\n",
       "</div>\n",
       "</div>\n",
       "<!-- '\"` --><!-- </textarea></xmp> --><form accept-charset=\"UTF-8\" action=\"/topics\" class=\"ajax-pagination-form js-ajax-pagination\" data-turbo=\"false\" method=\"get\">\n",
       "<input name=\"page\" type=\"hidden\" value=\"2\"/>\n",
       "<button class=\"ajax-pagination-btn btn mt-4 py-2 btn-outline color-border-default f6 width-full\" data-disable-with=\"Loading more…\" type=\"submit\">\n",
       "      Load more…\n",
       "    </button>\n",
       "</form>\n",
       "</div>\n",
       "<div class=\"col-lg-3\">\n",
       "<h2 class=\"h4 mb-2\">Popular topics</h2>\n",
       "<ul class=\"col-sm-6 col-md-4 col-lg-12 list-style-none flex-wrap\">\n",
       "<li class=\"d-inline-block\">\n",
       "<a class=\"topic-tag topic-tag-link f6 my-1\" data-ga-click=\"Topics, go to nodejs, location:popular topics\" data-view-component=\"true\" href=\"/topics/nodejs\" title=\"Topic: nodejs\">\n",
       "  nodejs\n",
       "</a>\n",
       "</li>\n",
       "<li class=\"d-inline-block\">\n",
       "<a class=\"topic-tag topic-tag-link f6 my-1\" data-ga-click=\"Topics, go to javascript, location:popular topics\" data-view-component=\"true\" href=\"/topics/javascript\" title=\"Topic: javascript\">\n",
       "  javascript\n",
       "</a>\n",
       "</li>\n",
       "<li class=\"d-inline-block\">\n",
       "<a class=\"topic-tag topic-tag-link f6 my-1\" data-ga-click=\"Topics, go to css, location:popular topics\" data-view-component=\"true\" href=\"/topics/css\" title=\"Topic: css\">\n",
       "  css\n",
       "</a>\n",
       "</li>\n",
       "<li class=\"d-inline-block\">\n",
       "<a class=\"topic-tag topic-tag-link f6 my-1\" data-ga-click=\"Topics, go to config, location:popular topics\" data-view-component=\"true\" href=\"/topics/config\" title=\"Topic: config\">\n",
       "  config\n",
       "</a>\n",
       "</li>\n",
       "<li class=\"d-inline-block\">\n",
       "<a class=\"topic-tag topic-tag-link f6 my-1\" data-ga-click=\"Topics, go to python, location:popular topics\" data-view-component=\"true\" href=\"/topics/python\" title=\"Topic: python\">\n",
       "  python\n",
       "</a>\n",
       "</li>\n",
       "<li class=\"d-inline-block\">\n",
       "<a class=\"topic-tag topic-tag-link f6 my-1\" data-ga-click=\"Topics, go to java, location:popular topics\" data-view-component=\"true\" href=\"/topics/java\" title=\"Topic: java\">\n",
       "  java\n",
       "</a>\n",
       "</li>\n",
       "<li class=\"d-inline-block\">\n",
       "<a class=\"topic-tag topic-tag-link f6 my-1\" data-ga-click=\"Topics, go to html, location:popular topics\" data-view-component=\"true\" href=\"/topics/html\" title=\"Topic: html\">\n",
       "  html\n",
       "</a>\n",
       "</li>\n",
       "<li class=\"d-inline-block\">\n",
       "<a class=\"topic-tag topic-tag-link f6 my-1\" data-ga-click=\"Topics, go to typescript, location:popular topics\" data-view-component=\"true\" href=\"/topics/typescript\" title=\"Topic: typescript\">\n",
       "  typescript\n",
       "</a>\n",
       "</li>\n",
       "<li class=\"d-inline-block\">\n",
       "<a class=\"topic-tag topic-tag-link f6 my-1\" data-ga-click=\"Topics, go to reactjs, location:popular topics\" data-view-component=\"true\" href=\"/topics/reactjs\" title=\"Topic: reactjs\">\n",
       "  reactjs\n",
       "</a>\n",
       "</li>\n",
       "<li class=\"d-inline-block\">\n",
       "<a class=\"topic-tag topic-tag-link f6 my-1\" data-ga-click=\"Topics, go to github-config, location:popular topics\" data-view-component=\"true\" href=\"/topics/github-config\" title=\"Topic: github-config\">\n",
       "  github-config\n",
       "</a>\n",
       "</li>\n",
       "</ul>\n",
       "</div>\n",
       "</div>\n",
       "</main>\n",
       "</div>\n",
       "<footer class=\"footer width-full container-lg p-responsive\" role=\"contentinfo\">\n",
       "<h2 class=\"sr-only\">Footer</h2>\n",
       "<div class=\"position-relative d-flex flex-items-center pb-2 f6 color-fg-muted border-top color-border-muted flex-column-reverse flex-lg-row flex-wrap flex-lg-nowrap mt-6 pt-6\">\n",
       "<div class=\"list-style-none d-flex flex-wrap col-0 col-lg-2 flex-justify-start flex-lg-justify-between mb-2 mb-lg-0\">\n",
       "<div class=\"mt-2 mt-lg-0 d-flex flex-items-center\">\n",
       "<a aria-label=\"Homepage\" class=\"footer-octicon mr-2\" href=\"https://github.com\" title=\"GitHub\">\n",
       "<svg aria-hidden=\"true\" class=\"octicon octicon-mark-github\" data-view-component=\"true\" height=\"24\" version=\"1.1\" viewbox=\"0 0 16 16\" width=\"24\">\n",
       "<path d=\"M8 0c4.42 0 8 3.58 8 8a8.013 8.013 0 0 1-5.45 7.59c-.4.08-.55-.17-.55-.38 0-.27.01-1.13.01-2.2 0-.75-.25-1.23-.54-1.48 1.78-.2 3.65-.88 3.65-3.95 0-.88-.31-1.59-.82-2.15.08-.2.36-1.02-.08-2.12 0 0-.67-.22-2.2.82-.64-.18-1.32-.27-2-.27-.68 0-1.36.09-2 .27-1.53-1.03-2.2-.82-2.2-.82-.44 1.1-.16 1.92-.08 2.12-.51.56-.82 1.28-.82 2.15 0 3.06 1.86 3.75 3.64 3.95-.23.2-.44.55-.51 1.07-.46.21-1.61.55-2.33-.66-.15-.24-.6-.83-1.23-.82-.67.01-.27.38.01.53.34.19.73.9.82 1.13.16.45.68 1.31 2.69.94 0 .67.01 1.3.01 1.49 0 .21-.15.45-.55.38A7.995 7.995 0 0 1 0 8c0-4.42 3.58-8 8-8Z\"></path>\n",
       "</svg>\n",
       "</a> <span>\n",
       "        © 2023 GitHub, Inc.\n",
       "        </span>\n",
       "</div>\n",
       "</div>\n",
       "<nav aria-label=\"Footer\" class=\"col-12 col-lg-8\">\n",
       "<h3 class=\"sr-only\" id=\"sr-footer-heading\">Footer navigation</h3>\n",
       "<ul aria-labelledby=\"sr-footer-heading\" class=\"list-style-none d-flex flex-wrap col-12 flex-justify-center flex-lg-justify-between mb-2 mb-lg-0\">\n",
       "<li class=\"mr-3 mr-lg-0\"><a data-analytics-event='{\"category\":\"Footer\",\"action\":\"go to terms\",\"label\":\"text:terms\"}' href=\"https://docs.github.com/site-policy/github-terms/github-terms-of-service\">Terms</a></li>\n",
       "<li class=\"mr-3 mr-lg-0\"><a data-analytics-event='{\"category\":\"Footer\",\"action\":\"go to privacy\",\"label\":\"text:privacy\"}' href=\"https://docs.github.com/site-policy/privacy-policies/github-privacy-statement\">Privacy</a></li>\n",
       "<li class=\"mr-3 mr-lg-0\"><a data-analytics-event='{\"category\":\"Footer\",\"action\":\"go to security\",\"label\":\"text:security\"}' href=\"https://github.com/security\">Security</a></li>\n",
       "<li class=\"mr-3 mr-lg-0\"><a data-analytics-event='{\"category\":\"Footer\",\"action\":\"go to status\",\"label\":\"text:status\"}' href=\"https://www.githubstatus.com/\">Status</a></li>\n",
       "<li class=\"mr-3 mr-lg-0\"><a data-ga-click=\"Footer, go to help, text:Docs\" href=\"https://docs.github.com\">Docs</a></li>\n",
       "<li class=\"mr-3 mr-lg-0\"><a data-analytics-event='{\"category\":\"Footer\",\"action\":\"go to contact\",\"label\":\"text:contact\"}' href=\"https://support.github.com?tags=dotcom-footer\">Contact GitHub</a></li>\n",
       "<li class=\"mr-3 mr-lg-0\"><a data-analytics-event='{\"category\":\"Footer\",\"action\":\"go to Pricing\",\"label\":\"text:Pricing\"}' href=\"https://github.com/pricing\">Pricing</a></li>\n",
       "<li class=\"mr-3 mr-lg-0\"><a data-analytics-event='{\"category\":\"Footer\",\"action\":\"go to api\",\"label\":\"text:api\"}' href=\"https://docs.github.com\">API</a></li>\n",
       "<li class=\"mr-3 mr-lg-0\"><a data-analytics-event='{\"category\":\"Footer\",\"action\":\"go to training\",\"label\":\"text:training\"}' href=\"https://services.github.com\">Training</a></li>\n",
       "<li class=\"mr-3 mr-lg-0\"><a data-analytics-event='{\"category\":\"Footer\",\"action\":\"go to blog\",\"label\":\"text:blog\"}' href=\"https://github.blog\">Blog</a></li>\n",
       "<li><a data-ga-click=\"Footer, go to about, text:about\" href=\"https://github.com/about\">About</a></li>\n",
       "</ul>\n",
       "</nav>\n",
       "</div>\n",
       "<div class=\"d-flex flex-justify-center pb-6\">\n",
       "<span class=\"f6 color-fg-muted\"></span>\n",
       "</div>\n",
       "</footer>\n",
       "<div class=\"ajax-error-message flash flash-error\" hidden=\"\" id=\"ajax-error-message\">\n",
       "<svg aria-hidden=\"true\" class=\"octicon octicon-alert\" data-view-component=\"true\" height=\"16\" version=\"1.1\" viewbox=\"0 0 16 16\" width=\"16\">\n",
       "<path d=\"M6.457 1.047c.659-1.234 2.427-1.234 3.086 0l6.082 11.378A1.75 1.75 0 0 1 14.082 15H1.918a1.75 1.75 0 0 1-1.543-2.575Zm1.763.707a.25.25 0 0 0-.44 0L1.698 13.132a.25.25 0 0 0 .22.368h12.164a.25.25 0 0 0 .22-.368Zm.53 3.996v2.5a.75.75 0 0 1-1.5 0v-2.5a.75.75 0 0 1 1.5 0ZM9 11a1 1 0 1 1-2 0 1 1 0 0 1 2 0Z\"></path>\n",
       "</svg>\n",
       "<button aria-label=\"Dismiss error\" class=\"flash-close js-ajax-error-dismiss\" type=\"button\">\n",
       "<svg aria-hidden=\"true\" class=\"octicon octicon-x\" data-view-component=\"true\" height=\"16\" version=\"1.1\" viewbox=\"0 0 16 16\" width=\"16\">\n",
       "<path d=\"M3.72 3.72a.75.75 0 0 1 1.06 0L8 6.94l3.22-3.22a.749.749 0 0 1 1.275.326.749.749 0 0 1-.215.734L9.06 8l3.22 3.22a.749.749 0 0 1-.326 1.275.749.749 0 0 1-.734-.215L8 9.06l-3.22 3.22a.751.751 0 0 1-1.042-.018.751.751 0 0 1-.018-1.042L6.94 8 3.72 4.78a.75.75 0 0 1 0-1.06Z\"></path>\n",
       "</svg>\n",
       "</button>\n",
       "    You can’t perform that action at this time.\n",
       "  </div>\n",
       "<template id=\"site-details-dialog\">\n",
       "<details class=\"details-reset details-overlay details-overlay-dark lh-default color-fg-default hx_rsm\" open=\"\">\n",
       "<summary aria-label=\"Close dialog\" role=\"button\"></summary>\n",
       "<details-dialog class=\"Box Box--overlay d-flex flex-column anim-fade-in fast hx_rsm-dialog hx_rsm-modal\">\n",
       "<button aria-label=\"Close dialog\" class=\"Box-btn-octicon m-0 btn-octicon position-absolute right-0 top-0\" data-close-dialog=\"\" type=\"button\">\n",
       "<svg aria-hidden=\"true\" class=\"octicon octicon-x\" data-view-component=\"true\" height=\"16\" version=\"1.1\" viewbox=\"0 0 16 16\" width=\"16\">\n",
       "<path d=\"M3.72 3.72a.75.75 0 0 1 1.06 0L8 6.94l3.22-3.22a.749.749 0 0 1 1.275.326.749.749 0 0 1-.215.734L9.06 8l3.22 3.22a.749.749 0 0 1-.326 1.275.749.749 0 0 1-.734-.215L8 9.06l-3.22 3.22a.751.751 0 0 1-1.042-.018.751.751 0 0 1-.018-1.042L6.94 8 3.72 4.78a.75.75 0 0 1 0-1.06Z\"></path>\n",
       "</svg>\n",
       "</button>\n",
       "<div class=\"octocat-spinner my-6 js-details-dialog-spinner\"></div>\n",
       "</details-dialog>\n",
       "</details>\n",
       "</template>\n",
       "<div class=\"Popover js-hovercard-content position-absolute\" style=\"display: none; outline: none;\" tabindex=\"0\">\n",
       "<div class=\"Popover-message Popover-message--bottom-left Popover-message--large Box color-shadow-large\" style=\"width:360px;\">\n",
       "</div>\n",
       "</div>\n",
       "<template id=\"snippet-clipboard-copy-button\">\n",
       "<div class=\"zeroclipboard-container position-absolute right-0 top-0\">\n",
       "<clipboard-copy aria-label=\"Copy\" class=\"ClipboardButton btn js-clipboard-copy m-2 p-0 tooltipped-no-delay\" data-copy-feedback=\"Copied!\" data-tooltip-direction=\"w\">\n",
       "<svg aria-hidden=\"true\" class=\"octicon octicon-copy js-clipboard-copy-icon m-2\" data-view-component=\"true\" height=\"16\" version=\"1.1\" viewbox=\"0 0 16 16\" width=\"16\">\n",
       "<path d=\"M0 6.75C0 5.784.784 5 1.75 5h1.5a.75.75 0 0 1 0 1.5h-1.5a.25.25 0 0 0-.25.25v7.5c0 .138.112.25.25.25h7.5a.25.25 0 0 0 .25-.25v-1.5a.75.75 0 0 1 1.5 0v1.5A1.75 1.75 0 0 1 9.25 16h-7.5A1.75 1.75 0 0 1 0 14.25Z\"></path><path d=\"M5 1.75C5 .784 5.784 0 6.75 0h7.5C15.216 0 16 .784 16 1.75v7.5A1.75 1.75 0 0 1 14.25 11h-7.5A1.75 1.75 0 0 1 5 9.25Zm1.75-.25a.25.25 0 0 0-.25.25v7.5c0 .138.112.25.25.25h7.5a.25.25 0 0 0 .25-.25v-7.5a.25.25 0 0 0-.25-.25Z\"></path>\n",
       "</svg>\n",
       "<svg aria-hidden=\"true\" class=\"octicon octicon-check js-clipboard-check-icon color-fg-success d-none m-2\" data-view-component=\"true\" height=\"16\" version=\"1.1\" viewbox=\"0 0 16 16\" width=\"16\">\n",
       "<path d=\"M13.78 4.22a.75.75 0 0 1 0 1.06l-7.25 7.25a.75.75 0 0 1-1.06 0L2.22 9.28a.751.751 0 0 1 .018-1.042.751.751 0 0 1 1.042-.018L6 10.94l6.72-6.72a.75.75 0 0 1 1.06 0Z\"></path>\n",
       "</svg>\n",
       "</clipboard-copy>\n",
       "</div>\n",
       "</template>\n",
       "<template id=\"snippet-clipboard-copy-button-unpositioned\">\n",
       "<div class=\"zeroclipboard-container\">\n",
       "<clipboard-copy aria-label=\"Copy\" class=\"ClipboardButton btn btn-invisible js-clipboard-copy m-2 p-0 tooltipped-no-delay d-flex flex-justify-center flex-items-center\" data-copy-feedback=\"Copied!\" data-tooltip-direction=\"w\">\n",
       "<svg aria-hidden=\"true\" class=\"octicon octicon-copy js-clipboard-copy-icon\" data-view-component=\"true\" height=\"16\" version=\"1.1\" viewbox=\"0 0 16 16\" width=\"16\">\n",
       "<path d=\"M0 6.75C0 5.784.784 5 1.75 5h1.5a.75.75 0 0 1 0 1.5h-1.5a.25.25 0 0 0-.25.25v7.5c0 .138.112.25.25.25h7.5a.25.25 0 0 0 .25-.25v-1.5a.75.75 0 0 1 1.5 0v1.5A1.75 1.75 0 0 1 9.25 16h-7.5A1.75 1.75 0 0 1 0 14.25Z\"></path><path d=\"M5 1.75C5 .784 5.784 0 6.75 0h7.5C15.216 0 16 .784 16 1.75v7.5A1.75 1.75 0 0 1 14.25 11h-7.5A1.75 1.75 0 0 1 5 9.25Zm1.75-.25a.25.25 0 0 0-.25.25v7.5c0 .138.112.25.25.25h7.5a.25.25 0 0 0 .25-.25v-7.5a.25.25 0 0 0-.25-.25Z\"></path>\n",
       "</svg>\n",
       "<svg aria-hidden=\"true\" class=\"octicon octicon-check js-clipboard-check-icon color-fg-success d-none\" data-view-component=\"true\" height=\"16\" version=\"1.1\" viewbox=\"0 0 16 16\" width=\"16\">\n",
       "<path d=\"M13.78 4.22a.75.75 0 0 1 0 1.06l-7.25 7.25a.75.75 0 0 1-1.06 0L2.22 9.28a.751.751 0 0 1 .018-1.042.751.751 0 0 1 1.042-.018L6 10.94l6.72-6.72a.75.75 0 0 1 1.06 0Z\"></path>\n",
       "</svg>\n",
       "</clipboard-copy>\n",
       "</div>\n",
       "</template>\n",
       "</div>\n",
       "<div aria-live=\"polite\" class=\"sr-only\" id=\"js-global-screen-reader-notice\"></div>\n",
       "</body>\n",
       "</html>"
      ]
     },
     "execution_count": 14,
     "metadata": {},
     "output_type": "execute_result"
    }
   ],
   "source": [
    "soup"
   ]
  },
  {
   "cell_type": "code",
   "execution_count": 15,
   "id": "b5fcef6b",
   "metadata": {},
   "outputs": [
    {
     "data": {
      "text/plain": [
       "bs4.BeautifulSoup"
      ]
     },
     "execution_count": 15,
     "metadata": {},
     "output_type": "execute_result"
    }
   ],
   "source": [
    "type(soup)"
   ]
  },
  {
   "cell_type": "code",
   "execution_count": 16,
   "id": "52b126f1",
   "metadata": {},
   "outputs": [],
   "source": [
    "p_tags=soup.find_all('p',class_='f3 lh-condensed mb-0 mt-1 Link--primary')"
   ]
  },
  {
   "cell_type": "code",
   "execution_count": 17,
   "id": "488ad3d5",
   "metadata": {},
   "outputs": [
    {
     "data": {
      "text/plain": [
       "[<p class=\"f3 lh-condensed mb-0 mt-1 Link--primary\">3D</p>,\n",
       " <p class=\"f3 lh-condensed mb-0 mt-1 Link--primary\">Ajax</p>,\n",
       " <p class=\"f3 lh-condensed mb-0 mt-1 Link--primary\">Algorithm</p>,\n",
       " <p class=\"f3 lh-condensed mb-0 mt-1 Link--primary\">Amp</p>,\n",
       " <p class=\"f3 lh-condensed mb-0 mt-1 Link--primary\">Android</p>]"
      ]
     },
     "execution_count": 17,
     "metadata": {},
     "output_type": "execute_result"
    }
   ],
   "source": [
    "p_tags[:5]"
   ]
  },
  {
   "cell_type": "code",
   "execution_count": 18,
   "id": "841236ea",
   "metadata": {},
   "outputs": [
    {
     "data": {
      "text/plain": [
       "30"
      ]
     },
     "execution_count": 18,
     "metadata": {},
     "output_type": "execute_result"
    }
   ],
   "source": [
    "main_topics=[i.text for i in p_tags]\n",
    "len(main_topics)"
   ]
  },
  {
   "cell_type": "code",
   "execution_count": 19,
   "id": "13e493fd",
   "metadata": {},
   "outputs": [],
   "source": [
    "p_tags_descr=soup.find_all('p',class_='f5 color-fg-muted mb-0 mt-1')"
   ]
  },
  {
   "cell_type": "code",
   "execution_count": 20,
   "id": "d1b85246",
   "metadata": {},
   "outputs": [
    {
     "data": {
      "text/plain": [
       "<p class=\"f5 color-fg-muted mb-0 mt-1\">\n",
       "          3D refers to the use of three-dimensional graphics, modeling, and animation in various industries.\n",
       "        </p>"
      ]
     },
     "execution_count": 20,
     "metadata": {},
     "output_type": "execute_result"
    }
   ],
   "source": [
    "p_tags_descr[0]"
   ]
  },
  {
   "cell_type": "code",
   "execution_count": 21,
   "id": "f7392c10",
   "metadata": {},
   "outputs": [
    {
     "data": {
      "text/plain": [
       "['          3D refers to the use of three-dimensional graphics, modeling, and animation in various industries',\n",
       " '          Ajax is a technique for creating interactive web applications',\n",
       " '          Algorithms are self-contained sequences that carry out a variety of tasks',\n",
       " '          Amp is a non-blocking concurrency library for PHP',\n",
       " '          Android is an operating system built by Google designed for mobile devices']"
      ]
     },
     "execution_count": 21,
     "metadata": {},
     "output_type": "execute_result"
    }
   ],
   "source": [
    "topic_des=[i.text[1:-10] for i in p_tags_descr]\n",
    "topic_des[:5]"
   ]
  },
  {
   "cell_type": "code",
   "execution_count": 22,
   "id": "99928784",
   "metadata": {},
   "outputs": [],
   "source": [
    "#to get inside of main_topic use .parents"
   ]
  },
  {
   "cell_type": "code",
   "execution_count": 23,
   "id": "608403c6",
   "metadata": {},
   "outputs": [
    {
     "data": {
      "text/plain": [
       "<div class=\"py-4 border-bottom d-flex flex-justify-between\">\n",
       "<a class=\"no-underline flex-grow-0\" href=\"/topics/3d\">\n",
       "<div class=\"color-bg-accent f4 color-fg-muted text-bold rounded mr-3 flex-shrink-0 text-center\" style=\"width:64px; height:64px; line-height:64px;\">\n",
       "            #\n",
       "          </div>\n",
       "</a>\n",
       "<a class=\"no-underline flex-1 d-flex flex-column\" href=\"/topics/3d\">\n",
       "<p class=\"f3 lh-condensed mb-0 mt-1 Link--primary\">3D</p>\n",
       "<p class=\"f5 color-fg-muted mb-0 mt-1\">\n",
       "          3D refers to the use of three-dimensional graphics, modeling, and animation in various industries.\n",
       "        </p>\n",
       "</a>\n",
       "<div class=\"flex-grow-0\">\n",
       "<div class=\"d-block\" data-view-component=\"true\">\n",
       "<a aria-label=\"You must be signed in to star a repository\" class=\"tooltipped tooltipped-s btn-sm btn\" data-hydro-click='{\"event_type\":\"authentication.click\",\"payload\":{\"location_in_page\":\"star button\",\"repository_id\":null,\"auth_type\":\"LOG_IN\",\"originating_url\":\"https://github.com/topics\",\"user_id\":null}}' data-hydro-click-hmac=\"5d696759683aa72e09fbdb14a69b26ab1c672e6d107e4ae922a0926f4476f50a\" data-view-component=\"true\" href=\"/login?return_to=%2Ftopic.3d\" rel=\"nofollow\"> <svg aria-hidden=\"true\" class=\"octicon octicon-star v-align-text-bottom d-inline-block mr-2\" data-view-component=\"true\" height=\"16\" version=\"1.1\" viewbox=\"0 0 16 16\" width=\"16\">\n",
       "<path d=\"M8 .25a.75.75 0 0 1 .673.418l1.882 3.815 4.21.612a.75.75 0 0 1 .416 1.279l-3.046 2.97.719 4.192a.751.751 0 0 1-1.088.791L8 12.347l-3.766 1.98a.75.75 0 0 1-1.088-.79l.72-4.194L.818 6.374a.75.75 0 0 1 .416-1.28l4.21-.611L7.327.668A.75.75 0 0 1 8 .25Zm0 2.445L6.615 5.5a.75.75 0 0 1-.564.41l-3.097.45 2.24 2.184a.75.75 0 0 1 .216.664l-.528 3.084 2.769-1.456a.75.75 0 0 1 .698 0l2.77 1.456-.53-3.084a.75.75 0 0 1 .216-.664l2.24-2.183-3.096-.45a.75.75 0 0 1-.564-.41L8 2.694Z\"></path>\n",
       "</svg><span class=\"d-inline\" data-view-component=\"true\">\n",
       "          Star\n",
       "</span>\n",
       "</a></div>\n",
       "</div>\n",
       "</div>"
      ]
     },
     "execution_count": 23,
     "metadata": {},
     "output_type": "execute_result"
    }
   ],
   "source": [
    "p_tags[0].parent.parent"
   ]
  },
  {
   "cell_type": "code",
   "execution_count": 24,
   "id": "ad0de176",
   "metadata": {},
   "outputs": [],
   "source": [
    "main_topic_3d=soup.find_all('a',class_='no-underline flex-grow-0')"
   ]
  },
  {
   "cell_type": "code",
   "execution_count": 25,
   "id": "1157f2e3",
   "metadata": {},
   "outputs": [
    {
     "data": {
      "text/plain": [
       "<a class=\"no-underline flex-grow-0\" href=\"/topics/3d\">\n",
       "<div class=\"color-bg-accent f4 color-fg-muted text-bold rounded mr-3 flex-shrink-0 text-center\" style=\"width:64px; height:64px; line-height:64px;\">\n",
       "            #\n",
       "          </div>\n",
       "</a>"
      ]
     },
     "execution_count": 25,
     "metadata": {},
     "output_type": "execute_result"
    }
   ],
   "source": [
    "main_topic_3d[0]"
   ]
  },
  {
   "cell_type": "code",
   "execution_count": 26,
   "id": "03011fbd",
   "metadata": {},
   "outputs": [
    {
     "data": {
      "text/plain": [
       "'/topics/3d'"
      ]
     },
     "execution_count": 26,
     "metadata": {},
     "output_type": "execute_result"
    }
   ],
   "source": [
    "main_topic_3d[0]['href']"
   ]
  },
  {
   "cell_type": "code",
   "execution_count": 27,
   "id": "5c881157",
   "metadata": {},
   "outputs": [
    {
     "name": "stdout",
     "output_type": "stream",
     "text": [
      "https://github.com/topics/3d\n"
     ]
    }
   ],
   "source": [
    "main_topic_3d_url='https://github.com'+main_topic_3d[0]['href']\n",
    "print(main_topic_3d_url)"
   ]
  },
  {
   "cell_type": "code",
   "execution_count": 28,
   "id": "e222df98",
   "metadata": {},
   "outputs": [
    {
     "data": {
      "text/plain": [
       "[<p class=\"f3 lh-condensed mb-0 mt-1 Link--primary\">3D</p>,\n",
       " <p class=\"f3 lh-condensed mb-0 mt-1 Link--primary\">Ajax</p>,\n",
       " <p class=\"f3 lh-condensed mb-0 mt-1 Link--primary\">Algorithm</p>,\n",
       " <p class=\"f3 lh-condensed mb-0 mt-1 Link--primary\">Amp</p>,\n",
       " <p class=\"f3 lh-condensed mb-0 mt-1 Link--primary\">Android</p>]"
      ]
     },
     "execution_count": 28,
     "metadata": {},
     "output_type": "execute_result"
    }
   ],
   "source": [
    "p_tags[:5]"
   ]
  },
  {
   "cell_type": "code",
   "execution_count": 29,
   "id": "172c965f",
   "metadata": {},
   "outputs": [
    {
     "data": {
      "text/plain": [
       "'3D'"
      ]
     },
     "execution_count": 29,
     "metadata": {},
     "output_type": "execute_result"
    }
   ],
   "source": [
    "p_tags[0].text"
   ]
  },
  {
   "cell_type": "code",
   "execution_count": 30,
   "id": "f5c6caba",
   "metadata": {},
   "outputs": [
    {
     "data": {
      "text/plain": [
       "['3D',\n",
       " 'Ajax',\n",
       " 'Algorithm',\n",
       " 'Amp',\n",
       " 'Android',\n",
       " 'Angular',\n",
       " 'Ansible',\n",
       " 'API',\n",
       " 'Arduino',\n",
       " 'ASP.NET',\n",
       " 'Atom',\n",
       " 'Awesome Lists',\n",
       " 'Amazon Web Services',\n",
       " 'Azure',\n",
       " 'Babel',\n",
       " 'Bash',\n",
       " 'Bitcoin',\n",
       " 'Bootstrap',\n",
       " 'Bot',\n",
       " 'C',\n",
       " 'Chrome',\n",
       " 'Chrome extension',\n",
       " 'Command line interface',\n",
       " 'Clojure',\n",
       " 'Code quality',\n",
       " 'Code review',\n",
       " 'Compiler',\n",
       " 'Continuous integration',\n",
       " 'COVID-19',\n",
       " 'C++']"
      ]
     },
     "execution_count": 30,
     "metadata": {},
     "output_type": "execute_result"
    }
   ],
   "source": [
    "topicc_title=[i.text for i in p_tags]\n",
    "topicc_title"
   ]
  },
  {
   "cell_type": "code",
   "execution_count": 31,
   "id": "52b79e68",
   "metadata": {},
   "outputs": [
    {
     "name": "stdout",
     "output_type": "stream",
     "text": [
      "['3D', 'Ajax', 'Algorithm', 'Amp', 'Android', 'Angular', 'Ansible', 'API', 'Arduino', 'ASP.NET', 'Atom', 'Awesome Lists', 'Amazon Web Services', 'Azure', 'Babel', 'Bash', 'Bitcoin', 'Bootstrap', 'Bot', 'C', 'Chrome', 'Chrome extension', 'Command line interface', 'Clojure', 'Code quality', 'Code review', 'Compiler', 'Continuous integration', 'COVID-19', 'C++']\n"
     ]
    }
   ],
   "source": [
    "topic_titles=[]\n",
    "for i in p_tags:\n",
    "    topic_titles.append(i.text)\n",
    "print(topic_titles)"
   ]
  },
  {
   "cell_type": "code",
   "execution_count": 32,
   "id": "e0abbcfb",
   "metadata": {},
   "outputs": [
    {
     "data": {
      "text/plain": [
       "['          3D refers to the use of three-dimensional graphics, modeling, and animation in various industries',\n",
       " '          Ajax is a technique for creating interactive web applications',\n",
       " '          Algorithms are self-contained sequences that carry out a variety of tasks',\n",
       " '          Amp is a non-blocking concurrency library for PHP',\n",
       " '          Android is an operating system built by Google designed for mobile devices']"
      ]
     },
     "execution_count": 32,
     "metadata": {},
     "output_type": "execute_result"
    }
   ],
   "source": [
    "topic_des[:5]"
   ]
  },
  {
   "cell_type": "code",
   "execution_count": 33,
   "id": "dc12eda1",
   "metadata": {},
   "outputs": [
    {
     "data": {
      "text/plain": [
       "<p class=\"f5 color-fg-muted mb-0 mt-1\">\n",
       "          3D refers to the use of three-dimensional graphics, modeling, and animation in various industries.\n",
       "        </p>"
      ]
     },
     "execution_count": 33,
     "metadata": {},
     "output_type": "execute_result"
    }
   ],
   "source": [
    "p_tags_descr[0]"
   ]
  },
  {
   "cell_type": "code",
   "execution_count": 34,
   "id": "995fc7a7",
   "metadata": {},
   "outputs": [
    {
     "name": "stdout",
     "output_type": "stream",
     "text": [
      "['3D refers to the use of three-dimensional graphics, modeling, and animation in various industries.', 'Ajax is a technique for creating interactive web applications.', 'Algorithms are self-contained sequences that carry out a variety of tasks.', 'Amp is a non-blocking concurrency library for PHP.', 'Android is an operating system built by Google designed for mobile devices.']\n"
     ]
    }
   ],
   "source": [
    "topic_des=[]\n",
    "for i in p_tags_descr:\n",
    "    topic_des.append(i.text.strip())#strip()-removes any space in text\n",
    "print(topic_des[:5])"
   ]
  },
  {
   "cell_type": "code",
   "execution_count": 35,
   "id": "c0d1692f",
   "metadata": {},
   "outputs": [],
   "source": [
    "topic_url=soup.find_all('a',class_='no-underline flex-1 d-flex flex-column')"
   ]
  },
  {
   "cell_type": "code",
   "execution_count": 36,
   "id": "426dbf41",
   "metadata": {},
   "outputs": [
    {
     "data": {
      "text/plain": [
       "[<a class=\"no-underline flex-1 d-flex flex-column\" href=\"/topics/3d\">\n",
       " <p class=\"f3 lh-condensed mb-0 mt-1 Link--primary\">3D</p>\n",
       " <p class=\"f5 color-fg-muted mb-0 mt-1\">\n",
       "           3D refers to the use of three-dimensional graphics, modeling, and animation in various industries.\n",
       "         </p>\n",
       " </a>,\n",
       " <a class=\"no-underline flex-1 d-flex flex-column\" href=\"/topics/ajax\">\n",
       " <p class=\"f3 lh-condensed mb-0 mt-1 Link--primary\">Ajax</p>\n",
       " <p class=\"f5 color-fg-muted mb-0 mt-1\">\n",
       "           Ajax is a technique for creating interactive web applications.\n",
       "         </p>\n",
       " </a>]"
      ]
     },
     "execution_count": 36,
     "metadata": {},
     "output_type": "execute_result"
    }
   ],
   "source": [
    "topic_url[:2]"
   ]
  },
  {
   "cell_type": "code",
   "execution_count": 37,
   "id": "b7094021",
   "metadata": {},
   "outputs": [
    {
     "data": {
      "text/plain": [
       "'/topics/3d'"
      ]
     },
     "execution_count": 37,
     "metadata": {},
     "output_type": "execute_result"
    }
   ],
   "source": [
    "topic_url[0]['href']"
   ]
  },
  {
   "cell_type": "code",
   "execution_count": 38,
   "id": "0d1128ef",
   "metadata": {},
   "outputs": [
    {
     "data": {
      "text/plain": [
       "'https://github.com/topics/3d'"
      ]
     },
     "execution_count": 38,
     "metadata": {},
     "output_type": "execute_result"
    }
   ],
   "source": [
    "topic_url_3d=\"https://github.com\"+topic_url[0]['href']\n",
    "topic_url_3d #use print function to get url highlight"
   ]
  },
  {
   "cell_type": "code",
   "execution_count": 39,
   "id": "585519ba",
   "metadata": {},
   "outputs": [
    {
     "name": "stdout",
     "output_type": "stream",
     "text": [
      "https://github.com/topics/3d\n"
     ]
    }
   ],
   "source": [
    "print(topic_url_3d)"
   ]
  },
  {
   "cell_type": "code",
   "execution_count": 40,
   "id": "8e5190b6",
   "metadata": {},
   "outputs": [
    {
     "name": "stdout",
     "output_type": "stream",
     "text": [
      "['https://github.com/topics/3d', 'https://github.com/topics/ajax', 'https://github.com/topics/algorithm', 'https://github.com/topics/amphp', 'https://github.com/topics/android', 'https://github.com/topics/angular', 'https://github.com/topics/ansible', 'https://github.com/topics/api', 'https://github.com/topics/arduino', 'https://github.com/topics/aspnet', 'https://github.com/topics/atom', 'https://github.com/topics/awesome', 'https://github.com/topics/aws', 'https://github.com/topics/azure', 'https://github.com/topics/babel', 'https://github.com/topics/bash', 'https://github.com/topics/bitcoin', 'https://github.com/topics/bootstrap', 'https://github.com/topics/bot', 'https://github.com/topics/c', 'https://github.com/topics/chrome', 'https://github.com/topics/chrome-extension', 'https://github.com/topics/cli', 'https://github.com/topics/clojure', 'https://github.com/topics/code-quality', 'https://github.com/topics/code-review', 'https://github.com/topics/compiler', 'https://github.com/topics/continuous-integration', 'https://github.com/topics/covid-19', 'https://github.com/topics/cpp']\n"
     ]
    }
   ],
   "source": [
    "topic_urls=[]\n",
    "for i in topic_url:\n",
    "    topic_urls.append('https://github.com'+i['href'])\n",
    "print(topic_urls)"
   ]
  },
  {
   "cell_type": "code",
   "execution_count": 41,
   "id": "e0f8b9a8",
   "metadata": {},
   "outputs": [
    {
     "data": {
      "text/plain": [
       "['https://github.com/topics/3d',\n",
       " 'https://github.com/topics/ajax',\n",
       " 'https://github.com/topics/algorithm',\n",
       " 'https://github.com/topics/amphp',\n",
       " 'https://github.com/topics/android',\n",
       " 'https://github.com/topics/angular',\n",
       " 'https://github.com/topics/ansible',\n",
       " 'https://github.com/topics/api',\n",
       " 'https://github.com/topics/arduino',\n",
       " 'https://github.com/topics/aspnet',\n",
       " 'https://github.com/topics/atom',\n",
       " 'https://github.com/topics/awesome',\n",
       " 'https://github.com/topics/aws',\n",
       " 'https://github.com/topics/azure',\n",
       " 'https://github.com/topics/babel',\n",
       " 'https://github.com/topics/bash',\n",
       " 'https://github.com/topics/bitcoin',\n",
       " 'https://github.com/topics/bootstrap',\n",
       " 'https://github.com/topics/bot',\n",
       " 'https://github.com/topics/c',\n",
       " 'https://github.com/topics/chrome',\n",
       " 'https://github.com/topics/chrome-extension',\n",
       " 'https://github.com/topics/cli',\n",
       " 'https://github.com/topics/clojure',\n",
       " 'https://github.com/topics/code-quality',\n",
       " 'https://github.com/topics/code-review',\n",
       " 'https://github.com/topics/compiler',\n",
       " 'https://github.com/topics/continuous-integration',\n",
       " 'https://github.com/topics/covid-19',\n",
       " 'https://github.com/topics/cpp']"
      ]
     },
     "execution_count": 41,
     "metadata": {},
     "output_type": "execute_result"
    }
   ],
   "source": [
    "topic_urls=[]\n",
    "base_url='https://github.com'\n",
    "for i in topic_url:\n",
    "    topic_urls.append(base_url+i['href'])\n",
    "topic_urls"
   ]
  },
  {
   "cell_type": "code",
   "execution_count": 42,
   "id": "54a9b896",
   "metadata": {},
   "outputs": [
    {
     "data": {
      "text/plain": [
       "30"
      ]
     },
     "execution_count": 42,
     "metadata": {},
     "output_type": "execute_result"
    }
   ],
   "source": [
    "len(topic_urls)"
   ]
  },
  {
   "cell_type": "code",
   "execution_count": 43,
   "id": "59d5b81a",
   "metadata": {},
   "outputs": [],
   "source": [
    "import pandas"
   ]
  },
  {
   "cell_type": "code",
   "execution_count": 44,
   "id": "a7f87bf8",
   "metadata": {},
   "outputs": [
    {
     "data": {
      "application/javascript": [
       "\n",
       "        if (window._pyforest_update_imports_cell) { window._pyforest_update_imports_cell('import pandas as pd'); }\n",
       "    "
      ],
      "text/plain": [
       "<IPython.core.display.Javascript object>"
      ]
     },
     "metadata": {},
     "output_type": "display_data"
    }
   ],
   "source": [
    "topic_dataset=pd.DataFrame({'Title':topic_titles,'Description':topic_des,'Url':topic_urls})"
   ]
  },
  {
   "cell_type": "code",
   "execution_count": 45,
   "id": "92f3dcef",
   "metadata": {},
   "outputs": [
    {
     "data": {
      "text/html": [
       "<div>\n",
       "<style scoped>\n",
       "    .dataframe tbody tr th:only-of-type {\n",
       "        vertical-align: middle;\n",
       "    }\n",
       "\n",
       "    .dataframe tbody tr th {\n",
       "        vertical-align: top;\n",
       "    }\n",
       "\n",
       "    .dataframe thead th {\n",
       "        text-align: right;\n",
       "    }\n",
       "</style>\n",
       "<table border=\"1\" class=\"dataframe\">\n",
       "  <thead>\n",
       "    <tr style=\"text-align: right;\">\n",
       "      <th></th>\n",
       "      <th>Title</th>\n",
       "      <th>Description</th>\n",
       "      <th>Url</th>\n",
       "    </tr>\n",
       "  </thead>\n",
       "  <tbody>\n",
       "    <tr>\n",
       "      <th>0</th>\n",
       "      <td>3D</td>\n",
       "      <td>3D refers to the use of three-dimensional grap...</td>\n",
       "      <td>https://github.com/topics/3d</td>\n",
       "    </tr>\n",
       "    <tr>\n",
       "      <th>1</th>\n",
       "      <td>Ajax</td>\n",
       "      <td>Ajax is a technique for creating interactive w...</td>\n",
       "      <td>https://github.com/topics/ajax</td>\n",
       "    </tr>\n",
       "    <tr>\n",
       "      <th>2</th>\n",
       "      <td>Algorithm</td>\n",
       "      <td>Algorithms are self-contained sequences that c...</td>\n",
       "      <td>https://github.com/topics/algorithm</td>\n",
       "    </tr>\n",
       "    <tr>\n",
       "      <th>3</th>\n",
       "      <td>Amp</td>\n",
       "      <td>Amp is a non-blocking concurrency library for ...</td>\n",
       "      <td>https://github.com/topics/amphp</td>\n",
       "    </tr>\n",
       "    <tr>\n",
       "      <th>4</th>\n",
       "      <td>Android</td>\n",
       "      <td>Android is an operating system built by Google...</td>\n",
       "      <td>https://github.com/topics/android</td>\n",
       "    </tr>\n",
       "  </tbody>\n",
       "</table>\n",
       "</div>"
      ],
      "text/plain": [
       "       Title                                        Description  \\\n",
       "0         3D  3D refers to the use of three-dimensional grap...   \n",
       "1       Ajax  Ajax is a technique for creating interactive w...   \n",
       "2  Algorithm  Algorithms are self-contained sequences that c...   \n",
       "3        Amp  Amp is a non-blocking concurrency library for ...   \n",
       "4    Android  Android is an operating system built by Google...   \n",
       "\n",
       "                                   Url  \n",
       "0         https://github.com/topics/3d  \n",
       "1       https://github.com/topics/ajax  \n",
       "2  https://github.com/topics/algorithm  \n",
       "3      https://github.com/topics/amphp  \n",
       "4    https://github.com/topics/android  "
      ]
     },
     "execution_count": 45,
     "metadata": {},
     "output_type": "execute_result"
    }
   ],
   "source": [
    "topic_dataset.head()"
   ]
  },
  {
   "cell_type": "code",
   "execution_count": 46,
   "id": "606fd088",
   "metadata": {},
   "outputs": [],
   "source": [
    "topic_dataset.to_csv('Topic.csv')"
   ]
  },
  {
   "cell_type": "markdown",
   "id": "49723cc2",
   "metadata": {},
   "source": [
    "#### Getting information out of a topic_url"
   ]
  },
  {
   "cell_type": "markdown",
   "id": "3061afda",
   "metadata": {},
   "source": [
    "#### 3D"
   ]
  },
  {
   "cell_type": "code",
   "execution_count": 47,
   "id": "8e481c17",
   "metadata": {},
   "outputs": [],
   "source": [
    "Topic_page_url=topic_urls[0]"
   ]
  },
  {
   "cell_type": "code",
   "execution_count": 48,
   "id": "849c589d",
   "metadata": {},
   "outputs": [
    {
     "data": {
      "text/plain": [
       "'https://github.com/topics/3d'"
      ]
     },
     "execution_count": 48,
     "metadata": {},
     "output_type": "execute_result"
    }
   ],
   "source": [
    "Topic_page_url"
   ]
  },
  {
   "cell_type": "code",
   "execution_count": 49,
   "id": "f1254ddb",
   "metadata": {},
   "outputs": [],
   "source": [
    "response=requests.get(Topic_page_url)"
   ]
  },
  {
   "cell_type": "code",
   "execution_count": 50,
   "id": "d7a2f6ba",
   "metadata": {},
   "outputs": [],
   "source": [
    "topic_3d_soup=BeautifulSoup(response.content,'lxml')"
   ]
  },
  {
   "cell_type": "code",
   "execution_count": 51,
   "id": "dc3d83ac",
   "metadata": {},
   "outputs": [],
   "source": [
    "username=topic_3d_soup.find_all('h3',class_='f3 color-fg-muted text-normal lh-condensed')"
   ]
  },
  {
   "cell_type": "code",
   "execution_count": 52,
   "id": "5dda87df",
   "metadata": {},
   "outputs": [
    {
     "data": {
      "text/plain": [
       "<h3 class=\"f3 color-fg-muted text-normal lh-condensed\">\n",
       "<a class=\"Link\" data-hydro-click='{\"event_type\":\"explore.click\",\"payload\":{\"click_context\":\"REPOSITORY_CARD\",\"click_target\":\"OWNER\",\"click_visual_representation\":\"REPOSITORY_OWNER_HEADING\",\"actor_id\":null,\"record_id\":97088,\"originating_url\":\"https://github.com/topics/3d\",\"user_id\":null}}' data-hydro-click-hmac=\"4bdbc49d3c05ae7f70b531fbce709a384200b0768554e0172950286a8db30940\" data-turbo=\"false\" data-view-component=\"true\" href=\"/mrdoob\">\n",
       "            mrdoob\n",
       "</a>          /\n",
       "          <a class=\"Link text-bold wb-break-word\" data-hydro-click='{\"event_type\":\"explore.click\",\"payload\":{\"click_context\":\"REPOSITORY_CARD\",\"click_target\":\"REPOSITORY\",\"click_visual_representation\":\"REPOSITORY_NAME_HEADING\",\"actor_id\":null,\"record_id\":576201,\"originating_url\":\"https://github.com/topics/3d\",\"user_id\":null}}' data-hydro-click-hmac=\"517d3d5cb9d89752156923904a4238816bc9b51ab7772f3e3644ce897d8dd4e5\" data-turbo=\"false\" data-view-component=\"true\" href=\"/mrdoob/three.js\">\n",
       "            three.js\n",
       "</a> </h3>"
      ]
     },
     "execution_count": 52,
     "metadata": {},
     "output_type": "execute_result"
    }
   ],
   "source": [
    "username[0]"
   ]
  },
  {
   "cell_type": "code",
   "execution_count": 53,
   "id": "094a0a8e",
   "metadata": {},
   "outputs": [],
   "source": [
    "a_tag=username[0].find_all('a')"
   ]
  },
  {
   "cell_type": "code",
   "execution_count": 54,
   "id": "06fc0ade",
   "metadata": {},
   "outputs": [
    {
     "data": {
      "text/plain": [
       "[<a class=\"Link\" data-hydro-click='{\"event_type\":\"explore.click\",\"payload\":{\"click_context\":\"REPOSITORY_CARD\",\"click_target\":\"OWNER\",\"click_visual_representation\":\"REPOSITORY_OWNER_HEADING\",\"actor_id\":null,\"record_id\":97088,\"originating_url\":\"https://github.com/topics/3d\",\"user_id\":null}}' data-hydro-click-hmac=\"4bdbc49d3c05ae7f70b531fbce709a384200b0768554e0172950286a8db30940\" data-turbo=\"false\" data-view-component=\"true\" href=\"/mrdoob\">\n",
       "             mrdoob\n",
       " </a>,\n",
       " <a class=\"Link text-bold wb-break-word\" data-hydro-click='{\"event_type\":\"explore.click\",\"payload\":{\"click_context\":\"REPOSITORY_CARD\",\"click_target\":\"REPOSITORY\",\"click_visual_representation\":\"REPOSITORY_NAME_HEADING\",\"actor_id\":null,\"record_id\":576201,\"originating_url\":\"https://github.com/topics/3d\",\"user_id\":null}}' data-hydro-click-hmac=\"517d3d5cb9d89752156923904a4238816bc9b51ab7772f3e3644ce897d8dd4e5\" data-turbo=\"false\" data-view-component=\"true\" href=\"/mrdoob/three.js\">\n",
       "             three.js\n",
       " </a>]"
      ]
     },
     "execution_count": 54,
     "metadata": {},
     "output_type": "execute_result"
    }
   ],
   "source": [
    "a_tag"
   ]
  },
  {
   "cell_type": "code",
   "execution_count": 55,
   "id": "e92cc25b",
   "metadata": {},
   "outputs": [
    {
     "data": {
      "text/plain": [
       "'mrdoob'"
      ]
     },
     "execution_count": 55,
     "metadata": {},
     "output_type": "execute_result"
    }
   ],
   "source": [
    "a_tag[0].text.strip()"
   ]
  },
  {
   "cell_type": "code",
   "execution_count": 56,
   "id": "85c26f2c",
   "metadata": {},
   "outputs": [
    {
     "data": {
      "text/plain": [
       "'three.js'"
      ]
     },
     "execution_count": 56,
     "metadata": {},
     "output_type": "execute_result"
    }
   ],
   "source": [
    "a_tag[1].text.strip()"
   ]
  },
  {
   "cell_type": "code",
   "execution_count": 57,
   "id": "df0a4b8f",
   "metadata": {},
   "outputs": [
    {
     "data": {
      "text/plain": [
       "<a class=\"Link text-bold wb-break-word\" data-hydro-click='{\"event_type\":\"explore.click\",\"payload\":{\"click_context\":\"REPOSITORY_CARD\",\"click_target\":\"REPOSITORY\",\"click_visual_representation\":\"REPOSITORY_NAME_HEADING\",\"actor_id\":null,\"record_id\":576201,\"originating_url\":\"https://github.com/topics/3d\",\"user_id\":null}}' data-hydro-click-hmac=\"517d3d5cb9d89752156923904a4238816bc9b51ab7772f3e3644ce897d8dd4e5\" data-turbo=\"false\" data-view-component=\"true\" href=\"/mrdoob/three.js\">\n",
       "            three.js\n",
       "</a>"
      ]
     },
     "execution_count": 57,
     "metadata": {},
     "output_type": "execute_result"
    }
   ],
   "source": [
    "a_tag[1]"
   ]
  },
  {
   "cell_type": "code",
   "execution_count": 58,
   "id": "f64e5bd7",
   "metadata": {},
   "outputs": [
    {
     "data": {
      "text/plain": [
       "'/mrdoob/three.js'"
      ]
     },
     "execution_count": 58,
     "metadata": {},
     "output_type": "execute_result"
    }
   ],
   "source": [
    "a_tag[1]['href']"
   ]
  },
  {
   "cell_type": "code",
   "execution_count": 59,
   "id": "53e16c3a",
   "metadata": {},
   "outputs": [
    {
     "name": "stdout",
     "output_type": "stream",
     "text": [
      "https://github.com/mrdoob/three.js\n"
     ]
    }
   ],
   "source": [
    "base_url='https://github.com'\n",
    "repo_url=base_url+a_tag[1]['href']\n",
    "print(repo_url)"
   ]
  },
  {
   "cell_type": "code",
   "execution_count": 60,
   "id": "c6196af3",
   "metadata": {},
   "outputs": [
    {
     "data": {
      "text/plain": [
       "'https://github.com/mrdoob/three.js'"
      ]
     },
     "execution_count": 60,
     "metadata": {},
     "output_type": "execute_result"
    }
   ],
   "source": [
    "repo_url"
   ]
  },
  {
   "cell_type": "code",
   "execution_count": 61,
   "id": "7ec4c229",
   "metadata": {},
   "outputs": [],
   "source": [
    "star_3d=topic_3d_soup.find_all('span',class_='Counter js-social-count')"
   ]
  },
  {
   "cell_type": "code",
   "execution_count": 62,
   "id": "e40e9cac",
   "metadata": {},
   "outputs": [
    {
     "data": {
      "text/plain": [
       "'93.4k'"
      ]
     },
     "execution_count": 62,
     "metadata": {},
     "output_type": "execute_result"
    }
   ],
   "source": [
    "star_3d[0].text.strip()"
   ]
  },
  {
   "cell_type": "code",
   "execution_count": 63,
   "id": "7e320543",
   "metadata": {},
   "outputs": [],
   "source": [
    "def parse_star_count(star_str):\n",
    "    star_str=star_str.strip()\n",
    "    if star_str[-1]=='k':\n",
    "        return int(float(star_str[:-1])*1000)\n",
    "    return int(star_str)"
   ]
  },
  {
   "cell_type": "code",
   "execution_count": 64,
   "id": "4d19993b",
   "metadata": {},
   "outputs": [
    {
     "data": {
      "text/plain": [
       "93400"
      ]
     },
     "execution_count": 64,
     "metadata": {},
     "output_type": "execute_result"
    }
   ],
   "source": [
    "parse_star_count(star_3d[0].text)"
   ]
  },
  {
   "cell_type": "code",
   "execution_count": 65,
   "id": "48ca6c60",
   "metadata": {},
   "outputs": [],
   "source": [
    "def repo_info(username,stars):\n",
    "    a_tag=username.find_all('a')\n",
    "    username=a_tag[0].text.strip()\n",
    "    repo_name=a_tag[1].text.strip()\n",
    "    repo_url=base_url+a_tag[1]['href']\n",
    "    star_rating=parse_star_count(stars.text.strip())\n",
    "    return username,repo_name,star_rating,repo_url"
   ]
  },
  {
   "cell_type": "code",
   "execution_count": 66,
   "id": "311244da",
   "metadata": {},
   "outputs": [
    {
     "data": {
      "text/plain": [
       "('pmndrs',\n",
       " 'react-three-fiber',\n",
       " 23300,\n",
       " 'https://github.com/pmndrs/react-three-fiber')"
      ]
     },
     "execution_count": 66,
     "metadata": {},
     "output_type": "execute_result"
    }
   ],
   "source": [
    "repo_info(username[1],star_3d[1])"
   ]
  },
  {
   "cell_type": "code",
   "execution_count": 67,
   "id": "2a7d7c5e",
   "metadata": {},
   "outputs": [
    {
     "data": {
      "text/plain": [
       "{'username': ['mrdoob',\n",
       "  'pmndrs',\n",
       "  'libgdx',\n",
       "  'BabylonJS',\n",
       "  'ssloy',\n",
       "  'lettier',\n",
       "  'aframevr',\n",
       "  'FreeCAD',\n",
       "  'CesiumGS',\n",
       "  'metafizzy',\n",
       "  'isl-org',\n",
       "  'blender',\n",
       "  'timzhang642',\n",
       "  'a1studmuffin',\n",
       "  'domlysz',\n",
       "  'FyroxEngine',\n",
       "  'nerfstudio-project',\n",
       "  'google',\n",
       "  'openscad',\n",
       "  'spritejs'],\n",
       " 'repo_name': ['three.js',\n",
       "  'react-three-fiber',\n",
       "  'libgdx',\n",
       "  'Babylon.js',\n",
       "  'tinyrenderer',\n",
       "  '3d-game-shaders-for-beginners',\n",
       "  'aframe',\n",
       "  'FreeCAD',\n",
       "  'cesium',\n",
       "  'zdog',\n",
       "  'Open3D',\n",
       "  'blender',\n",
       "  '3D-Machine-Learning',\n",
       "  'SpaceshipGenerator',\n",
       "  'BlenderGIS',\n",
       "  'Fyrox',\n",
       "  'nerfstudio',\n",
       "  'model-viewer',\n",
       "  'openscad',\n",
       "  'spritejs'],\n",
       " 'star': [93400,\n",
       "  23300,\n",
       "  21700,\n",
       "  21100,\n",
       "  17500,\n",
       "  15800,\n",
       "  15600,\n",
       "  14600,\n",
       "  10700,\n",
       "  10000,\n",
       "  9200,\n",
       "  9000,\n",
       "  9000,\n",
       "  7400,\n",
       "  6500,\n",
       "  6400,\n",
       "  5900,\n",
       "  5800,\n",
       "  5700,\n",
       "  5200],\n",
       " 'url': ['https://github.com/mrdoob/three.js',\n",
       "  'https://github.com/pmndrs/react-three-fiber',\n",
       "  'https://github.com/libgdx/libgdx',\n",
       "  'https://github.com/BabylonJS/Babylon.js',\n",
       "  'https://github.com/ssloy/tinyrenderer',\n",
       "  'https://github.com/lettier/3d-game-shaders-for-beginners',\n",
       "  'https://github.com/aframevr/aframe',\n",
       "  'https://github.com/FreeCAD/FreeCAD',\n",
       "  'https://github.com/CesiumGS/cesium',\n",
       "  'https://github.com/metafizzy/zdog',\n",
       "  'https://github.com/isl-org/Open3D',\n",
       "  'https://github.com/blender/blender',\n",
       "  'https://github.com/timzhang642/3D-Machine-Learning',\n",
       "  'https://github.com/a1studmuffin/SpaceshipGenerator',\n",
       "  'https://github.com/domlysz/BlenderGIS',\n",
       "  'https://github.com/FyroxEngine/Fyrox',\n",
       "  'https://github.com/nerfstudio-project/nerfstudio',\n",
       "  'https://github.com/google/model-viewer',\n",
       "  'https://github.com/openscad/openscad',\n",
       "  'https://github.com/spritejs/spritejs']}"
      ]
     },
     "execution_count": 67,
     "metadata": {},
     "output_type": "execute_result"
    }
   ],
   "source": [
    "topic_data={'username':[],'repo_name':[],'star':[],'url':[]}\n",
    "for i in range(len(username)):\n",
    "    repo_info_3d=repo_info(username[i],star_3d[i])\n",
    "    topic_data['username'].append(repo_info_3d[0])\n",
    "    topic_data['repo_name'].append(repo_info_3d[1])\n",
    "    topic_data['star'].append(repo_info_3d[2])\n",
    "    topic_data['url'].append(repo_info_3d[3])\n",
    "topic_data"
   ]
  },
  {
   "cell_type": "code",
   "execution_count": 68,
   "id": "35c77f3c",
   "metadata": {},
   "outputs": [],
   "source": [
    "import pandas as pd"
   ]
  },
  {
   "cell_type": "code",
   "execution_count": 69,
   "id": "1cabfa69",
   "metadata": {},
   "outputs": [],
   "source": [
    "dataset=pd.DataFrame(topic_data)"
   ]
  },
  {
   "cell_type": "code",
   "execution_count": 70,
   "id": "58dea21d",
   "metadata": {},
   "outputs": [
    {
     "data": {
      "text/html": [
       "<div>\n",
       "<style scoped>\n",
       "    .dataframe tbody tr th:only-of-type {\n",
       "        vertical-align: middle;\n",
       "    }\n",
       "\n",
       "    .dataframe tbody tr th {\n",
       "        vertical-align: top;\n",
       "    }\n",
       "\n",
       "    .dataframe thead th {\n",
       "        text-align: right;\n",
       "    }\n",
       "</style>\n",
       "<table border=\"1\" class=\"dataframe\">\n",
       "  <thead>\n",
       "    <tr style=\"text-align: right;\">\n",
       "      <th></th>\n",
       "      <th>username</th>\n",
       "      <th>repo_name</th>\n",
       "      <th>star</th>\n",
       "      <th>url</th>\n",
       "    </tr>\n",
       "  </thead>\n",
       "  <tbody>\n",
       "    <tr>\n",
       "      <th>0</th>\n",
       "      <td>mrdoob</td>\n",
       "      <td>three.js</td>\n",
       "      <td>93400</td>\n",
       "      <td>https://github.com/mrdoob/three.js</td>\n",
       "    </tr>\n",
       "    <tr>\n",
       "      <th>1</th>\n",
       "      <td>pmndrs</td>\n",
       "      <td>react-three-fiber</td>\n",
       "      <td>23300</td>\n",
       "      <td>https://github.com/pmndrs/react-three-fiber</td>\n",
       "    </tr>\n",
       "    <tr>\n",
       "      <th>2</th>\n",
       "      <td>libgdx</td>\n",
       "      <td>libgdx</td>\n",
       "      <td>21700</td>\n",
       "      <td>https://github.com/libgdx/libgdx</td>\n",
       "    </tr>\n",
       "    <tr>\n",
       "      <th>3</th>\n",
       "      <td>BabylonJS</td>\n",
       "      <td>Babylon.js</td>\n",
       "      <td>21100</td>\n",
       "      <td>https://github.com/BabylonJS/Babylon.js</td>\n",
       "    </tr>\n",
       "    <tr>\n",
       "      <th>4</th>\n",
       "      <td>ssloy</td>\n",
       "      <td>tinyrenderer</td>\n",
       "      <td>17500</td>\n",
       "      <td>https://github.com/ssloy/tinyrenderer</td>\n",
       "    </tr>\n",
       "    <tr>\n",
       "      <th>5</th>\n",
       "      <td>lettier</td>\n",
       "      <td>3d-game-shaders-for-beginners</td>\n",
       "      <td>15800</td>\n",
       "      <td>https://github.com/lettier/3d-game-shaders-for...</td>\n",
       "    </tr>\n",
       "    <tr>\n",
       "      <th>6</th>\n",
       "      <td>aframevr</td>\n",
       "      <td>aframe</td>\n",
       "      <td>15600</td>\n",
       "      <td>https://github.com/aframevr/aframe</td>\n",
       "    </tr>\n",
       "    <tr>\n",
       "      <th>7</th>\n",
       "      <td>FreeCAD</td>\n",
       "      <td>FreeCAD</td>\n",
       "      <td>14600</td>\n",
       "      <td>https://github.com/FreeCAD/FreeCAD</td>\n",
       "    </tr>\n",
       "    <tr>\n",
       "      <th>8</th>\n",
       "      <td>CesiumGS</td>\n",
       "      <td>cesium</td>\n",
       "      <td>10700</td>\n",
       "      <td>https://github.com/CesiumGS/cesium</td>\n",
       "    </tr>\n",
       "    <tr>\n",
       "      <th>9</th>\n",
       "      <td>metafizzy</td>\n",
       "      <td>zdog</td>\n",
       "      <td>10000</td>\n",
       "      <td>https://github.com/metafizzy/zdog</td>\n",
       "    </tr>\n",
       "    <tr>\n",
       "      <th>10</th>\n",
       "      <td>isl-org</td>\n",
       "      <td>Open3D</td>\n",
       "      <td>9200</td>\n",
       "      <td>https://github.com/isl-org/Open3D</td>\n",
       "    </tr>\n",
       "    <tr>\n",
       "      <th>11</th>\n",
       "      <td>blender</td>\n",
       "      <td>blender</td>\n",
       "      <td>9000</td>\n",
       "      <td>https://github.com/blender/blender</td>\n",
       "    </tr>\n",
       "    <tr>\n",
       "      <th>12</th>\n",
       "      <td>timzhang642</td>\n",
       "      <td>3D-Machine-Learning</td>\n",
       "      <td>9000</td>\n",
       "      <td>https://github.com/timzhang642/3D-Machine-Lear...</td>\n",
       "    </tr>\n",
       "    <tr>\n",
       "      <th>13</th>\n",
       "      <td>a1studmuffin</td>\n",
       "      <td>SpaceshipGenerator</td>\n",
       "      <td>7400</td>\n",
       "      <td>https://github.com/a1studmuffin/SpaceshipGener...</td>\n",
       "    </tr>\n",
       "    <tr>\n",
       "      <th>14</th>\n",
       "      <td>domlysz</td>\n",
       "      <td>BlenderGIS</td>\n",
       "      <td>6500</td>\n",
       "      <td>https://github.com/domlysz/BlenderGIS</td>\n",
       "    </tr>\n",
       "    <tr>\n",
       "      <th>15</th>\n",
       "      <td>FyroxEngine</td>\n",
       "      <td>Fyrox</td>\n",
       "      <td>6400</td>\n",
       "      <td>https://github.com/FyroxEngine/Fyrox</td>\n",
       "    </tr>\n",
       "    <tr>\n",
       "      <th>16</th>\n",
       "      <td>nerfstudio-project</td>\n",
       "      <td>nerfstudio</td>\n",
       "      <td>5900</td>\n",
       "      <td>https://github.com/nerfstudio-project/nerfstudio</td>\n",
       "    </tr>\n",
       "    <tr>\n",
       "      <th>17</th>\n",
       "      <td>google</td>\n",
       "      <td>model-viewer</td>\n",
       "      <td>5800</td>\n",
       "      <td>https://github.com/google/model-viewer</td>\n",
       "    </tr>\n",
       "    <tr>\n",
       "      <th>18</th>\n",
       "      <td>openscad</td>\n",
       "      <td>openscad</td>\n",
       "      <td>5700</td>\n",
       "      <td>https://github.com/openscad/openscad</td>\n",
       "    </tr>\n",
       "    <tr>\n",
       "      <th>19</th>\n",
       "      <td>spritejs</td>\n",
       "      <td>spritejs</td>\n",
       "      <td>5200</td>\n",
       "      <td>https://github.com/spritejs/spritejs</td>\n",
       "    </tr>\n",
       "  </tbody>\n",
       "</table>\n",
       "</div>"
      ],
      "text/plain": [
       "              username                      repo_name   star  \\\n",
       "0               mrdoob                       three.js  93400   \n",
       "1               pmndrs              react-three-fiber  23300   \n",
       "2               libgdx                         libgdx  21700   \n",
       "3            BabylonJS                     Babylon.js  21100   \n",
       "4                ssloy                   tinyrenderer  17500   \n",
       "5              lettier  3d-game-shaders-for-beginners  15800   \n",
       "6             aframevr                         aframe  15600   \n",
       "7              FreeCAD                        FreeCAD  14600   \n",
       "8             CesiumGS                         cesium  10700   \n",
       "9            metafizzy                           zdog  10000   \n",
       "10             isl-org                         Open3D   9200   \n",
       "11             blender                        blender   9000   \n",
       "12         timzhang642            3D-Machine-Learning   9000   \n",
       "13        a1studmuffin             SpaceshipGenerator   7400   \n",
       "14             domlysz                     BlenderGIS   6500   \n",
       "15         FyroxEngine                          Fyrox   6400   \n",
       "16  nerfstudio-project                     nerfstudio   5900   \n",
       "17              google                   model-viewer   5800   \n",
       "18            openscad                       openscad   5700   \n",
       "19            spritejs                       spritejs   5200   \n",
       "\n",
       "                                                  url  \n",
       "0                  https://github.com/mrdoob/three.js  \n",
       "1         https://github.com/pmndrs/react-three-fiber  \n",
       "2                    https://github.com/libgdx/libgdx  \n",
       "3             https://github.com/BabylonJS/Babylon.js  \n",
       "4               https://github.com/ssloy/tinyrenderer  \n",
       "5   https://github.com/lettier/3d-game-shaders-for...  \n",
       "6                  https://github.com/aframevr/aframe  \n",
       "7                  https://github.com/FreeCAD/FreeCAD  \n",
       "8                  https://github.com/CesiumGS/cesium  \n",
       "9                   https://github.com/metafizzy/zdog  \n",
       "10                  https://github.com/isl-org/Open3D  \n",
       "11                 https://github.com/blender/blender  \n",
       "12  https://github.com/timzhang642/3D-Machine-Lear...  \n",
       "13  https://github.com/a1studmuffin/SpaceshipGener...  \n",
       "14              https://github.com/domlysz/BlenderGIS  \n",
       "15               https://github.com/FyroxEngine/Fyrox  \n",
       "16   https://github.com/nerfstudio-project/nerfstudio  \n",
       "17             https://github.com/google/model-viewer  \n",
       "18               https://github.com/openscad/openscad  \n",
       "19               https://github.com/spritejs/spritejs  "
      ]
     },
     "execution_count": 70,
     "metadata": {},
     "output_type": "execute_result"
    }
   ],
   "source": [
    "dataset"
   ]
  },
  {
   "cell_type": "code",
   "execution_count": 71,
   "id": "f790f9c1",
   "metadata": {},
   "outputs": [],
   "source": [
    "dataset.to_csv('3d_topic.csv')"
   ]
  },
  {
   "cell_type": "markdown",
   "id": "bc41dbd5",
   "metadata": {},
   "source": [
    "#### ajax"
   ]
  },
  {
   "cell_type": "code",
   "execution_count": 72,
   "id": "487658b9",
   "metadata": {},
   "outputs": [
    {
     "data": {
      "text/plain": [
       "'https://github.com/topics/ajax'"
      ]
     },
     "execution_count": 72,
     "metadata": {},
     "output_type": "execute_result"
    }
   ],
   "source": [
    "topic_urls[1]"
   ]
  },
  {
   "cell_type": "code",
   "execution_count": 73,
   "id": "bd81660f",
   "metadata": {},
   "outputs": [],
   "source": [
    "topic_ajax=topic_urls[1]"
   ]
  },
  {
   "cell_type": "code",
   "execution_count": 74,
   "id": "94c3be00",
   "metadata": {},
   "outputs": [],
   "source": [
    "import requests"
   ]
  },
  {
   "cell_type": "code",
   "execution_count": 75,
   "id": "9a968b0c",
   "metadata": {},
   "outputs": [],
   "source": [
    "response=requests.get(topic_ajax)"
   ]
  },
  {
   "cell_type": "code",
   "execution_count": 76,
   "id": "f1263139",
   "metadata": {},
   "outputs": [],
   "source": [
    "from bs4 import BeautifulSoup"
   ]
  },
  {
   "cell_type": "code",
   "execution_count": 77,
   "id": "d4c30130",
   "metadata": {},
   "outputs": [],
   "source": [
    "Topic_ajax=BeautifulSoup(response.content,'lxml')"
   ]
  },
  {
   "cell_type": "code",
   "execution_count": 78,
   "id": "2823a6a3",
   "metadata": {},
   "outputs": [],
   "source": [
    "ajax_tag=Topic_ajax.find_all('h3',class_='f3 color-fg-muted text-normal lh-condensed')"
   ]
  },
  {
   "cell_type": "code",
   "execution_count": 79,
   "id": "893cb75d",
   "metadata": {},
   "outputs": [
    {
     "data": {
      "text/plain": [
       "<h3 class=\"f3 color-fg-muted text-normal lh-condensed\">\n",
       "<a class=\"Link\" data-hydro-click='{\"event_type\":\"explore.click\",\"payload\":{\"click_context\":\"REPOSITORY_CARD\",\"click_target\":\"OWNER\",\"click_visual_representation\":\"REPOSITORY_OWNER_HEADING\",\"actor_id\":null,\"record_id\":36322912,\"originating_url\":\"https://github.com/topics/ajax\",\"user_id\":null}}' data-hydro-click-hmac=\"9074acd8ed677416751ed4a6a8764f616627f58efec6a83519e500c62fe3c738\" data-turbo=\"false\" data-view-component=\"true\" href=\"/ljianshu\">\n",
       "            ljianshu\n",
       "</a>          /\n",
       "          <a class=\"Link text-bold wb-break-word\" data-hydro-click='{\"event_type\":\"explore.click\",\"payload\":{\"click_context\":\"REPOSITORY_CARD\",\"click_target\":\"REPOSITORY\",\"click_visual_representation\":\"REPOSITORY_NAME_HEADING\",\"actor_id\":null,\"record_id\":137582912,\"originating_url\":\"https://github.com/topics/ajax\",\"user_id\":null}}' data-hydro-click-hmac=\"5f285461b513fd5a20b16ea1e5d33b4a0a01a278ae2357647e16b2f4938e9dfc\" data-turbo=\"false\" data-view-component=\"true\" href=\"/ljianshu/Blog\">\n",
       "            Blog\n",
       "</a> </h3>"
      ]
     },
     "execution_count": 79,
     "metadata": {},
     "output_type": "execute_result"
    }
   ],
   "source": [
    "ajax_tag[0]"
   ]
  },
  {
   "cell_type": "code",
   "execution_count": 80,
   "id": "59855f16",
   "metadata": {},
   "outputs": [
    {
     "data": {
      "text/plain": [
       "[<a class=\"Link\" data-hydro-click='{\"event_type\":\"explore.click\",\"payload\":{\"click_context\":\"REPOSITORY_CARD\",\"click_target\":\"OWNER\",\"click_visual_representation\":\"REPOSITORY_OWNER_HEADING\",\"actor_id\":null,\"record_id\":36322912,\"originating_url\":\"https://github.com/topics/ajax\",\"user_id\":null}}' data-hydro-click-hmac=\"9074acd8ed677416751ed4a6a8764f616627f58efec6a83519e500c62fe3c738\" data-turbo=\"false\" data-view-component=\"true\" href=\"/ljianshu\">\n",
       "             ljianshu\n",
       " </a>,\n",
       " <a class=\"Link text-bold wb-break-word\" data-hydro-click='{\"event_type\":\"explore.click\",\"payload\":{\"click_context\":\"REPOSITORY_CARD\",\"click_target\":\"REPOSITORY\",\"click_visual_representation\":\"REPOSITORY_NAME_HEADING\",\"actor_id\":null,\"record_id\":137582912,\"originating_url\":\"https://github.com/topics/ajax\",\"user_id\":null}}' data-hydro-click-hmac=\"5f285461b513fd5a20b16ea1e5d33b4a0a01a278ae2357647e16b2f4938e9dfc\" data-turbo=\"false\" data-view-component=\"true\" href=\"/ljianshu/Blog\">\n",
       "             Blog\n",
       " </a>]"
      ]
     },
     "execution_count": 80,
     "metadata": {},
     "output_type": "execute_result"
    }
   ],
   "source": [
    "ajax_topic=ajax_tag[0].find_all('a')\n",
    "ajax_topic"
   ]
  },
  {
   "cell_type": "code",
   "execution_count": 81,
   "id": "c2624358",
   "metadata": {},
   "outputs": [
    {
     "data": {
      "text/plain": [
       "'ljianshu'"
      ]
     },
     "execution_count": 81,
     "metadata": {},
     "output_type": "execute_result"
    }
   ],
   "source": [
    "ajax_username=ajax_topic[0].text.strip()\n",
    "ajax_username"
   ]
  },
  {
   "cell_type": "code",
   "execution_count": 82,
   "id": "b337bbcf",
   "metadata": {},
   "outputs": [
    {
     "data": {
      "text/plain": [
       "'Blog'"
      ]
     },
     "execution_count": 82,
     "metadata": {},
     "output_type": "execute_result"
    }
   ],
   "source": [
    "ajax_repo_name=ajax_topic[1].text.strip()\n",
    "ajax_repo_name"
   ]
  },
  {
   "cell_type": "code",
   "execution_count": 83,
   "id": "5e6420d6",
   "metadata": {},
   "outputs": [
    {
     "data": {
      "text/plain": [
       "<a class=\"Link text-bold wb-break-word\" data-hydro-click='{\"event_type\":\"explore.click\",\"payload\":{\"click_context\":\"REPOSITORY_CARD\",\"click_target\":\"REPOSITORY\",\"click_visual_representation\":\"REPOSITORY_NAME_HEADING\",\"actor_id\":null,\"record_id\":137582912,\"originating_url\":\"https://github.com/topics/ajax\",\"user_id\":null}}' data-hydro-click-hmac=\"5f285461b513fd5a20b16ea1e5d33b4a0a01a278ae2357647e16b2f4938e9dfc\" data-turbo=\"false\" data-view-component=\"true\" href=\"/ljianshu/Blog\">\n",
       "            Blog\n",
       "</a>"
      ]
     },
     "execution_count": 83,
     "metadata": {},
     "output_type": "execute_result"
    }
   ],
   "source": [
    "ajax_topic[1]"
   ]
  },
  {
   "cell_type": "code",
   "execution_count": 84,
   "id": "6d47adca",
   "metadata": {},
   "outputs": [
    {
     "data": {
      "text/plain": [
       "'/ljianshu/Blog'"
      ]
     },
     "execution_count": 84,
     "metadata": {},
     "output_type": "execute_result"
    }
   ],
   "source": [
    "ajax_topic[1]['href']"
   ]
  },
  {
   "cell_type": "code",
   "execution_count": 85,
   "id": "1cd3be65",
   "metadata": {},
   "outputs": [
    {
     "data": {
      "text/plain": [
       "'https://github.com//ljianshu/Blog'"
      ]
     },
     "execution_count": 85,
     "metadata": {},
     "output_type": "execute_result"
    }
   ],
   "source": [
    "base_url='https://github.com/'\n",
    "repo_url=base_url+ajax_topic[1]['href']\n",
    "repo_url"
   ]
  },
  {
   "cell_type": "code",
   "execution_count": 86,
   "id": "8de4b398",
   "metadata": {},
   "outputs": [],
   "source": [
    "stars=Topic_ajax.find_all('span',class_='Counter js-social-count')"
   ]
  },
  {
   "cell_type": "code",
   "execution_count": 87,
   "id": "5765a6a9",
   "metadata": {},
   "outputs": [
    {
     "data": {
      "text/plain": [
       "'7.7k'"
      ]
     },
     "execution_count": 87,
     "metadata": {},
     "output_type": "execute_result"
    }
   ],
   "source": [
    "stars[0].text"
   ]
  },
  {
   "cell_type": "code",
   "execution_count": 88,
   "id": "2d9f916d",
   "metadata": {},
   "outputs": [],
   "source": [
    "def star_rating(star_str):\n",
    "    star_str.strip()\n",
    "    if star_str[-1]=='k':\n",
    "        return int(float(star_str[:-1])*1000)\n",
    "    return int(star_str)"
   ]
  },
  {
   "cell_type": "code",
   "execution_count": 89,
   "id": "dae86af2",
   "metadata": {},
   "outputs": [
    {
     "data": {
      "text/plain": [
       "7300"
      ]
     },
     "execution_count": 89,
     "metadata": {},
     "output_type": "execute_result"
    }
   ],
   "source": [
    "star=star_rating(stars[1].text)\n",
    "star"
   ]
  },
  {
   "cell_type": "code",
   "execution_count": 90,
   "id": "d0ec8188",
   "metadata": {},
   "outputs": [],
   "source": [
    "def topic_info(ajax_tag,stars):\n",
    "    ajax_topic=ajax_tag.find_all('a')\n",
    "    username=ajax_topic[0].text.strip()\n",
    "    repo_name=ajax_topic[1].text.strip()\n",
    "    url='https://github.com/'+ajax_topic[1]['href']\n",
    "    star=star_rating(stars.text)\n",
    "    return username,repo_name,url,star"
   ]
  },
  {
   "cell_type": "code",
   "execution_count": 91,
   "id": "eececa4d",
   "metadata": {},
   "outputs": [
    {
     "data": {
      "text/plain": [
       "('ljianshu', 'Blog', 'https://github.com//ljianshu/Blog', 7700)"
      ]
     },
     "execution_count": 91,
     "metadata": {},
     "output_type": "execute_result"
    }
   ],
   "source": [
    "topic_info(ajax_tag[0],stars[0])"
   ]
  },
  {
   "cell_type": "code",
   "execution_count": 92,
   "id": "4f829d67",
   "metadata": {},
   "outputs": [
    {
     "data": {
      "text/plain": [
       "{'username': ['ljianshu',\n",
       "  'metafizzy',\n",
       "  'developit',\n",
       "  'olifolkerd',\n",
       "  'jquery-form',\n",
       "  'Studio-42',\n",
       "  'elbywan',\n",
       "  'dwyl',\n",
       "  'ded',\n",
       "  'wendux',\n",
       "  'LeaVerou',\n",
       "  'noelboss',\n",
       "  'craftpip',\n",
       "  'taoensso',\n",
       "  'nette',\n",
       "  'loadingio',\n",
       "  'joaomilho',\n",
       "  'k8w',\n",
       "  'codingforentrepreneurs',\n",
       "  'u014427391'],\n",
       " 'repo_name': ['Blog',\n",
       "  'infinite-scroll',\n",
       "  'unfetch',\n",
       "  'tabulator',\n",
       "  'form',\n",
       "  'elFinder',\n",
       "  'wretch',\n",
       "  'learn-to-send-email-via-google-script-html-no-server',\n",
       "  'reqwest',\n",
       "  'ajax-hook',\n",
       "  'bliss',\n",
       "  'featherlight',\n",
       "  'jquery-confirm',\n",
       "  'sente',\n",
       "  'tracy',\n",
       "  'css-spinner',\n",
       "  'Enterprise',\n",
       "  'tsrpc',\n",
       "  'eCommerce',\n",
       "  'jeeplatform'],\n",
       " 'star_rating': [7700,\n",
       "  7300,\n",
       "  5600,\n",
       "  5600,\n",
       "  5200,\n",
       "  4500,\n",
       "  4100,\n",
       "  3000,\n",
       "  2900,\n",
       "  2400,\n",
       "  2400,\n",
       "  2100,\n",
       "  1800,\n",
       "  1700,\n",
       "  1700,\n",
       "  1600,\n",
       "  1600,\n",
       "  1600,\n",
       "  1400,\n",
       "  1400],\n",
       " 'url': ['https://github.com//ljianshu/Blog',\n",
       "  'https://github.com//metafizzy/infinite-scroll',\n",
       "  'https://github.com//developit/unfetch',\n",
       "  'https://github.com//olifolkerd/tabulator',\n",
       "  'https://github.com//jquery-form/form',\n",
       "  'https://github.com//Studio-42/elFinder',\n",
       "  'https://github.com//elbywan/wretch',\n",
       "  'https://github.com//dwyl/learn-to-send-email-via-google-script-html-no-server',\n",
       "  'https://github.com//ded/reqwest',\n",
       "  'https://github.com//wendux/ajax-hook',\n",
       "  'https://github.com//LeaVerou/bliss',\n",
       "  'https://github.com//noelboss/featherlight',\n",
       "  'https://github.com//craftpip/jquery-confirm',\n",
       "  'https://github.com//taoensso/sente',\n",
       "  'https://github.com//nette/tracy',\n",
       "  'https://github.com//loadingio/css-spinner',\n",
       "  'https://github.com//joaomilho/Enterprise',\n",
       "  'https://github.com//k8w/tsrpc',\n",
       "  'https://github.com//codingforentrepreneurs/eCommerce',\n",
       "  'https://github.com//u014427391/jeeplatform']}"
      ]
     },
     "execution_count": 92,
     "metadata": {},
     "output_type": "execute_result"
    }
   ],
   "source": [
    "Ajax_topic={'username':[],'repo_name':[],'star_rating':[],'url':[]}\n",
    "for i in range(len(ajax_tag)):\n",
    "    Topic_info=topic_info(ajax_tag[i],stars[i])\n",
    "    Ajax_topic['username'].append(Topic_info[0])\n",
    "    Ajax_topic['repo_name'].append(Topic_info[1])\n",
    "    Ajax_topic['star_rating'].append(Topic_info[3])\n",
    "    Ajax_topic['url'].append(Topic_info[2])\n",
    "Ajax_topic"
   ]
  },
  {
   "cell_type": "code",
   "execution_count": 93,
   "id": "ba3f6e32",
   "metadata": {},
   "outputs": [],
   "source": [
    "ajax_dataset=pd.DataFrame(Ajax_topic)"
   ]
  },
  {
   "cell_type": "code",
   "execution_count": 94,
   "id": "2f424734",
   "metadata": {},
   "outputs": [
    {
     "data": {
      "text/html": [
       "<div>\n",
       "<style scoped>\n",
       "    .dataframe tbody tr th:only-of-type {\n",
       "        vertical-align: middle;\n",
       "    }\n",
       "\n",
       "    .dataframe tbody tr th {\n",
       "        vertical-align: top;\n",
       "    }\n",
       "\n",
       "    .dataframe thead th {\n",
       "        text-align: right;\n",
       "    }\n",
       "</style>\n",
       "<table border=\"1\" class=\"dataframe\">\n",
       "  <thead>\n",
       "    <tr style=\"text-align: right;\">\n",
       "      <th></th>\n",
       "      <th>username</th>\n",
       "      <th>repo_name</th>\n",
       "      <th>star_rating</th>\n",
       "      <th>url</th>\n",
       "    </tr>\n",
       "  </thead>\n",
       "  <tbody>\n",
       "    <tr>\n",
       "      <th>0</th>\n",
       "      <td>ljianshu</td>\n",
       "      <td>Blog</td>\n",
       "      <td>7700</td>\n",
       "      <td>https://github.com//ljianshu/Blog</td>\n",
       "    </tr>\n",
       "    <tr>\n",
       "      <th>1</th>\n",
       "      <td>metafizzy</td>\n",
       "      <td>infinite-scroll</td>\n",
       "      <td>7300</td>\n",
       "      <td>https://github.com//metafizzy/infinite-scroll</td>\n",
       "    </tr>\n",
       "    <tr>\n",
       "      <th>2</th>\n",
       "      <td>developit</td>\n",
       "      <td>unfetch</td>\n",
       "      <td>5600</td>\n",
       "      <td>https://github.com//developit/unfetch</td>\n",
       "    </tr>\n",
       "    <tr>\n",
       "      <th>3</th>\n",
       "      <td>olifolkerd</td>\n",
       "      <td>tabulator</td>\n",
       "      <td>5600</td>\n",
       "      <td>https://github.com//olifolkerd/tabulator</td>\n",
       "    </tr>\n",
       "    <tr>\n",
       "      <th>4</th>\n",
       "      <td>jquery-form</td>\n",
       "      <td>form</td>\n",
       "      <td>5200</td>\n",
       "      <td>https://github.com//jquery-form/form</td>\n",
       "    </tr>\n",
       "    <tr>\n",
       "      <th>5</th>\n",
       "      <td>Studio-42</td>\n",
       "      <td>elFinder</td>\n",
       "      <td>4500</td>\n",
       "      <td>https://github.com//Studio-42/elFinder</td>\n",
       "    </tr>\n",
       "    <tr>\n",
       "      <th>6</th>\n",
       "      <td>elbywan</td>\n",
       "      <td>wretch</td>\n",
       "      <td>4100</td>\n",
       "      <td>https://github.com//elbywan/wretch</td>\n",
       "    </tr>\n",
       "    <tr>\n",
       "      <th>7</th>\n",
       "      <td>dwyl</td>\n",
       "      <td>learn-to-send-email-via-google-script-html-no-...</td>\n",
       "      <td>3000</td>\n",
       "      <td>https://github.com//dwyl/learn-to-send-email-v...</td>\n",
       "    </tr>\n",
       "    <tr>\n",
       "      <th>8</th>\n",
       "      <td>ded</td>\n",
       "      <td>reqwest</td>\n",
       "      <td>2900</td>\n",
       "      <td>https://github.com//ded/reqwest</td>\n",
       "    </tr>\n",
       "    <tr>\n",
       "      <th>9</th>\n",
       "      <td>wendux</td>\n",
       "      <td>ajax-hook</td>\n",
       "      <td>2400</td>\n",
       "      <td>https://github.com//wendux/ajax-hook</td>\n",
       "    </tr>\n",
       "    <tr>\n",
       "      <th>10</th>\n",
       "      <td>LeaVerou</td>\n",
       "      <td>bliss</td>\n",
       "      <td>2400</td>\n",
       "      <td>https://github.com//LeaVerou/bliss</td>\n",
       "    </tr>\n",
       "    <tr>\n",
       "      <th>11</th>\n",
       "      <td>noelboss</td>\n",
       "      <td>featherlight</td>\n",
       "      <td>2100</td>\n",
       "      <td>https://github.com//noelboss/featherlight</td>\n",
       "    </tr>\n",
       "    <tr>\n",
       "      <th>12</th>\n",
       "      <td>craftpip</td>\n",
       "      <td>jquery-confirm</td>\n",
       "      <td>1800</td>\n",
       "      <td>https://github.com//craftpip/jquery-confirm</td>\n",
       "    </tr>\n",
       "    <tr>\n",
       "      <th>13</th>\n",
       "      <td>taoensso</td>\n",
       "      <td>sente</td>\n",
       "      <td>1700</td>\n",
       "      <td>https://github.com//taoensso/sente</td>\n",
       "    </tr>\n",
       "    <tr>\n",
       "      <th>14</th>\n",
       "      <td>nette</td>\n",
       "      <td>tracy</td>\n",
       "      <td>1700</td>\n",
       "      <td>https://github.com//nette/tracy</td>\n",
       "    </tr>\n",
       "    <tr>\n",
       "      <th>15</th>\n",
       "      <td>loadingio</td>\n",
       "      <td>css-spinner</td>\n",
       "      <td>1600</td>\n",
       "      <td>https://github.com//loadingio/css-spinner</td>\n",
       "    </tr>\n",
       "    <tr>\n",
       "      <th>16</th>\n",
       "      <td>joaomilho</td>\n",
       "      <td>Enterprise</td>\n",
       "      <td>1600</td>\n",
       "      <td>https://github.com//joaomilho/Enterprise</td>\n",
       "    </tr>\n",
       "    <tr>\n",
       "      <th>17</th>\n",
       "      <td>k8w</td>\n",
       "      <td>tsrpc</td>\n",
       "      <td>1600</td>\n",
       "      <td>https://github.com//k8w/tsrpc</td>\n",
       "    </tr>\n",
       "    <tr>\n",
       "      <th>18</th>\n",
       "      <td>codingforentrepreneurs</td>\n",
       "      <td>eCommerce</td>\n",
       "      <td>1400</td>\n",
       "      <td>https://github.com//codingforentrepreneurs/eCo...</td>\n",
       "    </tr>\n",
       "    <tr>\n",
       "      <th>19</th>\n",
       "      <td>u014427391</td>\n",
       "      <td>jeeplatform</td>\n",
       "      <td>1400</td>\n",
       "      <td>https://github.com//u014427391/jeeplatform</td>\n",
       "    </tr>\n",
       "  </tbody>\n",
       "</table>\n",
       "</div>"
      ],
      "text/plain": [
       "                  username                                          repo_name  \\\n",
       "0                 ljianshu                                               Blog   \n",
       "1                metafizzy                                    infinite-scroll   \n",
       "2                developit                                            unfetch   \n",
       "3               olifolkerd                                          tabulator   \n",
       "4              jquery-form                                               form   \n",
       "5                Studio-42                                           elFinder   \n",
       "6                  elbywan                                             wretch   \n",
       "7                     dwyl  learn-to-send-email-via-google-script-html-no-...   \n",
       "8                      ded                                            reqwest   \n",
       "9                   wendux                                          ajax-hook   \n",
       "10                LeaVerou                                              bliss   \n",
       "11                noelboss                                       featherlight   \n",
       "12                craftpip                                     jquery-confirm   \n",
       "13                taoensso                                              sente   \n",
       "14                   nette                                              tracy   \n",
       "15               loadingio                                        css-spinner   \n",
       "16               joaomilho                                         Enterprise   \n",
       "17                     k8w                                              tsrpc   \n",
       "18  codingforentrepreneurs                                          eCommerce   \n",
       "19              u014427391                                        jeeplatform   \n",
       "\n",
       "    star_rating                                                url  \n",
       "0          7700                  https://github.com//ljianshu/Blog  \n",
       "1          7300      https://github.com//metafizzy/infinite-scroll  \n",
       "2          5600              https://github.com//developit/unfetch  \n",
       "3          5600           https://github.com//olifolkerd/tabulator  \n",
       "4          5200               https://github.com//jquery-form/form  \n",
       "5          4500             https://github.com//Studio-42/elFinder  \n",
       "6          4100                 https://github.com//elbywan/wretch  \n",
       "7          3000  https://github.com//dwyl/learn-to-send-email-v...  \n",
       "8          2900                    https://github.com//ded/reqwest  \n",
       "9          2400               https://github.com//wendux/ajax-hook  \n",
       "10         2400                 https://github.com//LeaVerou/bliss  \n",
       "11         2100          https://github.com//noelboss/featherlight  \n",
       "12         1800        https://github.com//craftpip/jquery-confirm  \n",
       "13         1700                 https://github.com//taoensso/sente  \n",
       "14         1700                    https://github.com//nette/tracy  \n",
       "15         1600          https://github.com//loadingio/css-spinner  \n",
       "16         1600           https://github.com//joaomilho/Enterprise  \n",
       "17         1600                      https://github.com//k8w/tsrpc  \n",
       "18         1400  https://github.com//codingforentrepreneurs/eCo...  \n",
       "19         1400         https://github.com//u014427391/jeeplatform  "
      ]
     },
     "execution_count": 94,
     "metadata": {},
     "output_type": "execute_result"
    }
   ],
   "source": [
    "ajax_dataset"
   ]
  },
  {
   "cell_type": "code",
   "execution_count": 95,
   "id": "719a5f49",
   "metadata": {},
   "outputs": [],
   "source": [
    "ajax_dataset.to_csv('ajax.csv')"
   ]
  },
  {
   "cell_type": "markdown",
   "id": "40362f16",
   "metadata": {},
   "source": [
    "#### algorithm"
   ]
  },
  {
   "cell_type": "code",
   "execution_count": 96,
   "id": "91b0bdc6",
   "metadata": {},
   "outputs": [],
   "source": [
    "def get_info(topic_tag,stars):\n",
    "    inner_topic_tag=topic_tag.find_all('a')\n",
    "    username=inner_topic_tag[0].text.strip()\n",
    "    repo_name=inner_topic_tag[1].text.strip()\n",
    "    url='https://github.com'+inner_topic_tag[1]['href']\n",
    "    star=star_rating(star_tag[i].text)\n",
    "    return username,repo_name,url,star"
   ]
  },
  {
   "cell_type": "code",
   "execution_count": 97,
   "id": "75a65d8a",
   "metadata": {},
   "outputs": [
    {
     "ename": "NameError",
     "evalue": "name 'topic_tag' is not defined",
     "output_type": "error",
     "traceback": [
      "\u001b[0;31m---------------------------------------------------------------------------\u001b[0m",
      "\u001b[0;31mNameError\u001b[0m                                 Traceback (most recent call last)",
      "Cell \u001b[0;32mIn[97], line 1\u001b[0m\n\u001b[0;32m----> 1\u001b[0m get_info(\u001b[43mtopic_tag\u001b[49m[\u001b[38;5;241m0\u001b[39m],stars[\u001b[38;5;241m0\u001b[39m])\n",
      "\u001b[0;31mNameError\u001b[0m: name 'topic_tag' is not defined"
     ]
    }
   ],
   "source": [
    "get_info(topic_tag[0],stars[0])"
   ]
  },
  {
   "cell_type": "code",
   "execution_count": null,
   "id": "86f7c9a9",
   "metadata": {},
   "outputs": [],
   "source": [
    "Algo_topic={'username':[],'repo_name':[],'star_rating':[],'url':[]}\n",
    "for i in range(len(topic_tag)):\n",
    "    Topic_info=get_info(topic_tag[i],stars[i])\n",
    "    Algo_topic['username'].append(Topic_info[0])\n",
    "    Algo_topic['repo_name'].append(Topic_info[1])\n",
    "    Algo_topic['star_rating'].append(Topic_info[3])\n",
    "    Algo_topic['url'].append(Topic_info[2])\n",
    "Algo_topic"
   ]
  },
  {
   "cell_type": "code",
   "execution_count": null,
   "id": "d26dee2f",
   "metadata": {},
   "outputs": [],
   "source": [
    "algo_dataset=pd.DataFrame(Algo_topic)\n",
    "algo_dataset"
   ]
  },
  {
   "cell_type": "code",
   "execution_count": null,
   "id": "917113c7",
   "metadata": {},
   "outputs": [],
   "source": [
    "algo_dataset.to_csv('Algorithm.csv')"
   ]
  },
  {
   "cell_type": "code",
   "execution_count": null,
   "id": "9cfe57e2",
   "metadata": {},
   "outputs": [],
   "source": [
    "topic_urls[3]"
   ]
  },
  {
   "cell_type": "code",
   "execution_count": null,
   "id": "b88fc953",
   "metadata": {},
   "outputs": [],
   "source": [
    "url=topic_urls[3]"
   ]
  },
  {
   "cell_type": "code",
   "execution_count": 102,
   "id": "13146c25",
   "metadata": {},
   "outputs": [],
   "source": [
    "import requests"
   ]
  },
  {
   "cell_type": "code",
   "execution_count": 103,
   "id": "c890c0d8",
   "metadata": {},
   "outputs": [],
   "source": [
    "response=requests.get(url)"
   ]
  },
  {
   "cell_type": "code",
   "execution_count": 104,
   "id": "29f3c4a1",
   "metadata": {},
   "outputs": [],
   "source": [
    "from bs4 import BeautifulSoup"
   ]
  },
  {
   "cell_type": "code",
   "execution_count": 105,
   "id": "b61765e6",
   "metadata": {},
   "outputs": [],
   "source": [
    "topic=BeautifulSoup(response.content,'lxml')"
   ]
  },
  {
   "cell_type": "code",
   "execution_count": null,
   "id": "cdc21530",
   "metadata": {},
   "outputs": [],
   "source": [
    "h_tag=topic.find_all('h3',class_='f3 color-fg-muted text-normal lh-condensed')\n",
    "h_tag[:1]"
   ]
  },
  {
   "cell_type": "code",
   "execution_count": null,
   "id": "72a19f53",
   "metadata": {},
   "outputs": [],
   "source": [
    "a_tag=h_tag[0].find_all('a')\n",
    "a_tag"
   ]
  },
  {
   "cell_type": "code",
   "execution_count": null,
   "id": "1df41756",
   "metadata": {},
   "outputs": [],
   "source": [
    "username=a_tag[0].text.strip()"
   ]
  },
  {
   "cell_type": "code",
   "execution_count": null,
   "id": "069006bf",
   "metadata": {},
   "outputs": [],
   "source": [
    "repo_name=a_tag[1].text.strip()"
   ]
  },
  {
   "cell_type": "code",
   "execution_count": null,
   "id": "3773e1b4",
   "metadata": {},
   "outputs": [],
   "source": [
    "a_tag[1]['href']"
   ]
  },
  {
   "cell_type": "code",
   "execution_count": null,
   "id": "99680462",
   "metadata": {},
   "outputs": [],
   "source": [
    "url=a_tag[1]['href']\n",
    "repo_url='https://github.com'+a_tag[1]['href']\n",
    "repo_url"
   ]
  },
  {
   "cell_type": "code",
   "execution_count": null,
   "id": "b21df52d",
   "metadata": {},
   "outputs": [],
   "source": [
    "star_tag=topic.find_all('span',class_='Counter js-social-count')"
   ]
  },
  {
   "cell_type": "code",
   "execution_count": null,
   "id": "489ffa3e",
   "metadata": {},
   "outputs": [],
   "source": [
    "star_tag[-1].text"
   ]
  },
  {
   "cell_type": "code",
   "execution_count": null,
   "id": "61ecd38b",
   "metadata": {},
   "outputs": [],
   "source": [
    "def get_stars(star_str):\n",
    "    star_str.strip()\n",
    "    if star_str[-1]=='k':\n",
    "        return int(float(star_str[:-1])*1000)\n",
    "    return int(star_str)"
   ]
  },
  {
   "cell_type": "code",
   "execution_count": null,
   "id": "579e61bf",
   "metadata": {},
   "outputs": [],
   "source": [
    "star_rating=get_stars(star_tag[1].text)"
   ]
  },
  {
   "cell_type": "code",
   "execution_count": null,
   "id": "738a5c9a",
   "metadata": {},
   "outputs": [],
   "source": [
    "star_rating"
   ]
  },
  {
   "cell_type": "code",
   "execution_count": 116,
   "id": "93837d95",
   "metadata": {},
   "outputs": [],
   "source": [
    "def get_topic_col(tag,star_tag):\n",
    "    a_tag=tag.find_all('a')\n",
    "    username=a_tag[0].text.strip()\n",
    "    repo_name=a_tag[1].text.strip()\n",
    "    repo_url='https://github.com'+a_tag[1]['href']\n",
    "    star_rating=get_stars(star_tag)\n",
    "    return username,repo_name,repo_url,star_rating"
   ]
  },
  {
   "cell_type": "code",
   "execution_count": 117,
   "id": "454b1d79",
   "metadata": {},
   "outputs": [
    {
     "ename": "NameError",
     "evalue": "name 'h_tag' is not defined",
     "output_type": "error",
     "traceback": [
      "\u001b[0;31m---------------------------------------------------------------------------\u001b[0m",
      "\u001b[0;31mNameError\u001b[0m                                 Traceback (most recent call last)",
      "Cell \u001b[0;32mIn[117], line 1\u001b[0m\n\u001b[0;32m----> 1\u001b[0m get_topic_col(\u001b[43mh_tag\u001b[49m[\u001b[38;5;241m0\u001b[39m],star_tag[\u001b[38;5;241m0\u001b[39m])\n",
      "\u001b[0;31mNameError\u001b[0m: name 'h_tag' is not defined"
     ]
    }
   ],
   "source": [
    "get_topic_col(h_tag[0],star_tag[0])"
   ]
  },
  {
   "cell_type": "code",
   "execution_count": null,
   "id": "7c4a7ad1",
   "metadata": {},
   "outputs": [],
   "source": [
    "cols=get_topic_col(h_tag[1],star_tag[1])"
   ]
  },
  {
   "cell_type": "code",
   "execution_count": null,
   "id": "d621075b",
   "metadata": {},
   "outputs": [],
   "source": [
    "cols[0]"
   ]
  },
  {
   "cell_type": "code",
   "execution_count": null,
   "id": "1ac21a06",
   "metadata": {},
   "outputs": [],
   "source": [
    "cols[1]"
   ]
  },
  {
   "cell_type": "code",
   "execution_count": null,
   "id": "bb233bcd",
   "metadata": {},
   "outputs": [],
   "source": [
    "Topics={'username':[],'repo_name':[],'repo_url':[],'star':[]}\n",
    "for i in range(len(h_tag)):\n",
    "    cols=get_topic_col(h_tag[i],star_tag[i])\n",
    "    Topics['username'].append(cols[0])\n",
    "    Topics['repo_name'].append(cols[1])\n",
    "    Topics['repo_url'].append(cols[2])\n",
    "    Topics['star'].append(cols[3])"
   ]
  },
  {
   "cell_type": "code",
   "execution_count": null,
   "id": "05735232",
   "metadata": {},
   "outputs": [],
   "source": [
    "topic_urls[:5]"
   ]
  },
  {
   "cell_type": "code",
   "execution_count": null,
   "id": "921677f2",
   "metadata": {},
   "outputs": [],
   "source": [
    "topic_urls[5]"
   ]
  },
  {
   "cell_type": "code",
   "execution_count": null,
   "id": "6669f2af",
   "metadata": {},
   "outputs": [],
   "source": [
    "url=topic_urls[0]"
   ]
  },
  {
   "cell_type": "code",
   "execution_count": null,
   "id": "b8dd61a8",
   "metadata": {},
   "outputs": [],
   "source": [
    "url"
   ]
  },
  {
   "cell_type": "code",
   "execution_count": 143,
   "id": "0b6b15ee",
   "metadata": {},
   "outputs": [],
   "source": [
    "def topic_doc(url):\n",
    "    response=requests.get(url)\n",
    "    if response.status_code!=200:\n",
    "        raise Exception\n",
    "    data=BeautifulSoup(response.content,'lxml')\n",
    "    return data\n",
    "\n",
    "\n",
    "def get_stars(star_tag):\n",
    "    star_tag.strip()\n",
    "    if star_tag[-1]=='k':\n",
    "        return int(float(star_tag[:-1])*1000)\n",
    "    return int(star_tag)\n",
    "\n",
    "\n",
    "def get_topic_col(h_tag,star_tag):\n",
    "    a_tag=h_tag.find_all('a')\n",
    "    username=a_tag[0].text.strip()\n",
    "    repo_name=a_tag[1].text.strip()\n",
    "    repo_url='https://github.com'+a_tag[1]['href']\n",
    "    star_rating=get_stars(star_tag.text.strip())\n",
    "    return username,repo_name,repo_url,star_rating\n",
    "\n",
    "\n",
    "def topic_link(data):\n",
    "    h_tag=data.find_all('h3',class_='f3 color-fg-muted text-normal lh-condensed')\n",
    "    star_tag=topic.find_all('span',class_='Counter js-social-count')\n",
    "    \n",
    "    \n",
    "    \n",
    "    Topics={'username':[],'repo_name':[],'rating':[],'repo_url':[]}\n",
    "    for i in range(len(h_tag)):\n",
    "        cols=get_topic_col(h_tag[i],star_tag[i])\n",
    "        Topics['username'].append(cols[0])\n",
    "        Topics['repo_name'].append(cols[1])\n",
    "        Topics['repo_url'].append(cols[2])\n",
    "        Topics['rating'].append(cols[3])\n",
    "    return pd.DataFrame(Topics)"
   ]
  },
  {
   "cell_type": "code",
   "execution_count": 147,
   "id": "697572d7",
   "metadata": {},
   "outputs": [],
   "source": [
    "url=topic_urls[1]"
   ]
  },
  {
   "cell_type": "code",
   "execution_count": 148,
   "id": "e6888485",
   "metadata": {},
   "outputs": [],
   "source": [
    "page_3d=topic_doc(url)"
   ]
  },
  {
   "cell_type": "code",
   "execution_count": 149,
   "id": "ed0b549d",
   "metadata": {},
   "outputs": [
    {
     "data": {
      "text/html": [
       "<div>\n",
       "<style scoped>\n",
       "    .dataframe tbody tr th:only-of-type {\n",
       "        vertical-align: middle;\n",
       "    }\n",
       "\n",
       "    .dataframe tbody tr th {\n",
       "        vertical-align: top;\n",
       "    }\n",
       "\n",
       "    .dataframe thead th {\n",
       "        text-align: right;\n",
       "    }\n",
       "</style>\n",
       "<table border=\"1\" class=\"dataframe\">\n",
       "  <thead>\n",
       "    <tr style=\"text-align: right;\">\n",
       "      <th></th>\n",
       "      <th>username</th>\n",
       "      <th>repo_name</th>\n",
       "      <th>rating</th>\n",
       "      <th>repo_url</th>\n",
       "    </tr>\n",
       "  </thead>\n",
       "  <tbody>\n",
       "    <tr>\n",
       "      <th>0</th>\n",
       "      <td>ljianshu</td>\n",
       "      <td>Blog</td>\n",
       "      <td>93400</td>\n",
       "      <td>https://github.com/ljianshu/Blog</td>\n",
       "    </tr>\n",
       "    <tr>\n",
       "      <th>1</th>\n",
       "      <td>metafizzy</td>\n",
       "      <td>infinite-scroll</td>\n",
       "      <td>23300</td>\n",
       "      <td>https://github.com/metafizzy/infinite-scroll</td>\n",
       "    </tr>\n",
       "    <tr>\n",
       "      <th>2</th>\n",
       "      <td>developit</td>\n",
       "      <td>unfetch</td>\n",
       "      <td>21700</td>\n",
       "      <td>https://github.com/developit/unfetch</td>\n",
       "    </tr>\n",
       "    <tr>\n",
       "      <th>3</th>\n",
       "      <td>olifolkerd</td>\n",
       "      <td>tabulator</td>\n",
       "      <td>21100</td>\n",
       "      <td>https://github.com/olifolkerd/tabulator</td>\n",
       "    </tr>\n",
       "    <tr>\n",
       "      <th>4</th>\n",
       "      <td>jquery-form</td>\n",
       "      <td>form</td>\n",
       "      <td>17500</td>\n",
       "      <td>https://github.com/jquery-form/form</td>\n",
       "    </tr>\n",
       "    <tr>\n",
       "      <th>5</th>\n",
       "      <td>Studio-42</td>\n",
       "      <td>elFinder</td>\n",
       "      <td>15800</td>\n",
       "      <td>https://github.com/Studio-42/elFinder</td>\n",
       "    </tr>\n",
       "    <tr>\n",
       "      <th>6</th>\n",
       "      <td>elbywan</td>\n",
       "      <td>wretch</td>\n",
       "      <td>15600</td>\n",
       "      <td>https://github.com/elbywan/wretch</td>\n",
       "    </tr>\n",
       "    <tr>\n",
       "      <th>7</th>\n",
       "      <td>dwyl</td>\n",
       "      <td>learn-to-send-email-via-google-script-html-no-...</td>\n",
       "      <td>14600</td>\n",
       "      <td>https://github.com/dwyl/learn-to-send-email-vi...</td>\n",
       "    </tr>\n",
       "    <tr>\n",
       "      <th>8</th>\n",
       "      <td>ded</td>\n",
       "      <td>reqwest</td>\n",
       "      <td>10700</td>\n",
       "      <td>https://github.com/ded/reqwest</td>\n",
       "    </tr>\n",
       "    <tr>\n",
       "      <th>9</th>\n",
       "      <td>wendux</td>\n",
       "      <td>ajax-hook</td>\n",
       "      <td>10000</td>\n",
       "      <td>https://github.com/wendux/ajax-hook</td>\n",
       "    </tr>\n",
       "    <tr>\n",
       "      <th>10</th>\n",
       "      <td>LeaVerou</td>\n",
       "      <td>bliss</td>\n",
       "      <td>9200</td>\n",
       "      <td>https://github.com/LeaVerou/bliss</td>\n",
       "    </tr>\n",
       "    <tr>\n",
       "      <th>11</th>\n",
       "      <td>noelboss</td>\n",
       "      <td>featherlight</td>\n",
       "      <td>9000</td>\n",
       "      <td>https://github.com/noelboss/featherlight</td>\n",
       "    </tr>\n",
       "    <tr>\n",
       "      <th>12</th>\n",
       "      <td>craftpip</td>\n",
       "      <td>jquery-confirm</td>\n",
       "      <td>9000</td>\n",
       "      <td>https://github.com/craftpip/jquery-confirm</td>\n",
       "    </tr>\n",
       "    <tr>\n",
       "      <th>13</th>\n",
       "      <td>taoensso</td>\n",
       "      <td>sente</td>\n",
       "      <td>7400</td>\n",
       "      <td>https://github.com/taoensso/sente</td>\n",
       "    </tr>\n",
       "    <tr>\n",
       "      <th>14</th>\n",
       "      <td>nette</td>\n",
       "      <td>tracy</td>\n",
       "      <td>6500</td>\n",
       "      <td>https://github.com/nette/tracy</td>\n",
       "    </tr>\n",
       "    <tr>\n",
       "      <th>15</th>\n",
       "      <td>loadingio</td>\n",
       "      <td>css-spinner</td>\n",
       "      <td>6400</td>\n",
       "      <td>https://github.com/loadingio/css-spinner</td>\n",
       "    </tr>\n",
       "    <tr>\n",
       "      <th>16</th>\n",
       "      <td>joaomilho</td>\n",
       "      <td>Enterprise</td>\n",
       "      <td>5900</td>\n",
       "      <td>https://github.com/joaomilho/Enterprise</td>\n",
       "    </tr>\n",
       "    <tr>\n",
       "      <th>17</th>\n",
       "      <td>k8w</td>\n",
       "      <td>tsrpc</td>\n",
       "      <td>5800</td>\n",
       "      <td>https://github.com/k8w/tsrpc</td>\n",
       "    </tr>\n",
       "    <tr>\n",
       "      <th>18</th>\n",
       "      <td>codingforentrepreneurs</td>\n",
       "      <td>eCommerce</td>\n",
       "      <td>5700</td>\n",
       "      <td>https://github.com/codingforentrepreneurs/eCom...</td>\n",
       "    </tr>\n",
       "    <tr>\n",
       "      <th>19</th>\n",
       "      <td>u014427391</td>\n",
       "      <td>jeeplatform</td>\n",
       "      <td>5200</td>\n",
       "      <td>https://github.com/u014427391/jeeplatform</td>\n",
       "    </tr>\n",
       "  </tbody>\n",
       "</table>\n",
       "</div>"
      ],
      "text/plain": [
       "                  username                                          repo_name  \\\n",
       "0                 ljianshu                                               Blog   \n",
       "1                metafizzy                                    infinite-scroll   \n",
       "2                developit                                            unfetch   \n",
       "3               olifolkerd                                          tabulator   \n",
       "4              jquery-form                                               form   \n",
       "5                Studio-42                                           elFinder   \n",
       "6                  elbywan                                             wretch   \n",
       "7                     dwyl  learn-to-send-email-via-google-script-html-no-...   \n",
       "8                      ded                                            reqwest   \n",
       "9                   wendux                                          ajax-hook   \n",
       "10                LeaVerou                                              bliss   \n",
       "11                noelboss                                       featherlight   \n",
       "12                craftpip                                     jquery-confirm   \n",
       "13                taoensso                                              sente   \n",
       "14                   nette                                              tracy   \n",
       "15               loadingio                                        css-spinner   \n",
       "16               joaomilho                                         Enterprise   \n",
       "17                     k8w                                              tsrpc   \n",
       "18  codingforentrepreneurs                                          eCommerce   \n",
       "19              u014427391                                        jeeplatform   \n",
       "\n",
       "    rating                                           repo_url  \n",
       "0    93400                   https://github.com/ljianshu/Blog  \n",
       "1    23300       https://github.com/metafizzy/infinite-scroll  \n",
       "2    21700               https://github.com/developit/unfetch  \n",
       "3    21100            https://github.com/olifolkerd/tabulator  \n",
       "4    17500                https://github.com/jquery-form/form  \n",
       "5    15800              https://github.com/Studio-42/elFinder  \n",
       "6    15600                  https://github.com/elbywan/wretch  \n",
       "7    14600  https://github.com/dwyl/learn-to-send-email-vi...  \n",
       "8    10700                     https://github.com/ded/reqwest  \n",
       "9    10000                https://github.com/wendux/ajax-hook  \n",
       "10    9200                  https://github.com/LeaVerou/bliss  \n",
       "11    9000           https://github.com/noelboss/featherlight  \n",
       "12    9000         https://github.com/craftpip/jquery-confirm  \n",
       "13    7400                  https://github.com/taoensso/sente  \n",
       "14    6500                     https://github.com/nette/tracy  \n",
       "15    6400           https://github.com/loadingio/css-spinner  \n",
       "16    5900            https://github.com/joaomilho/Enterprise  \n",
       "17    5800                       https://github.com/k8w/tsrpc  \n",
       "18    5700  https://github.com/codingforentrepreneurs/eCom...  \n",
       "19    5200          https://github.com/u014427391/jeeplatform  "
      ]
     },
     "execution_count": 149,
     "metadata": {},
     "output_type": "execute_result"
    }
   ],
   "source": [
    "topic_link(page_3d)"
   ]
  },
  {
   "cell_type": "code",
   "execution_count": 183,
   "id": "8bf6d92d",
   "metadata": {},
   "outputs": [],
   "source": [
    "def topic_doc(url):\n",
    "    response=requests.get(url)\n",
    "    if response.status_code!=200:\n",
    "        raise Exception\n",
    "    data=BeautifulSoup(response.content,'lxml')\n",
    "    return data\n",
    "def get_stars(star_tag):\n",
    "    star_tag.strip()\n",
    "    if star_tag[-1]=='k':\n",
    "        return int(float(star_tag[:-1])*1000)\n",
    "    return int(star_tag)\n",
    "def get_topic_col(h_tag,star_tag):\n",
    "    a_tag=h_tag.find_all('a')\n",
    "    username=a_tag[0].text.strip()\n",
    "    repo_name=a_tag[1].text.strip()\n",
    "    repo_url='https://github.com'+a_tag[1]['href']\n",
    "    star_rating=get_stars(star_tag.text.strip())\n",
    "    return username,repo_name,repo_url,star_rating\n",
    "def topic_link(data):\n",
    "    h_tag=data.find_all('h3',class_='f3 color-fg-muted text-normal lh-condensed')\n",
    "    star_tag=topic.find_all('span',class_='Counter js-social-count')\n",
    "    return h_tag,star_tag"
   ]
  },
  {
   "cell_type": "code",
   "execution_count": 175,
   "id": "b6a8d4c4",
   "metadata": {},
   "outputs": [],
   "source": [
    "main_url=topic_urls[0]"
   ]
  },
  {
   "cell_type": "code",
   "execution_count": 176,
   "id": "596e76e1",
   "metadata": {},
   "outputs": [],
   "source": [
    "main_page=topic_doc(main_url)"
   ]
  },
  {
   "cell_type": "code",
   "execution_count": 177,
   "id": "38928d33",
   "metadata": {},
   "outputs": [
    {
     "data": {
      "text/html": [
       "<div>\n",
       "<style scoped>\n",
       "    .dataframe tbody tr th:only-of-type {\n",
       "        vertical-align: middle;\n",
       "    }\n",
       "\n",
       "    .dataframe tbody tr th {\n",
       "        vertical-align: top;\n",
       "    }\n",
       "\n",
       "    .dataframe thead th {\n",
       "        text-align: right;\n",
       "    }\n",
       "</style>\n",
       "<table border=\"1\" class=\"dataframe\">\n",
       "  <thead>\n",
       "    <tr style=\"text-align: right;\">\n",
       "      <th></th>\n",
       "      <th>username</th>\n",
       "      <th>repo_name</th>\n",
       "      <th>rating</th>\n",
       "      <th>repo_url</th>\n",
       "    </tr>\n",
       "  </thead>\n",
       "  <tbody>\n",
       "    <tr>\n",
       "      <th>0</th>\n",
       "      <td>mrdoob</td>\n",
       "      <td>three.js</td>\n",
       "      <td>93400</td>\n",
       "      <td>https://github.com/mrdoob/three.js</td>\n",
       "    </tr>\n",
       "    <tr>\n",
       "      <th>1</th>\n",
       "      <td>pmndrs</td>\n",
       "      <td>react-three-fiber</td>\n",
       "      <td>23300</td>\n",
       "      <td>https://github.com/pmndrs/react-three-fiber</td>\n",
       "    </tr>\n",
       "    <tr>\n",
       "      <th>2</th>\n",
       "      <td>libgdx</td>\n",
       "      <td>libgdx</td>\n",
       "      <td>21700</td>\n",
       "      <td>https://github.com/libgdx/libgdx</td>\n",
       "    </tr>\n",
       "    <tr>\n",
       "      <th>3</th>\n",
       "      <td>BabylonJS</td>\n",
       "      <td>Babylon.js</td>\n",
       "      <td>21100</td>\n",
       "      <td>https://github.com/BabylonJS/Babylon.js</td>\n",
       "    </tr>\n",
       "    <tr>\n",
       "      <th>4</th>\n",
       "      <td>ssloy</td>\n",
       "      <td>tinyrenderer</td>\n",
       "      <td>17500</td>\n",
       "      <td>https://github.com/ssloy/tinyrenderer</td>\n",
       "    </tr>\n",
       "    <tr>\n",
       "      <th>5</th>\n",
       "      <td>lettier</td>\n",
       "      <td>3d-game-shaders-for-beginners</td>\n",
       "      <td>15800</td>\n",
       "      <td>https://github.com/lettier/3d-game-shaders-for...</td>\n",
       "    </tr>\n",
       "    <tr>\n",
       "      <th>6</th>\n",
       "      <td>aframevr</td>\n",
       "      <td>aframe</td>\n",
       "      <td>15600</td>\n",
       "      <td>https://github.com/aframevr/aframe</td>\n",
       "    </tr>\n",
       "    <tr>\n",
       "      <th>7</th>\n",
       "      <td>FreeCAD</td>\n",
       "      <td>FreeCAD</td>\n",
       "      <td>14600</td>\n",
       "      <td>https://github.com/FreeCAD/FreeCAD</td>\n",
       "    </tr>\n",
       "    <tr>\n",
       "      <th>8</th>\n",
       "      <td>CesiumGS</td>\n",
       "      <td>cesium</td>\n",
       "      <td>10700</td>\n",
       "      <td>https://github.com/CesiumGS/cesium</td>\n",
       "    </tr>\n",
       "    <tr>\n",
       "      <th>9</th>\n",
       "      <td>metafizzy</td>\n",
       "      <td>zdog</td>\n",
       "      <td>10000</td>\n",
       "      <td>https://github.com/metafizzy/zdog</td>\n",
       "    </tr>\n",
       "    <tr>\n",
       "      <th>10</th>\n",
       "      <td>isl-org</td>\n",
       "      <td>Open3D</td>\n",
       "      <td>9200</td>\n",
       "      <td>https://github.com/isl-org/Open3D</td>\n",
       "    </tr>\n",
       "    <tr>\n",
       "      <th>11</th>\n",
       "      <td>blender</td>\n",
       "      <td>blender</td>\n",
       "      <td>9000</td>\n",
       "      <td>https://github.com/blender/blender</td>\n",
       "    </tr>\n",
       "    <tr>\n",
       "      <th>12</th>\n",
       "      <td>timzhang642</td>\n",
       "      <td>3D-Machine-Learning</td>\n",
       "      <td>9000</td>\n",
       "      <td>https://github.com/timzhang642/3D-Machine-Lear...</td>\n",
       "    </tr>\n",
       "    <tr>\n",
       "      <th>13</th>\n",
       "      <td>a1studmuffin</td>\n",
       "      <td>SpaceshipGenerator</td>\n",
       "      <td>7400</td>\n",
       "      <td>https://github.com/a1studmuffin/SpaceshipGener...</td>\n",
       "    </tr>\n",
       "    <tr>\n",
       "      <th>14</th>\n",
       "      <td>domlysz</td>\n",
       "      <td>BlenderGIS</td>\n",
       "      <td>6500</td>\n",
       "      <td>https://github.com/domlysz/BlenderGIS</td>\n",
       "    </tr>\n",
       "    <tr>\n",
       "      <th>15</th>\n",
       "      <td>FyroxEngine</td>\n",
       "      <td>Fyrox</td>\n",
       "      <td>6400</td>\n",
       "      <td>https://github.com/FyroxEngine/Fyrox</td>\n",
       "    </tr>\n",
       "    <tr>\n",
       "      <th>16</th>\n",
       "      <td>nerfstudio-project</td>\n",
       "      <td>nerfstudio</td>\n",
       "      <td>5900</td>\n",
       "      <td>https://github.com/nerfstudio-project/nerfstudio</td>\n",
       "    </tr>\n",
       "    <tr>\n",
       "      <th>17</th>\n",
       "      <td>google</td>\n",
       "      <td>model-viewer</td>\n",
       "      <td>5800</td>\n",
       "      <td>https://github.com/google/model-viewer</td>\n",
       "    </tr>\n",
       "    <tr>\n",
       "      <th>18</th>\n",
       "      <td>openscad</td>\n",
       "      <td>openscad</td>\n",
       "      <td>5700</td>\n",
       "      <td>https://github.com/openscad/openscad</td>\n",
       "    </tr>\n",
       "    <tr>\n",
       "      <th>19</th>\n",
       "      <td>spritejs</td>\n",
       "      <td>spritejs</td>\n",
       "      <td>5200</td>\n",
       "      <td>https://github.com/spritejs/spritejs</td>\n",
       "    </tr>\n",
       "  </tbody>\n",
       "</table>\n",
       "</div>"
      ],
      "text/plain": [
       "              username                      repo_name  rating  \\\n",
       "0               mrdoob                       three.js   93400   \n",
       "1               pmndrs              react-three-fiber   23300   \n",
       "2               libgdx                         libgdx   21700   \n",
       "3            BabylonJS                     Babylon.js   21100   \n",
       "4                ssloy                   tinyrenderer   17500   \n",
       "5              lettier  3d-game-shaders-for-beginners   15800   \n",
       "6             aframevr                         aframe   15600   \n",
       "7              FreeCAD                        FreeCAD   14600   \n",
       "8             CesiumGS                         cesium   10700   \n",
       "9            metafizzy                           zdog   10000   \n",
       "10             isl-org                         Open3D    9200   \n",
       "11             blender                        blender    9000   \n",
       "12         timzhang642            3D-Machine-Learning    9000   \n",
       "13        a1studmuffin             SpaceshipGenerator    7400   \n",
       "14             domlysz                     BlenderGIS    6500   \n",
       "15         FyroxEngine                          Fyrox    6400   \n",
       "16  nerfstudio-project                     nerfstudio    5900   \n",
       "17              google                   model-viewer    5800   \n",
       "18            openscad                       openscad    5700   \n",
       "19            spritejs                       spritejs    5200   \n",
       "\n",
       "                                             repo_url  \n",
       "0                  https://github.com/mrdoob/three.js  \n",
       "1         https://github.com/pmndrs/react-three-fiber  \n",
       "2                    https://github.com/libgdx/libgdx  \n",
       "3             https://github.com/BabylonJS/Babylon.js  \n",
       "4               https://github.com/ssloy/tinyrenderer  \n",
       "5   https://github.com/lettier/3d-game-shaders-for...  \n",
       "6                  https://github.com/aframevr/aframe  \n",
       "7                  https://github.com/FreeCAD/FreeCAD  \n",
       "8                  https://github.com/CesiumGS/cesium  \n",
       "9                   https://github.com/metafizzy/zdog  \n",
       "10                  https://github.com/isl-org/Open3D  \n",
       "11                 https://github.com/blender/blender  \n",
       "12  https://github.com/timzhang642/3D-Machine-Lear...  \n",
       "13  https://github.com/a1studmuffin/SpaceshipGener...  \n",
       "14              https://github.com/domlysz/BlenderGIS  \n",
       "15               https://github.com/FyroxEngine/Fyrox  \n",
       "16   https://github.com/nerfstudio-project/nerfstudio  \n",
       "17             https://github.com/google/model-viewer  \n",
       "18               https://github.com/openscad/openscad  \n",
       "19               https://github.com/spritejs/spritejs  "
      ]
     },
     "execution_count": 177,
     "metadata": {},
     "output_type": "execute_result"
    }
   ],
   "source": [
    "topic_link(main_page)"
   ]
  },
  {
   "cell_type": "code",
   "execution_count": 185,
   "id": "347dab52",
   "metadata": {},
   "outputs": [
    {
     "ename": "NameError",
     "evalue": "name 'h_tag' is not defined",
     "output_type": "error",
     "traceback": [
      "\u001b[0;31m---------------------------------------------------------------------------\u001b[0m",
      "\u001b[0;31mNameError\u001b[0m                                 Traceback (most recent call last)",
      "Cell \u001b[0;32mIn[185], line 2\u001b[0m\n\u001b[1;32m      1\u001b[0m Topics\u001b[38;5;241m=\u001b[39m{\u001b[38;5;124m'\u001b[39m\u001b[38;5;124musername\u001b[39m\u001b[38;5;124m'\u001b[39m:[],\u001b[38;5;124m'\u001b[39m\u001b[38;5;124mrepo_name\u001b[39m\u001b[38;5;124m'\u001b[39m:[],\u001b[38;5;124m'\u001b[39m\u001b[38;5;124mrating\u001b[39m\u001b[38;5;124m'\u001b[39m:[],\u001b[38;5;124m'\u001b[39m\u001b[38;5;124mrepo_url\u001b[39m\u001b[38;5;124m'\u001b[39m:[]}\n\u001b[0;32m----> 2\u001b[0m \u001b[38;5;28;01mfor\u001b[39;00m i \u001b[38;5;129;01min\u001b[39;00m \u001b[38;5;28mrange\u001b[39m(\u001b[38;5;28mlen\u001b[39m(\u001b[43mh_tag\u001b[49m)):\n\u001b[1;32m      3\u001b[0m     cols\u001b[38;5;241m=\u001b[39mget_topic_col(h_tag[i],star_tag[i])\n\u001b[1;32m      4\u001b[0m     Topics[\u001b[38;5;124m'\u001b[39m\u001b[38;5;124musername\u001b[39m\u001b[38;5;124m'\u001b[39m]\u001b[38;5;241m.\u001b[39mappend(cols[\u001b[38;5;241m0\u001b[39m])\n",
      "\u001b[0;31mNameError\u001b[0m: name 'h_tag' is not defined"
     ]
    }
   ],
   "source": [
    "Topics={'username':[],'repo_name':[],'rating':[],'repo_url':[]}\n",
    "for i in range(len(h_tag)):\n",
    "    cols=get_topic_col(h_tag[i],star_tag[i])\n",
    "    Topics['username'].append(cols[0])\n",
    "    Topics['repo_name'].append(cols[1])\n",
    "    Topics['repo_url'].append(cols[2])\n",
    "    Topics['rating'].append(cols[3])\n",
    "Topics"
   ]
  },
  {
   "cell_type": "code",
   "execution_count": null,
   "id": "93a51fb1",
   "metadata": {},
   "outputs": [],
   "source": []
  }
 ],
 "metadata": {
  "kernelspec": {
   "display_name": "Python 3 (ipykernel)",
   "language": "python",
   "name": "python3"
  },
  "language_info": {
   "codemirror_mode": {
    "name": "ipython",
    "version": 3
   },
   "file_extension": ".py",
   "mimetype": "text/x-python",
   "name": "python",
   "nbconvert_exporter": "python",
   "pygments_lexer": "ipython3",
   "version": "3.9.16"
  }
 },
 "nbformat": 4,
 "nbformat_minor": 5
}
