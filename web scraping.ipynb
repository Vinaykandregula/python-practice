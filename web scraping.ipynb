{
 "cells": [
  {
   "cell_type": "markdown",
   "id": "4e58618c",
   "metadata": {},
   "source": [
    "### Web Scraping\n",
    "\n",
    "web scraping is an automatic method to obtain large amounts of data from websites.\n",
    "\n",
    "most of this data is unstructured data in an HTML format which is then converted into structured data in a spreadsheet or a database so that it can be used in various application.\n",
    "\n",
    "#### How web scarping work?\n",
    "\n",
    "web scraper can extract all the data on particular sites or the specific data that a user wants. \n",
    "ideally, its best if you specify the data you want so that the web scraper only extracts that data quickly.\n",
    "\n",
    "#### what is web scraping used for?\n",
    "\n",
    "- price monitoring\n",
    "- market research\n",
    "- news monitoring\n",
    "- sentiment analysis\n",
    "- email analysis"
   ]
  },
  {
   "cell_type": "markdown",
   "id": "e738ec19",
   "metadata": {},
   "source": [
    "### Web scraping using Beautiful Soup\n",
    "\n",
    "To install beautiful soup-- pip install beautifulsoup4"
   ]
  },
  {
   "cell_type": "code",
   "execution_count": 1,
   "id": "da9c2309",
   "metadata": {},
   "outputs": [
    {
     "name": "stdout",
     "output_type": "stream",
     "text": [
      "Requirement already satisfied: beautifulsoup4 in /opt/anaconda3/lib/python3.9/site-packages (4.11.1)\n",
      "Requirement already satisfied: soupsieve>1.2 in /opt/anaconda3/lib/python3.9/site-packages (from beautifulsoup4) (2.3.2.post1)\n",
      "Note: you may need to restart the kernel to use updated packages.\n"
     ]
    }
   ],
   "source": [
    "pip install beautifulsoup4"
   ]
  },
  {
   "cell_type": "markdown",
   "id": "edcd785c",
   "metadata": {},
   "source": [
    "request library is used to take connection with website for web scraping"
   ]
  },
  {
   "cell_type": "code",
   "execution_count": 2,
   "id": "8debc942",
   "metadata": {},
   "outputs": [],
   "source": [
    "import requests"
   ]
  },
  {
   "cell_type": "code",
   "execution_count": 3,
   "id": "4c2dad2b",
   "metadata": {},
   "outputs": [],
   "source": [
    "url='https://quotes.toscrape.com/'"
   ]
  },
  {
   "cell_type": "code",
   "execution_count": 4,
   "id": "c8f98a0d",
   "metadata": {},
   "outputs": [],
   "source": [
    "response=requests.get(url)"
   ]
  },
  {
   "cell_type": "markdown",
   "id": "c51fa13c",
   "metadata": {},
   "source": [
    "To check whether the our requests is successful or not by using status code.\n",
    "\n",
    "request usually responds with status code 200 when it is successful"
   ]
  },
  {
   "cell_type": "code",
   "execution_count": 5,
   "id": "00294453",
   "metadata": {},
   "outputs": [
    {
     "data": {
      "text/plain": [
       "200"
      ]
     },
     "execution_count": 5,
     "metadata": {},
     "output_type": "execute_result"
    }
   ],
   "source": [
    "response.status_code"
   ]
  },
  {
   "cell_type": "code",
   "execution_count": 6,
   "id": "cb51223c",
   "metadata": {},
   "outputs": [],
   "source": [
    "from bs4 import BeautifulSoup"
   ]
  },
  {
   "cell_type": "markdown",
   "id": "c8684704",
   "metadata": {},
   "source": [
    "lxml is user-friendly as it can support broken html tags when compared to html"
   ]
  },
  {
   "cell_type": "code",
   "execution_count": 7,
   "id": "351426dd",
   "metadata": {},
   "outputs": [],
   "source": [
    "soup=BeautifulSoup(response.content,'lxml')"
   ]
  },
  {
   "cell_type": "code",
   "execution_count": 8,
   "id": "153a17bc",
   "metadata": {},
   "outputs": [],
   "source": [
    "quote=soup.find('span', class_ ='text')"
   ]
  },
  {
   "cell_type": "code",
   "execution_count": 9,
   "id": "e4334860",
   "metadata": {},
   "outputs": [
    {
     "data": {
      "text/plain": [
       "<span class=\"text\" itemprop=\"text\">“The world as we have created it is a process of our thinking. It cannot be changed without changing our thinking.”</span>"
      ]
     },
     "execution_count": 9,
     "metadata": {},
     "output_type": "execute_result"
    }
   ],
   "source": [
    "quote"
   ]
  },
  {
   "cell_type": "code",
   "execution_count": 10,
   "id": "c301b216",
   "metadata": {},
   "outputs": [
    {
     "data": {
      "text/plain": [
       "'“The world as we have created it is a process of our thinking. It cannot be changed without changing our thinking.”'"
      ]
     },
     "execution_count": 10,
     "metadata": {},
     "output_type": "execute_result"
    }
   ],
   "source": [
    "quote.text"
   ]
  },
  {
   "cell_type": "code",
   "execution_count": 11,
   "id": "19ad8b1d",
   "metadata": {},
   "outputs": [],
   "source": [
    "quotes=soup.find_all('span', class_ ='text')"
   ]
  },
  {
   "cell_type": "code",
   "execution_count": 12,
   "id": "95197098",
   "metadata": {},
   "outputs": [
    {
     "data": {
      "text/plain": [
       "[<span class=\"text\" itemprop=\"text\">“The world as we have created it is a process of our thinking. It cannot be changed without changing our thinking.”</span>,\n",
       " <span class=\"text\" itemprop=\"text\">“It is our choices, Harry, that show what we truly are, far more than our abilities.”</span>,\n",
       " <span class=\"text\" itemprop=\"text\">“There are only two ways to live your life. One is as though nothing is a miracle. The other is as though everything is a miracle.”</span>,\n",
       " <span class=\"text\" itemprop=\"text\">“The person, be it gentleman or lady, who has not pleasure in a good novel, must be intolerably stupid.”</span>,\n",
       " <span class=\"text\" itemprop=\"text\">“Imperfection is beauty, madness is genius and it's better to be absolutely ridiculous than absolutely boring.”</span>,\n",
       " <span class=\"text\" itemprop=\"text\">“Try not to become a man of success. Rather become a man of value.”</span>,\n",
       " <span class=\"text\" itemprop=\"text\">“It is better to be hated for what you are than to be loved for what you are not.”</span>,\n",
       " <span class=\"text\" itemprop=\"text\">“I have not failed. I've just found 10,000 ways that won't work.”</span>,\n",
       " <span class=\"text\" itemprop=\"text\">“A woman is like a tea bag; you never know how strong it is until it's in hot water.”</span>,\n",
       " <span class=\"text\" itemprop=\"text\">“A day without sunshine is like, you know, night.”</span>]"
      ]
     },
     "execution_count": 12,
     "metadata": {},
     "output_type": "execute_result"
    }
   ],
   "source": [
    "quotes"
   ]
  },
  {
   "cell_type": "code",
   "execution_count": 13,
   "id": "7d3e56e0",
   "metadata": {},
   "outputs": [],
   "source": [
    "quotes=[quote.text for quote in quotes]"
   ]
  },
  {
   "cell_type": "code",
   "execution_count": 14,
   "id": "7abe4601",
   "metadata": {},
   "outputs": [
    {
     "data": {
      "text/plain": [
       "['“The world as we have created it is a process of our thinking. It cannot be changed without changing our thinking.”',\n",
       " '“It is our choices, Harry, that show what we truly are, far more than our abilities.”',\n",
       " '“There are only two ways to live your life. One is as though nothing is a miracle. The other is as though everything is a miracle.”',\n",
       " '“The person, be it gentleman or lady, who has not pleasure in a good novel, must be intolerably stupid.”',\n",
       " \"“Imperfection is beauty, madness is genius and it's better to be absolutely ridiculous than absolutely boring.”\",\n",
       " '“Try not to become a man of success. Rather become a man of value.”',\n",
       " '“It is better to be hated for what you are than to be loved for what you are not.”',\n",
       " \"“I have not failed. I've just found 10,000 ways that won't work.”\",\n",
       " \"“A woman is like a tea bag; you never know how strong it is until it's in hot water.”\",\n",
       " '“A day without sunshine is like, you know, night.”']"
      ]
     },
     "execution_count": 14,
     "metadata": {},
     "output_type": "execute_result"
    }
   ],
   "source": [
    "quotes"
   ]
  },
  {
   "cell_type": "code",
   "execution_count": 15,
   "id": "be933d28",
   "metadata": {},
   "outputs": [
    {
     "data": {
      "text/plain": [
       "'“A day without sunshine is like, you know, night.”'"
      ]
     },
     "execution_count": 15,
     "metadata": {},
     "output_type": "execute_result"
    }
   ],
   "source": [
    "quotes[-1]"
   ]
  },
  {
   "cell_type": "markdown",
   "id": "21e4b397",
   "metadata": {},
   "source": [
    "To eliminate double quotes in string quote"
   ]
  },
  {
   "cell_type": "code",
   "execution_count": 16,
   "id": "d00e12b2",
   "metadata": {},
   "outputs": [
    {
     "data": {
      "text/plain": [
       "'A day without sunshine is like, you know, night.'"
      ]
     },
     "execution_count": 16,
     "metadata": {},
     "output_type": "execute_result"
    }
   ],
   "source": [
    "quotes[-1][1:-1]"
   ]
  },
  {
   "cell_type": "code",
   "execution_count": 17,
   "id": "e26a48ee",
   "metadata": {},
   "outputs": [
    {
     "ename": "AttributeError",
     "evalue": "'str' object has no attribute 'text'",
     "output_type": "error",
     "traceback": [
      "\u001b[0;31m---------------------------------------------------------------------------\u001b[0m",
      "\u001b[0;31mAttributeError\u001b[0m                            Traceback (most recent call last)",
      "Cell \u001b[0;32mIn[17], line 1\u001b[0m\n\u001b[0;32m----> 1\u001b[0m quotes\u001b[38;5;241m=\u001b[39m[quote\u001b[38;5;241m.\u001b[39mtext[\u001b[38;5;241m1\u001b[39m:\u001b[38;5;241m-\u001b[39m\u001b[38;5;241m1\u001b[39m] \u001b[38;5;28;01mfor\u001b[39;00m quote \u001b[38;5;129;01min\u001b[39;00m quotes]\n",
      "Cell \u001b[0;32mIn[17], line 1\u001b[0m, in \u001b[0;36m<listcomp>\u001b[0;34m(.0)\u001b[0m\n\u001b[0;32m----> 1\u001b[0m quotes\u001b[38;5;241m=\u001b[39m[\u001b[43mquote\u001b[49m\u001b[38;5;241;43m.\u001b[39;49m\u001b[43mtext\u001b[49m[\u001b[38;5;241m1\u001b[39m:\u001b[38;5;241m-\u001b[39m\u001b[38;5;241m1\u001b[39m] \u001b[38;5;28;01mfor\u001b[39;00m quote \u001b[38;5;129;01min\u001b[39;00m quotes]\n",
      "\u001b[0;31mAttributeError\u001b[0m: 'str' object has no attribute 'text'"
     ]
    }
   ],
   "source": [
    "quotes=[quote.text[1:-1] for quote in quotes]"
   ]
  },
  {
   "cell_type": "code",
   "execution_count": null,
   "id": "307ba368",
   "metadata": {},
   "outputs": [],
   "source": [
    "quotes"
   ]
  },
  {
   "cell_type": "code",
   "execution_count": null,
   "id": "26997de8",
   "metadata": {},
   "outputs": [],
   "source": [
    "quotes[-1]"
   ]
  },
  {
   "cell_type": "code",
   "execution_count": null,
   "id": "86102105",
   "metadata": {},
   "outputs": [],
   "source": [
    "author=soup.find('small',class_ = 'author')"
   ]
  },
  {
   "cell_type": "code",
   "execution_count": null,
   "id": "507b229b",
   "metadata": {},
   "outputs": [],
   "source": [
    "author"
   ]
  },
  {
   "cell_type": "code",
   "execution_count": null,
   "id": "c7d593a7",
   "metadata": {},
   "outputs": [],
   "source": [
    "author.text"
   ]
  },
  {
   "cell_type": "code",
   "execution_count": null,
   "id": "38ec6bde",
   "metadata": {},
   "outputs": [],
   "source": [
    "author=soup.find_all('small',class_ = 'author')"
   ]
  },
  {
   "cell_type": "code",
   "execution_count": null,
   "id": "d5a8889b",
   "metadata": {},
   "outputs": [],
   "source": [
    "author"
   ]
  },
  {
   "cell_type": "code",
   "execution_count": null,
   "id": "8d647b4f",
   "metadata": {},
   "outputs": [],
   "source": [
    "authors=[author.text for author in author]"
   ]
  },
  {
   "cell_type": "code",
   "execution_count": null,
   "id": "a546104f",
   "metadata": {},
   "outputs": [],
   "source": [
    "authors"
   ]
  },
  {
   "cell_type": "code",
   "execution_count": null,
   "id": "eddcb5d4",
   "metadata": {},
   "outputs": [],
   "source": [
    "authors[-3]"
   ]
  },
  {
   "cell_type": "code",
   "execution_count": null,
   "id": "6f01322c",
   "metadata": {},
   "outputs": [],
   "source": [
    "tags=soup.find_all('div',class_ ='tags')"
   ]
  },
  {
   "cell_type": "code",
   "execution_count": null,
   "id": "834aba73",
   "metadata": {},
   "outputs": [],
   "source": [
    "tags"
   ]
  },
  {
   "cell_type": "code",
   "execution_count": null,
   "id": "9c605391",
   "metadata": {},
   "outputs": [],
   "source": [
    "tags[0]"
   ]
  },
  {
   "cell_type": "code",
   "execution_count": null,
   "id": "09d977ba",
   "metadata": {},
   "outputs": [],
   "source": [
    "for i in tags[0].find_all('a',class_ = 'tag'):\n",
    "    print(i.text)"
   ]
  },
  {
   "cell_type": "code",
   "execution_count": null,
   "id": "af55e267",
   "metadata": {},
   "outputs": [],
   "source": [
    "total_tags=[]\n",
    "for i in range(len(tags)):\n",
    "    k=[]\n",
    "    for j in tags[i].find_all('a',class_ = 'tag'):\n",
    "        k.append(j.text)\n",
    "    total_tags.append(','.join(k))"
   ]
  },
  {
   "cell_type": "code",
   "execution_count": null,
   "id": "5689f8a5",
   "metadata": {},
   "outputs": [],
   "source": [
    "total_tags"
   ]
  },
  {
   "cell_type": "code",
   "execution_count": null,
   "id": "9d489cd2",
   "metadata": {},
   "outputs": [],
   "source": [
    "import pandas as pd"
   ]
  },
  {
   "cell_type": "code",
   "execution_count": null,
   "id": "d3c0c305",
   "metadata": {},
   "outputs": [],
   "source": [
    "dataset=pd.DataFrame()"
   ]
  },
  {
   "cell_type": "code",
   "execution_count": null,
   "id": "9b7e1fb7",
   "metadata": {},
   "outputs": [],
   "source": [
    "dataset['quote']=quotes\n",
    "dataset['tags']=total_tags\n",
    "dataset['author']=authors\n",
    "dataset"
   ]
  },
  {
   "cell_type": "code",
   "execution_count": null,
   "id": "00278beb",
   "metadata": {},
   "outputs": [],
   "source": [
    "dataset.to_csv('Quotes.csv')"
   ]
  },
  {
   "cell_type": "markdown",
   "id": "a4d252a3",
   "metadata": {},
   "source": [
    "  "
   ]
  },
  {
   "cell_type": "markdown",
   "id": "c05e5d3e",
   "metadata": {},
   "source": [
    "   "
   ]
  },
  {
   "cell_type": "code",
   "execution_count": null,
   "id": "85de8f56",
   "metadata": {},
   "outputs": [],
   "source": [
    "import requests"
   ]
  },
  {
   "cell_type": "code",
   "execution_count": null,
   "id": "a783889c",
   "metadata": {},
   "outputs": [],
   "source": [
    "url='https://quotes.toscrape.com/'"
   ]
  },
  {
   "cell_type": "code",
   "execution_count": null,
   "id": "a03d1f33",
   "metadata": {},
   "outputs": [],
   "source": [
    "response=requests.get(url)"
   ]
  },
  {
   "cell_type": "code",
   "execution_count": null,
   "id": "de4cc32e",
   "metadata": {},
   "outputs": [],
   "source": [
    "from bs4 import BeautifulSoup"
   ]
  },
  {
   "cell_type": "code",
   "execution_count": null,
   "id": "046ccc34",
   "metadata": {},
   "outputs": [],
   "source": [
    "sp=BeautifulSoup(response.content,'lxml')"
   ]
  },
  {
   "cell_type": "code",
   "execution_count": null,
   "id": "0009e026",
   "metadata": {},
   "outputs": [],
   "source": [
    "quotes=sp.find_all('span',class_ = 'text')"
   ]
  },
  {
   "cell_type": "code",
   "execution_count": null,
   "id": "36ebbf6a",
   "metadata": {},
   "outputs": [],
   "source": [
    "quotes=[i.text[1:-1] for i in quotes]"
   ]
  },
  {
   "cell_type": "code",
   "execution_count": null,
   "id": "8ee66f67",
   "metadata": {},
   "outputs": [],
   "source": [
    "quotes"
   ]
  },
  {
   "cell_type": "code",
   "execution_count": null,
   "id": "08b8889a",
   "metadata": {},
   "outputs": [],
   "source": [
    "author=sp.find_all('small',class_='author')"
   ]
  },
  {
   "cell_type": "code",
   "execution_count": null,
   "id": "67d7e0a8",
   "metadata": {},
   "outputs": [],
   "source": [
    "author"
   ]
  },
  {
   "cell_type": "code",
   "execution_count": null,
   "id": "9401ad35",
   "metadata": {},
   "outputs": [],
   "source": [
    "authors=[i.text for i in author]"
   ]
  },
  {
   "cell_type": "code",
   "execution_count": null,
   "id": "3ba0a150",
   "metadata": {},
   "outputs": [],
   "source": [
    "authors"
   ]
  },
  {
   "cell_type": "code",
   "execution_count": null,
   "id": "55d11e28",
   "metadata": {},
   "outputs": [],
   "source": [
    "tags=sp.find_all('div',class_='tags')"
   ]
  },
  {
   "cell_type": "code",
   "execution_count": null,
   "id": "c829eda0",
   "metadata": {},
   "outputs": [],
   "source": [
    "tags"
   ]
  },
  {
   "cell_type": "code",
   "execution_count": null,
   "id": "523f0bba",
   "metadata": {},
   "outputs": [],
   "source": [
    "tags[0]"
   ]
  },
  {
   "cell_type": "code",
   "execution_count": null,
   "id": "2c2c3086",
   "metadata": {},
   "outputs": [],
   "source": [
    "for i in tags[0].find_all('a',class_='tag'):\n",
    "    print(i.text)"
   ]
  },
  {
   "cell_type": "code",
   "execution_count": null,
   "id": "6f5233db",
   "metadata": {},
   "outputs": [],
   "source": [
    "total_tags=[]\n",
    "for i in range(len(tags)):\n",
    "    tag=[]\n",
    "    for j in tags[i].find_all('a',class_='tag'):\n",
    "        tag.append(j.text)\n",
    "    total_tags.append(','.join(tag))"
   ]
  },
  {
   "cell_type": "code",
   "execution_count": null,
   "id": "1f045b13",
   "metadata": {},
   "outputs": [],
   "source": [
    "total_tags"
   ]
  },
  {
   "cell_type": "code",
   "execution_count": null,
   "id": "3ccebef4",
   "metadata": {},
   "outputs": [],
   "source": [
    "import pandas as pd"
   ]
  },
  {
   "cell_type": "code",
   "execution_count": null,
   "id": "183eaa54",
   "metadata": {},
   "outputs": [],
   "source": [
    "dataset=pd.DataFrame()"
   ]
  },
  {
   "cell_type": "code",
   "execution_count": null,
   "id": "5076b7cd",
   "metadata": {},
   "outputs": [],
   "source": [
    "dataset['quote']=quotes\n",
    "dataset['author']=authors\n",
    "dataset['tags']=total_tags\n",
    "dataset"
   ]
  },
  {
   "cell_type": "code",
   "execution_count": null,
   "id": "9b63ea7c",
   "metadata": {},
   "outputs": [],
   "source": [
    "tags"
   ]
  },
  {
   "cell_type": "code",
   "execution_count": null,
   "id": "01b97d82",
   "metadata": {},
   "outputs": [],
   "source": [
    "tags[0]"
   ]
  },
  {
   "cell_type": "code",
   "execution_count": null,
   "id": "ee8278da",
   "metadata": {},
   "outputs": [],
   "source": [
    "for i in tags[0].find_all('a',class_='tag'):\n",
    "    print(i.text)"
   ]
  },
  {
   "cell_type": "code",
   "execution_count": null,
   "id": "2a1af954",
   "metadata": {},
   "outputs": [],
   "source": [
    "total_tagg=[]\n",
    "for i in range(len(tags)):\n",
    "    k=[]\n",
    "    for j in tags[i].find_all('a',class_='tag'):\n",
    "        k.append(j.text)\n",
    "    total_tagg.append(','.join(k))"
   ]
  },
  {
   "cell_type": "code",
   "execution_count": null,
   "id": "d23d48c0",
   "metadata": {},
   "outputs": [],
   "source": [
    "total_tagg"
   ]
  },
  {
   "cell_type": "code",
   "execution_count": null,
   "id": "0a8ca0e2",
   "metadata": {},
   "outputs": [],
   "source": [
    "ds=pd.DataFrame()"
   ]
  },
  {
   "cell_type": "code",
   "execution_count": null,
   "id": "3f2cf918",
   "metadata": {},
   "outputs": [],
   "source": [
    "ds['tagg']=total_tagg"
   ]
  },
  {
   "cell_type": "code",
   "execution_count": null,
   "id": "d0bdf7a2",
   "metadata": {},
   "outputs": [],
   "source": [
    "ds"
   ]
  },
  {
   "cell_type": "markdown",
   "id": "54fe2f31",
   "metadata": {},
   "source": [
    "   "
   ]
  },
  {
   "cell_type": "markdown",
   "id": "d67df4b7",
   "metadata": {},
   "source": [
    "   "
   ]
  },
  {
   "cell_type": "markdown",
   "id": "7a3d2ade",
   "metadata": {},
   "source": [
    "### Web scraping - Movie details"
   ]
  },
  {
   "cell_type": "code",
   "execution_count": 2,
   "id": "dee88a63",
   "metadata": {},
   "outputs": [],
   "source": [
    "url='https://editorial.rottentomatoes.com/guide/best-horror-movies-of-all-time/'"
   ]
  },
  {
   "cell_type": "code",
   "execution_count": 3,
   "id": "3846530b",
   "metadata": {},
   "outputs": [],
   "source": [
    "import requests"
   ]
  },
  {
   "cell_type": "code",
   "execution_count": 4,
   "id": "2019ecbb",
   "metadata": {},
   "outputs": [],
   "source": [
    "response=requests.get(url)"
   ]
  },
  {
   "cell_type": "code",
   "execution_count": 5,
   "id": "81e54301",
   "metadata": {},
   "outputs": [],
   "source": [
    "from bs4 import BeautifulSoup"
   ]
  },
  {
   "cell_type": "code",
   "execution_count": 6,
   "id": "e961570a",
   "metadata": {},
   "outputs": [],
   "source": [
    "bs=BeautifulSoup(response.content,'lxml')"
   ]
  },
  {
   "cell_type": "code",
   "execution_count": 7,
   "id": "3713013f",
   "metadata": {},
   "outputs": [],
   "source": [
    "divs=bs.find('div',{'class':'col-sm-18 col-full-xs countdown-item-content'})"
   ]
  },
  {
   "cell_type": "code",
   "execution_count": 8,
   "id": "fd5e0539",
   "metadata": {},
   "outputs": [
    {
     "data": {
      "text/plain": [
       "<div class=\"col-sm-18 col-full-xs countdown-item-content\">\n",
       "<div class=\"row countdown-item-title-bar\">\n",
       "<div class=\"col-sm-20 col-full-xs\" style=\"height: 100%;\">\n",
       "<div class=\"article_movie_title\" style=\"float: left;\">\n",
       "<div><h2><a href=\"https://www.rottentomatoes.com/m/a_nightmare_on_elm_street_3_dream_warriors\">A Nightmare on Elm Street 3: Dream Warriors</a> <span class=\"subtle start-year\">(1987)</span> <span class=\"icon tiny fresh\" title=\"Fresh\"></span> <span class=\"tMeterScore\">71%</span></h2></div>\n",
       "</div>\n",
       "</div>\n",
       "<div class=\"col-sm-4 col-full-xs\" style=\"height: 100%;\">\n",
       "<div class=\"countdown-index\">#200</div>\n",
       "</div>\n",
       "</div>\n",
       "<div class=\"row countdown-item-details\">\n",
       "<div class=\"col-sm-24\">\n",
       "<div class=\"info countdown-adjusted-score\"><span class=\"descriptor\">Adjusted Score: </span>74291% <span class=\"glyphicon glyphicon-question-sign\" data-html=\"true\" data-original-title=\"The Adjusted Score comes from a weighted formula (Bayesian) that we use that accounts for variation in the number of reviews per movie.\" data-placement=\"top\" data-toggle=\"tooltip\" rel=\"tooltip\" title=\"\"></span></div>\n",
       "<div class=\"info critics-consensus\"><span class=\"descriptor\">Critics Consensus:</span> <em>A Nightmare on Elm Street 3: Dream Warriors</em> offers an imaginative and surprisingly satisfying rebound for a franchise already starting to succumb to sequelitis.</div>\n",
       "<div class=\"info synopsis\"><span class=\"descriptor\">Synopsis:</span> During a hallucinatory incident, young Kristen Parker (Patricia Arquette) has her wrists slashed by dream-stalking monster Freddy Krueger (Robert Englund)....<a class=\"\" data-pageheader=\"\" href=\"https://www.rottentomatoes.com/m/a_nightmare_on_elm_street_3_dream_warriors\" target=\"_top\"> [More]</a></div>\n",
       "<div class=\"info cast\">\n",
       "<span class=\"descriptor\">Starring:</span> <a class=\"\" href=\"//www.rottentomatoes.com/celebrity/heather_langenkamp\">Heather Langenkamp</a>, <a class=\"\" href=\"//www.rottentomatoes.com/celebrity/patricia_arquette\">Patricia Arquette</a>, <a class=\"\" href=\"//www.rottentomatoes.com/celebrity/craig_wasson\">Craig Wasson</a>, <a class=\"\" href=\"//www.rottentomatoes.com/celebrity/larry_fishburne\">Laurence Fishburne</a></div>\n",
       "<div class=\"info director\">\n",
       "<span class=\"descriptor\">Directed By:</span> <a class=\"\" href=\"//www.rottentomatoes.com/celebrity/chuck_russell\">Chuck Russell</a></div>\n",
       "</div>\n",
       "</div>\n",
       "</div>"
      ]
     },
     "execution_count": 8,
     "metadata": {},
     "output_type": "execute_result"
    }
   ],
   "source": [
    "divs"
   ]
  },
  {
   "cell_type": "markdown",
   "id": "bc9a3994",
   "metadata": {},
   "source": [
    "#### Getting titles.year and rating of the movie"
   ]
  },
  {
   "cell_type": "code",
   "execution_count": 9,
   "id": "12498a60",
   "metadata": {},
   "outputs": [],
   "source": [
    "title=bs.find_all('div',class_='article_movie_title')"
   ]
  },
  {
   "cell_type": "code",
   "execution_count": 10,
   "id": "f5887f73",
   "metadata": {},
   "outputs": [
    {
     "data": {
      "text/plain": [
       "[<div class=\"article_movie_title\" style=\"float: left;\">\n",
       " <div><h2><a href=\"https://www.rottentomatoes.com/m/a_nightmare_on_elm_street_3_dream_warriors\">A Nightmare on Elm Street 3: Dream Warriors</a> <span class=\"subtle start-year\">(1987)</span> <span class=\"icon tiny fresh\" title=\"Fresh\"></span> <span class=\"tMeterScore\">71%</span></h2></div>\n",
       " </div>,\n",
       " <div class=\"article_movie_title\" style=\"float: left;\">\n",
       " <div><h2><a href=\"https://www.rottentomatoes.com/m/phenomena\">Phenomena</a> <span class=\"subtle start-year\">(1985)</span> <span class=\"icon tiny fresh\" title=\"Fresh\"></span> <span class=\"tMeterScore\">74%</span></h2></div>\n",
       " </div>,\n",
       " <div class=\"article_movie_title\" style=\"float: left;\">\n",
       " <div><h2><a href=\"https://www.rottentomatoes.com/m/bram_stokers_dracula\">Bram Stoker's Dracula</a> <span class=\"subtle start-year\">(1992)</span> <span class=\"icon tiny certified\" title=\"Certified Fresh\"></span> <span class=\"tMeterScore\">78%</span></h2></div>\n",
       " </div>]"
      ]
     },
     "execution_count": 10,
     "metadata": {},
     "output_type": "execute_result"
    }
   ],
   "source": [
    "title[:3]"
   ]
  },
  {
   "cell_type": "code",
   "execution_count": 11,
   "id": "63b2bdb3",
   "metadata": {},
   "outputs": [],
   "source": [
    "title=[i.find('a') for i in title]"
   ]
  },
  {
   "cell_type": "code",
   "execution_count": 12,
   "id": "48fe7064",
   "metadata": {},
   "outputs": [
    {
     "data": {
      "text/plain": [
       "[<a href=\"https://www.rottentomatoes.com/m/a_nightmare_on_elm_street_3_dream_warriors\">A Nightmare on Elm Street 3: Dream Warriors</a>,\n",
       " <a href=\"https://www.rottentomatoes.com/m/phenomena\">Phenomena</a>,\n",
       " <a href=\"https://www.rottentomatoes.com/m/bram_stokers_dracula\">Bram Stoker's Dracula</a>,\n",
       " <a href=\"https://www.rottentomatoes.com/m/hellraiser\">Hellraiser</a>,\n",
       " <a href=\"https://www.rottentomatoes.com/m/1010793-its_alive\">It's Alive!</a>,\n",
       " <a href=\"https://www.rottentomatoes.com/m/jacobs_ladder\">Jacob's Ladder</a>,\n",
       " <a href=\"https://www.rottentomatoes.com/m/open_water\">Open Water</a>,\n",
       " <a href=\"https://www.rottentomatoes.com/m/mist\">The Mist</a>,\n",
       " <a href=\"https://www.rottentomatoes.com/m/ring\">The Ring</a>,\n",
       " <a href=\"https://www.rottentomatoes.com/m/phantasm\">Phantasm</a>,\n",
       " <a href=\"https://www.rottentomatoes.com/m/frailty\">Frailty</a>,\n",
       " <a href=\"https://www.rottentomatoes.com/m/dog_soldiers\">Dog Soldiers</a>,\n",
       " <a href=\"https://www.rottentomatoes.com/m/basket_case\">Basket Case</a>,\n",
       " <a href=\"https://www.rottentomatoes.com/m/eden_lake\">Eden Lake</a>,\n",
       " <a href=\"https://www.rottentomatoes.com/m/candyman\">Candyman</a>,\n",
       " <a href=\"https://www.rottentomatoes.com/m/oculus\">Oculus</a>,\n",
       " <a href=\"https://www.rottentomatoes.com/m/land_of_the_dead\">Land of the Dead</a>,\n",
       " <a href=\"https://www.rottentomatoes.com/m/night_of_the_comet\">Night of the Comet</a>,\n",
       " <a href=\"https://www.rottentomatoes.com/m/wes_cravens_new_nightmare\">Wes Craven's New Nightmare</a>,\n",
       " <a href=\"https://www.rottentomatoes.com/m/trick_r_treat\">Trick 'r Treat</a>,\n",
       " <a href=\"https://www.rottentomatoes.com/m/lost_boys\">The Lost Boys</a>,\n",
       " <a href=\"https://www.rottentomatoes.com/m/the_lodge\">The Lodge</a>,\n",
       " <a href=\"https://www.rottentomatoes.com/m/1074316-scream\">Scream</a>,\n",
       " <a href=\"https://www.rottentomatoes.com/m/southbound\">Southbound</a>,\n",
       " <a href=\"https://www.rottentomatoes.com/m/lights_out_2016\">Lights Out</a>,\n",
       " <a href=\"https://www.rottentomatoes.com/m/the_platform\">The Platform</a>,\n",
       " <a href=\"https://www.rottentomatoes.com/m/brood\">The Brood</a>,\n",
       " <a href=\"https://www.rottentomatoes.com/m/the_cat_o_nine_tails\">The Cat o' Nine Tails</a>,\n",
       " <a href=\"https://www.rottentomatoes.com/m/mute_witness\">Mute Witness</a>,\n",
       " <a href=\"https://www.rottentomatoes.com/m/youre_next_2011\">You're Next</a>,\n",
       " <a href=\"https://www.rottentomatoes.com/m/videodrome\">Videodrome</a>,\n",
       " <a href=\"https://www.rottentomatoes.com/m/10011304-thirst\">Thirst</a>,\n",
       " <a href=\"https://www.rottentomatoes.com/m/audition_1999\">Audition</a>,\n",
       " <a href=\"https:\"></a>,\n",
       " <a href=\"https://www.rottentomatoes.com/m/dead_ringers\">Dead Ringers</a>,\n",
       " <a href=\"https://www.rottentomatoes.com/m/scream_2\">Scream 2</a>,\n",
       " <a href=\"https://www.rottentomatoes.com/m/1408\">1408</a>,\n",
       " <a href=\"https://www.rottentomatoes.com/m/a_tale_of_two_sisters\">A Tale of Two Sisters</a>,\n",
       " <a href=\"https://www.rottentomatoes.com/m/ouija_origin_of_evil\">Ouija: Origin of Evil</a>,\n",
       " <a href=\"https://www.rottentomatoes.com/m/pontypool\">Pontypool</a>,\n",
       " <a href=\"https://www.rottentomatoes.com/m/the_shallows\">The Shallows</a>,\n",
       " <a href=\"https://www.rottentomatoes.com/m/shadow_of_the_vampire\">Shadow of the Vampire</a>,\n",
       " <a href=\"https://www.rottentomatoes.com/m/the_house_of_the_devil_2009\">The House of the Devil</a>,\n",
       " <a href=\"https://www.rottentomatoes.com/m/tucker_and_dale_vs_evil\">Tucker &amp; Dale vs Evil</a>,\n",
       " <a href=\"https://www.rottentomatoes.com/m/dracula_pages_from_a_virgins_diary\">Dracula: Pages From a Virgin's Diary</a>,\n",
       " <a href=\"https://www.rottentomatoes.com/m/1109257-others\">The Others</a>,\n",
       " <a href=\"https://www.rottentomatoes.com/m/1004906-creature_from_the_black_lagoon\">Creature From the Black Lagoon</a>,\n",
       " <a href=\"https://www.rottentomatoes.com/m/tremors\">Tremors</a>,\n",
       " <a href=\"https://www.rottentomatoes.com/m/creep_2014\">Creep</a>,\n",
       " <a href=\"https://www.rottentomatoes.com/m/carnival_of_souls\">Carnival of Souls</a>,\n",
       " <a href=\"https://www.rottentomatoes.com/m/10009132-rec\">Rec</a>,\n",
       " <a href=\"https://www.rottentomatoes.com/m/paranormal_activity\">Paranormal Activity</a>,\n",
       " <a href=\"https://www.rottentomatoes.com/m/the_conjuring_2\">The Conjuring 2</a>,\n",
       " <a href=\"https://www.rottentomatoes.com/m/ginger_snaps\">Ginger Snaps</a>,\n",
       " <a href=\"https://www.rottentomatoes.com/m/goodnight_mommy\">Goodnight Mommy</a>,\n",
       " <a href=\"https://www.rottentomatoes.com/m/los_ojos_de_julia\">Julia's Eyes</a>,\n",
       " <a href=\"https://www.rottentomatoes.com/m/sisters_1973\">Sisters</a>,\n",
       " <a href=\"https://www.rottentomatoes.com/m/cargo_2018\">Cargo</a>,\n",
       " <a href=\"https://www.rottentomatoes.com/m/slither\">Slither</a>,\n",
       " <a href=\"https://www.rottentomatoes.com/m/1010034-house_on_haunted_hill\">House on Haunted Hill</a>,\n",
       " <a href=\"https://www.rottentomatoes.com/m/1016513-poltergeist\">Poltergeist</a>,\n",
       " <a href=\"https://www.rottentomatoes.com/m/the_girl_with_all_the_gifts\">The Girl With All the Gifts</a>,\n",
       " <a href=\"https://www.rottentomatoes.com/m/1021244-thing\">The Thing</a>,\n",
       " <a href=\"https://www.rottentomatoes.com/m/dead_alive\">Dead Alive</a>,\n",
       " <a href=\"https://www.rottentomatoes.com/m/freaks_2019\">Freaks</a>,\n",
       " <a href=\"https://www.rottentomatoes.com/m/tenant\">The Tenant</a>,\n",
       " <a href=\"https://www.rottentomatoes.com/m/descent\">The Descent</a>,\n",
       " <a href=\"https://www.rottentomatoes.com/m/better_watch_out\">Better Watch Out</a>,\n",
       " <a href=\"https://www.rottentomatoes.com/m/american_werewolf_in_london\">An American Werewolf in London</a>,\n",
       " <a href=\"https://www.rottentomatoes.com/m/doctor_sleep\">Doctor Sleep</a>,\n",
       " <a href=\"https://www.rottentomatoes.com/m/1015517-omen\">The Omen</a>,\n",
       " <a href=\"https://www.rottentomatoes.com/m/creepy\">Creepy</a>,\n",
       " <a href=\"https://www.rottentomatoes.com/m/come_to_daddy\">Come to Daddy</a>,\n",
       " <a href=\"https://www.rottentomatoes.com/m/crawl_2019\">Crawl</a>,\n",
       " <a href=\"https://www.rottentomatoes.com/m/exorcist\">The Exorcist</a>,\n",
       " <a href=\"https://www.rottentomatoes.com/m/the_invitation\">The Invitation</a>,\n",
       " <a href=\"https://www.rottentomatoes.com/m/hounds_of_love\">Hounds of Love</a>,\n",
       " <a href=\"https://www.rottentomatoes.com/m/1922_2017\">1922</a>,\n",
       " <a href=\"https://www.rottentomatoes.com/m/abominable_dr_phibes\">The Abominable Dr. Phibes</a>,\n",
       " <a href=\"https://www.rottentomatoes.com/m/martin\">Martin</a>,\n",
       " <a href=\"https://www.rottentomatoes.com/m/hausu\">House</a>,\n",
       " <a href=\"https://www.rottentomatoes.com/m/henry-portrait-of-a-serial-killer\">Henry: Portrait of a Serial Killer</a>,\n",
       " <a href=\"https://www.rottentomatoes.com/m/rare_exports\">Rare Exports: A Christmas Tale</a>,\n",
       " <a href=\"https://www.rottentomatoes.com/m/candyman_2021\">Candyman</a>,\n",
       " <a href=\"https://www.rottentomatoes.com/m/the_orphanage\">The Orphanage</a>,\n",
       " <a href=\"https://www.rottentomatoes.com/m/dead_zone\">The Dead Zone</a>,\n",
       " <a href=\"https://www.rottentomatoes.com/m/bone_tomahawk\">Bone Tomahawk</a>,\n",
       " <a href=\"https://www.rottentomatoes.com/m/1006345-duel\">Duel</a>,\n",
       " <a href=\"https://www.rottentomatoes.com/m/the_fall_of_the_house_of_usher_1960\">House of Usher</a>,\n",
       " <a href=\"https://www.rottentomatoes.com/m/blair_witch_project\">The Blair Witch Project</a>,\n",
       " <a href=\"https://www.rottentomatoes.com/m/the_devils_candy\">The Devil's Candy</a>,\n",
       " <a href=\"https://www.rottentomatoes.com/m/geralds_game\">Gerald's Game</a>,\n",
       " <a href=\"https://www.rottentomatoes.com/m/28_days_later\">28 Days Later</a>,\n",
       " <a href=\"https://www.rottentomatoes.com/m/prevenge\">Prevenge</a>,\n",
       " <a href=\"https://www.rottentomatoes.com/m/demon_2016\">Demon</a>,\n",
       " <a href=\"https://www.rottentomatoes.com/m/horror_of_dracula\">Horror of Dracula</a>,\n",
       " <a href=\"https://www.rottentomatoes.com/m/1007910-fright_night\">Fright Night</a>,\n",
       " <a href=\"https://www.rottentomatoes.com/m/the_wicker_man_1973\">The Wicker Man</a>,\n",
       " <a href=\"https://www.rottentomatoes.com/m/nina_forever\">Nina Forever</a>,\n",
       " <a href=\"https://www.rottentomatoes.com/m/1021112-texas_chainsaw_massacre\">The Texas Chain Saw Massacre</a>,\n",
       " <a href=\"https://www.rottentomatoes.com/m/the_conjuring\">The Conjuring</a>,\n",
       " <a href=\"https://www.rottentomatoes.com/m/misery\">Misery</a>,\n",
       " <a href=\"https://www.rottentomatoes.com/m/1022823-village_of_the_damned\">Village of the Damned</a>,\n",
       " <a href=\"https://www.rottentomatoes.com/m/color_out_of_space\">Color Out of Space</a>,\n",
       " <a href=\"https://www.rottentomatoes.com/m/let_me_in\">Let Me In</a>,\n",
       " <a href=\"https://www.rottentomatoes.com/m/halloween_2018\">Halloween</a>,\n",
       " <a href=\"https://www.rottentomatoes.com/m/theatre_of_blood\">Theatre of Blood</a>,\n",
       " <a href=\"https://www.rottentomatoes.com/m/attack_the_block\">Attack the Block</a>,\n",
       " <a href=\"https://www.rottentomatoes.com/m/eraserhead\">Eraserhead</a>,\n",
       " <a href=\"https://www.rottentomatoes.com/m/devils_backbone\">The Devil's Backbone</a>,\n",
       " <a href=\"https://www.rottentomatoes.com/m/housebound\">Housebound</a>,\n",
       " <a href=\"https://www.rottentomatoes.com/m/we_are_still_here\">We Are Still Here</a>,\n",
       " <a href=\"https://www.rottentomatoes.com/m/bird_with_the_crystal_plumage\">The Bird With the Crystal Plumage</a>,\n",
       " <a href=\"https://www.rottentomatoes.com/m/phantom_of_the_opera_1925\">The Phantom of the Opera</a>,\n",
       " <a href=\"https://www.rottentomatoes.com/m/wolf_man\">The Wolf Man</a>,\n",
       " <a href=\"https://www.rottentomatoes.com/m/1005339-dawn_of_the_dead\">Dawn of the Dead</a>,\n",
       " <a href=\"https://www.rottentomatoes.com/m/1006207-dr_jekyll_and_mr_hyde\">Dr. Jekyll and Mr. Hyde</a>,\n",
       " <a href=\"https://www.rottentomatoes.com/m/shaun_of_the_dead\">Shaun of the Dead</a>,\n",
       " <a href=\"https://www.rottentomatoes.com/m/the_endless\">The Endless</a>,\n",
       " <a href=\"https://www.rottentomatoes.com/m/dont_breathe_2016\">Don't Breathe</a>,\n",
       " <a href=\"https://www.rottentomatoes.com/m/reanimator\">Re-Animator</a>,\n",
       " <a href=\"https://www.rottentomatoes.com/m/zombieland\">Zombieland</a>,\n",
       " <a href=\"https://www.rottentomatoes.com/m/it_comes_at_night\">It Comes at Night</a>,\n",
       " <a href=\"https://www.rottentomatoes.com/m/shining\">The Shining</a>,\n",
       " <a href=\"https://www.rottentomatoes.com/m/1006234-dracula\">Dracula</a>,\n",
       " <a href=\"https://www.rottentomatoes.com/m/deep_red_1975\">Deep Red</a>,\n",
       " <a href=\"https://www.rottentomatoes.com/m/1007602-fly\">The Fly</a>,\n",
       " <a href=\"https://www.rottentomatoes.com/m/nightmare_on_elm_street\">A Nightmare on Elm Street</a>,\n",
       " <a href=\"https://www.rottentomatoes.com/m/1014370-mummy\">The Mummy</a>,\n",
       " <a href=\"https://www.rottentomatoes.com/m/the_host_2007\">The Host</a>,\n",
       " <a href=\"https://www.rottentomatoes.com/m/1003747-cat_and_the_canary\">The Cat and the Canary</a>,\n",
       " <a href=\"https://www.rottentomatoes.com/m/train_to_busan\">Train to Busan</a>,\n",
       " <a href=\"https://www.rottentomatoes.com/m/island_of_lost_souls_1933\">Island of Lost Souls</a>,\n",
       " <a href=\"https://www.rottentomatoes.com/m/revenge_2018\">Revenge</a>,\n",
       " <a href=\"https://www.rottentomatoes.com/m/1020662-suspiria\">Suspiria</a>,\n",
       " <a href=\"https://www.rottentomatoes.com/m/ringu\">The Ring</a>,\n",
       " <a href=\"https://www.rottentomatoes.com/m/i_walked_with_a_zombie\">I Walked With a Zombie</a>,\n",
       " <a href=\"https://www.rottentomatoes.com/m/the_love_witch\">The Love Witch</a>,\n",
       " <a href=\"https://www.rottentomatoes.com/m/harpoon_2019\">Harpoon</a>,\n",
       " <a href=\"https://www.rottentomatoes.com/m/1010679-invasion_of_the_body_snatchers\">Invasion of the Body Snatchers</a>,\n",
       " <a href=\"https://www.rottentomatoes.com/m/1099622-innocents\">The Innocents</a>,\n",
       " <a href=\"https://www.rottentomatoes.com/m/the_loved_ones_2012\">The Loved Ones</a>,\n",
       " <a href=\"https://www.rottentomatoes.com/m/evil_dead_2_dead_by_dawn\">Evil Dead 2</a>,\n",
       " <a href=\"https://www.rottentomatoes.com/m/raw_2017\">Raw</a>,\n",
       " <a href=\"https://www.rottentomatoes.com/m/the_evil_dead\">The Evil Dead</a>,\n",
       " <a href=\"https://www.rottentomatoes.com/m/la_llorona_2019\">La llorona</a>,\n",
       " <a href=\"https://www.rottentomatoes.com/m/nosferatu_the_vampyre\">Nosferatu</a>,\n",
       " <a href=\"https://www.rottentomatoes.com/m/creep_2\">Creep 2</a>,\n",
       " <a href=\"https://www.rottentomatoes.com/m/green_room_2016\">Green Room</a>,\n",
       " <a href=\"https://www.rottentomatoes.com/m/1003625-carrie\">Carrie</a>,\n",
       " <a href=\"https://www.rottentomatoes.com/m/midsommar\">Midsommar</a>,\n",
       " <a href=\"https://www.rottentomatoes.com/m/1007600-fly\">The Fly</a>,\n",
       " <a href=\"https://www.rottentomatoes.com/m/1010030-house_of_wax\">House of Wax</a>,\n",
       " <a href=\"https://www.rottentomatoes.com/m/drag_me_to_hell\">Drag Me to Hell</a>,\n",
       " <a href=\"https://www.rottentomatoes.com/m/a_girl_walks_home_alone_at_night\">A Girl Walks Home Alone at Night</a>,\n",
       " <a href=\"https://www.rottentomatoes.com/m/his_house\">His House</a>,\n",
       " <a href=\"https://www.rottentomatoes.com/m/ready_or_not_2019\">Ready or Not</a>,\n",
       " <a href=\"https://www.rottentomatoes.com/m/tigers_are_not_afraid\">Tigers Are Not Afraid</a>,\n",
       " <a href=\"https://www.rottentomatoes.com/m/mandy_2018\">Mandy</a>,\n",
       " <a href=\"https://www.rottentomatoes.com/m/it_2017\">It</a>,\n",
       " <a href=\"https://www.rottentomatoes.com/m/dont_look_now\">Don't Look Now</a>,\n",
       " <a href=\"https://www.rottentomatoes.com/m/1003757-cat_people\">Cat People</a>,\n",
       " <a href=\"https://www.rottentomatoes.com/m/1002448-birds\">The Birds</a>,\n",
       " <a href=\"https://www.rottentomatoes.com/m/the_wailing\">The Wailing</a>,\n",
       " <a href=\"https://www.rottentomatoes.com/m/1005405-dead_of_night\">Dead of Night</a>,\n",
       " <a href=\"https://www.rottentomatoes.com/m/under_the_shadow\">Under the Shadow</a>,\n",
       " <a href=\"https://www.rottentomatoes.com/m/host_2020\">Host</a>,\n",
       " <a href=\"https://www.rottentomatoes.com/m/10_cloverfield_lane\">10 Cloverfield Lane</a>,\n",
       " <a href=\"https://www.rottentomatoes.com/m/peeping_tom_1960\">Peeping Tom</a>,\n",
       " <a href=\"https://www.rottentomatoes.com/m/the_witch_2016\">The Witch</a>,\n",
       " <a href=\"https://www.rottentomatoes.com/m/the_cabin_in_the_woods\">The Cabin in the Woods</a>,\n",
       " <a href=\"https://www.rottentomatoes.com/m/repulsion\">Repulsion</a>,\n",
       " <a href=\"https://www.rottentomatoes.com/m/eyes_without_a_face_1962\">Eyes Without a Face</a>,\n",
       " <a href=\"https://www.rottentomatoes.com/m/rosemarys_baby\">Rosemary's Baby</a>,\n",
       " <a href=\"https://www.rottentomatoes.com/m/1009113-halloween\">Halloween</a>,\n",
       " <a href=\"https://www.rottentomatoes.com/m/silence_of_the_lambs\">The Silence of the Lambs</a>,\n",
       " <a href=\"https://www.rottentomatoes.com/m/1010695-invisible_man\">The Invisible Man</a>,\n",
       " <a href=\"https://www.rottentomatoes.com/m/1000617-aliens\">Aliens</a>,\n",
       " <a href=\"https://www.rottentomatoes.com/m/night_of_the_living_dead\">Night of the Living Dead</a>,\n",
       " <a href=\"https://www.rottentomatoes.com/m/freaks\">Freaks</a>,\n",
       " <a href=\"https://www.rottentomatoes.com/m/it_follows\">It Follows</a>,\n",
       " <a href=\"https://www.rottentomatoes.com/m/let_the_right_one_in\">Let the Right One In</a>,\n",
       " <a href=\"https://www.rottentomatoes.com/m/hereditary\">Hereditary</a>,\n",
       " <a href=\"https://www.rottentomatoes.com/m/vampyr_der_traum_des_allan_grey\">Vampyr</a>,\n",
       " <a href=\"https://www.rottentomatoes.com/m/1010678-invasion_of_the_body_snatchers\">Invasion of the Body Snatchers</a>,\n",
       " <a href=\"https://www.rottentomatoes.com/m/the_lighthouse_2019\">The Lighthouse</a>,\n",
       " <a href=\"https://www.rottentomatoes.com/m/1007818-frankenstein\">Frankenstein</a>,\n",
       " <a href=\"https://www.rottentomatoes.com/m/the_babadook\">The Babadook</a>,\n",
       " <a href=\"https://www.rottentomatoes.com/m/jaws\">Jaws</a>,\n",
       " <a href=\"https://www.rottentomatoes.com/m/bride_of_frankenstein\">Bride of Frankenstein</a>,\n",
       " <a href=\"https://www.rottentomatoes.com/m/a_quiet_place_2018\">A Quiet Place</a>,\n",
       " <a href=\"https://www.rottentomatoes.com/m/the_invisible_man_2020\">The Invisible Man</a>,\n",
       " <a href=\"https://www.rottentomatoes.com/m/night_of_the_hunter\">The Night of the Hunter</a>,\n",
       " <a href=\"https://www.rottentomatoes.com/m/nosferatu\">Nosferatu</a>,\n",
       " <a href=\"https://www.rottentomatoes.com/m/1011615-king_kong\">King Kong</a>,\n",
       " <a href=\"https://www.rottentomatoes.com/m/alien\">Alien</a>,\n",
       " <a href=\"https://www.rottentomatoes.com/m/us_2019\">Us</a>,\n",
       " <a href=\"https://www.rottentomatoes.com/m/the_cabinet_of_dr_caligari\">The Cabinet of Dr. Caligari</a>,\n",
       " <a href=\"https://www.rottentomatoes.com/m/get_out\">Get Out</a>,\n",
       " <a href=\"https://www.rottentomatoes.com/m/psycho\">Psycho</a>]"
      ]
     },
     "execution_count": 12,
     "metadata": {},
     "output_type": "execute_result"
    }
   ],
   "source": [
    "title"
   ]
  },
  {
   "cell_type": "code",
   "execution_count": 13,
   "id": "ab29ed20",
   "metadata": {},
   "outputs": [
    {
     "data": {
      "text/plain": [
       "'A Nightmare on Elm Street 3: Dream Warriors'"
      ]
     },
     "execution_count": 13,
     "metadata": {},
     "output_type": "execute_result"
    }
   ],
   "source": [
    "title[0].text"
   ]
  },
  {
   "cell_type": "code",
   "execution_count": 14,
   "id": "e0674d93",
   "metadata": {},
   "outputs": [],
   "source": [
    "title=[i.text for i in title]"
   ]
  },
  {
   "cell_type": "code",
   "execution_count": 15,
   "id": "4cf5a794",
   "metadata": {},
   "outputs": [
    {
     "data": {
      "text/plain": [
       "['A Nightmare on Elm Street 3: Dream Warriors',\n",
       " 'Phenomena',\n",
       " \"Bram Stoker's Dracula\",\n",
       " 'Hellraiser',\n",
       " \"It's Alive!\",\n",
       " \"Jacob's Ladder\",\n",
       " 'Open Water',\n",
       " 'The Mist',\n",
       " 'The Ring',\n",
       " 'Phantasm',\n",
       " 'Frailty',\n",
       " 'Dog Soldiers',\n",
       " 'Basket Case',\n",
       " 'Eden Lake',\n",
       " 'Candyman',\n",
       " 'Oculus',\n",
       " 'Land of the Dead',\n",
       " 'Night of the Comet',\n",
       " \"Wes Craven's New Nightmare\",\n",
       " \"Trick 'r Treat\",\n",
       " 'The Lost Boys',\n",
       " 'The Lodge',\n",
       " 'Scream',\n",
       " 'Southbound',\n",
       " 'Lights Out',\n",
       " 'The Platform',\n",
       " 'The Brood',\n",
       " \"The Cat o' Nine Tails\",\n",
       " 'Mute Witness',\n",
       " \"You're Next\",\n",
       " 'Videodrome',\n",
       " 'Thirst',\n",
       " 'Audition',\n",
       " '',\n",
       " 'Dead Ringers',\n",
       " 'Scream 2',\n",
       " '1408',\n",
       " 'A Tale of Two Sisters',\n",
       " 'Ouija: Origin of Evil',\n",
       " 'Pontypool',\n",
       " 'The Shallows',\n",
       " 'Shadow of the Vampire',\n",
       " 'The House of the Devil',\n",
       " 'Tucker & Dale vs Evil',\n",
       " \"Dracula: Pages From a Virgin's Diary\",\n",
       " 'The Others',\n",
       " 'Creature From the Black Lagoon',\n",
       " 'Tremors',\n",
       " 'Creep',\n",
       " 'Carnival of Souls',\n",
       " 'Rec',\n",
       " 'Paranormal Activity',\n",
       " 'The Conjuring 2',\n",
       " 'Ginger Snaps',\n",
       " 'Goodnight Mommy',\n",
       " \"Julia's Eyes\",\n",
       " 'Sisters',\n",
       " 'Cargo',\n",
       " 'Slither',\n",
       " 'House on Haunted Hill',\n",
       " 'Poltergeist',\n",
       " 'The Girl With All the Gifts',\n",
       " 'The Thing',\n",
       " 'Dead Alive',\n",
       " 'Freaks',\n",
       " 'The Tenant',\n",
       " 'The Descent',\n",
       " 'Better Watch Out',\n",
       " 'An American Werewolf in London',\n",
       " 'Doctor Sleep',\n",
       " 'The Omen',\n",
       " 'Creepy',\n",
       " 'Come to Daddy',\n",
       " 'Crawl',\n",
       " 'The Exorcist',\n",
       " 'The Invitation',\n",
       " 'Hounds of Love',\n",
       " '1922',\n",
       " 'The Abominable Dr. Phibes',\n",
       " 'Martin',\n",
       " 'House',\n",
       " 'Henry: Portrait of a Serial Killer',\n",
       " 'Rare Exports: A Christmas Tale',\n",
       " 'Candyman',\n",
       " 'The Orphanage',\n",
       " 'The Dead Zone',\n",
       " 'Bone Tomahawk',\n",
       " 'Duel',\n",
       " 'House of Usher',\n",
       " 'The Blair Witch Project',\n",
       " \"The Devil's Candy\",\n",
       " \"Gerald's Game\",\n",
       " '28 Days Later',\n",
       " 'Prevenge',\n",
       " 'Demon',\n",
       " 'Horror of Dracula',\n",
       " 'Fright Night',\n",
       " 'The Wicker Man',\n",
       " 'Nina Forever',\n",
       " 'The Texas Chain Saw Massacre',\n",
       " 'The Conjuring',\n",
       " 'Misery',\n",
       " 'Village of the Damned',\n",
       " 'Color Out of Space',\n",
       " 'Let Me In',\n",
       " 'Halloween',\n",
       " 'Theatre of Blood',\n",
       " 'Attack the Block',\n",
       " 'Eraserhead',\n",
       " \"The Devil's Backbone\",\n",
       " 'Housebound',\n",
       " 'We Are Still Here',\n",
       " 'The Bird With the Crystal Plumage',\n",
       " 'The Phantom of the Opera',\n",
       " 'The Wolf Man',\n",
       " 'Dawn of the Dead',\n",
       " 'Dr. Jekyll and Mr. Hyde',\n",
       " 'Shaun of the Dead',\n",
       " 'The Endless',\n",
       " \"Don't Breathe\",\n",
       " 'Re-Animator',\n",
       " 'Zombieland',\n",
       " 'It Comes at Night',\n",
       " 'The Shining',\n",
       " 'Dracula',\n",
       " 'Deep Red',\n",
       " 'The Fly',\n",
       " 'A Nightmare on Elm Street',\n",
       " 'The Mummy',\n",
       " 'The Host',\n",
       " 'The Cat and the Canary',\n",
       " 'Train to Busan',\n",
       " 'Island of Lost Souls',\n",
       " 'Revenge',\n",
       " 'Suspiria',\n",
       " 'The Ring',\n",
       " 'I Walked With a Zombie',\n",
       " 'The Love Witch',\n",
       " 'Harpoon',\n",
       " 'Invasion of the Body Snatchers',\n",
       " 'The Innocents',\n",
       " 'The Loved Ones',\n",
       " 'Evil Dead 2',\n",
       " 'Raw',\n",
       " 'The Evil Dead',\n",
       " 'La llorona',\n",
       " 'Nosferatu',\n",
       " 'Creep 2',\n",
       " 'Green Room',\n",
       " 'Carrie',\n",
       " 'Midsommar',\n",
       " 'The Fly',\n",
       " 'House of Wax',\n",
       " 'Drag Me to Hell',\n",
       " 'A Girl Walks Home Alone at Night',\n",
       " 'His House',\n",
       " 'Ready or Not',\n",
       " 'Tigers Are Not Afraid',\n",
       " 'Mandy',\n",
       " 'It',\n",
       " \"Don't Look Now\",\n",
       " 'Cat People',\n",
       " 'The Birds',\n",
       " 'The Wailing',\n",
       " 'Dead of Night',\n",
       " 'Under the Shadow',\n",
       " 'Host',\n",
       " '10 Cloverfield Lane',\n",
       " 'Peeping Tom',\n",
       " 'The Witch',\n",
       " 'The Cabin in the Woods',\n",
       " 'Repulsion',\n",
       " 'Eyes Without a Face',\n",
       " \"Rosemary's Baby\",\n",
       " 'Halloween',\n",
       " 'The Silence of the Lambs',\n",
       " 'The Invisible Man',\n",
       " 'Aliens',\n",
       " 'Night of the Living Dead',\n",
       " 'Freaks',\n",
       " 'It Follows',\n",
       " 'Let the Right One In',\n",
       " 'Hereditary',\n",
       " 'Vampyr',\n",
       " 'Invasion of the Body Snatchers',\n",
       " 'The Lighthouse',\n",
       " 'Frankenstein',\n",
       " 'The Babadook',\n",
       " 'Jaws',\n",
       " 'Bride of Frankenstein',\n",
       " 'A Quiet Place',\n",
       " 'The Invisible Man',\n",
       " 'The Night of the Hunter',\n",
       " 'Nosferatu',\n",
       " 'King Kong',\n",
       " 'Alien',\n",
       " 'Us',\n",
       " 'The Cabinet of Dr. Caligari',\n",
       " 'Get Out',\n",
       " 'Psycho']"
      ]
     },
     "execution_count": 15,
     "metadata": {},
     "output_type": "execute_result"
    }
   ],
   "source": [
    "title"
   ]
  },
  {
   "cell_type": "code",
   "execution_count": 16,
   "id": "63f1cf1d",
   "metadata": {},
   "outputs": [],
   "source": [
    "year=bs.find_all('span',class_='subtle start-year')"
   ]
  },
  {
   "cell_type": "code",
   "execution_count": 17,
   "id": "0dd9ee57",
   "metadata": {},
   "outputs": [
    {
     "data": {
      "text/plain": [
       "'1987'"
      ]
     },
     "execution_count": 17,
     "metadata": {},
     "output_type": "execute_result"
    }
   ],
   "source": [
    "year[0].text[1:-1]"
   ]
  },
  {
   "cell_type": "code",
   "execution_count": 18,
   "id": "63d18975",
   "metadata": {},
   "outputs": [],
   "source": [
    "year=[i.text[1:-1] for i in year]"
   ]
  },
  {
   "cell_type": "code",
   "execution_count": 19,
   "id": "6cbee284",
   "metadata": {},
   "outputs": [
    {
     "data": {
      "text/plain": [
       "['1987',\n",
       " '1985',\n",
       " '1992',\n",
       " '1987',\n",
       " '1974',\n",
       " '1990',\n",
       " '2003',\n",
       " '2007',\n",
       " '2002',\n",
       " '1979',\n",
       " '2002',\n",
       " '2002',\n",
       " '1982',\n",
       " '2008',\n",
       " '1992',\n",
       " '2013',\n",
       " '2005',\n",
       " '1984',\n",
       " '1994',\n",
       " '2007',\n",
       " '1987',\n",
       " '2019',\n",
       " '1996',\n",
       " '2015',\n",
       " '2016',\n",
       " '2019',\n",
       " '1979',\n",
       " '1971',\n",
       " '1995',\n",
       " '2011',\n",
       " '1983',\n",
       " '2009',\n",
       " '1999',\n",
       " '',\n",
       " '1988',\n",
       " '1997',\n",
       " '2007',\n",
       " '2003',\n",
       " '2016',\n",
       " '2008',\n",
       " '2016',\n",
       " '2000',\n",
       " '2009',\n",
       " '2010',\n",
       " '2002',\n",
       " '2001',\n",
       " '1954',\n",
       " '1990',\n",
       " '2014',\n",
       " '1962',\n",
       " '2007',\n",
       " '2007',\n",
       " '2016',\n",
       " '2000',\n",
       " '2014',\n",
       " '2010',\n",
       " '1973',\n",
       " '2017',\n",
       " '2006',\n",
       " '1959',\n",
       " '1982',\n",
       " '2016',\n",
       " '1982',\n",
       " '1992',\n",
       " '2018',\n",
       " '1976',\n",
       " '2005',\n",
       " '2016',\n",
       " '1981',\n",
       " '2019',\n",
       " '1976',\n",
       " '2016',\n",
       " '2019',\n",
       " '2019',\n",
       " '1973',\n",
       " '2015',\n",
       " '2016',\n",
       " '2017',\n",
       " '1971',\n",
       " '1978',\n",
       " '1977',\n",
       " '1986',\n",
       " '2010',\n",
       " '2021',\n",
       " '2007',\n",
       " '1983',\n",
       " '2015',\n",
       " '1971',\n",
       " '1960',\n",
       " '1999',\n",
       " '2015',\n",
       " '2017',\n",
       " '2002',\n",
       " '2016',\n",
       " '2015',\n",
       " '1958',\n",
       " '1985',\n",
       " '1973',\n",
       " '2015',\n",
       " '1974',\n",
       " '2013',\n",
       " '1990',\n",
       " '1960',\n",
       " '2019',\n",
       " '2010',\n",
       " '2018',\n",
       " '1973',\n",
       " '2011',\n",
       " '1977',\n",
       " '2001',\n",
       " '2014',\n",
       " '2015',\n",
       " '1970',\n",
       " '1925',\n",
       " '1941',\n",
       " '1978',\n",
       " '1931',\n",
       " '2004',\n",
       " '2017',\n",
       " '2016',\n",
       " '1985',\n",
       " '2009',\n",
       " '2017',\n",
       " '1980',\n",
       " '1931',\n",
       " '1975',\n",
       " '1986',\n",
       " '1984',\n",
       " '1932',\n",
       " '2006',\n",
       " '1927',\n",
       " '2016',\n",
       " '1933',\n",
       " '2017',\n",
       " '1977',\n",
       " '1998',\n",
       " '1943',\n",
       " '2016',\n",
       " '2019',\n",
       " '1978',\n",
       " '1961',\n",
       " '2009',\n",
       " '1987',\n",
       " '2016',\n",
       " '1981',\n",
       " '2019',\n",
       " '1979',\n",
       " '2017',\n",
       " '2015',\n",
       " '1976',\n",
       " '2019',\n",
       " '1958',\n",
       " '1953',\n",
       " '2009',\n",
       " '2014',\n",
       " '2020',\n",
       " '2019',\n",
       " '2017',\n",
       " '2018',\n",
       " '2017',\n",
       " '1973',\n",
       " '1942',\n",
       " '1963',\n",
       " '2016',\n",
       " '1945',\n",
       " '2016',\n",
       " '2020',\n",
       " '2016',\n",
       " '1960',\n",
       " '2015',\n",
       " '2011',\n",
       " '1965',\n",
       " '1959',\n",
       " '1968',\n",
       " '1978',\n",
       " '1991',\n",
       " '1933',\n",
       " '1986',\n",
       " '1968',\n",
       " '1932',\n",
       " '2014',\n",
       " '2008',\n",
       " '2018',\n",
       " '1932',\n",
       " '1956',\n",
       " '2019',\n",
       " '1931',\n",
       " '2014',\n",
       " '1975',\n",
       " '1935',\n",
       " '2018',\n",
       " '2020',\n",
       " '1955',\n",
       " '1922',\n",
       " '1933',\n",
       " '1979',\n",
       " '2019',\n",
       " '1919',\n",
       " '2017',\n",
       " '1960']"
      ]
     },
     "execution_count": 19,
     "metadata": {},
     "output_type": "execute_result"
    }
   ],
   "source": [
    "year"
   ]
  },
  {
   "cell_type": "code",
   "execution_count": 20,
   "id": "dd128bcc",
   "metadata": {},
   "outputs": [
    {
     "data": {
      "text/plain": [
       "['71',\n",
       " '74',\n",
       " '78',\n",
       " '70',\n",
       " '67',\n",
       " '72',\n",
       " '72',\n",
       " '72',\n",
       " '71',\n",
       " '74',\n",
       " '75',\n",
       " '81',\n",
       " '77',\n",
       " '80',\n",
       " '79',\n",
       " '75',\n",
       " '74',\n",
       " '79',\n",
       " '79',\n",
       " '81',\n",
       " '76',\n",
       " '75',\n",
       " '81',\n",
       " '81',\n",
       " '75',\n",
       " '79',\n",
       " '80',\n",
       " '81',\n",
       " '83',\n",
       " '79',\n",
       " '81',\n",
       " '81',\n",
       " '83',\n",
       " '',\n",
       " '85',\n",
       " '82',\n",
       " '80',\n",
       " '85',\n",
       " '83',\n",
       " '84',\n",
       " '78',\n",
       " '81',\n",
       " '85',\n",
       " '85',\n",
       " '87',\n",
       " '84',\n",
       " '80',\n",
       " '88',\n",
       " '90',\n",
       " '87',\n",
       " '90',\n",
       " '83',\n",
       " '80',\n",
       " '90',\n",
       " '85',\n",
       " '90',\n",
       " '85',\n",
       " '87',\n",
       " '87',\n",
       " '78',\n",
       " '88',\n",
       " '86',\n",
       " '85',\n",
       " '89',\n",
       " '88',\n",
       " '83',\n",
       " '86',\n",
       " '89',\n",
       " '89',\n",
       " '78',\n",
       " '84',\n",
       " '90',\n",
       " '87',\n",
       " '84',\n",
       " '84',\n",
       " '89',\n",
       " '88',\n",
       " '92',\n",
       " '88',\n",
       " '90',\n",
       " '90',\n",
       " '89',\n",
       " '89',\n",
       " '84',\n",
       " '87',\n",
       " '88',\n",
       " '91',\n",
       " '89',\n",
       " '84',\n",
       " '86',\n",
       " '93',\n",
       " '91',\n",
       " '87',\n",
       " '91',\n",
       " '92',\n",
       " '90',\n",
       " '82',\n",
       " '90',\n",
       " '93',\n",
       " '89',\n",
       " '86',\n",
       " '91',\n",
       " '93',\n",
       " '86',\n",
       " '88',\n",
       " '79',\n",
       " '88',\n",
       " '90',\n",
       " '90',\n",
       " '93',\n",
       " '95',\n",
       " '95',\n",
       " '85',\n",
       " '90',\n",
       " '90',\n",
       " '93',\n",
       " '91',\n",
       " '92',\n",
       " '92',\n",
       " '88',\n",
       " '94',\n",
       " '89',\n",
       " '88',\n",
       " '82',\n",
       " '94',\n",
       " '93',\n",
       " '93',\n",
       " '95',\n",
       " '89',\n",
       " '93',\n",
       " '93',\n",
       " '94',\n",
       " '88',\n",
       " '93',\n",
       " '94',\n",
       " '98',\n",
       " '85',\n",
       " '95',\n",
       " '97',\n",
       " '92',\n",
       " '95',\n",
       " '98',\n",
       " '88',\n",
       " '93',\n",
       " '85',\n",
       " '96',\n",
       " '95',\n",
       " '100',\n",
       " '90',\n",
       " '93',\n",
       " '83',\n",
       " '95',\n",
       " '93',\n",
       " '92',\n",
       " '96',\n",
       " '100',\n",
       " '88',\n",
       " '97',\n",
       " '90',\n",
       " '86',\n",
       " '94',\n",
       " '92',\n",
       " '94',\n",
       " '99',\n",
       " '93',\n",
       " '99',\n",
       " '99',\n",
       " '90',\n",
       " '95',\n",
       " '90',\n",
       " '92',\n",
       " '95',\n",
       " '97',\n",
       " '96',\n",
       " '96',\n",
       " '95',\n",
       " '94',\n",
       " '98',\n",
       " '96',\n",
       " '95',\n",
       " '95',\n",
       " '98',\n",
       " '90',\n",
       " '98',\n",
       " '98',\n",
       " '90',\n",
       " '94',\n",
       " '98',\n",
       " '97',\n",
       " '98',\n",
       " '96',\n",
       " '92',\n",
       " '93',\n",
       " '97',\n",
       " '96',\n",
       " '98',\n",
       " '93',\n",
       " '96',\n",
       " '98',\n",
       " '96']"
      ]
     },
     "execution_count": 20,
     "metadata": {},
     "output_type": "execute_result"
    }
   ],
   "source": [
    "rating=bs.find_all('span',class_='tMeterScore')\n",
    "rating=[i.text.strip('%') for i in rating]\n",
    "rating"
   ]
  },
  {
   "cell_type": "code",
   "execution_count": 21,
   "id": "a9b17d55",
   "metadata": {},
   "outputs": [
    {
     "data": {
      "text/plain": [
       "200"
      ]
     },
     "execution_count": 21,
     "metadata": {},
     "output_type": "execute_result"
    }
   ],
   "source": [
    "len(rating)"
   ]
  },
  {
   "cell_type": "code",
   "execution_count": 22,
   "id": "d35e3a6b",
   "metadata": {},
   "outputs": [],
   "source": [
    "import pandas as pd"
   ]
  },
  {
   "cell_type": "code",
   "execution_count": 23,
   "id": "559ab0f8",
   "metadata": {},
   "outputs": [],
   "source": [
    "dataset=pd.DataFrame({'Title':title,'Year':year,'Rating':rating})"
   ]
  },
  {
   "cell_type": "code",
   "execution_count": 24,
   "id": "f0c752a9",
   "metadata": {},
   "outputs": [
    {
     "data": {
      "text/html": [
       "<div>\n",
       "<style scoped>\n",
       "    .dataframe tbody tr th:only-of-type {\n",
       "        vertical-align: middle;\n",
       "    }\n",
       "\n",
       "    .dataframe tbody tr th {\n",
       "        vertical-align: top;\n",
       "    }\n",
       "\n",
       "    .dataframe thead th {\n",
       "        text-align: right;\n",
       "    }\n",
       "</style>\n",
       "<table border=\"1\" class=\"dataframe\">\n",
       "  <thead>\n",
       "    <tr style=\"text-align: right;\">\n",
       "      <th></th>\n",
       "      <th>Title</th>\n",
       "      <th>Year</th>\n",
       "      <th>Rating</th>\n",
       "    </tr>\n",
       "  </thead>\n",
       "  <tbody>\n",
       "    <tr>\n",
       "      <th>0</th>\n",
       "      <td>A Nightmare on Elm Street 3: Dream Warriors</td>\n",
       "      <td>1987</td>\n",
       "      <td>71</td>\n",
       "    </tr>\n",
       "    <tr>\n",
       "      <th>1</th>\n",
       "      <td>Phenomena</td>\n",
       "      <td>1985</td>\n",
       "      <td>74</td>\n",
       "    </tr>\n",
       "    <tr>\n",
       "      <th>2</th>\n",
       "      <td>Bram Stoker's Dracula</td>\n",
       "      <td>1992</td>\n",
       "      <td>78</td>\n",
       "    </tr>\n",
       "    <tr>\n",
       "      <th>3</th>\n",
       "      <td>Hellraiser</td>\n",
       "      <td>1987</td>\n",
       "      <td>70</td>\n",
       "    </tr>\n",
       "    <tr>\n",
       "      <th>4</th>\n",
       "      <td>It's Alive!</td>\n",
       "      <td>1974</td>\n",
       "      <td>67</td>\n",
       "    </tr>\n",
       "  </tbody>\n",
       "</table>\n",
       "</div>"
      ],
      "text/plain": [
       "                                         Title  Year Rating\n",
       "0  A Nightmare on Elm Street 3: Dream Warriors  1987     71\n",
       "1                                    Phenomena  1985     74\n",
       "2                        Bram Stoker's Dracula  1992     78\n",
       "3                                   Hellraiser  1987     70\n",
       "4                                  It's Alive!  1974     67"
      ]
     },
     "execution_count": 24,
     "metadata": {},
     "output_type": "execute_result"
    }
   ],
   "source": [
    "dataset.head()"
   ]
  },
  {
   "cell_type": "code",
   "execution_count": 25,
   "id": "37ae94c9",
   "metadata": {},
   "outputs": [],
   "source": [
    "director_names=bs.find_all('div',class_='info director')"
   ]
  },
  {
   "cell_type": "code",
   "execution_count": 26,
   "id": "e71c3ffe",
   "metadata": {},
   "outputs": [
    {
     "data": {
      "text/plain": [
       "[<div class=\"info director\">\n",
       " <span class=\"descriptor\">Directed By:</span> <a class=\"\" href=\"//www.rottentomatoes.com/celebrity/chuck_russell\">Chuck Russell</a></div>,\n",
       " <div class=\"info director\">\n",
       " <span class=\"descriptor\">Directed By:</span> <a class=\"\" href=\"//www.rottentomatoes.com/celebrity/dario_argento\">Dario Argento</a></div>,\n",
       " <div class=\"info director\">\n",
       " <span class=\"descriptor\">Directed By:</span> <a class=\"\" href=\"//www.rottentomatoes.com/celebrity/francis_ford_coppola\">Francis Ford Coppola</a></div>,\n",
       " <div class=\"info director\">\n",
       " <span class=\"descriptor\">Directed By:</span> <a class=\"\" href=\"//www.rottentomatoes.com/celebrity/clive_barker\">Clive Barker</a></div>,\n",
       " <div class=\"info director\">\n",
       " <span class=\"descriptor\">Directed By:</span> <a class=\"\" href=\"//www.rottentomatoes.com/celebrity/lawrence_g_cohen\">Larry Cohen</a></div>,\n",
       " <div class=\"info director\">\n",
       " <span class=\"descriptor\">Directed By:</span> <a class=\"\" href=\"//www.rottentomatoes.com/celebrity/adrian_lyne\">Adrian Lyne</a></div>,\n",
       " <div class=\"info director\">\n",
       " <span class=\"descriptor\">Directed By:</span> <a class=\"\" href=\"//www.rottentomatoes.com/celebrity/chris_kentis\">Chris Kentis</a></div>,\n",
       " <div class=\"info director\">\n",
       " <span class=\"descriptor\">Directed By:</span> <a class=\"\" href=\"//www.rottentomatoes.com/celebrity/frank_darabont\">Frank Darabont</a></div>,\n",
       " <div class=\"info director\">\n",
       " <span class=\"descriptor\">Directed By:</span> <a class=\"\" href=\"//www.rottentomatoes.com/celebrity/gore_verbinski\">Gore Verbinski</a></div>,\n",
       " <div class=\"info director\">\n",
       " <span class=\"descriptor\">Directed By:</span> <a class=\"\" href=\"//www.rottentomatoes.com/celebrity/don_coscarelli_2\">Don Coscarelli</a></div>,\n",
       " <div class=\"info director\">\n",
       " <span class=\"descriptor\">Directed By:</span> <a class=\"\" href=\"//www.rottentomatoes.com/celebrity/bill_paxton\">Bill Paxton</a></div>,\n",
       " <div class=\"info director\">\n",
       " <span class=\"descriptor\">Directed By:</span> <a class=\"\" href=\"//www.rottentomatoes.com/celebrity/1145736-neil_marshall\">Neil Marshall</a></div>,\n",
       " <div class=\"info director\">\n",
       " <span class=\"descriptor\">Directed By:</span> <a class=\"\" href=\"//www.rottentomatoes.com/celebrity/frank_henenlotter\">Frank Henenlotter</a></div>,\n",
       " <div class=\"info director\">\n",
       " <span class=\"descriptor\">Directed By:</span> <a class=\"\" href=\"//www.rottentomatoes.com/celebrity/james_watkins\">James Watkins</a></div>,\n",
       " <div class=\"info director\">\n",
       " <span class=\"descriptor\">Directed By:</span> <a class=\"\" href=\"//www.rottentomatoes.com/celebrity/bernard_rose\">Bernard Rose</a></div>,\n",
       " <div class=\"info director\">\n",
       " <span class=\"descriptor\">Directed By:</span> <a class=\"\" href=\"//www.rottentomatoes.com/celebrity/mike_flanagan\">Mike Flanagan</a></div>,\n",
       " <div class=\"info director\">\n",
       " <span class=\"descriptor\">Directed By:</span> <a class=\"\" href=\"//www.rottentomatoes.com/celebrity/george_romero\">George A. Romero</a></div>,\n",
       " <div class=\"info director\">\n",
       " <span class=\"descriptor\">Directed By:</span> <a class=\"\" href=\"//www.rottentomatoes.com/celebrity/thom_eberhardt\">Thom Eberhardt</a></div>,\n",
       " <div class=\"info director\">\n",
       " <span class=\"descriptor\">Directed By:</span> <a class=\"\" href=\"//www.rottentomatoes.com/celebrity/wes_craven\">Wes Craven</a></div>,\n",
       " <div class=\"info director\">\n",
       " <span class=\"descriptor\">Directed By:</span> <a class=\"\" href=\"//www.rottentomatoes.com/celebrity/michael_dougherty\">Michael Dougherty</a></div>,\n",
       " <div class=\"info director\">\n",
       " <span class=\"descriptor\">Directed By:</span> <a class=\"\" href=\"//www.rottentomatoes.com/celebrity/joel_schumacher\">Joel Schumacher</a></div>,\n",
       " <div class=\"info director\">\n",
       " <span class=\"descriptor\">Directed By:</span> <a class=\"\" href=\"//www.rottentomatoes.com/celebrity/veronika_franz\">Veronika Franz</a>, <a class=\"\" href=\"//www.rottentomatoes.com/celebrity/severin_fiala\">Severin Fiala</a></div>,\n",
       " <div class=\"info director\">\n",
       " <span class=\"descriptor\">Directed By:</span> <a class=\"\" href=\"//www.rottentomatoes.com/celebrity/wes_craven\">Wes Craven</a></div>,\n",
       " <div class=\"info director\">\n",
       " <span class=\"descriptor\">Directed By:</span> <a class=\"\" href=\"//www.rottentomatoes.com/celebrity/roxanne_benjamin\">Roxanne Benjamin</a>, <a class=\"\" href=\"//www.rottentomatoes.com/celebrity/david_bruckner_2\">David Bruckner</a>, <a class=\"\" href=\"//www.rottentomatoes.com/celebrity/patrick_horvath\">Patrick Horvath</a>, <a class=\"\" href=\"//www.rottentomatoes.com/celebrity/radio_silence\">Radio Silence</a></div>,\n",
       " <div class=\"info director\">\n",
       " <span class=\"descriptor\">Directed By:</span> <a class=\"\" href=\"//www.rottentomatoes.com/celebrity/david_f_sandberg\">David F. Sandberg</a></div>,\n",
       " <div class=\"info director\">\n",
       " <span class=\"descriptor\">Directed By:</span> <a class=\"\" href=\"//www.rottentomatoes.com/celebrity/galder_gaztelu_urrutia\">Galder Gaztelu-Urrutia</a></div>,\n",
       " <div class=\"info director\">\n",
       " <span class=\"descriptor\">Directed By:</span> <a class=\"\" href=\"//www.rottentomatoes.com/celebrity/david_cronenberg\">David Cronenberg</a></div>,\n",
       " <div class=\"info director\">\n",
       " <span class=\"descriptor\">Directed By:</span> <a class=\"\" href=\"//www.rottentomatoes.com/celebrity/dario_argento\">Dario Argento</a></div>,\n",
       " <div class=\"info director\">\n",
       " <span class=\"descriptor\">Directed By:</span> <a class=\"\" href=\"//www.rottentomatoes.com/celebrity/anthony_waller\">Anthony Waller</a></div>,\n",
       " <div class=\"info director\">\n",
       " <span class=\"descriptor\">Directed By:</span> <a class=\"\" href=\"//www.rottentomatoes.com/celebrity/adam_wingard\">Adam Wingard</a></div>,\n",
       " <div class=\"info director\">\n",
       " <span class=\"descriptor\">Directed By:</span> <a class=\"\" href=\"//www.rottentomatoes.com/celebrity/david_cronenberg\">David Cronenberg</a></div>,\n",
       " <div class=\"info director\">\n",
       " <span class=\"descriptor\">Directed By:</span> <a class=\"\" href=\"//www.rottentomatoes.com/celebrity/park_chanuk\">Park Chan-wook</a></div>,\n",
       " <div class=\"info director\">\n",
       " <span class=\"descriptor\">Directed By:</span> <a class=\"\" href=\"//www.rottentomatoes.com/celebrity/takashi_miike\">Takashi Miike</a></div>,\n",
       " <div class=\"info director\">\n",
       " <span class=\"descriptor\">Directed By:</span> <a class=\"\" href=\"//www.rottentomatoes.com/celebrity/david_cronenberg\">David Cronenberg</a></div>,\n",
       " <div class=\"info director\">\n",
       " <span class=\"descriptor\">Directed By:</span> <a class=\"\" href=\"//www.rottentomatoes.com/celebrity/wes_craven\">Wes Craven</a></div>,\n",
       " <div class=\"info director\">\n",
       " <span class=\"descriptor\">Directed By:</span> <a class=\"\" href=\"//www.rottentomatoes.com/celebrity/mikael_hafstrom\">Mikael Håfström</a></div>,\n",
       " <div class=\"info director\">\n",
       " <span class=\"descriptor\">Directed By:</span> <a class=\"\" href=\"//www.rottentomatoes.com/celebrity/ji_woon_kim\">Kim Jee-woon</a></div>,\n",
       " <div class=\"info director\">\n",
       " <span class=\"descriptor\">Directed By:</span> <a class=\"\" href=\"//www.rottentomatoes.com/celebrity/mike_flanagan\">Mike Flanagan</a></div>,\n",
       " <div class=\"info director\">\n",
       " <span class=\"descriptor\">Directed By:</span> <a class=\"\" href=\"//www.rottentomatoes.com/celebrity/bruce_mcdonald\">Bruce McDonald</a></div>,\n",
       " <div class=\"info director\">\n",
       " <span class=\"descriptor\">Directed By:</span> <a class=\"\" href=\"//www.rottentomatoes.com/celebrity/jaume_collet_sera\">Jaume Collet-Serra</a></div>,\n",
       " <div class=\"info director\">\n",
       " <span class=\"descriptor\">Directed By:</span> <a class=\"\" href=\"//www.rottentomatoes.com/celebrity/e-elias-merhige\">E. Elias Merhige</a></div>,\n",
       " <div class=\"info director\">\n",
       " <span class=\"descriptor\">Directed By:</span> <a class=\"\" href=\"//www.rottentomatoes.com/celebrity/ti_west\">Ti West</a></div>,\n",
       " <div class=\"info director\">\n",
       " <span class=\"descriptor\">Directed By:</span> <a class=\"\" href=\"//www.rottentomatoes.com/celebrity/eli_craig\">Eli Craig</a></div>,\n",
       " <div class=\"info director\">\n",
       " <span class=\"descriptor\">Directed By:</span> <a class=\"\" href=\"//www.rottentomatoes.com/celebrity/guy_maddin\">Guy Maddin</a></div>,\n",
       " <div class=\"info director\">\n",
       " <span class=\"descriptor\">Directed By:</span> <a class=\"\" href=\"//www.rottentomatoes.com/celebrity/alejandro_amenabar\">Alejandro Amenábar</a></div>,\n",
       " <div class=\"info director\">\n",
       " <span class=\"descriptor\">Directed By:</span> <a class=\"\" href=\"//www.rottentomatoes.com/celebrity/jack_arnold\">Jack Arnold</a></div>,\n",
       " <div class=\"info director\">\n",
       " <span class=\"descriptor\">Directed By:</span> <a class=\"\" href=\"//www.rottentomatoes.com/celebrity/ron_underwood\">Ron Underwood</a></div>,\n",
       " <div class=\"info director\">\n",
       " <span class=\"descriptor\">Directed By:</span> <a class=\"\" href=\"//www.rottentomatoes.com/celebrity/patrick_brice\">Patrick Brice</a></div>,\n",
       " <div class=\"info director\">\n",
       " <span class=\"descriptor\">Directed By:</span> <a class=\"\" href=\"//www.rottentomatoes.com/celebrity/herk_harvey\">Herk Harvey</a></div>,\n",
       " <div class=\"info director\">\n",
       " <span class=\"descriptor\">Directed By:</span> <a class=\"\" href=\"//www.rottentomatoes.com/celebrity/jaume_balaguero\">Jaume Balagueró</a>, <a class=\"\" href=\"//www.rottentomatoes.com/celebrity/paco_plaza\">Paco Plaza</a></div>,\n",
       " <div class=\"info director\">\n",
       " <span class=\"descriptor\">Directed By:</span> <a class=\"\" href=\"//www.rottentomatoes.com/celebrity/1221685-oren_peli\">Oren Peli</a></div>,\n",
       " <div class=\"info director\">\n",
       " <span class=\"descriptor\">Directed By:</span> <a class=\"\" href=\"//www.rottentomatoes.com/celebrity/james_wan\">James Wan</a></div>,\n",
       " <div class=\"info director\">\n",
       " <span class=\"descriptor\">Directed By:</span> <a class=\"\" href=\"//www.rottentomatoes.com/celebrity/john_fawcett\">John Fawcett</a></div>,\n",
       " <div class=\"info director\">\n",
       " <span class=\"descriptor\">Directed By:</span> <a class=\"\" href=\"//www.rottentomatoes.com/celebrity/veronika_franz\">Veronika Franz</a>, <a class=\"\" href=\"//www.rottentomatoes.com/celebrity/severin_fiala\">Severin Fiala</a></div>,\n",
       " <div class=\"info director\">\n",
       " <span class=\"descriptor\">Directed By:</span> <a class=\"\" href=\"//www.rottentomatoes.com/celebrity/guillem_morales\">Guillem Morales</a></div>,\n",
       " <div class=\"info director\">\n",
       " <span class=\"descriptor\">Directed By:</span> <a class=\"\" href=\"//www.rottentomatoes.com/celebrity/771481922\">Brian De Palma</a></div>,\n",
       " <div class=\"info director\">\n",
       " <span class=\"descriptor\">Directed By:</span> <a class=\"\" href=\"//www.rottentomatoes.com/celebrity/ben_howling\">Ben Howling</a>, <a class=\"\" href=\"//www.rottentomatoes.com/celebrity/yolanda_ramke\">Yolanda Ramke</a></div>,\n",
       " <div class=\"info director\">\n",
       " <span class=\"descriptor\">Directed By:</span> <a class=\"\" href=\"//www.rottentomatoes.com/celebrity/james_gunn\">James Gunn</a></div>,\n",
       " <div class=\"info director\">\n",
       " <span class=\"descriptor\">Directed By:</span> <a class=\"\" href=\"//www.rottentomatoes.com/celebrity/william_castle\">William Castle</a></div>,\n",
       " <div class=\"info director\">\n",
       " <span class=\"descriptor\">Directed By:</span> <a class=\"\" href=\"//www.rottentomatoes.com/celebrity/tobe_hooper\">Tobe Hooper</a></div>,\n",
       " <div class=\"info director\">\n",
       " <span class=\"descriptor\">Directed By:</span> <a class=\"\" href=\"//www.rottentomatoes.com/celebrity/colm-mccarthy\">Colm McCarthy</a></div>,\n",
       " <div class=\"info director\">\n",
       " <span class=\"descriptor\">Directed By:</span> <a class=\"\" href=\"//www.rottentomatoes.com/celebrity/rip_haight\">John Carpenter</a></div>,\n",
       " <div class=\"info director\">\n",
       " <span class=\"descriptor\">Directed By:</span> <a class=\"\" href=\"//www.rottentomatoes.com/celebrity/peter_jackson\">Peter Jackson</a></div>,\n",
       " <div class=\"info director\">\n",
       " <span class=\"descriptor\">Directed By:</span> <a class=\"\" href=\"//www.rottentomatoes.com/celebrity/adam_stein\">Adam B. Stein</a>, <a class=\"\" href=\"//www.rottentomatoes.com/celebrity/zach_lipovsky\">Zach Lipovsky</a></div>,\n",
       " <div class=\"info director\">\n",
       " <span class=\"descriptor\">Directed By:</span> <a class=\"\" href=\"//www.rottentomatoes.com/celebrity/roman_polaski\">Roman Polanski</a></div>,\n",
       " <div class=\"info director\">\n",
       " <span class=\"descriptor\">Directed By:</span> <a class=\"\" href=\"//www.rottentomatoes.com/celebrity/1145736-neil_marshall\">Neil Marshall</a></div>,\n",
       " <div class=\"info director\">\n",
       " <span class=\"descriptor\">Directed By:</span> <a class=\"\" href=\"//www.rottentomatoes.com/celebrity/chris_peckover\">Chris Peckover</a></div>,\n",
       " <div class=\"info director\">\n",
       " <span class=\"descriptor\">Directed By:</span> <a class=\"\" href=\"//www.rottentomatoes.com/celebrity/john_landis\">John Landis</a></div>,\n",
       " <div class=\"info director\">\n",
       " <span class=\"descriptor\">Directed By:</span> <a class=\"\" href=\"//www.rottentomatoes.com/celebrity/mike_flanagan\">Mike Flanagan</a></div>,\n",
       " <div class=\"info director\">\n",
       " <span class=\"descriptor\">Directed By:</span> <a class=\"\" href=\"//www.rottentomatoes.com/celebrity/richard_donner\">Richard Donner</a></div>,\n",
       " <div class=\"info director\">\n",
       " <span class=\"descriptor\">Directed By:</span> <a class=\"\" href=\"//www.rottentomatoes.com/celebrity/kiyoshi_kurosawa\">Kiyoshi Kurosawa</a></div>,\n",
       " <div class=\"info director\">\n",
       " <span class=\"descriptor\">Directed By:</span> <a class=\"\" href=\"//www.rottentomatoes.com/celebrity/ant_timpson\">Ant Timpson</a></div>,\n",
       " <div class=\"info director\">\n",
       " <span class=\"descriptor\">Directed By:</span> <a class=\"\" href=\"//www.rottentomatoes.com/celebrity/alexandre-aja\">Alexandre Aja</a></div>,\n",
       " <div class=\"info director\">\n",
       " <span class=\"descriptor\">Directed By:</span> <a class=\"\" href=\"//www.rottentomatoes.com/celebrity/william_friedkin\">William Friedkin</a></div>,\n",
       " <div class=\"info director\">\n",
       " <span class=\"descriptor\">Directed By:</span> <a class=\"\" href=\"//www.rottentomatoes.com/celebrity/karyn_kusama\">Karyn Kusama</a></div>,\n",
       " <div class=\"info director\">\n",
       " <span class=\"descriptor\">Directed By:</span> <a class=\"\" href=\"//www.rottentomatoes.com/celebrity/ben_young_3\">Ben Young</a></div>,\n",
       " <div class=\"info director\">\n",
       " <span class=\"descriptor\">Directed By:</span> <a class=\"\" href=\"//www.rottentomatoes.com/celebrity/zak_hilditch\">Zak Hilditch</a></div>,\n",
       " <div class=\"info director\">\n",
       " <span class=\"descriptor\">Directed By:</span> <a class=\"\" href=\"//www.rottentomatoes.com/celebrity/robert_fuest\">Robert Fuest</a></div>,\n",
       " <div class=\"info director\">\n",
       " <span class=\"descriptor\">Directed By:</span> <a class=\"\" href=\"//www.rottentomatoes.com/celebrity/george_romero\">George A. Romero</a></div>,\n",
       " <div class=\"info director\">\n",
       " <span class=\"descriptor\">Directed By:</span> <a class=\"\" href=\"//www.rottentomatoes.com/celebrity/nobuhiko_obayashi\">Nobuhiko Ôbayashi</a></div>,\n",
       " <div class=\"info director\">\n",
       " <span class=\"descriptor\">Directed By:</span> <a class=\"\" href=\"//www.rottentomatoes.com/celebrity/john_mcnaughton\">John McNaughton</a></div>,\n",
       " <div class=\"info director\">\n",
       " <span class=\"descriptor\">Directed By:</span> <a class=\"\" href=\"//www.rottentomatoes.com/celebrity/jalmari_helander\">Jalmari Helander</a></div>,\n",
       " <div class=\"info director\">\n",
       " <span class=\"descriptor\">Directed By:</span> <a class=\"\" href=\"//www.rottentomatoes.com/celebrity/nia_dacosta\">Nia DaCosta</a></div>,\n",
       " <div class=\"info director\">\n",
       " <span class=\"descriptor\">Directed By:</span> <a class=\"\" href=\"//www.rottentomatoes.com/celebrity/j_a_bayona\">J. A. Bayona</a></div>,\n",
       " <div class=\"info director\">\n",
       " <span class=\"descriptor\">Directed By:</span> <a class=\"\" href=\"//www.rottentomatoes.com/celebrity/david_cronenberg\">David Cronenberg</a></div>,\n",
       " <div class=\"info director\">\n",
       " <span class=\"descriptor\">Directed By:</span> <a class=\"\" href=\"//www.rottentomatoes.com/celebrity/s_craig_zahler\">S. Craig Zahler</a></div>,\n",
       " <div class=\"info director\">\n",
       " <span class=\"descriptor\">Directed By:</span> <a class=\"\" href=\"//www.rottentomatoes.com/celebrity/steve_spielberg\">Steven Spielberg</a></div>,\n",
       " <div class=\"info director\">\n",
       " <span class=\"descriptor\">Directed By:</span> <a class=\"\" href=\"//www.rottentomatoes.com/celebrity/roger_corman\">Roger Corman</a></div>,\n",
       " <div class=\"info director\">\n",
       " <span class=\"descriptor\">Directed By:</span> <a class=\"\" href=\"//www.rottentomatoes.com/celebrity/daniel_myrick\">Daniel Myrick</a>, <a class=\"\" href=\"//www.rottentomatoes.com/celebrity/eduardo_sanchez_3\">Eduardo Sánchez</a></div>,\n",
       " <div class=\"info director\">\n",
       " <span class=\"descriptor\">Directed By:</span> <a class=\"\" href=\"//www.rottentomatoes.com/celebrity/sean_byrne\">Sean Byrne</a></div>,\n",
       " <div class=\"info director\">\n",
       " <span class=\"descriptor\">Directed By:</span> <a class=\"\" href=\"//www.rottentomatoes.com/celebrity/mike_flanagan\">Mike Flanagan</a></div>,\n",
       " <div class=\"info director\">\n",
       " <span class=\"descriptor\">Directed By:</span> <a class=\"\" href=\"//www.rottentomatoes.com/celebrity/danny_boyle\">Danny Boyle</a></div>,\n",
       " <div class=\"info director\">\n",
       " <span class=\"descriptor\">Directed By:</span> <a class=\"\" href=\"//www.rottentomatoes.com/celebrity/alice_lowe\">Alice Lowe</a></div>,\n",
       " <div class=\"info director\">\n",
       " <span class=\"descriptor\">Directed By:</span> <a class=\"\" href=\"//www.rottentomatoes.com/celebrity/marcin_wrona\">Marcin Wrona</a></div>,\n",
       " <div class=\"info director\">\n",
       " <span class=\"descriptor\">Directed By:</span> <a class=\"\" href=\"//www.rottentomatoes.com/celebrity/terence_fisher\">Terence Fisher</a></div>,\n",
       " <div class=\"info director\">\n",
       " <span class=\"descriptor\">Directed By:</span> <a class=\"\" href=\"//www.rottentomatoes.com/celebrity/tom-holland\">Tom Holland</a></div>,\n",
       " <div class=\"info director\">\n",
       " <span class=\"descriptor\">Directed By:</span> <a class=\"\" href=\"//www.rottentomatoes.com/celebrity/robin-hardy\">Robin Hardy</a></div>,\n",
       " <div class=\"info director\">\n",
       " <span class=\"descriptor\">Directed By:</span> <a class=\"\" href=\"//www.rottentomatoes.com/celebrity/ben_blaine_2\">Ben Blaine</a>, <a class=\"\" href=\"//www.rottentomatoes.com/celebrity/chris_blaine_2\">Chris Blaine</a></div>,\n",
       " <div class=\"info director\">\n",
       " <span class=\"descriptor\">Directed By:</span> <a class=\"\" href=\"//www.rottentomatoes.com/celebrity/tobe_hooper\">Tobe Hooper</a></div>,\n",
       " <div class=\"info director\">\n",
       " <span class=\"descriptor\">Directed By:</span> <a class=\"\" href=\"//www.rottentomatoes.com/celebrity/james_wan\">James Wan</a></div>,\n",
       " <div class=\"info director\">\n",
       " <span class=\"descriptor\">Directed By:</span> <a class=\"\" href=\"//www.rottentomatoes.com/celebrity/rob_reiner\">Rob Reiner</a></div>,\n",
       " <div class=\"info director\">\n",
       " <span class=\"descriptor\">Directed By:</span> <a class=\"\" href=\"//www.rottentomatoes.com/celebrity/wolf-rilla\">Wolf Rilla</a></div>,\n",
       " <div class=\"info director\">\n",
       " <span class=\"descriptor\">Directed By:</span> <a class=\"\" href=\"//www.rottentomatoes.com/celebrity/richard_stanley\">Richard Stanley</a></div>,\n",
       " <div class=\"info director\">\n",
       " <span class=\"descriptor\">Directed By:</span> <a class=\"\" href=\"//www.rottentomatoes.com/celebrity/matt_reeves\">Matt Reeves</a></div>,\n",
       " <div class=\"info director\">\n",
       " <span class=\"descriptor\">Directed By:</span> <a class=\"\" href=\"//www.rottentomatoes.com/celebrity/david_gordon_green\">David Gordon Green</a></div>,\n",
       " <div class=\"info director\">\n",
       " <span class=\"descriptor\">Directed By:</span> <a class=\"\" href=\"//www.rottentomatoes.com/celebrity/douglas_hickox\">Douglas Hickox</a></div>,\n",
       " <div class=\"info director\">\n",
       " <span class=\"descriptor\">Directed By:</span> <a class=\"\" href=\"//www.rottentomatoes.com/celebrity/joe_cornish\">Joe Cornish</a></div>,\n",
       " <div class=\"info director\">\n",
       " <span class=\"descriptor\">Directed By:</span> <a class=\"\" href=\"//www.rottentomatoes.com/celebrity/david_lynch\">David Lynch</a></div>,\n",
       " <div class=\"info director\">\n",
       " <span class=\"descriptor\">Directed By:</span> <a class=\"\" href=\"//www.rottentomatoes.com/celebrity/guillermo_del_toro\">Guillermo del Toro</a></div>,\n",
       " <div class=\"info director\">\n",
       " <span class=\"descriptor\">Directed By:</span> <a class=\"\" href=\"//www.rottentomatoes.com/celebrity/gerard_johnstone\">Gerard Johnstone</a></div>,\n",
       " <div class=\"info director\">\n",
       " <span class=\"descriptor\">Directed By:</span> <a class=\"\" href=\"//www.rottentomatoes.com/celebrity/ted_geoghegan\">Ted Geoghegan</a></div>,\n",
       " <div class=\"info director\">\n",
       " <span class=\"descriptor\">Directed By:</span> <a class=\"\" href=\"//www.rottentomatoes.com/celebrity/dario_argento\">Dario Argento</a></div>,\n",
       " <div class=\"info director\">\n",
       " <span class=\"descriptor\">Directed By:</span> <a class=\"\" href=\"//www.rottentomatoes.com/celebrity/rupert_julian\">Rupert Julian</a></div>,\n",
       " <div class=\"info director\">\n",
       " <span class=\"descriptor\">Directed By:</span> <a class=\"\" href=\"//www.rottentomatoes.com/celebrity/george_waggner\">George Waggner</a></div>,\n",
       " <div class=\"info director\">\n",
       " <span class=\"descriptor\">Directed By:</span> <a class=\"\" href=\"//www.rottentomatoes.com/celebrity/george_romero\">George A. Romero</a></div>,\n",
       " <div class=\"info director\">\n",
       " <span class=\"descriptor\">Directed By:</span> <a class=\"\" href=\"//www.rottentomatoes.com/celebrity/rouben_mamoulian\">Rouben Mamoulian</a></div>,\n",
       " <div class=\"info director\">\n",
       " <span class=\"descriptor\">Directed By:</span> <a class=\"\" href=\"//www.rottentomatoes.com/celebrity/edgar_wright\">Edgar Wright</a></div>,\n",
       " <div class=\"info director\">\n",
       " <span class=\"descriptor\">Directed By:</span> <a class=\"\" href=\"//www.rottentomatoes.com/celebrity/aaron_moorhead\">Aaron Moorhead</a>, <a class=\"\" href=\"//www.rottentomatoes.com/celebrity/justin_benson\">Justin Benson</a></div>,\n",
       " <div class=\"info director\">\n",
       " <span class=\"descriptor\">Directed By:</span> <a class=\"\" href=\"//www.rottentomatoes.com/celebrity/fede_alvarez\">Fede Alvarez</a></div>,\n",
       " <div class=\"info director\">\n",
       " <span class=\"descriptor\">Directed By:</span> <a class=\"\" href=\"//www.rottentomatoes.com/celebrity/stuart_gordon\">Stuart Gordon</a></div>,\n",
       " <div class=\"info director\">\n",
       " <span class=\"descriptor\">Directed By:</span> <a class=\"\" href=\"//www.rottentomatoes.com/celebrity/ruben-fleischer\">Ruben Fleischer</a></div>,\n",
       " <div class=\"info director\">\n",
       " <span class=\"descriptor\">Directed By:</span> <a class=\"\" href=\"//www.rottentomatoes.com/celebrity/trey_edward_shults\">Trey Edward Shults</a></div>,\n",
       " <div class=\"info director\">\n",
       " <span class=\"descriptor\">Directed By:</span> <a class=\"\" href=\"//www.rottentomatoes.com/celebrity/stanley_kubrick\">Stanley Kubrick</a></div>,\n",
       " <div class=\"info director\">\n",
       " <span class=\"descriptor\">Directed By:</span> <a class=\"\" href=\"//www.rottentomatoes.com/celebrity/tod_browning\">Tod Browning</a></div>,\n",
       " <div class=\"info director\">\n",
       " <span class=\"descriptor\">Directed By:</span> <a class=\"\" href=\"//www.rottentomatoes.com/celebrity/dario_argento\">Dario Argento</a></div>,\n",
       " <div class=\"info director\">\n",
       " <span class=\"descriptor\">Directed By:</span> <a class=\"\" href=\"//www.rottentomatoes.com/celebrity/david_cronenberg\">David Cronenberg</a></div>,\n",
       " <div class=\"info director\">\n",
       " <span class=\"descriptor\">Directed By:</span> <a class=\"\" href=\"//www.rottentomatoes.com/celebrity/wes_craven\">Wes Craven</a></div>,\n",
       " <div class=\"info director\">\n",
       " <span class=\"descriptor\">Directed By:</span> <a class=\"\" href=\"//www.rottentomatoes.com/celebrity/karl_freund\">Karl Freund</a></div>,\n",
       " <div class=\"info director\">\n",
       " <span class=\"descriptor\">Directed By:</span> <a class=\"\" href=\"//www.rottentomatoes.com/celebrity/bong_joon_ho\">Bong Joon Ho</a></div>,\n",
       " <div class=\"info director\">\n",
       " <span class=\"descriptor\">Directed By:</span> <a class=\"\" href=\"//www.rottentomatoes.com/celebrity/paul_leni\">Paul Leni</a></div>,\n",
       " <div class=\"info director\">\n",
       " <span class=\"descriptor\">Directed By:</span> <a class=\"\" href=\"//www.rottentomatoes.com/celebrity/yeon_sangho\">Yeon Sang-ho</a></div>,\n",
       " <div class=\"info director\">\n",
       " <span class=\"descriptor\">Directed By:</span> <a class=\"\" href=\"//www.rottentomatoes.com/celebrity/erle_c_kenton\">Erle C. Kenton</a></div>,\n",
       " <div class=\"info director\">\n",
       " <span class=\"descriptor\">Directed By:</span> <a class=\"\" href=\"//www.rottentomatoes.com/celebrity/coralie_fargeat\">Coralie Fargeat</a></div>,\n",
       " <div class=\"info director\">\n",
       " <span class=\"descriptor\">Directed By:</span> <a class=\"\" href=\"//www.rottentomatoes.com/celebrity/dario_argento\">Dario Argento</a></div>,\n",
       " <div class=\"info director\">\n",
       " <span class=\"descriptor\">Directed By:</span> <a class=\"\" href=\"//www.rottentomatoes.com/celebrity/hideo_nakata\">Hideo Nakata</a></div>,\n",
       " <div class=\"info director\">\n",
       " <span class=\"descriptor\">Directed By:</span> <a class=\"\" href=\"//www.rottentomatoes.com/celebrity/jacques_tourneur\">Jacques Tourneur</a></div>,\n",
       " <div class=\"info director\">\n",
       " <span class=\"descriptor\">Directed By:</span> <a class=\"\" href=\"//www.rottentomatoes.com/celebrity/anna-biller\">Anna Biller</a></div>,\n",
       " <div class=\"info director\">\n",
       " <span class=\"descriptor\">Directed By:</span> <a class=\"\" href=\"//www.rottentomatoes.com/celebrity/rob_grant\">Rob Grant</a></div>,\n",
       " <div class=\"info director\">\n",
       " <span class=\"descriptor\">Directed By:</span> <a class=\"\" href=\"//www.rottentomatoes.com/celebrity/philip_kaufman\">Philip Kaufman</a></div>,\n",
       " <div class=\"info director\">\n",
       " <span class=\"descriptor\">Directed By:</span> <a class=\"\" href=\"//www.rottentomatoes.com/celebrity/jack_clayton\">Jack Clayton</a></div>,\n",
       " <div class=\"info director\">\n",
       " <span class=\"descriptor\">Directed By:</span> <a class=\"\" href=\"//www.rottentomatoes.com/celebrity/sean_byrne\">Sean Byrne</a></div>,\n",
       " <div class=\"info director\">\n",
       " <span class=\"descriptor\">Directed By:</span> <a class=\"\" href=\"//www.rottentomatoes.com/celebrity/sam_raimi\">Sam Raimi</a></div>,\n",
       " <div class=\"info director\">\n",
       " <span class=\"descriptor\">Directed By:</span> <a class=\"\" href=\"//www.rottentomatoes.com/celebrity/julia_ducournau_2\">Julia Ducournau</a></div>,\n",
       " <div class=\"info director\">\n",
       " <span class=\"descriptor\">Directed By:</span> <a class=\"\" href=\"//www.rottentomatoes.com/celebrity/sam_raimi\">Sam Raimi</a></div>,\n",
       " <div class=\"info director\">\n",
       " <span class=\"descriptor\">Directed By:</span> <a class=\"\" href=\"//www.rottentomatoes.com/celebrity/jayro_bustamante\">Jayro Bustamante</a></div>,\n",
       " <div class=\"info director\">\n",
       " <span class=\"descriptor\">Directed By:</span> <a class=\"\" href=\"//www.rottentomatoes.com/celebrity/werner_herzog\">Werner Herzog</a></div>,\n",
       " <div class=\"info director\">\n",
       " <span class=\"descriptor\">Directed By:</span> <a class=\"\" href=\"//www.rottentomatoes.com/celebrity/patrick_brice\">Patrick Brice</a></div>,\n",
       " <div class=\"info director\">\n",
       " <span class=\"descriptor\">Directed By:</span> <a class=\"\" href=\"//www.rottentomatoes.com/celebrity/jeremy_saulnier\">Jeremy Saulnier</a></div>,\n",
       " <div class=\"info director\">\n",
       " <span class=\"descriptor\">Directed By:</span> <a class=\"\" href=\"//www.rottentomatoes.com/celebrity/771481922\">Brian De Palma</a></div>,\n",
       " <div class=\"info director\">\n",
       " <span class=\"descriptor\">Directed By:</span> <a class=\"\" href=\"//www.rottentomatoes.com/celebrity/ari_aster\">Ari Aster</a></div>,\n",
       " <div class=\"info director\">\n",
       " <span class=\"descriptor\">Directed By:</span> <a class=\"\" href=\"//www.rottentomatoes.com/celebrity/kurt_neumann\">Kurt Neumann</a></div>,\n",
       " <div class=\"info director\">\n",
       " <span class=\"descriptor\">Directed By:</span> <a class=\"\" href=\"//www.rottentomatoes.com/celebrity/andre_de_toth_2\">Andre de Toth</a></div>,\n",
       " <div class=\"info director\">\n",
       " <span class=\"descriptor\">Directed By:</span> <a class=\"\" href=\"//www.rottentomatoes.com/celebrity/sam_raimi\">Sam Raimi</a></div>,\n",
       " <div class=\"info director\">\n",
       " <span class=\"descriptor\">Directed By:</span> <a class=\"\" href=\"//www.rottentomatoes.com/celebrity/ana_lily_amirpour\">Ana Lily Amirpour</a></div>,\n",
       " <div class=\"info director\">\n",
       " <span class=\"descriptor\">Directed By:</span> <a class=\"\" href=\"//www.rottentomatoes.com/celebrity/remi_weekes\">Remi Weekes</a></div>,\n",
       " <div class=\"info director\">\n",
       " <span class=\"descriptor\">Directed By:</span> <a class=\"\" href=\"//www.rottentomatoes.com/celebrity/matt_bettinelli_olpin\">Matt Bettinelli-Olpin</a>, <a class=\"\" href=\"//www.rottentomatoes.com/celebrity/tyler_gillett\">Tyler Gillett</a></div>,\n",
       " <div class=\"info director\">\n",
       " <span class=\"descriptor\">Directed By:</span> <a class=\"\" href=\"//www.rottentomatoes.com/celebrity/issa_lopez_2\">Issa López</a></div>,\n",
       " <div class=\"info director\">\n",
       " <span class=\"descriptor\">Directed By:</span> <a class=\"\" href=\"//www.rottentomatoes.com/celebrity/panos_cosmatos\">Panos Cosmatos</a></div>,\n",
       " <div class=\"info director\">\n",
       " <span class=\"descriptor\">Directed By:</span> <a class=\"\" href=\"//www.rottentomatoes.com/celebrity/andy_muschietti\">Andy Muschietti</a></div>,\n",
       " <div class=\"info director\">\n",
       " <span class=\"descriptor\">Directed By:</span> <a class=\"\" href=\"//www.rottentomatoes.com/celebrity/nicolas_roeg\">Nicolas Roeg</a></div>,\n",
       " <div class=\"info director\">\n",
       " <span class=\"descriptor\">Directed By:</span> <a class=\"\" href=\"//www.rottentomatoes.com/celebrity/jacques_tourneur\">Jacques Tourneur</a></div>,\n",
       " <div class=\"info director\">\n",
       " <span class=\"descriptor\">Directed By:</span> <a class=\"\" href=\"//www.rottentomatoes.com/celebrity/alfred_hitchcock\">Alfred Hitchcock</a></div>,\n",
       " <div class=\"info director\">\n",
       " <span class=\"descriptor\">Directed By:</span> <a class=\"\" href=\"//www.rottentomatoes.com/celebrity/hongjin_na\">Na Hong-jin</a></div>,\n",
       " <div class=\"info director\">\n",
       " <span class=\"descriptor\">Directed By:</span> <a class=\"\" href=\"//www.rottentomatoes.com/celebrity/alberto_cavalcanti\">Alberto Cavalcanti</a>, <a class=\"\" href=\"//www.rottentomatoes.com/celebrity/basil_dearden\">Basil Dearden</a>, <a class=\"\" href=\"//www.rottentomatoes.com/celebrity/robert_hamer\">Robert Hamer</a>, <a class=\"\" href=\"//www.rottentomatoes.com/celebrity/charles_crichton\">Charles Crichton</a></div>,\n",
       " <div class=\"info director\">\n",
       " <span class=\"descriptor\">Directed By:</span> <a class=\"\" href=\"//www.rottentomatoes.com/celebrity/babak_anvari\">Babak Anvari</a></div>,\n",
       " <div class=\"info director\">\n",
       " <span class=\"descriptor\">Directed By:</span> <a class=\"\" href=\"//www.rottentomatoes.com/celebrity/rob_savage\">Rob Savage</a></div>,\n",
       " <div class=\"info director\">\n",
       " <span class=\"descriptor\">Directed By:</span> <a class=\"\" href=\"//www.rottentomatoes.com/celebrity/dan_trachtenberg\">Dan Trachtenberg</a></div>,\n",
       " <div class=\"info director\">\n",
       " <span class=\"descriptor\">Directed By:</span> <a class=\"\" href=\"//www.rottentomatoes.com/celebrity/michael_powell\">Michael Powell</a></div>,\n",
       " <div class=\"info director\">\n",
       " <span class=\"descriptor\">Directed By:</span> <a class=\"\" href=\"//www.rottentomatoes.com/celebrity/robert_eggers\">Robert Eggers</a></div>,\n",
       " <div class=\"info director\">\n",
       " <span class=\"descriptor\">Directed By:</span> <a class=\"\" href=\"//www.rottentomatoes.com/celebrity/drew_goddard\">Drew Goddard</a></div>,\n",
       " <div class=\"info director\">\n",
       " <span class=\"descriptor\">Directed By:</span> <a class=\"\" href=\"//www.rottentomatoes.com/celebrity/roman_polaski\">Roman Polanski</a></div>,\n",
       " <div class=\"info director\">\n",
       " <span class=\"descriptor\">Directed By:</span> <a class=\"\" href=\"//www.rottentomatoes.com/celebrity/george_franju\">Georges Franju</a></div>,\n",
       " <div class=\"info director\">\n",
       " <span class=\"descriptor\">Directed By:</span> <a class=\"\" href=\"//www.rottentomatoes.com/celebrity/roman_polaski\">Roman Polanski</a></div>,\n",
       " <div class=\"info director\">\n",
       " <span class=\"descriptor\">Directed By:</span> <a class=\"\" href=\"//www.rottentomatoes.com/celebrity/rip_haight\">John Carpenter</a></div>,\n",
       " <div class=\"info director\">\n",
       " <span class=\"descriptor\">Directed By:</span> <a class=\"\" href=\"//www.rottentomatoes.com/celebrity/jonathan_demme\">Jonathan Demme</a></div>,\n",
       " <div class=\"info director\">\n",
       " <span class=\"descriptor\">Directed By:</span> <a class=\"\" href=\"//www.rottentomatoes.com/celebrity/james_whale\">James Whale</a></div>,\n",
       " <div class=\"info director\">\n",
       " <span class=\"descriptor\">Directed By:</span> <a class=\"\" href=\"//www.rottentomatoes.com/celebrity/james_cameron\">James Cameron</a></div>,\n",
       " <div class=\"info director\">\n",
       " <span class=\"descriptor\">Directed By:</span> <a class=\"\" href=\"//www.rottentomatoes.com/celebrity/george_romero\">George A. Romero</a></div>,\n",
       " <div class=\"info director\">\n",
       " <span class=\"descriptor\">Directed By:</span> <a class=\"\" href=\"//www.rottentomatoes.com/celebrity/tod_browning\">Tod Browning</a></div>,\n",
       " <div class=\"info director\">\n",
       " <span class=\"descriptor\">Directed By:</span> <a class=\"\" href=\"//www.rottentomatoes.com/celebrity/david_robert_mitchell_2\">David Robert Mitchell</a></div>,\n",
       " <div class=\"info director\">\n",
       " <span class=\"descriptor\">Directed By:</span> <a class=\"\" href=\"//www.rottentomatoes.com/celebrity/tomas-alfredson\">Tomas Alfredson</a></div>,\n",
       " <div class=\"info director\">\n",
       " <span class=\"descriptor\">Directed By:</span> <a class=\"\" href=\"//www.rottentomatoes.com/celebrity/ari_aster\">Ari Aster</a></div>,\n",
       " <div class=\"info director\">\n",
       " <span class=\"descriptor\">Directed By:</span> <a class=\"\" href=\"//www.rottentomatoes.com/celebrity/carl_theodor_dreyer\">Carl Theodor Dreyer</a></div>,\n",
       " <div class=\"info director\">\n",
       " <span class=\"descriptor\">Directed By:</span> <a class=\"\" href=\"//www.rottentomatoes.com/celebrity/don_siegel\">Don Siegel</a></div>,\n",
       " <div class=\"info director\">\n",
       " <span class=\"descriptor\">Directed By:</span> <a class=\"\" href=\"//www.rottentomatoes.com/celebrity/robert_eggers\">Robert Eggers</a></div>,\n",
       " <div class=\"info director\">\n",
       " <span class=\"descriptor\">Directed By:</span> <a class=\"\" href=\"//www.rottentomatoes.com/celebrity/james_whale\">James Whale</a></div>,\n",
       " <div class=\"info director\">\n",
       " <span class=\"descriptor\">Directed By:</span> <a class=\"\" href=\"//www.rottentomatoes.com/celebrity/jennifer_kent\">Jennifer Kent</a></div>,\n",
       " <div class=\"info director\">\n",
       " <span class=\"descriptor\">Directed By:</span> <a class=\"\" href=\"//www.rottentomatoes.com/celebrity/steve_spielberg\">Steven Spielberg</a></div>,\n",
       " <div class=\"info director\">\n",
       " <span class=\"descriptor\">Directed By:</span> <a class=\"\" href=\"//www.rottentomatoes.com/celebrity/james_whale\">James Whale</a></div>,\n",
       " <div class=\"info director\">\n",
       " <span class=\"descriptor\">Directed By:</span> <a class=\"\" href=\"//www.rottentomatoes.com/celebrity/john_krasinksi\">John Krasinski</a></div>,\n",
       " <div class=\"info director\">\n",
       " <span class=\"descriptor\">Directed By:</span> <a class=\"\" href=\"//www.rottentomatoes.com/celebrity/leigh_whannell\">Leigh Whannell</a></div>,\n",
       " <div class=\"info director\">\n",
       " <span class=\"descriptor\">Directed By:</span> <a class=\"\" href=\"//www.rottentomatoes.com/celebrity/charles_laughton\">Charles Laughton</a></div>,\n",
       " <div class=\"info director\">\n",
       " <span class=\"descriptor\">Directed By:</span> <a class=\"\" href=\"//www.rottentomatoes.com/celebrity/fw_murnau\">F.W. Murnau</a></div>,\n",
       " <div class=\"info director\">\n",
       " <span class=\"descriptor\">Directed By:</span> <a class=\"\" href=\"//www.rottentomatoes.com/celebrity/merian_c_cooper\">Merian C. Cooper</a>, <a class=\"\" href=\"//www.rottentomatoes.com/celebrity/ernest_b_schoedsack\">Ernest B. Schoedsack</a></div>,\n",
       " <div class=\"info director\">\n",
       " <span class=\"descriptor\">Directed By:</span> <a class=\"\" href=\"//www.rottentomatoes.com/celebrity/ridley_scott\">Ridley Scott</a></div>,\n",
       " <div class=\"info director\">\n",
       " <span class=\"descriptor\">Directed By:</span> <a class=\"\" href=\"//www.rottentomatoes.com/celebrity/jordan_peele\">Jordan Peele</a></div>,\n",
       " <div class=\"info director\">\n",
       " <span class=\"descriptor\">Directed By:</span> <a class=\"\" href=\"//www.rottentomatoes.com/celebrity/robert_wiene\">Robert Wiene</a></div>,\n",
       " <div class=\"info director\">\n",
       " <span class=\"descriptor\">Directed By:</span> <a class=\"\" href=\"//www.rottentomatoes.com/celebrity/jordan_peele\">Jordan Peele</a></div>,\n",
       " <div class=\"info director\">\n",
       " <span class=\"descriptor\">Directed By:</span> <a class=\"\" href=\"//www.rottentomatoes.com/celebrity/alfred_hitchcock\">Alfred Hitchcock</a></div>]"
      ]
     },
     "execution_count": 26,
     "metadata": {},
     "output_type": "execute_result"
    }
   ],
   "source": [
    "director_names"
   ]
  },
  {
   "cell_type": "code",
   "execution_count": 27,
   "id": "c7a103ac",
   "metadata": {},
   "outputs": [
    {
     "data": {
      "text/plain": [
       "<div class=\"info director\">\n",
       "<span class=\"descriptor\">Directed By:</span> <a class=\"\" href=\"//www.rottentomatoes.com/celebrity/chuck_russell\">Chuck Russell</a></div>"
      ]
     },
     "execution_count": 27,
     "metadata": {},
     "output_type": "execute_result"
    }
   ],
   "source": [
    "director_names[0]"
   ]
  },
  {
   "cell_type": "code",
   "execution_count": 28,
   "id": "9344233a",
   "metadata": {},
   "outputs": [
    {
     "data": {
      "text/plain": [
       "[<a class=\"\" href=\"//www.rottentomatoes.com/celebrity/chuck_russell\">Chuck Russell</a>]"
      ]
     },
     "execution_count": 28,
     "metadata": {},
     "output_type": "execute_result"
    }
   ],
   "source": [
    "director_names[0].find_all('a')"
   ]
  },
  {
   "cell_type": "code",
   "execution_count": 29,
   "id": "ec626bdd",
   "metadata": {},
   "outputs": [],
   "source": [
    "director=[i.find('a').string for i in director_names]"
   ]
  },
  {
   "cell_type": "code",
   "execution_count": 30,
   "id": "d1700bab",
   "metadata": {},
   "outputs": [
    {
     "data": {
      "text/plain": [
       "['Chuck Russell',\n",
       " 'Dario Argento',\n",
       " 'Francis Ford Coppola',\n",
       " 'Clive Barker',\n",
       " 'Larry Cohen',\n",
       " 'Adrian Lyne',\n",
       " 'Chris Kentis',\n",
       " 'Frank Darabont',\n",
       " 'Gore Verbinski',\n",
       " 'Don Coscarelli',\n",
       " 'Bill Paxton',\n",
       " 'Neil Marshall',\n",
       " 'Frank Henenlotter',\n",
       " 'James Watkins',\n",
       " 'Bernard Rose',\n",
       " 'Mike Flanagan',\n",
       " 'George A. Romero',\n",
       " 'Thom Eberhardt',\n",
       " 'Wes Craven',\n",
       " 'Michael Dougherty',\n",
       " 'Joel Schumacher',\n",
       " 'Veronika Franz',\n",
       " 'Wes Craven',\n",
       " 'Roxanne Benjamin',\n",
       " 'David F. Sandberg',\n",
       " 'Galder Gaztelu-Urrutia',\n",
       " 'David Cronenberg',\n",
       " 'Dario Argento',\n",
       " 'Anthony Waller',\n",
       " 'Adam Wingard',\n",
       " 'David Cronenberg',\n",
       " 'Park Chan-wook',\n",
       " 'Takashi Miike',\n",
       " 'David Cronenberg',\n",
       " 'Wes Craven',\n",
       " 'Mikael Håfström',\n",
       " 'Kim Jee-woon',\n",
       " 'Mike Flanagan',\n",
       " 'Bruce McDonald',\n",
       " 'Jaume Collet-Serra',\n",
       " 'E. Elias Merhige',\n",
       " 'Ti West',\n",
       " 'Eli Craig',\n",
       " 'Guy Maddin',\n",
       " 'Alejandro Amenábar',\n",
       " 'Jack Arnold',\n",
       " 'Ron Underwood',\n",
       " 'Patrick Brice',\n",
       " 'Herk Harvey',\n",
       " 'Jaume Balagueró',\n",
       " 'Oren Peli',\n",
       " 'James Wan',\n",
       " 'John Fawcett',\n",
       " 'Veronika Franz',\n",
       " 'Guillem Morales',\n",
       " 'Brian De Palma',\n",
       " 'Ben Howling',\n",
       " 'James Gunn',\n",
       " 'William Castle',\n",
       " 'Tobe Hooper',\n",
       " 'Colm McCarthy',\n",
       " 'John Carpenter',\n",
       " 'Peter Jackson',\n",
       " 'Adam B. Stein',\n",
       " 'Roman Polanski',\n",
       " 'Neil Marshall',\n",
       " 'Chris Peckover',\n",
       " 'John Landis',\n",
       " 'Mike Flanagan',\n",
       " 'Richard Donner',\n",
       " 'Kiyoshi Kurosawa',\n",
       " 'Ant Timpson',\n",
       " 'Alexandre Aja',\n",
       " 'William Friedkin',\n",
       " 'Karyn Kusama',\n",
       " 'Ben Young',\n",
       " 'Zak Hilditch',\n",
       " 'Robert Fuest',\n",
       " 'George A. Romero',\n",
       " 'Nobuhiko Ôbayashi',\n",
       " 'John McNaughton',\n",
       " 'Jalmari Helander',\n",
       " 'Nia DaCosta',\n",
       " 'J. A. Bayona',\n",
       " 'David Cronenberg',\n",
       " 'S. Craig Zahler',\n",
       " 'Steven Spielberg',\n",
       " 'Roger Corman',\n",
       " 'Daniel Myrick',\n",
       " 'Sean Byrne',\n",
       " 'Mike Flanagan',\n",
       " 'Danny Boyle',\n",
       " 'Alice Lowe',\n",
       " 'Marcin Wrona',\n",
       " 'Terence Fisher',\n",
       " 'Tom Holland',\n",
       " 'Robin Hardy',\n",
       " 'Ben Blaine',\n",
       " 'Tobe Hooper',\n",
       " 'James Wan',\n",
       " 'Rob Reiner',\n",
       " 'Wolf Rilla',\n",
       " 'Richard Stanley',\n",
       " 'Matt Reeves',\n",
       " 'David Gordon Green',\n",
       " 'Douglas Hickox',\n",
       " 'Joe Cornish',\n",
       " 'David Lynch',\n",
       " 'Guillermo del Toro',\n",
       " 'Gerard Johnstone',\n",
       " 'Ted Geoghegan',\n",
       " 'Dario Argento',\n",
       " 'Rupert Julian',\n",
       " 'George Waggner',\n",
       " 'George A. Romero',\n",
       " 'Rouben Mamoulian',\n",
       " 'Edgar Wright',\n",
       " 'Aaron Moorhead',\n",
       " 'Fede Alvarez',\n",
       " 'Stuart Gordon',\n",
       " 'Ruben Fleischer',\n",
       " 'Trey Edward Shults',\n",
       " 'Stanley Kubrick',\n",
       " 'Tod Browning',\n",
       " 'Dario Argento',\n",
       " 'David Cronenberg',\n",
       " 'Wes Craven',\n",
       " 'Karl Freund',\n",
       " 'Bong Joon Ho',\n",
       " 'Paul Leni',\n",
       " 'Yeon Sang-ho',\n",
       " 'Erle C. Kenton',\n",
       " 'Coralie Fargeat',\n",
       " 'Dario Argento',\n",
       " 'Hideo Nakata',\n",
       " 'Jacques Tourneur',\n",
       " 'Anna Biller',\n",
       " 'Rob Grant',\n",
       " 'Philip Kaufman',\n",
       " 'Jack Clayton',\n",
       " 'Sean Byrne',\n",
       " 'Sam Raimi',\n",
       " 'Julia Ducournau',\n",
       " 'Sam Raimi',\n",
       " 'Jayro Bustamante',\n",
       " 'Werner Herzog',\n",
       " 'Patrick Brice',\n",
       " 'Jeremy Saulnier',\n",
       " 'Brian De Palma',\n",
       " 'Ari Aster',\n",
       " 'Kurt Neumann',\n",
       " 'Andre de Toth',\n",
       " 'Sam Raimi',\n",
       " 'Ana Lily Amirpour',\n",
       " 'Remi Weekes',\n",
       " 'Matt Bettinelli-Olpin',\n",
       " 'Issa López',\n",
       " 'Panos Cosmatos',\n",
       " 'Andy Muschietti',\n",
       " 'Nicolas Roeg',\n",
       " 'Jacques Tourneur',\n",
       " 'Alfred Hitchcock',\n",
       " 'Na Hong-jin',\n",
       " 'Alberto Cavalcanti',\n",
       " 'Babak Anvari',\n",
       " 'Rob Savage',\n",
       " 'Dan Trachtenberg',\n",
       " 'Michael Powell',\n",
       " 'Robert Eggers',\n",
       " 'Drew Goddard',\n",
       " 'Roman Polanski',\n",
       " 'Georges Franju',\n",
       " 'Roman Polanski',\n",
       " 'John Carpenter',\n",
       " 'Jonathan Demme',\n",
       " 'James Whale',\n",
       " 'James Cameron',\n",
       " 'George A. Romero',\n",
       " 'Tod Browning',\n",
       " 'David Robert Mitchell',\n",
       " 'Tomas Alfredson',\n",
       " 'Ari Aster',\n",
       " 'Carl Theodor Dreyer',\n",
       " 'Don Siegel',\n",
       " 'Robert Eggers',\n",
       " 'James Whale',\n",
       " 'Jennifer Kent',\n",
       " 'Steven Spielberg',\n",
       " 'James Whale',\n",
       " 'John Krasinski',\n",
       " 'Leigh Whannell',\n",
       " 'Charles Laughton',\n",
       " 'F.W. Murnau',\n",
       " 'Merian C. Cooper',\n",
       " 'Ridley Scott',\n",
       " 'Jordan Peele',\n",
       " 'Robert Wiene',\n",
       " 'Jordan Peele',\n",
       " 'Alfred Hitchcock']"
      ]
     },
     "execution_count": 30,
     "metadata": {},
     "output_type": "execute_result"
    }
   ],
   "source": [
    "director"
   ]
  },
  {
   "cell_type": "code",
   "execution_count": 34,
   "id": "139001e8",
   "metadata": {},
   "outputs": [
    {
     "data": {
      "text/plain": [
       "<div class=\"info cast\">\n",
       "<span class=\"descriptor\">Starring:</span> <a class=\"\" href=\"//www.rottentomatoes.com/celebrity/heather_langenkamp\">Heather Langenkamp</a>, <a class=\"\" href=\"//www.rottentomatoes.com/celebrity/patricia_arquette\">Patricia Arquette</a>, <a class=\"\" href=\"//www.rottentomatoes.com/celebrity/craig_wasson\">Craig Wasson</a>, <a class=\"\" href=\"//www.rottentomatoes.com/celebrity/larry_fishburne\">Laurence Fishburne</a></div>"
      ]
     },
     "execution_count": 34,
     "metadata": {},
     "output_type": "execute_result"
    }
   ],
   "source": [
    "casting=bs.find('div',class_='info cast')\n",
    "casting"
   ]
  },
  {
   "cell_type": "code",
   "execution_count": 35,
   "id": "4733f6a9",
   "metadata": {},
   "outputs": [
    {
     "ename": "KeyError",
     "evalue": "0",
     "output_type": "error",
     "traceback": [
      "\u001b[0;31m---------------------------------------------------------------------------\u001b[0m",
      "\u001b[0;31mKeyError\u001b[0m                                  Traceback (most recent call last)",
      "Cell \u001b[0;32mIn[35], line 1\u001b[0m\n\u001b[0;32m----> 1\u001b[0m \u001b[43mcasting\u001b[49m\u001b[43m[\u001b[49m\u001b[38;5;241;43m0\u001b[39;49m\u001b[43m]\u001b[49m\n",
      "File \u001b[0;32m/opt/anaconda3/lib/python3.9/site-packages/bs4/element.py:1519\u001b[0m, in \u001b[0;36mTag.__getitem__\u001b[0;34m(self, key)\u001b[0m\n\u001b[1;32m   1516\u001b[0m \u001b[38;5;28;01mdef\u001b[39;00m \u001b[38;5;21m__getitem__\u001b[39m(\u001b[38;5;28mself\u001b[39m, key):\n\u001b[1;32m   1517\u001b[0m     \u001b[38;5;124;03m\"\"\"tag[key] returns the value of the 'key' attribute for the Tag,\u001b[39;00m\n\u001b[1;32m   1518\u001b[0m \u001b[38;5;124;03m    and throws an exception if it's not there.\"\"\"\u001b[39;00m\n\u001b[0;32m-> 1519\u001b[0m     \u001b[38;5;28;01mreturn\u001b[39;00m \u001b[38;5;28;43mself\u001b[39;49m\u001b[38;5;241;43m.\u001b[39;49m\u001b[43mattrs\u001b[49m\u001b[43m[\u001b[49m\u001b[43mkey\u001b[49m\u001b[43m]\u001b[49m\n",
      "\u001b[0;31mKeyError\u001b[0m: 0"
     ]
    }
   ],
   "source": [
    "casting[0]"
   ]
  },
  {
   "cell_type": "code",
   "execution_count": 158,
   "id": "7872e900",
   "metadata": {},
   "outputs": [
    {
     "data": {
      "text/plain": [
       "[<a class=\"\" href=\"//www.rottentomatoes.com/celebrity/heather_langenkamp\">Heather Langenkamp</a>,\n",
       " <a class=\"\" href=\"//www.rottentomatoes.com/celebrity/patricia_arquette\">Patricia Arquette</a>,\n",
       " <a class=\"\" href=\"//www.rottentomatoes.com/celebrity/craig_wasson\">Craig Wasson</a>,\n",
       " <a class=\"\" href=\"//www.rottentomatoes.com/celebrity/larry_fishburne\">Laurence Fishburne</a>]"
      ]
     },
     "execution_count": 158,
     "metadata": {},
     "output_type": "execute_result"
    }
   ],
   "source": [
    "cast_links=casting[0].find_all('a')\n",
    "cast_links"
   ]
  },
  {
   "cell_type": "code",
   "execution_count": 160,
   "id": "21f844d2",
   "metadata": {},
   "outputs": [
    {
     "data": {
      "text/plain": [
       "['Heather Langenkamp',\n",
       " 'Patricia Arquette',\n",
       " 'Craig Wasson',\n",
       " 'Laurence Fishburne']"
      ]
     },
     "execution_count": 160,
     "metadata": {},
     "output_type": "execute_result"
    }
   ],
   "source": [
    "cast_names=[i.string for i in cast_links]\n",
    "cast_names"
   ]
  },
  {
   "cell_type": "code",
   "execution_count": 163,
   "id": "4948c034",
   "metadata": {},
   "outputs": [
    {
     "data": {
      "text/plain": [
       "'Heather Langenkamp,Patricia Arquette,Craig Wasson,Laurence Fishburne'"
      ]
     },
     "execution_count": 163,
     "metadata": {},
     "output_type": "execute_result"
    }
   ],
   "source": [
    "cast=','.join(cast_names)\n",
    "cast"
   ]
  },
  {
   "cell_type": "code",
   "execution_count": 167,
   "id": "7d68623c",
   "metadata": {},
   "outputs": [
    {
     "data": {
      "text/plain": [
       "['Heather Langenkamp,Patricia Arquette,Craig Wasson,Laurence Fishburne',\n",
       " 'Jennifer Connelly,Donald Pleasence,Dalila Di Lazzaro,Fausta Avelli',\n",
       " 'Gary Oldman,Winona Ryder,Anthony Hopkins,Keanu Reeves',\n",
       " 'Andrew Robinson,Clare Higgins,Ashley Laurence,Sean Chapman',\n",
       " 'John P. Ryan,Sharon Farrell,Andrew Duggan,Guy Stockwell',\n",
       " 'Tim Robbins,Elizabeth Peña,Danny Aiello,Matt Craven',\n",
       " 'Blanchard Ryan,Daniel Travis,Saul Stein,Estelle Lau',\n",
       " 'Thomas Jane,Marcia Gay Harden,Laurie Holden,Andre Braugher',\n",
       " 'Naomi Watts,Martin Henderson,David Dorfman,Brian Cox',\n",
       " 'A. Michael Baldwin,Bill Thornbury,Reggie Bannister,Kathy Lester',\n",
       " \"Bill Paxton,Matthew McConaughey,Powers Boothe,Matt O'Leary\",\n",
       " 'Sean Pertwee,Kevin McKidd,Emma Cleasby,Liam Cunningham',\n",
       " 'Kevin Van Hentenryck,Terri Susan Smith,Beverly Bonner',\n",
       " 'Finn Atkins,Michael Fassbender,James Gandhi,Tom Gill',\n",
       " 'Virginia Madsen,Tony Todd,Xander Berkeley,Kasi Lemmons',\n",
       " 'Karen Gillan,Brenton Thwaites,Katee Sackhoff,Rory Cochrane',\n",
       " 'Simon Baker,John Leguizamo,Asia Argento,Robert Joy',\n",
       " 'Catherine Mary Stewart,Kelli Maroney,Robert Beltran,Geoffrey Lewis',\n",
       " 'Robert Englund,Heather Langenkamp,Miko Hughes,David Newsom',\n",
       " 'Anna Paquin,Brian Cox,Dylan Baker,Leslie Bibb',\n",
       " 'Jason Patric,Corey Haim,Dianne Wiest,Barnard Hughes',\n",
       " 'Riley Keough,Jaeden Martell,Lia McHugh,Richard Armitage',\n",
       " 'Neve Campbell,David Arquette,Courteney Cox,Matthew Lillard',\n",
       " 'Chad Villella,Matt Bettinelli-Olpin,Kristina Pesic,Fabianne Therese',\n",
       " 'Teresa Palmer,Gabriel Bateman,Alexander DiPersia,Billy Burke',\n",
       " 'Emilio Buale,Zorion Eguileor,Alexandra Masangkay,Ivan Massagué',\n",
       " 'Oliver Reed,Samantha Eggar,Art Hindle,Henry Beckman',\n",
       " 'Karl Malden,James Franciscus,Catherine Spaak,Cindy Hamilton',\n",
       " 'Mary Sudina,Fay Ripley,Evan Richards,Oleg Jankovskij',\n",
       " 'Sharni Vinson,Nicholas Tucci,Wendy Glenn,AJ Bowen',\n",
       " 'James Woods,Deborah Harry,Sonja Smits,Peter Dvorsky',\n",
       " 'Song Kang-ho,Kim Ok-bin,Shin Ha-kyun,Kim Hae-sook',\n",
       " 'Ryo Ishibashi,Eihi Shiina,Jun Kunimura,Miyuki Matsuda',\n",
       " 'Jeremy Irons,Geneviève Bujold,Heidi von Palleske,Barbara Gordon',\n",
       " 'David Arquette,Neve Campbell,Courteney Cox,Sarah Michelle Gellar',\n",
       " 'John Cusack,Samuel L. Jackson,Mary McCormack,Jasmine Anthony',\n",
       " 'Yum Jung-ah,Kim Kap-soo,Moon Geun-young,Lim Soo-jung',\n",
       " 'Elizabeth Reaser,Annalise Basso,Lulu Wilson,Henry Thomas',\n",
       " 'Stephen McHattie,Lisa Houle,Georgina Reilly,Hrant Alianak',\n",
       " 'Blake Lively,Óscar Jaenada,Brett Cullen,Sedona Legge',\n",
       " 'John Malkovich,Willem Dafoe,Cary Elwes,Aden Gillett',\n",
       " 'Jocelin Donahue,Tom Noonan,Mary Woronov,Greta Gerwig',\n",
       " 'Tyler Labine,Alan Tudyk,Katrina Bowden,Jesse Moss',\n",
       " 'Zhang Wei-Qiang,David Moroni,Tara Birtwhistle,Stephane Leonard',\n",
       " 'Nicole Kidman,Christopher Eccleston,Alakina Mann,James Bentley',\n",
       " 'Richard Carlson,Julie Adams,Richard Denning,Antonio Moreno',\n",
       " 'Kevin Bacon,Fred Ward,Finn Carter,Michael Gross',\n",
       " 'Mark Duplass,Patrick Brice',\n",
       " 'Candace Hilligoss,Frances Feist,Sidney Berger,Stan Levitt',\n",
       " 'Manuela Velasco,Ferran Terraza,Jorge-Yamam Serrano,Carlos Lasarte',\n",
       " 'Katie Featherston,Micah Sloat,Amber Armstrong,Mark Fredrichs',\n",
       " \"Patrick Wilson,Vera Farmiga,Madison Wolfe,Frances O'Connor\",\n",
       " 'Emily Perkins,Katharine Isabelle,Kris Lemche,Mimi Rogers',\n",
       " 'Susanne Wuest,Elias Schwarz,Lukas Schwarz,Hans Escher',\n",
       " 'Belén Rueda,Lluís Homar,Pablo Derqui,Francesc Orella',\n",
       " 'Margot Kidder,Jennifer Salt,Charles Durning,William Finley',\n",
       " 'Martin Freeman,Anthony Hayes,Susie Porter,Simone Landers',\n",
       " 'Nathan Fillion,Elizabeth Banks,Michael Rooker,Gregg Henry',\n",
       " 'Vincent Price,Carol Ohmart,Richard Long,Alan Marshal',\n",
       " 'Craig T. Nelson,JoBeth Williams,Beatrice Straight,Dominique Dunne',\n",
       " 'Gemma Arterton,Glenn Close,Paddy Considine,Anamaria Marinca',\n",
       " 'Kurt Russell,Wilford Brimley,T.K. Carter,Richard Dysart',\n",
       " 'Timothy Balme,Diana Peñalver,Elizabeth Moody,Ian Watkin',\n",
       " 'Emile Hirsch,Bruce Dern,Lexy Kolker,Amanda Crew',\n",
       " 'Roman Polanski,Isabelle Adjani,Melvyn Douglas,Shelley Winters',\n",
       " 'Shauna Macdonald,Natalie Mendoza,Alex Reid,Saskia Mulder',\n",
       " 'Levi Miller,Olivia DeJonge,Ed Oxenbould,Dacre Montgomery',\n",
       " 'David Naughton,Jenny Agutter,Griffin Dunne,John Woodvine',\n",
       " 'Ewan McGregor,Rebecca Ferguson,Kyliegh Curran,Cliff Curtis',\n",
       " 'Gregory Peck,Lee Remick,David Warner,Billie Whitelaw',\n",
       " 'Hidetoshi Nishijima,Yuko Takeuchi,Masahiro Higashide,Teruyuki Kagawa',\n",
       " 'Elijah Wood,Stephen McHattie,Martin Donovan,Michael Smiley',\n",
       " 'Kaya Scodelario,Barry Pepper,Morfydd Clark,Ross Anderson',\n",
       " 'Ellen Burstyn,Linda Blair,Max von Sydow,Lee J. Cobb',\n",
       " 'Logan Marshall-Green,Tammy Blanchard,Michiel Huisman,Emayatzy Corinealdi',\n",
       " 'Emma Booth,Ashleigh Cummings,Stephen Curry,Susie Porter',\n",
       " \"Thomas Jane,Neal McDonough,Molly Parker,Brian d'Arcy James\",\n",
       " 'Vincent Price,Joseph Cotten,Terry-Thomas,Hugh Griffith',\n",
       " 'John Amplas,Lincoln Maazel,Christine Forrest,Elyane Nadeau',\n",
       " 'Kimiko Ikegami,Ai Matsubara,Miki Jinbo,Eriko Tanaka',\n",
       " 'Michael Rooker,Tracy Arnold,Tom Towles,Anne Bartoletti',\n",
       " 'Onni Tommila,Jorma Tommila,Ilmari Järvenpää,Peeter Jakobi',\n",
       " 'Yahya Abdul-Mateen II,Teyonah Parris,Nathan Stewart-Jarrett,Colman Domingo',\n",
       " 'Belén Rueda,Fernando Cayo,Geraldine Chaplin,Montserrat Carulla',\n",
       " 'Christopher Walken,Brooke Adams,Tom Skerritt,Herbert Lom',\n",
       " 'Kurt Russell,Patrick Wilson,Richard Jenkins,Matthew Fox',\n",
       " 'Dennis Weaver,Tim Herbert,Charles Seel,Eddie Firestone',\n",
       " 'Vincent Price,Myrna Fahey,Mark Damon,Harry Ellerbe',\n",
       " 'Heather Donahue,Michael C. Williams,Joshua Leonard,Bob Griffith',\n",
       " 'Ethan Embry,Shiri Appleby,Pruitt Taylor Vince,Kiara Glasco',\n",
       " 'Carla Gugino,Bruce Greenwood,Henry Thomas,Carel Struycken',\n",
       " 'Cillian Murphy,Noah Huntley,Naomie Harris,Brendan Gleeson',\n",
       " 'Kate Dickie,Gemma Whelan,Alice Lowe,Kayvan Novak',\n",
       " 'Itay Tiran,Tomasz Schuchardt,Andrzej Grabowski,Adam Woronowicz',\n",
       " 'Peter Cushing,Christopher Lee,Michael Gough,Melissa Stribling',\n",
       " 'Chris Sarandon,William Ragsdale,Roddy McDowall,Amanda Bearse',\n",
       " 'Edward Woodward,Christopher Lee,Britt Ekland,Diane Cilento',\n",
       " \"Fiona O'Shaughnessy,Abigail Hardingham,Cian Barry,David Troughton\",\n",
       " 'Marilyn Burns,Gunnar Hansen,Allen Danziger,Paul A. Partain',\n",
       " 'Vera Farmiga,Patrick Wilson,Lili Taylor,Ron Livingston',\n",
       " 'James Caan,Kathy Bates,Frances Sternhagen,Richard Farnsworth',\n",
       " 'George Sanders,Barbara Shelley,Michael Gwynn,Laurence Naismith',\n",
       " 'Nicolas Cage,Joely Richardson,Tommy Chong,Madeleine Arthur',\n",
       " 'Kodi Smit-McPhee,Chloë Grace Moretz,Richard Jenkins,Cara Buono',\n",
       " 'Jamie Lee Curtis,Judy Greer,Andi Matichak,Will Patton',\n",
       " 'Vincent Price,Diana Rigg,Robert Morley,Ian Hendry',\n",
       " 'John Boyega,Jodie Whittaker,Alex Esmail,Leeon Jones',\n",
       " 'Jack Nance,Charlotte Stewart,Allen Joseph,Jeanne Bates',\n",
       " 'Marisa Paredes,Eduardo Noriega,Federico Luppi,Fernando Tielve',\n",
       " \"Morgana O'Reilly,Rima Te Wiata,Glen-Paul Waru,Cameron Rhodes\",\n",
       " 'Barbara Crampton,Andrew Sensenig,Lisa Marie,Larry Fessenden',\n",
       " 'Tony Musante,Suzy Kendall,Eva Renzi,Enrico Maria Salerno',\n",
       " 'Lon Chaney,Mary Philbin,Norman Kerry,Arthur Edmund Carewe',\n",
       " 'Lon Chaney Jr.,Claude Rains,Ralph Bellamy,Evelyn Ankers',\n",
       " 'David Emge,Ken Foree,Gaylen Ross,Scott H. Reiniger',\n",
       " 'Fredric March,Miriam Hopkins,Rose Hobart,Holmes Herbert',\n",
       " 'Simon Pegg,Kate Ashfield,Lucy Davis,Nick Frost',\n",
       " 'Aaron Moorhead,Justin Benson,Callie Hernandez,Tate Ellington',\n",
       " 'Jane Levy,Dylan Minnette,Daniel Zovatto,Stephen Lang',\n",
       " 'Jeffrey Combs,Bruce Abbott,Barbara Crampton,David Gale',\n",
       " 'Woody Harrelson,Jesse Eisenberg,Emma Stone,Abigail Breslin',\n",
       " 'Joel Edgerton,Christopher Abbott,Carmen Ejogo,Riley Keough',\n",
       " 'Jack Nicholson,Shelley Duvall,Danny Lloyd,Scatman Crothers',\n",
       " 'Bela Lugosi,Edward Van Sloan,Dwight Frye,David Manners',\n",
       " 'David Hemmings,Daria Nicolodi,Gabriele Lavia,Clara Calamai',\n",
       " 'Jeff Goldblum,Geena Davis,John Getz,Joy Boushel',\n",
       " 'John Saxon,Ronee Blakley,Heather Langenkamp,Amanda Wyss',\n",
       " 'Boris Karloff,Zita Johann,David Manners,Edward Van Sloan',\n",
       " 'Song Kang-ho,Byun Hee-bong,Park Hae-il,Bae Doo-na',\n",
       " 'Laura La Plante,Creighton Hale,Forrest Stanley,Tully Marshall',\n",
       " 'Gong Yoo,Jung Yu-mi,Ma Dong-seok,Choi Woo-sik',\n",
       " 'Charles Laughton,Bela Lugosi,Richard Arlen,Leila Hyams',\n",
       " 'Matilda Anna Ingrid Lutz,Kevin Janssens,Vincent Colombe,Guillaume Bouchède',\n",
       " 'Jessica Harper,Stefania Casini,Joan Bennett,Eva Axén',\n",
       " 'Nanako Matsushima,Hiroyuki Sanada,Miki Nakatani,Yuko Takeuchi',\n",
       " 'James Ellison,Frances Dee,Tom Conway,Edith Barrett',\n",
       " 'Samantha Robinson,Gian Keys,Laura Waddell,Jeffrey Vincent Parise',\n",
       " 'Munro Chambers,Emily Tyra,Christopher Gray',\n",
       " 'Donald Sutherland,Brooke Adams,Leonard Nimoy,Veronica Cartwright',\n",
       " 'Deborah Kerr,Martin Stephens,Pamela Franklin,Michael Redgrave',\n",
       " 'Xavier Samuel,Robin McLeavy,Jessica McNamee,Victoria Thaine',\n",
       " 'Bruce Campbell,Sarah Berry,Dan Hicks,Denise Bixler',\n",
       " 'Garance Marillier,Ella Rumpf,Rabah Nait Oufella,Joana Preiss',\n",
       " 'Bruce Campbell,Ellen Sandweiss,Betsy Baker,Richard DeManincor',\n",
       " 'María Mercedes Coroy,Sabrina De La Hoz,Margarita Kénefic,Julio Diaz',\n",
       " 'Klaus Kinski,Isabelle Adjani,Bruno Ganz,Roland Topor',\n",
       " 'Mark Duplass,Karan Soni,Patrick Brice,Desiree Akhavan',\n",
       " 'Anton Yelchin,Imogen Poots,Alia Shawkat,Joe Cole',\n",
       " 'Sissy Spacek,Piper Laurie,William Katt,Amy Irving',\n",
       " 'Florence Pugh,Jack Reynor,William Jackson Harper,Will Poulter',\n",
       " 'David Hedison,Patricia Owens,Vincent Price,Herbert Marshall',\n",
       " 'Vincent Price,Frank Lovejoy,Phyllis Kirk,Carolyn Jones',\n",
       " 'Alison Lohman,Justin Long,Lorna Raver,Dileep Rao',\n",
       " 'Sheila Vand,Arash Marandi,Marshall Manesh,Mozhan Marnò',\n",
       " 'Wunmi Mosaku,Sope Dirisu,Matt Smith,Cornell John',\n",
       " \"Samara Weaving,Adam Brody,Mark O'Brien,Henry Czerny\",\n",
       " 'Paola Lara,Ianis Guerrero,Rodrigo Cortés,Hanssel Casillas',\n",
       " 'Nicolas Cage,Andrea Riseborough,Linus Roache,Ned Dennehy',\n",
       " 'Jaeden Martell,Jeremy Ray Taylor,Sophia Lillis,Finn Wolfhard',\n",
       " 'Julie Christie,Donald Sutherland,Hilary Mason,Clelia Matania',\n",
       " 'Simone Simon,Kent Smith,Tom Conway,Jane Randolph',\n",
       " 'Rod Taylor,Tippi Hedren,Suzanne Pleshette,Jessica Tandy',\n",
       " 'Kwak Do-won,Jun Kunimura,Hwang Jung-min,Chun Woo-hee',\n",
       " 'Mervyn Johns,Michael Redgrave,Roland Culver,Mary Merrall',\n",
       " 'Narges Rashidi,Avin Manshadi,Bobby Naderi,Ray Haratian',\n",
       " 'Haley Bishop,Jemma Moore,Emma Louise Webb,Radina Drandova',\n",
       " 'John Goodman,Mary Elizabeth Winstead,John Gallagher Jr.,Douglas M. Griffin',\n",
       " 'Karlheinz Böhm,Moira Shearer,Anna Massey,Maxine Audley',\n",
       " 'Anya Taylor-Joy,Ralph Ineson,Kate Dickie,Harvey Scrimshaw',\n",
       " 'Kristen Connolly,Chris Hemsworth,Anna Hutchison,Fran Kranz',\n",
       " 'Catherine Deneuve,Yvonne Furneaux,Ian Hendry,John Fraser',\n",
       " 'Pierre Brasseur,Alida Valli,Édith Scob,Juliette Mayniel',\n",
       " 'Mia Farrow,John Cassavetes,Ruth Gordon,Sidney Blackmer',\n",
       " 'Donald Pleasence,Jamie Lee Curtis,Nancy Kyes,P.J. Soles',\n",
       " 'Jodie Foster,Anthony Hopkins,Scott Glenn,Ted Levine',\n",
       " 'Claude Rains,Gloria Stuart,Henry Travers,William Harrigan',\n",
       " 'Sigourney Weaver,Carrie Henn,Michael Biehn,Paul Reiser',\n",
       " \"Duane Jones,Judith O'Dea,Karl Hardman,Keith Wayne\",\n",
       " 'Wallace Ford,Olga Baclanova,Leila Hyams,Roscoe Ates',\n",
       " 'Maika Monroe,Keir Gilchrist,Daniel Zovatto,Jake Weary',\n",
       " 'Kåre Hedebrant,Lina Leandersson,Per Ragnar,Henrik Dahl',\n",
       " 'Toni Collette,Gabriel Byrne,Alex Wolff,Ann Dowd',\n",
       " 'Julian West,Henriette Gérard,Jan Hieronimko,Maurice Schutz',\n",
       " 'Kevin McCarthy,Dana Wynter,Carolyn Jones,Larry Gates',\n",
       " 'Robert Pattinson,Willem Dafoe,Valeriia Karaman,Logan Hawkes',\n",
       " 'Colin Clive,Mae Clarke,John Boles,Boris Karloff',\n",
       " 'Essie Davis,Daniel Henshall,Noah Wiseman,Hayley McElhinney',\n",
       " 'Roy Scheider,Robert Shaw,Richard Dreyfuss,Lorraine Gary',\n",
       " 'Boris Karloff,Elsa Lanchester,Colin Clive,Valerie Hobson',\n",
       " 'Emily Blunt,John Krasinski,Millicent Simmonds,Noah Jupe',\n",
       " 'Elisabeth Moss,Oliver Jackson-Cohen,Aldis Hodge,Storm Reid',\n",
       " 'Robert Mitchum,Shelley Winters,Lillian Gish,Evelyn Varden',\n",
       " 'Max Schreck,Alexander Granach,Gustav von Wangenheim,Greta Schroeder',\n",
       " 'Fay Wray,Bruce Cabot,Robert Armstrong,Frank Reicher',\n",
       " 'Tom Skerritt,Sigourney Weaver,John Hurt,Veronica Cartwright',\n",
       " \"Lupita Nyong'o,Winston Duke,Elisabeth Moss,Tim Heidecker\",\n",
       " 'Werner Krauss,Conrad Veidt,Lil Dagover,Friedrich Feher',\n",
       " 'Daniel Kaluuya,Allison Williams,Catherine Keener,Bradley Whitford',\n",
       " 'Anthony Perkins,Janet Leigh,Vera Miles,John Gavin']"
      ]
     },
     "execution_count": 167,
     "metadata": {},
     "output_type": "execute_result"
    }
   ],
   "source": [
    "starring=[]\n",
    "for i in casting:\n",
    "    cast_links=i.find_all('a')\n",
    "    cast_names=[i.string for i in cast_links]\n",
    "    starring.append(','.join(cast_names))\n",
    "starring"
   ]
  },
  {
   "cell_type": "code",
   "execution_count": 38,
   "id": "e6a36fbe",
   "metadata": {},
   "outputs": [],
   "source": [
    "dataset.to_csv('rottentomato.csv',index=False,header=True)"
   ]
  },
  {
   "cell_type": "code",
   "execution_count": 39,
   "id": "474d8883",
   "metadata": {},
   "outputs": [],
   "source": [
    "dataset.to_excel('rottentomato.xlsx',index=False,header=True)"
   ]
  },
  {
   "cell_type": "code",
   "execution_count": null,
   "id": "8191beae",
   "metadata": {},
   "outputs": [],
   "source": []
  }
 ],
 "metadata": {
  "kernelspec": {
   "display_name": "Python 3 (ipykernel)",
   "language": "python",
   "name": "python3"
  },
  "language_info": {
   "codemirror_mode": {
    "name": "ipython",
    "version": 3
   },
   "file_extension": ".py",
   "mimetype": "text/x-python",
   "name": "python",
   "nbconvert_exporter": "python",
   "pygments_lexer": "ipython3",
   "version": "3.9.16"
  }
 },
 "nbformat": 4,
 "nbformat_minor": 5
}
