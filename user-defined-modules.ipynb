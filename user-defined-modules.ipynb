{
 "cells": [
  {
   "cell_type": "markdown",
   "id": "f439b92d",
   "metadata": {},
   "source": [
    "user defined modules: \n",
    "- we need to write our code in a file and save it. whenever we use import.then import search the modules or files in some specific directories.then we can see in which directory it is. for that we need to import sys first"
   ]
  },
  {
   "cell_type": "code",
   "execution_count": 2,
   "id": "c59b12f9",
   "metadata": {},
   "outputs": [],
   "source": [
    "import sys"
   ]
  },
  {
   "cell_type": "code",
   "execution_count": 3,
   "id": "3ed635bb",
   "metadata": {},
   "outputs": [
    {
     "data": {
      "text/plain": [
       "['/Users/vinaykandregula',\n",
       " '/opt/anaconda3/lib/python39.zip',\n",
       " '/opt/anaconda3/lib/python3.9',\n",
       " '/opt/anaconda3/lib/python3.9/lib-dynload',\n",
       " '',\n",
       " '/opt/anaconda3/lib/python3.9/site-packages',\n",
       " '/opt/anaconda3/lib/python3.9/site-packages/aeosa']"
      ]
     },
     "execution_count": 3,
     "metadata": {},
     "output_type": "execute_result"
    }
   ],
   "source": [
    "sys.path"
   ]
  },
  {
   "cell_type": "code",
   "execution_count": 5,
   "id": "7d16be1e",
   "metadata": {},
   "outputs": [],
   "source": [
    "import bike"
   ]
  },
  {
   "cell_type": "code",
   "execution_count": 6,
   "id": "c8c9af17",
   "metadata": {},
   "outputs": [
    {
     "name": "stdout",
     "output_type": "stream",
     "text": [
      "jawa is my favorite\n"
     ]
    }
   ],
   "source": [
    "bike.bikes()"
   ]
  },
  {
   "cell_type": "markdown",
   "id": "49a99d62",
   "metadata": {},
   "source": [
    "if we import module in another python file then we can directly access.\n",
    "\n",
    "but it has no control over which module to import in another file.so to overcome that we use if __name__=='__main__': in any of module which we want only when we run such file."
   ]
  },
  {
   "cell_type": "code",
   "execution_count": 2,
   "id": "643040e4",
   "metadata": {},
   "outputs": [],
   "source": [
    "import flipkart"
   ]
  },
  {
   "cell_type": "code",
   "execution_count": 4,
   "id": "bad41b85",
   "metadata": {},
   "outputs": [
    {
     "name": "stdout",
     "output_type": "stream",
     "text": [
      "best in delivery speed\n"
     ]
    }
   ],
   "source": [
    "flipkart.flipkart()"
   ]
  },
  {
   "cell_type": "code",
   "execution_count": null,
   "id": "fe8ee618",
   "metadata": {},
   "outputs": [],
   "source": []
  }
 ],
 "metadata": {
  "kernelspec": {
   "display_name": "Python 3 (ipykernel)",
   "language": "python",
   "name": "python3"
  },
  "language_info": {
   "codemirror_mode": {
    "name": "ipython",
    "version": 3
   },
   "file_extension": ".py",
   "mimetype": "text/x-python",
   "name": "python",
   "nbconvert_exporter": "python",
   "pygments_lexer": "ipython3",
   "version": "3.9.16"
  }
 },
 "nbformat": 4,
 "nbformat_minor": 5
}
